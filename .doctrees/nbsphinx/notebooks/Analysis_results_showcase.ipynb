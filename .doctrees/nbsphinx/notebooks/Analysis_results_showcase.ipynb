{
 "cells": [
  {
   "cell_type": "markdown",
   "id": "c9c40172",
   "metadata": {},
   "source": [
    "# Analysis Results\n",
    "\n",
    "3ML stores the results of a fit in a container we call an \"Analysis Result\" (AR). The structure of this object is designed to be useable in a *live* sense within an *active* analysis (python script, ipython interactive shell, jupyter notebook) as well as storable as a FITS file for saving results for later.\n",
    "\n",
    "The structure is nearly the same between MLE and Bayesian analyses in order to make a seamless functionality between all analyses.\n"
   ]
  },
  {
   "cell_type": "code",
   "execution_count": 1,
   "id": "b7184ed4",
   "metadata": {
    "execution": {
     "iopub.execute_input": "2021-08-23T08:43:41.878207Z",
     "iopub.status.busy": "2021-08-23T08:43:41.877439Z",
     "iopub.status.idle": "2021-08-23T08:43:45.222679Z",
     "shell.execute_reply": "2021-08-23T08:43:45.222007Z"
    }
   },
   "outputs": [],
   "source": [
    "%%capture\n",
    "import numpy as np\n",
    "\n",
    "np.seterr(all=\"ignore\")\n",
    "from threeML import *\n",
    "from threeML.analysis_results import *\n",
    "import astropy.units as u"
   ]
  },
  {
   "cell_type": "code",
   "execution_count": 2,
   "id": "28b48889",
   "metadata": {
    "execution": {
     "iopub.execute_input": "2021-08-23T08:43:45.228230Z",
     "iopub.status.busy": "2021-08-23T08:43:45.225182Z",
     "iopub.status.idle": "2021-08-23T08:43:45.265774Z",
     "shell.execute_reply": "2021-08-23T08:43:45.264792Z"
    }
   },
   "outputs": [],
   "source": [
    "silence_logs()\n",
    "from tqdm.auto import tqdm\n",
    "from jupyterthemes import jtplot\n",
    "\n",
    "%matplotlib inline\n",
    "jtplot.style(context=\"talk\", fscale=1, ticks=True, grid=False)\n",
    "import matplotlib.pyplot as plt\n",
    "\n",
    "set_threeML_style()"
   ]
  },
  {
   "cell_type": "markdown",
   "id": "310f8a1c",
   "metadata": {},
   "source": [
    "Let's take a look at what we can do with an AR. First, we will simulate some data."
   ]
  },
  {
   "cell_type": "code",
   "execution_count": 3,
   "id": "71f154e8",
   "metadata": {
    "execution": {
     "iopub.execute_input": "2021-08-23T08:43:45.274367Z",
     "iopub.status.busy": "2021-08-23T08:43:45.272251Z",
     "iopub.status.idle": "2021-08-23T08:43:46.850977Z",
     "shell.execute_reply": "2021-08-23T08:43:46.850411Z"
    }
   },
   "outputs": [
    {
     "name": "stderr",
     "output_type": "stream",
     "text": [
      "findfont: Font family ['sans-serif'] not found. Falling back to DejaVu Sans.\n"
     ]
    },
    {
     "name": "stderr",
     "output_type": "stream",
     "text": [
      "findfont: Generic family 'sans-serif' not found because none of the following families were found: Helvetica\n"
     ]
    },
    {
     "name": "stderr",
     "output_type": "stream",
     "text": [
      "findfont: Font family ['sans-serif'] not found. Falling back to DejaVu Sans.\n"
     ]
    },
    {
     "name": "stderr",
     "output_type": "stream",
     "text": [
      "findfont: Generic family 'sans-serif' not found because none of the following families were found: Helvetica\n"
     ]
    },
    {
     "data": {
      "image/png": "[encoded data removed]",
      "text/plain": [
       "<Figure size 748.8x655.2 with 1 Axes>"
      ]
     },
     "metadata": {},
     "output_type": "display_data"
    }
   ],
   "source": [
    "gen_function = Line(a=2, b=0) + Gaussian(F=30.0, mu=25.0, sigma=1)\n",
    "\n",
    "# Generate a dataset using the line and a gaussian.\n",
    "# constant 20% error\n",
    "\n",
    "x = np.linspace(0, 50, 50)\n",
    "\n",
    "xy = XYLike.from_function(\n",
    "    \"sim_data\", function=gen_function, x=x, yerr=0.2 * gen_function(x)\n",
    ")\n",
    "\n",
    "fig = xy.plot()"
   ]
  },
  {
   "cell_type": "markdown",
   "id": "378be65b",
   "metadata": {},
   "source": [
    "## MLE Results\n",
    "\n",
    "\n",
    "First we will demonstrate how AR's work for an MLE analysis on our synthetic data. As we will see, most of the functionality exists in the Bayesian AR's as well.\n",
    "\n",
    "Let's do a simple likelihood maximization of our data and model."
   ]
  },
  {
   "cell_type": "code",
   "execution_count": 4,
   "id": "60dc29b6",
   "metadata": {
    "execution": {
     "iopub.execute_input": "2021-08-23T08:43:46.860709Z",
     "iopub.status.busy": "2021-08-23T08:43:46.860076Z",
     "iopub.status.idle": "2021-08-23T08:43:47.938219Z",
     "shell.execute_reply": "2021-08-23T08:43:47.937621Z"
    }
   },
   "outputs": [
    {
     "name": "stdout",
     "output_type": "stream",
     "text": [
      "Best fit values:\n",
      "\n"
     ]
    },
    {
     "data": {
      "text/html": [
       "<div>\n",
       "<style scoped>\n",
       "    .dataframe tbody tr th:only-of-type {\n",
       "        vertical-align: middle;\n",
       "    }\n",
       "\n",
       "    .dataframe tbody tr th {\n",
       "        vertical-align: top;\n",
       "    }\n",
       "\n",
       "    .dataframe thead th {\n",
       "        text-align: right;\n",
       "    }\n",
       "</style>\n",
       "<table border=\"1\" class=\"dataframe\">\n",
       "  <thead>\n",
       "    <tr style=\"text-align: right;\">\n",
       "      <th></th>\n",
       "      <th>result</th>\n",
       "      <th>unit</th>\n",
       "    </tr>\n",
       "    <tr>\n",
       "      <th>parameter</th>\n",
       "      <th></th>\n",
       "      <th></th>\n",
       "    </tr>\n",
       "  </thead>\n",
       "  <tbody>\n",
       "    <tr>\n",
       "      <th>fake.spectrum.main.composite.a_1</th>\n",
       "      <td>1.74 +/- 0.11</td>\n",
       "      <td>1 / (cm2 keV s)</td>\n",
       "    </tr>\n",
       "    <tr>\n",
       "      <th>fake.spectrum.main.composite.b_1</th>\n",
       "      <td>(10 +/- 4) x 10^-3</td>\n",
       "      <td>1 / (cm2 keV2 s)</td>\n",
       "    </tr>\n",
       "    <tr>\n",
       "      <th>fake.spectrum.main.composite.F_2</th>\n",
       "      <td>(2.8 +/- 0.4) x 10</td>\n",
       "      <td>1 / (cm2 s)</td>\n",
       "    </tr>\n",
       "    <tr>\n",
       "      <th>fake.spectrum.main.composite.mu_2</th>\n",
       "      <td>(2.527 +/- 0.013) x 10</td>\n",
       "      <td>keV</td>\n",
       "    </tr>\n",
       "    <tr>\n",
       "      <th>fake.spectrum.main.composite.sigma_2</th>\n",
       "      <td>1.08 +/- 0.10</td>\n",
       "      <td>keV</td>\n",
       "    </tr>\n",
       "  </tbody>\n",
       "</table>\n",
       "</div>"
      ],
      "text/plain": [
       "                                                      result              unit\n",
       "parameter                                                                     \n",
       "fake.spectrum.main.composite.a_1               1.74 +/- 0.11   1 / (cm2 keV s)\n",
       "fake.spectrum.main.composite.b_1          (10 +/- 4) x 10^-3  1 / (cm2 keV2 s)\n",
       "fake.spectrum.main.composite.F_2          (2.8 +/- 0.4) x 10       1 / (cm2 s)\n",
       "fake.spectrum.main.composite.mu_2     (2.527 +/- 0.013) x 10               keV\n",
       "fake.spectrum.main.composite.sigma_2           1.08 +/- 0.10               keV"
      ]
     },
     "metadata": {},
     "output_type": "display_data"
    },
    {
     "name": "stdout",
     "output_type": "stream",
     "text": [
      "\n",
      "Correlation matrix:\n",
      "\n"
     ]
    },
    {
     "data": {
      "text/html": [
       "<div><table id=\"table139712366815696\">\n",
       "<tr><td>1.00</td><td>-0.85</td><td>-0.05</td><td>0.02</td><td>-0.08</td></tr>\n",
       "<tr><td>-0.85</td><td>1.00</td><td>0.00</td><td>-0.02</td><td>-0.01</td></tr>\n",
       "<tr><td>-0.05</td><td>0.00</td><td>1.00</td><td>-0.31</td><td>-0.15</td></tr>\n",
       "<tr><td>0.02</td><td>-0.02</td><td>-0.31</td><td>1.00</td><td>-0.11</td></tr>\n",
       "<tr><td>-0.08</td><td>-0.01</td><td>-0.15</td><td>-0.11</td><td>1.00</td></tr>\n",
       "</table></div>"
      ],
      "text/plain": [
       " 1.00 -0.85 -0.05  0.02 -0.08\n",
       "-0.85  1.00  0.00 -0.02 -0.01\n",
       "-0.05  0.00  1.00 -0.31 -0.15\n",
       " 0.02 -0.02 -0.31  1.00 -0.11\n",
       "-0.08 -0.01 -0.15 -0.11  1.00"
      ]
     },
     "metadata": {},
     "output_type": "display_data"
    },
    {
     "name": "stdout",
     "output_type": "stream",
     "text": [
      "\n",
      "Values of -log(likelihood) at the minimum:\n",
      "\n"
     ]
    },
    {
     "data": {
      "text/html": [
       "<div>\n",
       "<style scoped>\n",
       "    .dataframe tbody tr th:only-of-type {\n",
       "        vertical-align: middle;\n",
       "    }\n",
       "\n",
       "    .dataframe tbody tr th {\n",
       "        vertical-align: top;\n",
       "    }\n",
       "\n",
       "    .dataframe thead th {\n",
       "        text-align: right;\n",
       "    }\n",
       "</style>\n",
       "<table border=\"1\" class=\"dataframe\">\n",
       "  <thead>\n",
       "    <tr style=\"text-align: right;\">\n",
       "      <th></th>\n",
       "      <th>-log(likelihood)</th>\n",
       "    </tr>\n",
       "  </thead>\n",
       "  <tbody>\n",
       "    <tr>\n",
       "      <th>sim_data</th>\n",
       "      <td>30.145596</td>\n",
       "    </tr>\n",
       "    <tr>\n",
       "      <th>total</th>\n",
       "      <td>30.145596</td>\n",
       "    </tr>\n",
       "  </tbody>\n",
       "</table>\n",
       "</div>"
      ],
      "text/plain": [
       "          -log(likelihood)\n",
       "sim_data         30.145596\n",
       "total            30.145596"
      ]
     },
     "metadata": {},
     "output_type": "display_data"
    },
    {
     "name": "stdout",
     "output_type": "stream",
     "text": [
      "\n",
      "Values of statistical measures:\n",
      "\n"
     ]
    },
    {
     "data": {
      "text/html": [
       "<div>\n",
       "<style scoped>\n",
       "    .dataframe tbody tr th:only-of-type {\n",
       "        vertical-align: middle;\n",
       "    }\n",
       "\n",
       "    .dataframe tbody tr th {\n",
       "        vertical-align: top;\n",
       "    }\n",
       "\n",
       "    .dataframe thead th {\n",
       "        text-align: right;\n",
       "    }\n",
       "</style>\n",
       "<table border=\"1\" class=\"dataframe\">\n",
       "  <thead>\n",
       "    <tr style=\"text-align: right;\">\n",
       "      <th></th>\n",
       "      <th>statistical measures</th>\n",
       "    </tr>\n",
       "  </thead>\n",
       "  <tbody>\n",
       "    <tr>\n",
       "      <th>AIC</th>\n",
       "      <td>71.654828</td>\n",
       "    </tr>\n",
       "    <tr>\n",
       "      <th>BIC</th>\n",
       "      <td>79.851307</td>\n",
       "    </tr>\n",
       "  </tbody>\n",
       "</table>\n",
       "</div>"
      ],
      "text/plain": [
       "     statistical measures\n",
       "AIC             71.654828\n",
       "BIC             79.851307"
      ]
     },
     "metadata": {},
     "output_type": "display_data"
    }
   ],
   "source": [
    "fitfun = Line() + Gaussian()\n",
    "\n",
    "fitfun.b_1.bounds = (-10, 10.0)\n",
    "fitfun.a_1.bounds = (-100, 100.0)\n",
    "fitfun.F_2 = 25.0\n",
    "fitfun.F_2.bounds = (1e-3, 200.0)\n",
    "fitfun.mu_2 = 25.0\n",
    "fitfun.mu_2.bounds = (0.0, 100.0)\n",
    "fitfun.sigma_2.bounds = (1e-3, 10.0)\n",
    "\n",
    "model = Model(PointSource(\"fake\", 0.0, 0.0, fitfun))\n",
    "\n",
    "data = DataList(xy)\n",
    "\n",
    "jl = JointLikelihood(model, DataList(xy))\n",
    "_ = jl.fit()"
   ]
  },
  {
   "cell_type": "markdown",
   "id": "84345a72",
   "metadata": {},
   "source": [
    "We can get our errors as always, but the results cannot be propagated (error propagation assumes Gaussian errors, i.e., symmetric errors)\n",
    "In this case though errors are pretty symmetric, so we are likely in the case\n",
    "where the MLE is actually normally distributed."
   ]
  },
  {
   "cell_type": "code",
   "execution_count": 5,
   "id": "6adf54e2",
   "metadata": {
    "execution": {
     "iopub.execute_input": "2021-08-23T08:43:48.022249Z",
     "iopub.status.busy": "2021-08-23T08:43:47.970117Z",
     "iopub.status.idle": "2021-08-23T08:43:48.074025Z",
     "shell.execute_reply": "2021-08-23T08:43:48.074836Z"
    }
   },
   "outputs": [
    {
     "data": {
      "text/html": [
       "<div>\n",
       "<style scoped>\n",
       "    .dataframe tbody tr th:only-of-type {\n",
       "        vertical-align: middle;\n",
       "    }\n",
       "\n",
       "    .dataframe tbody tr th {\n",
       "        vertical-align: top;\n",
       "    }\n",
       "\n",
       "    .dataframe thead th {\n",
       "        text-align: right;\n",
       "    }\n",
       "</style>\n",
       "<table border=\"1\" class=\"dataframe\">\n",
       "  <thead>\n",
       "    <tr style=\"text-align: right;\">\n",
       "      <th></th>\n",
       "      <th>result</th>\n",
       "      <th>unit</th>\n",
       "    </tr>\n",
       "    <tr>\n",
       "      <th>parameter</th>\n",
       "      <th></th>\n",
       "      <th></th>\n",
       "    </tr>\n",
       "  </thead>\n",
       "  <tbody>\n",
       "    <tr>\n",
       "      <th>fake.spectrum.main.composite.a_1</th>\n",
       "      <td>1.74 +/- 0.11</td>\n",
       "      <td>1 / (cm2 keV s)</td>\n",
       "    </tr>\n",
       "    <tr>\n",
       "      <th>fake.spectrum.main.composite.b_1</th>\n",
       "      <td>(10 +/- 4) x 10^-3</td>\n",
       "      <td>1 / (cm2 keV2 s)</td>\n",
       "    </tr>\n",
       "    <tr>\n",
       "      <th>fake.spectrum.main.composite.F_2</th>\n",
       "      <td>(2.8 +/- 0.4) x 10</td>\n",
       "      <td>1 / (cm2 s)</td>\n",
       "    </tr>\n",
       "    <tr>\n",
       "      <th>fake.spectrum.main.composite.mu_2</th>\n",
       "      <td>(2.527 -0.013 +0.014) x 10</td>\n",
       "      <td>keV</td>\n",
       "    </tr>\n",
       "    <tr>\n",
       "      <th>fake.spectrum.main.composite.sigma_2</th>\n",
       "      <td>1.08 -0.10 +0.11</td>\n",
       "      <td>keV</td>\n",
       "    </tr>\n",
       "  </tbody>\n",
       "</table>\n",
       "</div>"
      ],
      "text/plain": [
       "                                                          result  \\\n",
       "parameter                                                          \n",
       "fake.spectrum.main.composite.a_1                   1.74 +/- 0.11   \n",
       "fake.spectrum.main.composite.b_1              (10 +/- 4) x 10^-3   \n",
       "fake.spectrum.main.composite.F_2              (2.8 +/- 0.4) x 10   \n",
       "fake.spectrum.main.composite.mu_2     (2.527 -0.013 +0.014) x 10   \n",
       "fake.spectrum.main.composite.sigma_2            1.08 -0.10 +0.11   \n",
       "\n",
       "                                                  unit  \n",
       "parameter                                               \n",
       "fake.spectrum.main.composite.a_1       1 / (cm2 keV s)  \n",
       "fake.spectrum.main.composite.b_1      1 / (cm2 keV2 s)  \n",
       "fake.spectrum.main.composite.F_2           1 / (cm2 s)  \n",
       "fake.spectrum.main.composite.mu_2                  keV  \n",
       "fake.spectrum.main.composite.sigma_2               keV  "
      ]
     },
     "metadata": {},
     "output_type": "display_data"
    },
    {
     "data": {
      "text/html": [
       "<div>\n",
       "<style scoped>\n",
       "    .dataframe tbody tr th:only-of-type {\n",
       "        vertical-align: middle;\n",
       "    }\n",
       "\n",
       "    .dataframe tbody tr th {\n",
       "        vertical-align: top;\n",
       "    }\n",
       "\n",
       "    .dataframe thead th {\n",
       "        text-align: right;\n",
       "    }\n",
       "</style>\n",
       "<table border=\"1\" class=\"dataframe\">\n",
       "  <thead>\n",
       "    <tr style=\"text-align: right;\">\n",
       "      <th></th>\n",
       "      <th>value</th>\n",
       "      <th>negative_error</th>\n",
       "      <th>positive_error</th>\n",
       "      <th>error</th>\n",
       "      <th>unit</th>\n",
       "    </tr>\n",
       "  </thead>\n",
       "  <tbody>\n",
       "    <tr>\n",
       "      <th>fake.spectrum.main.composite.a_1</th>\n",
       "      <td>1.736106</td>\n",
       "      <td>-0.112697</td>\n",
       "      <td>0.114242</td>\n",
       "      <td>0.113469</td>\n",
       "      <td>1 / (cm2 keV s)</td>\n",
       "    </tr>\n",
       "    <tr>\n",
       "      <th>fake.spectrum.main.composite.b_1</th>\n",
       "      <td>0.009552</td>\n",
       "      <td>-0.003860</td>\n",
       "      <td>0.003830</td>\n",
       "      <td>0.003845</td>\n",
       "      <td>1 / (cm2 keV2 s)</td>\n",
       "    </tr>\n",
       "    <tr>\n",
       "      <th>fake.spectrum.main.composite.F_2</th>\n",
       "      <td>28.486588</td>\n",
       "      <td>-3.953761</td>\n",
       "      <td>3.967213</td>\n",
       "      <td>3.960487</td>\n",
       "      <td>1 / (cm2 s)</td>\n",
       "    </tr>\n",
       "    <tr>\n",
       "      <th>fake.spectrum.main.composite.mu_2</th>\n",
       "      <td>25.272463</td>\n",
       "      <td>-0.127513</td>\n",
       "      <td>0.135995</td>\n",
       "      <td>0.131754</td>\n",
       "      <td>keV</td>\n",
       "    </tr>\n",
       "    <tr>\n",
       "      <th>fake.spectrum.main.composite.sigma_2</th>\n",
       "      <td>1.082811</td>\n",
       "      <td>-0.102193</td>\n",
       "      <td>0.109035</td>\n",
       "      <td>0.105614</td>\n",
       "      <td>keV</td>\n",
       "    </tr>\n",
       "  </tbody>\n",
       "</table>\n",
       "</div>"
      ],
      "text/plain": [
       "                                          value  negative_error  \\\n",
       "fake.spectrum.main.composite.a_1       1.736106       -0.112697   \n",
       "fake.spectrum.main.composite.b_1       0.009552       -0.003860   \n",
       "fake.spectrum.main.composite.F_2      28.486588       -3.953761   \n",
       "fake.spectrum.main.composite.mu_2     25.272463       -0.127513   \n",
       "fake.spectrum.main.composite.sigma_2   1.082811       -0.102193   \n",
       "\n",
       "                                      positive_error     error  \\\n",
       "fake.spectrum.main.composite.a_1            0.114242  0.113469   \n",
       "fake.spectrum.main.composite.b_1            0.003830  0.003845   \n",
       "fake.spectrum.main.composite.F_2            3.967213  3.960487   \n",
       "fake.spectrum.main.composite.mu_2           0.135995  0.131754   \n",
       "fake.spectrum.main.composite.sigma_2        0.109035  0.105614   \n",
       "\n",
       "                                                  unit  \n",
       "fake.spectrum.main.composite.a_1       1 / (cm2 keV s)  \n",
       "fake.spectrum.main.composite.b_1      1 / (cm2 keV2 s)  \n",
       "fake.spectrum.main.composite.F_2           1 / (cm2 s)  \n",
       "fake.spectrum.main.composite.mu_2                  keV  \n",
       "fake.spectrum.main.composite.sigma_2               keV  "
      ]
     },
     "execution_count": 5,
     "metadata": {},
     "output_type": "execute_result"
    }
   ],
   "source": [
    "jl.get_errors()"
   ]
  },
  {
   "cell_type": "markdown",
   "id": "2a367f68",
   "metadata": {},
   "source": [
    "We need to get the AnalysisResults object that is created after a fit is performed. The AR object is a member of the JointLikelihood object"
   ]
  },
  {
   "cell_type": "code",
   "execution_count": 6,
   "id": "30b5f08e",
   "metadata": {
    "execution": {
     "iopub.execute_input": "2021-08-23T08:43:48.079785Z",
     "iopub.status.busy": "2021-08-23T08:43:48.079183Z",
     "iopub.status.idle": "2021-08-23T08:43:48.082248Z",
     "shell.execute_reply": "2021-08-23T08:43:48.081272Z"
    }
   },
   "outputs": [],
   "source": [
    "ar = jl.results"
   ]
  },
  {
   "cell_type": "markdown",
   "id": "eeaf89fd",
   "metadata": {},
   "source": [
    "We can display the results of the analysis. Note, when a fit is performed, the post display is actaully from the internal AR."
   ]
  },
  {
   "cell_type": "code",
   "execution_count": 7,
   "id": "153018d1",
   "metadata": {
    "execution": {
     "iopub.execute_input": "2021-08-23T08:43:48.112638Z",
     "iopub.status.busy": "2021-08-23T08:43:48.111993Z",
     "iopub.status.idle": "2021-08-23T08:43:48.134867Z",
     "shell.execute_reply": "2021-08-23T08:43:48.134318Z"
    }
   },
   "outputs": [
    {
     "name": "stdout",
     "output_type": "stream",
     "text": [
      "Best fit values:\n",
      "\n"
     ]
    },
    {
     "data": {
      "text/html": [
       "<div>\n",
       "<style scoped>\n",
       "    .dataframe tbody tr th:only-of-type {\n",
       "        vertical-align: middle;\n",
       "    }\n",
       "\n",
       "    .dataframe tbody tr th {\n",
       "        vertical-align: top;\n",
       "    }\n",
       "\n",
       "    .dataframe thead th {\n",
       "        text-align: right;\n",
       "    }\n",
       "</style>\n",
       "<table border=\"1\" class=\"dataframe\">\n",
       "  <thead>\n",
       "    <tr style=\"text-align: right;\">\n",
       "      <th></th>\n",
       "      <th>result</th>\n",
       "      <th>unit</th>\n",
       "    </tr>\n",
       "    <tr>\n",
       "      <th>parameter</th>\n",
       "      <th></th>\n",
       "      <th></th>\n",
       "    </tr>\n",
       "  </thead>\n",
       "  <tbody>\n",
       "    <tr>\n",
       "      <th>fake.spectrum.main.composite.a_1</th>\n",
       "      <td>1.74 +/- 0.11</td>\n",
       "      <td>1 / (cm2 keV s)</td>\n",
       "    </tr>\n",
       "    <tr>\n",
       "      <th>fake.spectrum.main.composite.b_1</th>\n",
       "      <td>(10 +/- 4) x 10^-3</td>\n",
       "      <td>1 / (cm2 keV2 s)</td>\n",
       "    </tr>\n",
       "    <tr>\n",
       "      <th>fake.spectrum.main.composite.F_2</th>\n",
       "      <td>(2.8 +/- 0.4) x 10</td>\n",
       "      <td>1 / (cm2 s)</td>\n",
       "    </tr>\n",
       "    <tr>\n",
       "      <th>fake.spectrum.main.composite.mu_2</th>\n",
       "      <td>(2.527 +/- 0.013) x 10</td>\n",
       "      <td>keV</td>\n",
       "    </tr>\n",
       "    <tr>\n",
       "      <th>fake.spectrum.main.composite.sigma_2</th>\n",
       "      <td>1.08 +/- 0.10</td>\n",
       "      <td>keV</td>\n",
       "    </tr>\n",
       "  </tbody>\n",
       "</table>\n",
       "</div>"
      ],
      "text/plain": [
       "                                                      result              unit\n",
       "parameter                                                                     \n",
       "fake.spectrum.main.composite.a_1               1.74 +/- 0.11   1 / (cm2 keV s)\n",
       "fake.spectrum.main.composite.b_1          (10 +/- 4) x 10^-3  1 / (cm2 keV2 s)\n",
       "fake.spectrum.main.composite.F_2          (2.8 +/- 0.4) x 10       1 / (cm2 s)\n",
       "fake.spectrum.main.composite.mu_2     (2.527 +/- 0.013) x 10               keV\n",
       "fake.spectrum.main.composite.sigma_2           1.08 +/- 0.10               keV"
      ]
     },
     "metadata": {},
     "output_type": "display_data"
    },
    {
     "name": "stdout",
     "output_type": "stream",
     "text": [
      "\n",
      "Correlation matrix:\n",
      "\n"
     ]
    },
    {
     "data": {
      "text/html": [
       "<div><table id=\"table139712369430608\">\n",
       "<tr><td>1.00</td><td>-0.85</td><td>-0.05</td><td>0.02</td><td>-0.08</td></tr>\n",
       "<tr><td>-0.85</td><td>1.00</td><td>0.00</td><td>-0.02</td><td>-0.01</td></tr>\n",
       "<tr><td>-0.05</td><td>0.00</td><td>1.00</td><td>-0.31</td><td>-0.15</td></tr>\n",
       "<tr><td>0.02</td><td>-0.02</td><td>-0.31</td><td>1.00</td><td>-0.11</td></tr>\n",
       "<tr><td>-0.08</td><td>-0.01</td><td>-0.15</td><td>-0.11</td><td>1.00</td></tr>\n",
       "</table></div>"
      ],
      "text/plain": [
       " 1.00 -0.85 -0.05  0.02 -0.08\n",
       "-0.85  1.00  0.00 -0.02 -0.01\n",
       "-0.05  0.00  1.00 -0.31 -0.15\n",
       " 0.02 -0.02 -0.31  1.00 -0.11\n",
       "-0.08 -0.01 -0.15 -0.11  1.00"
      ]
     },
     "metadata": {},
     "output_type": "display_data"
    },
    {
     "name": "stdout",
     "output_type": "stream",
     "text": [
      "\n",
      "Values of -log(likelihood) at the minimum:\n",
      "\n"
     ]
    },
    {
     "data": {
      "text/html": [
       "<div>\n",
       "<style scoped>\n",
       "    .dataframe tbody tr th:only-of-type {\n",
       "        vertical-align: middle;\n",
       "    }\n",
       "\n",
       "    .dataframe tbody tr th {\n",
       "        vertical-align: top;\n",
       "    }\n",
       "\n",
       "    .dataframe thead th {\n",
       "        text-align: right;\n",
       "    }\n",
       "</style>\n",
       "<table border=\"1\" class=\"dataframe\">\n",
       "  <thead>\n",
       "    <tr style=\"text-align: right;\">\n",
       "      <th></th>\n",
       "      <th>-log(likelihood)</th>\n",
       "    </tr>\n",
       "  </thead>\n",
       "  <tbody>\n",
       "    <tr>\n",
       "      <th>sim_data</th>\n",
       "      <td>30.145596</td>\n",
       "    </tr>\n",
       "    <tr>\n",
       "      <th>total</th>\n",
       "      <td>30.145596</td>\n",
       "    </tr>\n",
       "  </tbody>\n",
       "</table>\n",
       "</div>"
      ],
      "text/plain": [
       "          -log(likelihood)\n",
       "sim_data         30.145596\n",
       "total            30.145596"
      ]
     },
     "metadata": {},
     "output_type": "display_data"
    },
    {
     "name": "stdout",
     "output_type": "stream",
     "text": [
      "\n",
      "Values of statistical measures:\n",
      "\n"
     ]
    },
    {
     "data": {
      "text/html": [
       "<div>\n",
       "<style scoped>\n",
       "    .dataframe tbody tr th:only-of-type {\n",
       "        vertical-align: middle;\n",
       "    }\n",
       "\n",
       "    .dataframe tbody tr th {\n",
       "        vertical-align: top;\n",
       "    }\n",
       "\n",
       "    .dataframe thead th {\n",
       "        text-align: right;\n",
       "    }\n",
       "</style>\n",
       "<table border=\"1\" class=\"dataframe\">\n",
       "  <thead>\n",
       "    <tr style=\"text-align: right;\">\n",
       "      <th></th>\n",
       "      <th>statistical measures</th>\n",
       "    </tr>\n",
       "  </thead>\n",
       "  <tbody>\n",
       "    <tr>\n",
       "      <th>AIC</th>\n",
       "      <td>71.654828</td>\n",
       "    </tr>\n",
       "    <tr>\n",
       "      <th>BIC</th>\n",
       "      <td>79.851307</td>\n",
       "    </tr>\n",
       "  </tbody>\n",
       "</table>\n",
       "</div>"
      ],
      "text/plain": [
       "     statistical measures\n",
       "AIC             71.654828\n",
       "BIC             79.851307"
      ]
     },
     "metadata": {},
     "output_type": "display_data"
    }
   ],
   "source": [
    "ar.display()"
   ]
  },
  {
   "cell_type": "markdown",
   "id": "bca3f9f1",
   "metadata": {},
   "source": [
    "By default, the equal tail intervals are displayed. We can instead display highest posterior densities (equal in the MLE case)"
   ]
  },
  {
   "cell_type": "code",
   "execution_count": 8,
   "id": "b68a55da",
   "metadata": {
    "execution": {
     "iopub.execute_input": "2021-08-23T08:43:48.165719Z",
     "iopub.status.busy": "2021-08-23T08:43:48.153709Z",
     "iopub.status.idle": "2021-08-23T08:43:48.188867Z",
     "shell.execute_reply": "2021-08-23T08:43:48.188283Z"
    }
   },
   "outputs": [
    {
     "name": "stdout",
     "output_type": "stream",
     "text": [
      "Best fit values:\n",
      "\n"
     ]
    },
    {
     "data": {
      "text/html": [
       "<div>\n",
       "<style scoped>\n",
       "    .dataframe tbody tr th:only-of-type {\n",
       "        vertical-align: middle;\n",
       "    }\n",
       "\n",
       "    .dataframe tbody tr th {\n",
       "        vertical-align: top;\n",
       "    }\n",
       "\n",
       "    .dataframe thead th {\n",
       "        text-align: right;\n",
       "    }\n",
       "</style>\n",
       "<table border=\"1\" class=\"dataframe\">\n",
       "  <thead>\n",
       "    <tr style=\"text-align: right;\">\n",
       "      <th></th>\n",
       "      <th>result</th>\n",
       "      <th>unit</th>\n",
       "    </tr>\n",
       "    <tr>\n",
       "      <th>parameter</th>\n",
       "      <th></th>\n",
       "      <th></th>\n",
       "    </tr>\n",
       "  </thead>\n",
       "  <tbody>\n",
       "    <tr>\n",
       "      <th>fake.spectrum.main.composite.a_1</th>\n",
       "      <td>1.74 +/- 0.11</td>\n",
       "      <td>1 / (cm2 keV s)</td>\n",
       "    </tr>\n",
       "    <tr>\n",
       "      <th>fake.spectrum.main.composite.b_1</th>\n",
       "      <td>(10 +/- 4) x 10^-3</td>\n",
       "      <td>1 / (cm2 keV2 s)</td>\n",
       "    </tr>\n",
       "    <tr>\n",
       "      <th>fake.spectrum.main.composite.F_2</th>\n",
       "      <td>(2.8 +/- 0.4) x 10</td>\n",
       "      <td>1 / (cm2 s)</td>\n",
       "    </tr>\n",
       "    <tr>\n",
       "      <th>fake.spectrum.main.composite.mu_2</th>\n",
       "      <td>(2.527 +/- 0.013) x 10</td>\n",
       "      <td>keV</td>\n",
       "    </tr>\n",
       "    <tr>\n",
       "      <th>fake.spectrum.main.composite.sigma_2</th>\n",
       "      <td>1.08 +/- 0.10</td>\n",
       "      <td>keV</td>\n",
       "    </tr>\n",
       "  </tbody>\n",
       "</table>\n",
       "</div>"
      ],
      "text/plain": [
       "                                                      result              unit\n",
       "parameter                                                                     \n",
       "fake.spectrum.main.composite.a_1               1.74 +/- 0.11   1 / (cm2 keV s)\n",
       "fake.spectrum.main.composite.b_1          (10 +/- 4) x 10^-3  1 / (cm2 keV2 s)\n",
       "fake.spectrum.main.composite.F_2          (2.8 +/- 0.4) x 10       1 / (cm2 s)\n",
       "fake.spectrum.main.composite.mu_2     (2.527 +/- 0.013) x 10               keV\n",
       "fake.spectrum.main.composite.sigma_2           1.08 +/- 0.10               keV"
      ]
     },
     "metadata": {},
     "output_type": "display_data"
    },
    {
     "name": "stdout",
     "output_type": "stream",
     "text": [
      "\n",
      "Correlation matrix:\n",
      "\n"
     ]
    },
    {
     "data": {
      "text/html": [
       "<div><table id=\"table139712374611856\">\n",
       "<tr><td>1.00</td><td>-0.85</td><td>-0.05</td><td>0.02</td><td>-0.08</td></tr>\n",
       "<tr><td>-0.85</td><td>1.00</td><td>0.00</td><td>-0.02</td><td>-0.01</td></tr>\n",
       "<tr><td>-0.05</td><td>0.00</td><td>1.00</td><td>-0.31</td><td>-0.15</td></tr>\n",
       "<tr><td>0.02</td><td>-0.02</td><td>-0.31</td><td>1.00</td><td>-0.11</td></tr>\n",
       "<tr><td>-0.08</td><td>-0.01</td><td>-0.15</td><td>-0.11</td><td>1.00</td></tr>\n",
       "</table></div>"
      ],
      "text/plain": [
       " 1.00 -0.85 -0.05  0.02 -0.08\n",
       "-0.85  1.00  0.00 -0.02 -0.01\n",
       "-0.05  0.00  1.00 -0.31 -0.15\n",
       " 0.02 -0.02 -0.31  1.00 -0.11\n",
       "-0.08 -0.01 -0.15 -0.11  1.00"
      ]
     },
     "metadata": {},
     "output_type": "display_data"
    },
    {
     "name": "stdout",
     "output_type": "stream",
     "text": [
      "\n",
      "Values of -log(likelihood) at the minimum:\n",
      "\n"
     ]
    },
    {
     "data": {
      "text/html": [
       "<div>\n",
       "<style scoped>\n",
       "    .dataframe tbody tr th:only-of-type {\n",
       "        vertical-align: middle;\n",
       "    }\n",
       "\n",
       "    .dataframe tbody tr th {\n",
       "        vertical-align: top;\n",
       "    }\n",
       "\n",
       "    .dataframe thead th {\n",
       "        text-align: right;\n",
       "    }\n",
       "</style>\n",
       "<table border=\"1\" class=\"dataframe\">\n",
       "  <thead>\n",
       "    <tr style=\"text-align: right;\">\n",
       "      <th></th>\n",
       "      <th>-log(likelihood)</th>\n",
       "    </tr>\n",
       "  </thead>\n",
       "  <tbody>\n",
       "    <tr>\n",
       "      <th>sim_data</th>\n",
       "      <td>30.145596</td>\n",
       "    </tr>\n",
       "    <tr>\n",
       "      <th>total</th>\n",
       "      <td>30.145596</td>\n",
       "    </tr>\n",
       "  </tbody>\n",
       "</table>\n",
       "</div>"
      ],
      "text/plain": [
       "          -log(likelihood)\n",
       "sim_data         30.145596\n",
       "total            30.145596"
      ]
     },
     "metadata": {},
     "output_type": "display_data"
    },
    {
     "name": "stdout",
     "output_type": "stream",
     "text": [
      "\n",
      "Values of statistical measures:\n",
      "\n"
     ]
    },
    {
     "data": {
      "text/html": [
       "<div>\n",
       "<style scoped>\n",
       "    .dataframe tbody tr th:only-of-type {\n",
       "        vertical-align: middle;\n",
       "    }\n",
       "\n",
       "    .dataframe tbody tr th {\n",
       "        vertical-align: top;\n",
       "    }\n",
       "\n",
       "    .dataframe thead th {\n",
       "        text-align: right;\n",
       "    }\n",
       "</style>\n",
       "<table border=\"1\" class=\"dataframe\">\n",
       "  <thead>\n",
       "    <tr style=\"text-align: right;\">\n",
       "      <th></th>\n",
       "      <th>statistical measures</th>\n",
       "    </tr>\n",
       "  </thead>\n",
       "  <tbody>\n",
       "    <tr>\n",
       "      <th>AIC</th>\n",
       "      <td>71.654828</td>\n",
       "    </tr>\n",
       "    <tr>\n",
       "      <th>BIC</th>\n",
       "      <td>79.851307</td>\n",
       "    </tr>\n",
       "  </tbody>\n",
       "</table>\n",
       "</div>"
      ],
      "text/plain": [
       "     statistical measures\n",
       "AIC             71.654828\n",
       "BIC             79.851307"
      ]
     },
     "metadata": {},
     "output_type": "display_data"
    }
   ],
   "source": [
    "ar.display(\"hpd\")"
   ]
  },
  {
   "cell_type": "markdown",
   "id": "073a646d",
   "metadata": {},
   "source": [
    "The AR stores several properties from the analysis:"
   ]
  },
  {
   "cell_type": "code",
   "execution_count": 9,
   "id": "82875acc",
   "metadata": {
    "execution": {
     "iopub.execute_input": "2021-08-23T08:43:48.193646Z",
     "iopub.status.busy": "2021-08-23T08:43:48.193065Z",
     "iopub.status.idle": "2021-08-23T08:43:48.198812Z",
     "shell.execute_reply": "2021-08-23T08:43:48.199375Z"
    }
   },
   "outputs": [
    {
     "data": {
      "text/plain": [
       "'MLE'"
      ]
     },
     "execution_count": 9,
     "metadata": {},
     "output_type": "execute_result"
    }
   ],
   "source": [
    "ar.analysis_type"
   ]
  },
  {
   "cell_type": "code",
   "execution_count": 10,
   "id": "c2d649e0",
   "metadata": {
    "execution": {
     "iopub.execute_input": "2021-08-23T08:43:48.204981Z",
     "iopub.status.busy": "2021-08-23T08:43:48.204315Z",
     "iopub.status.idle": "2021-08-23T08:43:48.209978Z",
     "shell.execute_reply": "2021-08-23T08:43:48.210918Z"
    }
   },
   "outputs": [
    {
     "data": {
      "text/plain": [
       "array([[ 1.28744137e-02, -3.68937747e-04, -2.03880705e-02,\n",
       "         2.93304622e-04, -9.73259348e-04],\n",
       "       [-3.68937747e-04,  1.47805450e-05,  3.96302050e-05,\n",
       "        -1.14386809e-05, -3.01865299e-06],\n",
       "       [-2.03880705e-02,  3.96302050e-05,  1.56932770e+01,\n",
       "        -1.59612115e-01, -6.34919975e-02],\n",
       "       [ 2.93304622e-04, -1.14386809e-05, -1.59612115e-01,\n",
       "         1.70380048e-02, -1.49743725e-03],\n",
       "       [-9.73259348e-04, -3.01865299e-06, -6.34919975e-02,\n",
       "        -1.49743725e-03,  1.09208586e-02]])"
      ]
     },
     "execution_count": 10,
     "metadata": {},
     "output_type": "execute_result"
    }
   ],
   "source": [
    "ar.covariance_matrix"
   ]
  },
  {
   "cell_type": "code",
   "execution_count": 11,
   "id": "13d388ca",
   "metadata": {
    "execution": {
     "iopub.execute_input": "2021-08-23T08:43:48.219252Z",
     "iopub.status.busy": "2021-08-23T08:43:48.218612Z",
     "iopub.status.idle": "2021-08-23T08:43:52.082936Z",
     "shell.execute_reply": "2021-08-23T08:43:52.083481Z"
    }
   },
   "outputs": [
    {
     "data": {
      "application/vnd.jupyter.widget-view+json": {
       "model_id": "1dbad117b1d64079b5f603335938a58e",
       "version_major": 2,
       "version_minor": 0
      },
      "text/plain": [
       "processing MLE analyses:   0%|          | 0/1 [00:00<?, ?it/s]"
      ]
     },
     "metadata": {},
     "output_type": "display_data"
    },
    {
     "data": {
      "text/html": [
       "<div>\n",
       "<style scoped>\n",
       "    .dataframe tbody tr th:only-of-type {\n",
       "        vertical-align: middle;\n",
       "    }\n",
       "\n",
       "    .dataframe tbody tr th {\n",
       "        vertical-align: top;\n",
       "    }\n",
       "\n",
       "    .dataframe thead th {\n",
       "        text-align: right;\n",
       "    }\n",
       "</style>\n",
       "<table border=\"1\" class=\"dataframe\">\n",
       "  <thead>\n",
       "    <tr style=\"text-align: right;\">\n",
       "      <th></th>\n",
       "      <th>flux</th>\n",
       "      <th>low bound</th>\n",
       "      <th>hi bound</th>\n",
       "    </tr>\n",
       "  </thead>\n",
       "  <tbody>\n",
       "    <tr>\n",
       "      <th>fake: total</th>\n",
       "      <td>2.0160214344518534e-05 erg / (cm2 s)</td>\n",
       "      <td>1.883352123959127e-05 erg / (cm2 s)</td>\n",
       "      <td>2.1502605447486476e-05 erg / (cm2 s)</td>\n",
       "    </tr>\n",
       "  </tbody>\n",
       "</table>\n",
       "</div>"
      ],
      "text/plain": [
       "                                             flux  \\\n",
       "fake: total  2.0160214344518534e-05 erg / (cm2 s)   \n",
       "\n",
       "                                       low bound  \\\n",
       "fake: total  1.883352123959127e-05 erg / (cm2 s)   \n",
       "\n",
       "                                         hi bound  \n",
       "fake: total  2.1502605447486476e-05 erg / (cm2 s)  "
      ]
     },
     "execution_count": 11,
     "metadata": {},
     "output_type": "execute_result"
    }
   ],
   "source": [
    "ar.get_point_source_flux(1 * u.keV, 0.1 * u.MeV)"
   ]
  },
  {
   "cell_type": "code",
   "execution_count": 12,
   "id": "bd7e2bb8",
   "metadata": {
    "execution": {
     "iopub.execute_input": "2021-08-23T08:43:52.098206Z",
     "iopub.status.busy": "2021-08-23T08:43:52.097397Z",
     "iopub.status.idle": "2021-08-23T08:43:52.115259Z",
     "shell.execute_reply": "2021-08-23T08:43:52.115794Z"
    }
   },
   "outputs": [
    {
     "data": {
      "text/html": [
       "Model summary:<br><br><div>\n",
       "<style scoped>\n",
       "    .dataframe tbody tr th:only-of-type {\n",
       "        vertical-align: middle;\n",
       "    }\n",
       "\n",
       "    .dataframe tbody tr th {\n",
       "        vertical-align: top;\n",
       "    }\n",
       "\n",
       "    .dataframe thead th {\n",
       "        text-align: right;\n",
       "    }\n",
       "</style>\n",
       "<table border=\"1\" class=\"dataframe\">\n",
       "  <thead>\n",
       "    <tr style=\"text-align: right;\">\n",
       "      <th></th>\n",
       "      <th>N</th>\n",
       "    </tr>\n",
       "  </thead>\n",
       "  <tbody>\n",
       "    <tr>\n",
       "      <th>Point sources</th>\n",
       "      <td>1</td>\n",
       "    </tr>\n",
       "    <tr>\n",
       "      <th>Extended sources</th>\n",
       "      <td>0</td>\n",
       "    </tr>\n",
       "    <tr>\n",
       "      <th>Particle sources</th>\n",
       "      <td>0</td>\n",
       "    </tr>\n",
       "  </tbody>\n",
       "</table>\n",
       "</div><br><br>Free parameters (5):<br><br><div>\n",
       "<style scoped>\n",
       "    .dataframe tbody tr th:only-of-type {\n",
       "        vertical-align: middle;\n",
       "    }\n",
       "\n",
       "    .dataframe tbody tr th {\n",
       "        vertical-align: top;\n",
       "    }\n",
       "\n",
       "    .dataframe thead th {\n",
       "        text-align: right;\n",
       "    }\n",
       "</style>\n",
       "<table border=\"1\" class=\"dataframe\">\n",
       "  <thead>\n",
       "    <tr style=\"text-align: right;\">\n",
       "      <th></th>\n",
       "      <th>value</th>\n",
       "      <th>min_value</th>\n",
       "      <th>max_value</th>\n",
       "      <th>unit</th>\n",
       "    </tr>\n",
       "  </thead>\n",
       "  <tbody>\n",
       "    <tr>\n",
       "      <th>fake.spectrum.main.composite.a_1</th>\n",
       "      <td>1.736106</td>\n",
       "      <td>-100.0</td>\n",
       "      <td>100.0</td>\n",
       "      <td>keV-1 s-1 cm-2</td>\n",
       "    </tr>\n",
       "    <tr>\n",
       "      <th>fake.spectrum.main.composite.b_1</th>\n",
       "      <td>0.009552</td>\n",
       "      <td>-10.0</td>\n",
       "      <td>10.0</td>\n",
       "      <td>s-1 cm-2 keV-2</td>\n",
       "    </tr>\n",
       "    <tr>\n",
       "      <th>fake.spectrum.main.composite.F_2</th>\n",
       "      <td>28.486588</td>\n",
       "      <td>0.001</td>\n",
       "      <td>200.0</td>\n",
       "      <td>s-1 cm-2</td>\n",
       "    </tr>\n",
       "    <tr>\n",
       "      <th>fake.spectrum.main.composite.mu_2</th>\n",
       "      <td>25.272463</td>\n",
       "      <td>0.0</td>\n",
       "      <td>100.0</td>\n",
       "      <td>keV</td>\n",
       "    </tr>\n",
       "    <tr>\n",
       "      <th>fake.spectrum.main.composite.sigma_2</th>\n",
       "      <td>1.082811</td>\n",
       "      <td>0.001</td>\n",
       "      <td>10.0</td>\n",
       "      <td>keV</td>\n",
       "    </tr>\n",
       "  </tbody>\n",
       "</table>\n",
       "</div><br><br>Fixed parameters (2):<br>(abridged. Use complete=True to see all fixed parameters)<br><br><br>Linked parameters (0):<br><br>(none)<br><br>Independent variables:<br><br>(none)<br>"
      ],
      "text/plain": [
       "Model summary:\n",
       "==============\n",
       "\n",
       "                  N\n",
       "Point sources     1\n",
       "Extended sources  0\n",
       "Particle sources  0\n",
       "\n",
       "Free parameters (5):\n",
       "--------------------\n",
       "\n",
       "                                          value min_value max_value  \\\n",
       "fake.spectrum.main.composite.a_1       1.736106    -100.0     100.0   \n",
       "fake.spectrum.main.composite.b_1       0.009552     -10.0      10.0   \n",
       "fake.spectrum.main.composite.F_2      28.486588     0.001     200.0   \n",
       "fake.spectrum.main.composite.mu_2     25.272463       0.0     100.0   \n",
       "fake.spectrum.main.composite.sigma_2   1.082811     0.001      10.0   \n",
       "\n",
       "                                                unit  \n",
       "fake.spectrum.main.composite.a_1      keV-1 s-1 cm-2  \n",
       "fake.spectrum.main.composite.b_1      s-1 cm-2 keV-2  \n",
       "fake.spectrum.main.composite.F_2            s-1 cm-2  \n",
       "fake.spectrum.main.composite.mu_2                keV  \n",
       "fake.spectrum.main.composite.sigma_2             keV  \n",
       "\n",
       "Fixed parameters (2):\n",
       "(abridged. Use complete=True to see all fixed parameters)\n",
       "\n",
       "\n",
       "Linked parameters (0):\n",
       "----------------------\n",
       "\n",
       "(none)\n",
       "\n",
       "Independent variables:\n",
       "----------------------\n",
       "\n",
       "(none)"
      ]
     },
     "execution_count": 12,
     "metadata": {},
     "output_type": "execute_result"
    }
   ],
   "source": [
    "ar.optimized_model"
   ]
  },
  {
   "cell_type": "markdown",
   "id": "9e66eb1f",
   "metadata": {},
   "source": [
    "## Saving results to disk\n",
    "\n",
    "The beauty of the analysis result is that all of this information can be written to disk and restored at a later time. The statistical parameters, best-fit model, etc. can all be recovered.\n",
    "\n",
    "AR's are stored as a structured FITS file. We write the AR like this:"
   ]
  },
  {
   "cell_type": "code",
   "execution_count": 13,
   "id": "1385a9fd",
   "metadata": {
    "execution": {
     "iopub.execute_input": "2021-08-23T08:43:52.126136Z",
     "iopub.status.busy": "2021-08-23T08:43:52.125490Z",
     "iopub.status.idle": "2021-08-23T08:43:52.189864Z",
     "shell.execute_reply": "2021-08-23T08:43:52.190522Z"
    }
   },
   "outputs": [
    {
     "name": "stderr",
     "output_type": "stream",
     "text": [
      "WARNING: VerifyWarning: Card is too long, comment will be truncated. [astropy.io.fits.card]\n"
     ]
    }
   ],
   "source": [
    "ar.write_to(\"test_mle.fits\", overwrite=True)"
   ]
  },
  {
   "cell_type": "markdown",
   "id": "75af0b21",
   "metadata": {},
   "source": [
    "The FITS file can be examines with any normal FITS reader."
   ]
  },
  {
   "cell_type": "code",
   "execution_count": 14,
   "id": "e86cb2cd",
   "metadata": {
    "execution": {
     "iopub.execute_input": "2021-08-23T08:43:52.196629Z",
     "iopub.status.busy": "2021-08-23T08:43:52.195010Z",
     "iopub.status.idle": "2021-08-23T08:43:52.197347Z",
     "shell.execute_reply": "2021-08-23T08:43:52.197896Z"
    }
   },
   "outputs": [],
   "source": [
    "import astropy.io.fits as fits"
   ]
  },
  {
   "cell_type": "code",
   "execution_count": 15,
   "id": "d08bc75b",
   "metadata": {
    "execution": {
     "iopub.execute_input": "2021-08-23T08:43:52.202628Z",
     "iopub.status.busy": "2021-08-23T08:43:52.201967Z",
     "iopub.status.idle": "2021-08-23T08:43:52.208377Z",
     "shell.execute_reply": "2021-08-23T08:43:52.208935Z"
    }
   },
   "outputs": [
    {
     "name": "stdout",
     "output_type": "stream",
     "text": [
      "Filename: test_mle.fits\n",
      "No.    Name      Ver    Type      Cards   Dimensions   Format\n",
      "  0  PRIMARY       1 PrimaryHDU       6   ()      \n",
      "  1  ANALYSIS_RESULTS    1 BinTableHDU     38   5R x 9C   [36A, D, D, D, D, 16A, 5D, D, D]   \n"
     ]
    }
   ],
   "source": [
    "ar_fits = fits.open(\"test_mle.fits\")\n",
    "ar_fits.info()"
   ]
  },
  {
   "cell_type": "markdown",
   "id": "82813f88",
   "metadata": {},
   "source": [
    "However, to easily pull the results back into the 3ML framework, we use the ${\\tt load\\_analysis\\_results}$ function:"
   ]
  },
  {
   "cell_type": "code",
   "execution_count": 16,
   "id": "bacaac3a",
   "metadata": {
    "execution": {
     "iopub.execute_input": "2021-08-23T08:43:52.214793Z",
     "iopub.status.busy": "2021-08-23T08:43:52.213390Z",
     "iopub.status.idle": "2021-08-23T08:43:52.313048Z",
     "shell.execute_reply": "2021-08-23T08:43:52.313507Z"
    }
   },
   "outputs": [],
   "source": [
    "ar_reloaded = load_analysis_results(\"test_mle.fits\")"
   ]
  },
  {
   "cell_type": "code",
   "execution_count": 17,
   "id": "b485a557",
   "metadata": {
    "execution": {
     "iopub.execute_input": "2021-08-23T08:43:52.323466Z",
     "iopub.status.busy": "2021-08-23T08:43:52.322835Z",
     "iopub.status.idle": "2021-08-23T08:43:52.326134Z",
     "shell.execute_reply": "2021-08-23T08:43:52.326679Z"
    }
   },
   "outputs": [
    {
     "data": {
      "text/html": [
       "<div>\n",
       "<style scoped>\n",
       "    .dataframe tbody tr th:only-of-type {\n",
       "        vertical-align: middle;\n",
       "    }\n",
       "\n",
       "    .dataframe tbody tr th {\n",
       "        vertical-align: top;\n",
       "    }\n",
       "\n",
       "    .dataframe thead th {\n",
       "        text-align: right;\n",
       "    }\n",
       "</style>\n",
       "<table border=\"1\" class=\"dataframe\">\n",
       "  <thead>\n",
       "    <tr style=\"text-align: right;\">\n",
       "      <th></th>\n",
       "      <th>-log(likelihood)</th>\n",
       "    </tr>\n",
       "  </thead>\n",
       "  <tbody>\n",
       "    <tr>\n",
       "      <th>sim_data</th>\n",
       "      <td>30.145596</td>\n",
       "    </tr>\n",
       "    <tr>\n",
       "      <th>total</th>\n",
       "      <td>30.145596</td>\n",
       "    </tr>\n",
       "  </tbody>\n",
       "</table>\n",
       "</div>"
      ],
      "text/plain": [
       "          -log(likelihood)\n",
       "sim_data         30.145596\n",
       "total            30.145596"
      ]
     },
     "execution_count": 17,
     "metadata": {},
     "output_type": "execute_result"
    }
   ],
   "source": [
    "ar_reloaded.get_statistic_frame()"
   ]
  },
  {
   "cell_type": "markdown",
   "id": "a834706c",
   "metadata": {},
   "source": [
    "You can get a DataFrame with the saved results:"
   ]
  },
  {
   "cell_type": "code",
   "execution_count": 18,
   "id": "40347638",
   "metadata": {
    "execution": {
     "iopub.execute_input": "2021-08-23T08:43:52.331298Z",
     "iopub.status.busy": "2021-08-23T08:43:52.330609Z",
     "iopub.status.idle": "2021-08-23T08:43:52.359969Z",
     "shell.execute_reply": "2021-08-23T08:43:52.360520Z"
    }
   },
   "outputs": [
    {
     "data": {
      "text/html": [
       "<div>\n",
       "<style scoped>\n",
       "    .dataframe tbody tr th:only-of-type {\n",
       "        vertical-align: middle;\n",
       "    }\n",
       "\n",
       "    .dataframe tbody tr th {\n",
       "        vertical-align: top;\n",
       "    }\n",
       "\n",
       "    .dataframe thead th {\n",
       "        text-align: right;\n",
       "    }\n",
       "</style>\n",
       "<table border=\"1\" class=\"dataframe\">\n",
       "  <thead>\n",
       "    <tr style=\"text-align: right;\">\n",
       "      <th></th>\n",
       "      <th>value</th>\n",
       "      <th>negative_error</th>\n",
       "      <th>positive_error</th>\n",
       "      <th>error</th>\n",
       "      <th>unit</th>\n",
       "    </tr>\n",
       "  </thead>\n",
       "  <tbody>\n",
       "    <tr>\n",
       "      <th>fake.spectrum.main.composite.a_1</th>\n",
       "      <td>1.736106</td>\n",
       "      <td>-0.112227</td>\n",
       "      <td>0.116020</td>\n",
       "      <td>0.114124</td>\n",
       "      <td>1 / (cm2 keV s)</td>\n",
       "    </tr>\n",
       "    <tr>\n",
       "      <th>fake.spectrum.main.composite.b_1</th>\n",
       "      <td>0.009552</td>\n",
       "      <td>-0.003742</td>\n",
       "      <td>0.003704</td>\n",
       "      <td>0.003723</td>\n",
       "      <td>1 / (cm2 keV2 s)</td>\n",
       "    </tr>\n",
       "    <tr>\n",
       "      <th>fake.spectrum.main.composite.F_2</th>\n",
       "      <td>28.486588</td>\n",
       "      <td>-3.848398</td>\n",
       "      <td>3.968270</td>\n",
       "      <td>3.908334</td>\n",
       "      <td>1 / (cm2 s)</td>\n",
       "    </tr>\n",
       "    <tr>\n",
       "      <th>fake.spectrum.main.composite.mu_2</th>\n",
       "      <td>25.272463</td>\n",
       "      <td>-0.132913</td>\n",
       "      <td>0.133179</td>\n",
       "      <td>0.133046</td>\n",
       "      <td>keV</td>\n",
       "    </tr>\n",
       "    <tr>\n",
       "      <th>fake.spectrum.main.composite.sigma_2</th>\n",
       "      <td>1.082811</td>\n",
       "      <td>-0.107089</td>\n",
       "      <td>0.103053</td>\n",
       "      <td>0.105071</td>\n",
       "      <td>keV</td>\n",
       "    </tr>\n",
       "  </tbody>\n",
       "</table>\n",
       "</div>"
      ],
      "text/plain": [
       "                                          value  negative_error  \\\n",
       "fake.spectrum.main.composite.a_1       1.736106       -0.112227   \n",
       "fake.spectrum.main.composite.b_1       0.009552       -0.003742   \n",
       "fake.spectrum.main.composite.F_2      28.486588       -3.848398   \n",
       "fake.spectrum.main.composite.mu_2     25.272463       -0.132913   \n",
       "fake.spectrum.main.composite.sigma_2   1.082811       -0.107089   \n",
       "\n",
       "                                      positive_error     error  \\\n",
       "fake.spectrum.main.composite.a_1            0.116020  0.114124   \n",
       "fake.spectrum.main.composite.b_1            0.003704  0.003723   \n",
       "fake.spectrum.main.composite.F_2            3.968270  3.908334   \n",
       "fake.spectrum.main.composite.mu_2           0.133179  0.133046   \n",
       "fake.spectrum.main.composite.sigma_2        0.103053  0.105071   \n",
       "\n",
       "                                                  unit  \n",
       "fake.spectrum.main.composite.a_1       1 / (cm2 keV s)  \n",
       "fake.spectrum.main.composite.b_1      1 / (cm2 keV2 s)  \n",
       "fake.spectrum.main.composite.F_2           1 / (cm2 s)  \n",
       "fake.spectrum.main.composite.mu_2                  keV  \n",
       "fake.spectrum.main.composite.sigma_2               keV  "
      ]
     },
     "execution_count": 18,
     "metadata": {},
     "output_type": "execute_result"
    }
   ],
   "source": [
    "ar_reloaded.get_data_frame()"
   ]
  },
  {
   "cell_type": "markdown",
   "id": "7d67fc2e",
   "metadata": {},
   "source": [
    "## Analysis Result Sets"
   ]
  },
  {
   "cell_type": "markdown",
   "id": "52df91f8",
   "metadata": {},
   "source": [
    "When doing time-resolved analysis or analysing a several objects, we can save several AR's is a set. This is achieved with the analysis result set. We can pass an array of AR's to the set and even set up descriptions for the different entries."
   ]
  },
  {
   "cell_type": "code",
   "execution_count": 19,
   "id": "fbffc3eb",
   "metadata": {
    "execution": {
     "iopub.execute_input": "2021-08-23T08:43:52.379386Z",
     "iopub.status.busy": "2021-08-23T08:43:52.376565Z",
     "iopub.status.idle": "2021-08-23T08:43:52.482047Z",
     "shell.execute_reply": "2021-08-23T08:43:52.482544Z"
    }
   },
   "outputs": [
    {
     "name": "stderr",
     "output_type": "stream",
     "text": [
      "WARNING: VerifyWarning: Card is too long, comment will be truncated. [astropy.io.fits.card]\n"
     ]
    }
   ],
   "source": [
    "from threeML.analysis_results import AnalysisResultsSet\n",
    "\n",
    "analysis_set = AnalysisResultsSet([ar, ar_reloaded])\n",
    "\n",
    "# index as time bins\n",
    "analysis_set.set_bins(\"testing\", [-1, 1], [3, 5], unit=\"s\")\n",
    "\n",
    "# write to disk\n",
    "analysis_set.write_to(\"analysis_set_test.fits\", overwrite=True)"
   ]
  },
  {
   "cell_type": "code",
   "execution_count": 20,
   "id": "44af34e4",
   "metadata": {
    "execution": {
     "iopub.execute_input": "2021-08-23T08:43:52.487316Z",
     "iopub.status.busy": "2021-08-23T08:43:52.486479Z",
     "iopub.status.idle": "2021-08-23T08:43:52.688161Z",
     "shell.execute_reply": "2021-08-23T08:43:52.688705Z"
    }
   },
   "outputs": [],
   "source": [
    "analysis_set = load_analysis_results(\"analysis_set_test.fits\")"
   ]
  },
  {
   "cell_type": "code",
   "execution_count": 21,
   "id": "11f653c0",
   "metadata": {
    "execution": {
     "iopub.execute_input": "2021-08-23T08:43:52.723026Z",
     "iopub.status.busy": "2021-08-23T08:43:52.722129Z",
     "iopub.status.idle": "2021-08-23T08:43:52.741656Z",
     "shell.execute_reply": "2021-08-23T08:43:52.741056Z"
    }
   },
   "outputs": [
    {
     "name": "stdout",
     "output_type": "stream",
     "text": [
      "Best fit values:\n",
      "\n"
     ]
    },
    {
     "data": {
      "text/html": [
       "<div>\n",
       "<style scoped>\n",
       "    .dataframe tbody tr th:only-of-type {\n",
       "        vertical-align: middle;\n",
       "    }\n",
       "\n",
       "    .dataframe tbody tr th {\n",
       "        vertical-align: top;\n",
       "    }\n",
       "\n",
       "    .dataframe thead th {\n",
       "        text-align: right;\n",
       "    }\n",
       "</style>\n",
       "<table border=\"1\" class=\"dataframe\">\n",
       "  <thead>\n",
       "    <tr style=\"text-align: right;\">\n",
       "      <th></th>\n",
       "      <th>result</th>\n",
       "      <th>unit</th>\n",
       "    </tr>\n",
       "    <tr>\n",
       "      <th>parameter</th>\n",
       "      <th></th>\n",
       "      <th></th>\n",
       "    </tr>\n",
       "  </thead>\n",
       "  <tbody>\n",
       "    <tr>\n",
       "      <th>fake.spectrum.main.composite.a_1</th>\n",
       "      <td>1.74 +/- 0.11</td>\n",
       "      <td>1 / (cm2 keV s)</td>\n",
       "    </tr>\n",
       "    <tr>\n",
       "      <th>fake.spectrum.main.composite.b_1</th>\n",
       "      <td>(10 +/- 4) x 10^-3</td>\n",
       "      <td>1 / (cm2 keV2 s)</td>\n",
       "    </tr>\n",
       "    <tr>\n",
       "      <th>fake.spectrum.main.composite.F_2</th>\n",
       "      <td>(2.8 +/- 0.4) x 10</td>\n",
       "      <td>1 / (cm2 s)</td>\n",
       "    </tr>\n",
       "    <tr>\n",
       "      <th>fake.spectrum.main.composite.mu_2</th>\n",
       "      <td>(2.527 +/- 0.013) x 10</td>\n",
       "      <td>keV</td>\n",
       "    </tr>\n",
       "    <tr>\n",
       "      <th>fake.spectrum.main.composite.sigma_2</th>\n",
       "      <td>1.08 +/- 0.10</td>\n",
       "      <td>keV</td>\n",
       "    </tr>\n",
       "  </tbody>\n",
       "</table>\n",
       "</div>"
      ],
      "text/plain": [
       "                                                      result              unit\n",
       "parameter                                                                     \n",
       "fake.spectrum.main.composite.a_1               1.74 +/- 0.11   1 / (cm2 keV s)\n",
       "fake.spectrum.main.composite.b_1          (10 +/- 4) x 10^-3  1 / (cm2 keV2 s)\n",
       "fake.spectrum.main.composite.F_2          (2.8 +/- 0.4) x 10       1 / (cm2 s)\n",
       "fake.spectrum.main.composite.mu_2     (2.527 +/- 0.013) x 10               keV\n",
       "fake.spectrum.main.composite.sigma_2           1.08 +/- 0.10               keV"
      ]
     },
     "metadata": {},
     "output_type": "display_data"
    },
    {
     "name": "stdout",
     "output_type": "stream",
     "text": [
      "\n",
      "Correlation matrix:\n",
      "\n"
     ]
    },
    {
     "data": {
      "text/html": [
       "<div><table id=\"table139712364771408\">\n",
       "<tr><td>1.00</td><td>-0.85</td><td>-0.05</td><td>0.02</td><td>-0.08</td></tr>\n",
       "<tr><td>-0.85</td><td>1.00</td><td>0.00</td><td>-0.02</td><td>-0.01</td></tr>\n",
       "<tr><td>-0.05</td><td>0.00</td><td>1.00</td><td>-0.31</td><td>-0.15</td></tr>\n",
       "<tr><td>0.02</td><td>-0.02</td><td>-0.31</td><td>1.00</td><td>-0.11</td></tr>\n",
       "<tr><td>-0.08</td><td>-0.01</td><td>-0.15</td><td>-0.11</td><td>1.00</td></tr>\n",
       "</table></div>"
      ],
      "text/plain": [
       " 1.00 -0.85 -0.05  0.02 -0.08\n",
       "-0.85  1.00  0.00 -0.02 -0.01\n",
       "-0.05  0.00  1.00 -0.31 -0.15\n",
       " 0.02 -0.02 -0.31  1.00 -0.11\n",
       "-0.08 -0.01 -0.15 -0.11  1.00"
      ]
     },
     "metadata": {},
     "output_type": "display_data"
    },
    {
     "name": "stdout",
     "output_type": "stream",
     "text": [
      "\n",
      "Values of -log(likelihood) at the minimum:\n",
      "\n"
     ]
    },
    {
     "data": {
      "text/html": [
       "<div>\n",
       "<style scoped>\n",
       "    .dataframe tbody tr th:only-of-type {\n",
       "        vertical-align: middle;\n",
       "    }\n",
       "\n",
       "    .dataframe tbody tr th {\n",
       "        vertical-align: top;\n",
       "    }\n",
       "\n",
       "    .dataframe thead th {\n",
       "        text-align: right;\n",
       "    }\n",
       "</style>\n",
       "<table border=\"1\" class=\"dataframe\">\n",
       "  <thead>\n",
       "    <tr style=\"text-align: right;\">\n",
       "      <th></th>\n",
       "      <th>-log(likelihood)</th>\n",
       "    </tr>\n",
       "  </thead>\n",
       "  <tbody>\n",
       "    <tr>\n",
       "      <th>sim_data</th>\n",
       "      <td>30.145596</td>\n",
       "    </tr>\n",
       "    <tr>\n",
       "      <th>total</th>\n",
       "      <td>30.145596</td>\n",
       "    </tr>\n",
       "  </tbody>\n",
       "</table>\n",
       "</div>"
      ],
      "text/plain": [
       "          -log(likelihood)\n",
       "sim_data         30.145596\n",
       "total            30.145596"
      ]
     },
     "metadata": {},
     "output_type": "display_data"
    },
    {
     "name": "stdout",
     "output_type": "stream",
     "text": [
      "\n",
      "Values of statistical measures:\n",
      "\n"
     ]
    },
    {
     "data": {
      "text/html": [
       "<div>\n",
       "<style scoped>\n",
       "    .dataframe tbody tr th:only-of-type {\n",
       "        vertical-align: middle;\n",
       "    }\n",
       "\n",
       "    .dataframe tbody tr th {\n",
       "        vertical-align: top;\n",
       "    }\n",
       "\n",
       "    .dataframe thead th {\n",
       "        text-align: right;\n",
       "    }\n",
       "</style>\n",
       "<table border=\"1\" class=\"dataframe\">\n",
       "  <thead>\n",
       "    <tr style=\"text-align: right;\">\n",
       "      <th></th>\n",
       "      <th>statistical measures</th>\n",
       "    </tr>\n",
       "  </thead>\n",
       "  <tbody>\n",
       "    <tr>\n",
       "      <th>AIC</th>\n",
       "      <td>71.654828</td>\n",
       "    </tr>\n",
       "    <tr>\n",
       "      <th>BIC</th>\n",
       "      <td>79.851307</td>\n",
       "    </tr>\n",
       "  </tbody>\n",
       "</table>\n",
       "</div>"
      ],
      "text/plain": [
       "     statistical measures\n",
       "AIC             71.654828\n",
       "BIC             79.851307"
      ]
     },
     "metadata": {},
     "output_type": "display_data"
    }
   ],
   "source": [
    "analysis_set[0].display()"
   ]
  },
  {
   "cell_type": "markdown",
   "id": "5085cce0",
   "metadata": {},
   "source": [
    "## Error propagation\n",
    "In 3ML, we propagate errors for MLE reults via sampling of the covariance matrix *instead* of Taylor exanding around the maximum of the likelihood and computing a jacobain. Thus, we can achieve non-linear error propagation.\n",
    "\n",
    "You can use the results for propagating errors non-linearly for analytical functions:\n"
   ]
  },
  {
   "cell_type": "code",
   "execution_count": 22,
   "id": "40abd493",
   "metadata": {
    "execution": {
     "iopub.execute_input": "2021-08-23T08:43:52.747324Z",
     "iopub.status.busy": "2021-08-23T08:43:52.746613Z",
     "iopub.status.idle": "2021-08-23T08:43:52.757110Z",
     "shell.execute_reply": "2021-08-23T08:43:52.756582Z"
    }
   },
   "outputs": [
    {
     "name": "stdout",
     "output_type": "stream",
     "text": [
      "Propagating a+b, with a and b respectively:\n",
      "equal-tail: (10 +/- 4) x 10^-3, hpd: (9.5 -3.4 +4) x 10^-3\n",
      "equal-tail: 1.74 -0.11 +0.12, hpd: 1.74 -0.12 +0.11\n",
      "\n",
      "This is the result (with errors):\n",
      "equal-tail: 1.74 +/- 0.11, hpd: 1.74 -0.12 +0.10\n",
      "(1.6364438230405878, 1.857352876714215)\n"
     ]
    }
   ],
   "source": [
    "p1 = ar.get_variates(\"fake.spectrum.main.composite.b_1\")\n",
    "p2 = ar.get_variates(\"fake.spectrum.main.composite.a_1\")\n",
    "\n",
    "print(\"Propagating a+b, with a and b respectively:\")\n",
    "print(p1)\n",
    "print(p2)\n",
    "\n",
    "print(\"\\nThis is the result (with errors):\")\n",
    "res = p1 + p2\n",
    "print(res)\n",
    "\n",
    "print(res.equal_tail_interval())"
   ]
  },
  {
   "cell_type": "markdown",
   "id": "ff6eb518",
   "metadata": {},
   "source": [
    "The propagation accounts for covariances. For example this\n",
    "has error of zero (of course) since there is perfect covariance."
   ]
  },
  {
   "cell_type": "code",
   "execution_count": 23,
   "id": "569b5723",
   "metadata": {
    "execution": {
     "iopub.execute_input": "2021-08-23T08:43:52.762202Z",
     "iopub.status.busy": "2021-08-23T08:43:52.761463Z",
     "iopub.status.idle": "2021-08-23T08:43:52.766068Z",
     "shell.execute_reply": "2021-08-23T08:43:52.766640Z"
    }
   },
   "outputs": [
    {
     "name": "stdout",
     "output_type": "stream",
     "text": [
      "\n",
      "This is 50 * a/a:\n",
      "equal-tail: (5.0 +/- 0) x 10, hpd: (5.0 +/- 0) x 10\n"
     ]
    }
   ],
   "source": [
    "print(\"\\nThis is 50 * a/a:\")\n",
    "print(50 * p1 / p1)"
   ]
  },
  {
   "cell_type": "markdown",
   "id": "e358c45a",
   "metadata": {},
   "source": [
    "You can use arbitrary (np) functions"
   ]
  },
  {
   "cell_type": "code",
   "execution_count": 24,
   "id": "0692e886",
   "metadata": {
    "execution": {
     "iopub.execute_input": "2021-08-23T08:43:52.771719Z",
     "iopub.status.busy": "2021-08-23T08:43:52.771059Z",
     "iopub.status.idle": "2021-08-23T08:43:52.777084Z",
     "shell.execute_reply": "2021-08-23T08:43:52.776562Z"
    }
   },
   "outputs": [
    {
     "name": "stdout",
     "output_type": "stream",
     "text": [
      "\n",
      "This is arcsinh(b + 5*) / np.log10(b) (why not?)\n",
      "equal-tail: (1.19 -0.10 +0.13) x 10, hpd: (1.19 -0.13 +0.09) x 10\n"
     ]
    }
   ],
   "source": [
    "print(\"\\nThis is arcsinh(b + 5*) / np.log10(b) (why not?)\")\n",
    "print(np.arcsinh(p1 + 5 * p2) / np.log10(p2))"
   ]
  },
  {
   "cell_type": "markdown",
   "id": "4cdd9b2d",
   "metadata": {},
   "source": [
    "Errors can become asymmetric. For example, the ratio of two gaussians is\n",
    "asymmetric notoriously:"
   ]
  },
  {
   "cell_type": "code",
   "execution_count": 25,
   "id": "597d5527",
   "metadata": {
    "execution": {
     "iopub.execute_input": "2021-08-23T08:43:52.781284Z",
     "iopub.status.busy": "2021-08-23T08:43:52.779508Z",
     "iopub.status.idle": "2021-08-23T08:43:52.785966Z",
     "shell.execute_reply": "2021-08-23T08:43:52.786568Z"
    }
   },
   "outputs": [
    {
     "name": "stdout",
     "output_type": "stream",
     "text": [
      "\n",
      "Ratio a/b:\n",
      "equal-tail: (1.8 -0.6 +1.3) x 10^2, hpd: (1.8 -0.9 +0.6) x 10^2\n"
     ]
    }
   ],
   "source": [
    "print(\"\\nRatio a/b:\")\n",
    "print(p2 / p1)"
   ]
  },
  {
   "cell_type": "markdown",
   "id": "7df15967",
   "metadata": {},
   "source": [
    "You can always use it with arbitrary functions:"
   ]
  },
  {
   "cell_type": "code",
   "execution_count": 26,
   "id": "e3ed8b83",
   "metadata": {
    "execution": {
     "iopub.execute_input": "2021-08-23T08:43:52.791584Z",
     "iopub.status.busy": "2021-08-23T08:43:52.790907Z",
     "iopub.status.idle": "2021-08-23T08:43:52.796238Z",
     "shell.execute_reply": "2021-08-23T08:43:52.796793Z"
    }
   },
   "outputs": [
    {
     "name": "stdout",
     "output_type": "stream",
     "text": [
      "\n",
      "Propagating using a custom function:\n",
      "equal-tail: 1.75 +/- 0.11, hpd: 1.75 +/- 0.11\n"
     ]
    }
   ],
   "source": [
    "def my_function(x, a, b):\n",
    "\n",
    "    return b * x ** a\n",
    "\n",
    "\n",
    "print(\"\\nPropagating using a custom function:\")\n",
    "print(my_function(2.3, p1, p2))"
   ]
  },
  {
   "cell_type": "markdown",
   "id": "26edabe7",
   "metadata": {},
   "source": [
    "This is an example of an error propagation to get the plot of the model with its errors\n",
    "(which are propagated without assuming linearity on parameters)"
   ]
  },
  {
   "cell_type": "code",
   "execution_count": 27,
   "id": "3903120d",
   "metadata": {
    "execution": {
     "iopub.execute_input": "2021-08-23T08:43:52.808157Z",
     "iopub.status.busy": "2021-08-23T08:43:52.807529Z",
     "iopub.status.idle": "2021-08-23T08:43:52.811839Z",
     "shell.execute_reply": "2021-08-23T08:43:52.811294Z"
    }
   },
   "outputs": [],
   "source": [
    "def go(fitfun, ar, model):\n",
    "\n",
    "    fig, ax = plt.subplots()\n",
    "\n",
    "    # Gather the parameter variates\n",
    "\n",
    "    arguments = {}\n",
    "\n",
    "    for par in fitfun.parameters.values():\n",
    "\n",
    "        if par.free:\n",
    "\n",
    "            this_name = par.name\n",
    "\n",
    "            this_variate = ar.get_variates(par.path)\n",
    "\n",
    "            # Do not use more than 1000 values (would make computation too slow for nothing)\n",
    "\n",
    "            if len(this_variate) > 1000:\n",
    "\n",
    "                this_variate = np.random.choice(this_variate, size=1000)\n",
    "\n",
    "            arguments[this_name] = this_variate\n",
    "\n",
    "    # Prepare the error propagator function\n",
    "\n",
    "    pp = ar.propagate(\n",
    "        ar.optimized_model.fake.spectrum.main.shape.evaluate_at, **arguments\n",
    "    )\n",
    "\n",
    "    # You can just use it as:\n",
    "\n",
    "    print(pp(5.0))\n",
    "\n",
    "    # Make the plot\n",
    "\n",
    "    energies = np.linspace(0, 50, 100)\n",
    "\n",
    "    low_curve = np.zeros_like(energies)\n",
    "    middle_curve = np.zeros_like(energies)\n",
    "    hi_curve = np.zeros_like(energies)\n",
    "\n",
    "    free_parameters = model.free_parameters\n",
    "\n",
    "    p = tqdm(total=len(energies), desc=\"Propagating errors\")\n",
    "\n",
    "    with use_astromodels_memoization(False):\n",
    "        for i, e in enumerate(energies):\n",
    "            this_flux = pp(e)\n",
    "\n",
    "            low_bound, hi_bound = this_flux.equal_tail_interval()\n",
    "\n",
    "            low_curve[i], middle_curve[i], hi_curve[i] = (\n",
    "                low_bound,\n",
    "                this_flux.median,\n",
    "                hi_bound,\n",
    "            )\n",
    "\n",
    "            p.update(1)\n",
    "\n",
    "    ax.plot(energies, middle_curve, \"--\", color=\"black\")\n",
    "    ax.fill_between(energies, low_curve, hi_curve, alpha=0.5, color=\"blue\")"
   ]
  },
  {
   "cell_type": "code",
   "execution_count": 28,
   "id": "ddde6963",
   "metadata": {
    "execution": {
     "iopub.execute_input": "2021-08-23T08:43:52.832441Z",
     "iopub.status.busy": "2021-08-23T08:43:52.831773Z",
     "iopub.status.idle": "2021-08-23T08:43:59.421102Z",
     "shell.execute_reply": "2021-08-23T08:43:59.420540Z"
    },
    "tags": [
     "nbsphinx-thumbnail"
    ]
   },
   "outputs": [
    {
     "name": "stdout",
     "output_type": "stream",
     "text": [
      "equal-tail: 1.78 -0.12 +0.11, hpd: 1.78 -0.12 +0.11\n"
     ]
    },
    {
     "data": {
      "application/vnd.jupyter.widget-view+json": {
       "model_id": "c5c98129a62f42339d8ce344cbb5e616",
       "version_major": 2,
       "version_minor": 0
      },
      "text/plain": [
       "Propagating errors:   0%|          | 0/100 [00:00<?, ?it/s]"
      ]
     },
     "metadata": {},
     "output_type": "display_data"
    },
    {
     "data": {
      "image/png": "[encoded data removed]",
      "text/plain": [
       "<Figure size 748.8x655.2 with 1 Axes>"
      ]
     },
     "metadata": {},
     "output_type": "display_data"
    }
   ],
   "source": [
    "go(fitfun, ar, model)"
   ]
  },
  {
   "cell_type": "markdown",
   "id": "8addd10a",
   "metadata": {},
   "source": [
    "## Bayesian Analysis Results\n",
    "Analysis Results work exactly the same under Bayesian analysis.\n",
    "\n",
    "Let's run the analysis first."
   ]
  },
  {
   "cell_type": "code",
   "execution_count": 29,
   "id": "b163ead2",
   "metadata": {
    "execution": {
     "iopub.execute_input": "2021-08-23T08:43:59.464816Z",
     "iopub.status.busy": "2021-08-23T08:43:59.464144Z",
     "iopub.status.idle": "2021-08-23T08:44:10.134246Z",
     "shell.execute_reply": "2021-08-23T08:44:10.133624Z"
    }
   },
   "outputs": [
    {
     "data": {
      "application/vnd.jupyter.widget-view+json": {
       "model_id": "260f99c37d864162a6493386e789f384",
       "version_major": 2,
       "version_minor": 0
      },
      "text/plain": [
       "  0%|          | 0/100 [00:00<?, ?it/s]"
      ]
     },
     "metadata": {},
     "output_type": "display_data"
    },
    {
     "data": {
      "application/vnd.jupyter.widget-view+json": {
       "model_id": "8ffd64a4685a49a8b2b5841f07f8a169",
       "version_major": 2,
       "version_minor": 0
      },
      "text/plain": [
       "  0%|          | 0/1000 [00:00<?, ?it/s]"
      ]
     },
     "metadata": {},
     "output_type": "display_data"
    },
    {
     "name": "stdout",
     "output_type": "stream",
     "text": [
      "Maximum a posteriori probability (MAP) point:\n",
      "\n"
     ]
    },
    {
     "data": {
      "text/html": [
       "<div>\n",
       "<style scoped>\n",
       "    .dataframe tbody tr th:only-of-type {\n",
       "        vertical-align: middle;\n",
       "    }\n",
       "\n",
       "    .dataframe tbody tr th {\n",
       "        vertical-align: top;\n",
       "    }\n",
       "\n",
       "    .dataframe thead th {\n",
       "        text-align: right;\n",
       "    }\n",
       "</style>\n",
       "<table border=\"1\" class=\"dataframe\">\n",
       "  <thead>\n",
       "    <tr style=\"text-align: right;\">\n",
       "      <th></th>\n",
       "      <th>result</th>\n",
       "      <th>unit</th>\n",
       "    </tr>\n",
       "    <tr>\n",
       "      <th>parameter</th>\n",
       "      <th></th>\n",
       "      <th></th>\n",
       "    </tr>\n",
       "  </thead>\n",
       "  <tbody>\n",
       "    <tr>\n",
       "      <th>fake.spectrum.main.composite.a_1</th>\n",
       "      <td>1.72 -0.12 +0.13</td>\n",
       "      <td>1 / (cm2 keV s)</td>\n",
       "    </tr>\n",
       "    <tr>\n",
       "      <th>fake.spectrum.main.composite.b_1</th>\n",
       "      <td>(10 +/- 4) x 10^-3</td>\n",
       "      <td>1 / (cm2 keV2 s)</td>\n",
       "    </tr>\n",
       "    <tr>\n",
       "      <th>fake.spectrum.main.composite.F_2</th>\n",
       "      <td>(2.7 +/- 0.4) x 10</td>\n",
       "      <td>1 / (cm2 s)</td>\n",
       "    </tr>\n",
       "    <tr>\n",
       "      <th>fake.spectrum.main.composite.mu_2</th>\n",
       "      <td>(2.28 +0.23 +0.26) x 10</td>\n",
       "      <td>keV</td>\n",
       "    </tr>\n",
       "    <tr>\n",
       "      <th>fake.spectrum.main.composite.sigma_2</th>\n",
       "      <td>1.40 -0.4 -0.14</td>\n",
       "      <td>keV</td>\n",
       "    </tr>\n",
       "  </tbody>\n",
       "</table>\n",
       "</div>"
      ],
      "text/plain": [
       "                                                       result  \\\n",
       "parameter                                                       \n",
       "fake.spectrum.main.composite.a_1             1.72 -0.12 +0.13   \n",
       "fake.spectrum.main.composite.b_1           (10 +/- 4) x 10^-3   \n",
       "fake.spectrum.main.composite.F_2           (2.7 +/- 0.4) x 10   \n",
       "fake.spectrum.main.composite.mu_2     (2.28 +0.23 +0.26) x 10   \n",
       "fake.spectrum.main.composite.sigma_2          1.40 -0.4 -0.14   \n",
       "\n",
       "                                                  unit  \n",
       "parameter                                               \n",
       "fake.spectrum.main.composite.a_1       1 / (cm2 keV s)  \n",
       "fake.spectrum.main.composite.b_1      1 / (cm2 keV2 s)  \n",
       "fake.spectrum.main.composite.F_2           1 / (cm2 s)  \n",
       "fake.spectrum.main.composite.mu_2                  keV  \n",
       "fake.spectrum.main.composite.sigma_2               keV  "
      ]
     },
     "metadata": {},
     "output_type": "display_data"
    },
    {
     "name": "stdout",
     "output_type": "stream",
     "text": [
      "\n",
      "Values of -log(posterior) at the minimum:\n",
      "\n"
     ]
    },
    {
     "data": {
      "text/html": [
       "<div>\n",
       "<style scoped>\n",
       "    .dataframe tbody tr th:only-of-type {\n",
       "        vertical-align: middle;\n",
       "    }\n",
       "\n",
       "    .dataframe tbody tr th {\n",
       "        vertical-align: top;\n",
       "    }\n",
       "\n",
       "    .dataframe thead th {\n",
       "        text-align: right;\n",
       "    }\n",
       "</style>\n",
       "<table border=\"1\" class=\"dataframe\">\n",
       "  <thead>\n",
       "    <tr style=\"text-align: right;\">\n",
       "      <th></th>\n",
       "      <th>-log(posterior)</th>\n",
       "    </tr>\n",
       "  </thead>\n",
       "  <tbody>\n",
       "    <tr>\n",
       "      <th>sim_data</th>\n",
       "      <td>-31.693168</td>\n",
       "    </tr>\n",
       "    <tr>\n",
       "      <th>total</th>\n",
       "      <td>-31.693168</td>\n",
       "    </tr>\n",
       "  </tbody>\n",
       "</table>\n",
       "</div>"
      ],
      "text/plain": [
       "          -log(posterior)\n",
       "sim_data       -31.693168\n",
       "total          -31.693168"
      ]
     },
     "metadata": {},
     "output_type": "display_data"
    },
    {
     "name": "stdout",
     "output_type": "stream",
     "text": [
      "\n",
      "Values of statistical measures:\n",
      "\n"
     ]
    },
    {
     "data": {
      "text/html": [
       "<div>\n",
       "<style scoped>\n",
       "    .dataframe tbody tr th:only-of-type {\n",
       "        vertical-align: middle;\n",
       "    }\n",
       "\n",
       "    .dataframe tbody tr th {\n",
       "        vertical-align: top;\n",
       "    }\n",
       "\n",
       "    .dataframe thead th {\n",
       "        text-align: right;\n",
       "    }\n",
       "</style>\n",
       "<table border=\"1\" class=\"dataframe\">\n",
       "  <thead>\n",
       "    <tr style=\"text-align: right;\">\n",
       "      <th></th>\n",
       "      <th>statistical measures</th>\n",
       "    </tr>\n",
       "  </thead>\n",
       "  <tbody>\n",
       "    <tr>\n",
       "      <th>AIC</th>\n",
       "      <td>74.749973</td>\n",
       "    </tr>\n",
       "    <tr>\n",
       "      <th>BIC</th>\n",
       "      <td>82.946452</td>\n",
       "    </tr>\n",
       "    <tr>\n",
       "      <th>DIC</th>\n",
       "      <td>-301.545176</td>\n",
       "    </tr>\n",
       "    <tr>\n",
       "      <th>PDIC</th>\n",
       "      <td>-391.836663</td>\n",
       "    </tr>\n",
       "  </tbody>\n",
       "</table>\n",
       "</div>"
      ],
      "text/plain": [
       "      statistical measures\n",
       "AIC              74.749973\n",
       "BIC              82.946452\n",
       "DIC            -301.545176\n",
       "PDIC           -391.836663"
      ]
     },
     "metadata": {},
     "output_type": "display_data"
    }
   ],
   "source": [
    "\n",
    "for parameter in ar.optimized_model:\n",
    "\n",
    "    model[parameter.path].value = parameter.value\n",
    "\n",
    "model.fake.spectrum.main.composite.a_1.set_uninformative_prior(Uniform_prior)\n",
    "model.fake.spectrum.main.composite.b_1.set_uninformative_prior(Uniform_prior)\n",
    "model.fake.spectrum.main.composite.F_2.set_uninformative_prior(Log_uniform_prior)\n",
    "model.fake.spectrum.main.composite.mu_2.set_uninformative_prior(Uniform_prior)\n",
    "model.fake.spectrum.main.composite.sigma_2.set_uninformative_prior(Log_uniform_prior)\n",
    "\n",
    "bs = BayesianAnalysis(model, data)\n",
    "bs.set_sampler(\"emcee\")\n",
    "bs.sampler.setup(n_iterations=1000, n_burn_in=100, n_walkers=20)\n",
    "samples = bs.sample()"
   ]
  },
  {
   "cell_type": "markdown",
   "id": "73541ae1",
   "metadata": {},
   "source": [
    "Again, we grab the results from the BayesianAnalysis object:"
   ]
  },
  {
   "cell_type": "code",
   "execution_count": 30,
   "id": "180910e3",
   "metadata": {
    "execution": {
     "iopub.execute_input": "2021-08-23T08:44:10.139279Z",
     "iopub.status.busy": "2021-08-23T08:44:10.138487Z",
     "iopub.status.idle": "2021-08-23T08:44:10.140975Z",
     "shell.execute_reply": "2021-08-23T08:44:10.141445Z"
    }
   },
   "outputs": [],
   "source": [
    "ar2 = bs.results"
   ]
  },
  {
   "cell_type": "markdown",
   "id": "ad828a5a",
   "metadata": {},
   "source": [
    "We can write and read the results to/from a file:"
   ]
  },
  {
   "cell_type": "code",
   "execution_count": 31,
   "id": "235cd0f5",
   "metadata": {
    "execution": {
     "iopub.execute_input": "2021-08-23T08:44:10.168152Z",
     "iopub.status.busy": "2021-08-23T08:44:10.152344Z",
     "iopub.status.idle": "2021-08-23T08:44:10.234345Z",
     "shell.execute_reply": "2021-08-23T08:44:10.233367Z"
    }
   },
   "outputs": [
    {
     "name": "stderr",
     "output_type": "stream",
     "text": [
      "WARNING: VerifyWarning: Card is too long, comment will be truncated. [astropy.io.fits.card]\n"
     ]
    }
   ],
   "source": [
    "ar2.write_to(\"test_bayes.fits\", overwrite=True)"
   ]
  },
  {
   "cell_type": "code",
   "execution_count": 32,
   "id": "540436c2",
   "metadata": {
    "execution": {
     "iopub.execute_input": "2021-08-23T08:44:10.256807Z",
     "iopub.status.busy": "2021-08-23T08:44:10.238681Z",
     "iopub.status.idle": "2021-08-23T08:44:10.305096Z",
     "shell.execute_reply": "2021-08-23T08:44:10.304194Z"
    }
   },
   "outputs": [],
   "source": [
    "ar2_reloaded = load_analysis_results(\"test_bayes.fits\")"
   ]
  },
  {
   "cell_type": "markdown",
   "id": "ee26795a",
   "metadata": {},
   "source": [
    "The AR holds the posterior samples from the analysis. We can see the saved and live reults are the same:"
   ]
  },
  {
   "cell_type": "code",
   "execution_count": 33,
   "id": "346c76a0",
   "metadata": {
    "execution": {
     "iopub.execute_input": "2021-08-23T08:44:10.310430Z",
     "iopub.status.busy": "2021-08-23T08:44:10.309159Z",
     "iopub.status.idle": "2021-08-23T08:44:10.316441Z",
     "shell.execute_reply": "2021-08-23T08:44:10.316940Z"
    }
   },
   "outputs": [
    {
     "data": {
      "text/plain": [
       "True"
      ]
     },
     "execution_count": 33,
     "metadata": {},
     "output_type": "execute_result"
    }
   ],
   "source": [
    "np.allclose(ar2_reloaded.samples, ar2.samples)"
   ]
  },
  {
   "cell_type": "markdown",
   "id": "4fd2a303",
   "metadata": {},
   "source": [
    "**NOTE:** *MLE AR's store samples as well. These are the samples from the covariance matrix*\n",
    "\n",
    "We can examine the marginal distributions of the parameters:"
   ]
  },
  {
   "cell_type": "code",
   "execution_count": 34,
   "id": "bf3046c2",
   "metadata": {
    "execution": {
     "iopub.execute_input": "2021-08-23T08:44:10.363445Z",
     "iopub.status.busy": "2021-08-23T08:44:10.345222Z",
     "iopub.status.idle": "2021-08-23T08:44:13.097390Z",
     "shell.execute_reply": "2021-08-23T08:44:13.098065Z"
    },
    "lines_to_next_cell": 2
   },
   "outputs": [
    {
     "name": "stderr",
     "output_type": "stream",
     "text": [
      "\n",
      "WARNING MatplotlibDeprecationWarning: You are modifying the state of a globally registered colormap. This has been deprecated since 3.3 and in 3.6, you will not be able to modify a registered colormap in-place. To remove this warning, you can make a copy of the colormap first. cmap = mpl.cm.get_cmap(\"viridis\").copy()\n",
      "\n"
     ]
    },
    {
     "data": {
      "image/png": "[encoded data removed]",
      "text/plain": [
       "<Figure size 849.6x849.6 with 25 Axes>"
      ]
     },
     "metadata": {},
     "output_type": "display_data"
    }
   ],
   "source": [
    "fig = ar2.corner_plot()"
   ]
  },
  {
   "cell_type": "markdown",
   "id": "cc579317",
   "metadata": {},
   "source": [
    "We can return pandas DataFrames with equal tail or HPD results."
   ]
  },
  {
   "cell_type": "code",
   "execution_count": 35,
   "id": "e06304ac",
   "metadata": {
    "execution": {
     "iopub.execute_input": "2021-08-23T08:44:13.101986Z",
     "iopub.status.busy": "2021-08-23T08:44:13.100569Z",
     "iopub.status.idle": "2021-08-23T08:44:13.136129Z",
     "shell.execute_reply": "2021-08-23T08:44:13.135565Z"
    }
   },
   "outputs": [
    {
     "data": {
      "text/html": [
       "<div>\n",
       "<style scoped>\n",
       "    .dataframe tbody tr th:only-of-type {\n",
       "        vertical-align: middle;\n",
       "    }\n",
       "\n",
       "    .dataframe tbody tr th {\n",
       "        vertical-align: top;\n",
       "    }\n",
       "\n",
       "    .dataframe thead th {\n",
       "        text-align: right;\n",
       "    }\n",
       "</style>\n",
       "<table border=\"1\" class=\"dataframe\">\n",
       "  <thead>\n",
       "    <tr style=\"text-align: right;\">\n",
       "      <th></th>\n",
       "      <th>value</th>\n",
       "      <th>negative_error</th>\n",
       "      <th>positive_error</th>\n",
       "      <th>error</th>\n",
       "      <th>unit</th>\n",
       "    </tr>\n",
       "  </thead>\n",
       "  <tbody>\n",
       "    <tr>\n",
       "      <th>fake.spectrum.main.composite.a_1</th>\n",
       "      <td>1.719834</td>\n",
       "      <td>-0.116984</td>\n",
       "      <td>0.129359</td>\n",
       "      <td>0.123171</td>\n",
       "      <td>1 / (cm2 keV s)</td>\n",
       "    </tr>\n",
       "    <tr>\n",
       "      <th>fake.spectrum.main.composite.b_1</th>\n",
       "      <td>0.009636</td>\n",
       "      <td>-0.003800</td>\n",
       "      <td>0.003673</td>\n",
       "      <td>0.003737</td>\n",
       "      <td>1 / (cm2 keV2 s)</td>\n",
       "    </tr>\n",
       "    <tr>\n",
       "      <th>fake.spectrum.main.composite.F_2</th>\n",
       "      <td>27.247772</td>\n",
       "      <td>-4.124176</td>\n",
       "      <td>3.920095</td>\n",
       "      <td>4.022136</td>\n",
       "      <td>1 / (cm2 s)</td>\n",
       "    </tr>\n",
       "    <tr>\n",
       "      <th>fake.spectrum.main.composite.mu_2</th>\n",
       "      <td>22.775361</td>\n",
       "      <td>2.312398</td>\n",
       "      <td>2.631521</td>\n",
       "      <td>2.471960</td>\n",
       "      <td>keV</td>\n",
       "    </tr>\n",
       "    <tr>\n",
       "      <th>fake.spectrum.main.composite.sigma_2</th>\n",
       "      <td>1.404902</td>\n",
       "      <td>-0.427325</td>\n",
       "      <td>-0.142941</td>\n",
       "      <td>0.142192</td>\n",
       "      <td>keV</td>\n",
       "    </tr>\n",
       "  </tbody>\n",
       "</table>\n",
       "</div>"
      ],
      "text/plain": [
       "                                          value  negative_error  \\\n",
       "fake.spectrum.main.composite.a_1       1.719834       -0.116984   \n",
       "fake.spectrum.main.composite.b_1       0.009636       -0.003800   \n",
       "fake.spectrum.main.composite.F_2      27.247772       -4.124176   \n",
       "fake.spectrum.main.composite.mu_2     22.775361        2.312398   \n",
       "fake.spectrum.main.composite.sigma_2   1.404902       -0.427325   \n",
       "\n",
       "                                      positive_error     error  \\\n",
       "fake.spectrum.main.composite.a_1            0.129359  0.123171   \n",
       "fake.spectrum.main.composite.b_1            0.003673  0.003737   \n",
       "fake.spectrum.main.composite.F_2            3.920095  4.022136   \n",
       "fake.spectrum.main.composite.mu_2           2.631521  2.471960   \n",
       "fake.spectrum.main.composite.sigma_2       -0.142941  0.142192   \n",
       "\n",
       "                                                  unit  \n",
       "fake.spectrum.main.composite.a_1       1 / (cm2 keV s)  \n",
       "fake.spectrum.main.composite.b_1      1 / (cm2 keV2 s)  \n",
       "fake.spectrum.main.composite.F_2           1 / (cm2 s)  \n",
       "fake.spectrum.main.composite.mu_2                  keV  \n",
       "fake.spectrum.main.composite.sigma_2               keV  "
      ]
     },
     "execution_count": 35,
     "metadata": {},
     "output_type": "execute_result"
    }
   ],
   "source": [
    "ar2.get_data_frame(\"equal tail\")"
   ]
  },
  {
   "cell_type": "code",
   "execution_count": 36,
   "id": "b18c15a7",
   "metadata": {
    "execution": {
     "iopub.execute_input": "2021-08-23T08:44:13.143455Z",
     "iopub.status.busy": "2021-08-23T08:44:13.142878Z",
     "iopub.status.idle": "2021-08-23T08:44:13.175241Z",
     "shell.execute_reply": "2021-08-23T08:44:13.175833Z"
    }
   },
   "outputs": [
    {
     "data": {
      "text/html": [
       "<div>\n",
       "<style scoped>\n",
       "    .dataframe tbody tr th:only-of-type {\n",
       "        vertical-align: middle;\n",
       "    }\n",
       "\n",
       "    .dataframe tbody tr th {\n",
       "        vertical-align: top;\n",
       "    }\n",
       "\n",
       "    .dataframe thead th {\n",
       "        text-align: right;\n",
       "    }\n",
       "</style>\n",
       "<table border=\"1\" class=\"dataframe\">\n",
       "  <thead>\n",
       "    <tr style=\"text-align: right;\">\n",
       "      <th></th>\n",
       "      <th>value</th>\n",
       "      <th>negative_error</th>\n",
       "      <th>positive_error</th>\n",
       "      <th>error</th>\n",
       "      <th>unit</th>\n",
       "    </tr>\n",
       "  </thead>\n",
       "  <tbody>\n",
       "    <tr>\n",
       "      <th>fake.spectrum.main.composite.a_1</th>\n",
       "      <td>1.719834</td>\n",
       "      <td>-0.104858</td>\n",
       "      <td>0.138200</td>\n",
       "      <td>0.121529</td>\n",
       "      <td>1 / (cm2 keV s)</td>\n",
       "    </tr>\n",
       "    <tr>\n",
       "      <th>fake.spectrum.main.composite.b_1</th>\n",
       "      <td>0.009636</td>\n",
       "      <td>-0.003066</td>\n",
       "      <td>0.003803</td>\n",
       "      <td>0.003435</td>\n",
       "      <td>1 / (cm2 keV2 s)</td>\n",
       "    </tr>\n",
       "    <tr>\n",
       "      <th>fake.spectrum.main.composite.F_2</th>\n",
       "      <td>27.247772</td>\n",
       "      <td>-3.827742</td>\n",
       "      <td>4.084796</td>\n",
       "      <td>3.956269</td>\n",
       "      <td>1 / (cm2 s)</td>\n",
       "    </tr>\n",
       "    <tr>\n",
       "      <th>fake.spectrum.main.composite.mu_2</th>\n",
       "      <td>22.775361</td>\n",
       "      <td>2.336729</td>\n",
       "      <td>2.651230</td>\n",
       "      <td>2.493979</td>\n",
       "      <td>keV</td>\n",
       "    </tr>\n",
       "    <tr>\n",
       "      <th>fake.spectrum.main.composite.sigma_2</th>\n",
       "      <td>1.404902</td>\n",
       "      <td>-0.454731</td>\n",
       "      <td>-0.186502</td>\n",
       "      <td>0.134115</td>\n",
       "      <td>keV</td>\n",
       "    </tr>\n",
       "  </tbody>\n",
       "</table>\n",
       "</div>"
      ],
      "text/plain": [
       "                                          value  negative_error  \\\n",
       "fake.spectrum.main.composite.a_1       1.719834       -0.104858   \n",
       "fake.spectrum.main.composite.b_1       0.009636       -0.003066   \n",
       "fake.spectrum.main.composite.F_2      27.247772       -3.827742   \n",
       "fake.spectrum.main.composite.mu_2     22.775361        2.336729   \n",
       "fake.spectrum.main.composite.sigma_2   1.404902       -0.454731   \n",
       "\n",
       "                                      positive_error     error  \\\n",
       "fake.spectrum.main.composite.a_1            0.138200  0.121529   \n",
       "fake.spectrum.main.composite.b_1            0.003803  0.003435   \n",
       "fake.spectrum.main.composite.F_2            4.084796  3.956269   \n",
       "fake.spectrum.main.composite.mu_2           2.651230  2.493979   \n",
       "fake.spectrum.main.composite.sigma_2       -0.186502  0.134115   \n",
       "\n",
       "                                                  unit  \n",
       "fake.spectrum.main.composite.a_1       1 / (cm2 keV s)  \n",
       "fake.spectrum.main.composite.b_1      1 / (cm2 keV2 s)  \n",
       "fake.spectrum.main.composite.F_2           1 / (cm2 s)  \n",
       "fake.spectrum.main.composite.mu_2                  keV  \n",
       "fake.spectrum.main.composite.sigma_2               keV  "
      ]
     },
     "execution_count": 36,
     "metadata": {},
     "output_type": "execute_result"
    }
   ],
   "source": [
    "ar2.get_data_frame(\"hpd\")"
   ]
  },
  {
   "cell_type": "markdown",
   "id": "2711cf44",
   "metadata": {},
   "source": [
    "Error propagation operates the same way. Internally, the process is the same as the MLE results, however, the samples are those of the posterior rather than the (assumed) covariance matrix."
   ]
  },
  {
   "cell_type": "code",
   "execution_count": 37,
   "id": "e7cd7921",
   "metadata": {
    "execution": {
     "iopub.execute_input": "2021-08-23T08:44:13.181255Z",
     "iopub.status.busy": "2021-08-23T08:44:13.180623Z",
     "iopub.status.idle": "2021-08-23T08:44:13.194932Z",
     "shell.execute_reply": "2021-08-23T08:44:13.194369Z"
    },
    "lines_to_next_cell": 2
   },
   "outputs": [
    {
     "name": "stdout",
     "output_type": "stream",
     "text": [
      "equal-tail: (9.8 -4 +3.5) x 10^-3, hpd: (9.8 -3.2 +4) x 10^-3\n",
      "equal-tail: 1.73 +/- 0.12, hpd: 1.73 -0.11 +0.13\n",
      "equal-tail: 1.74 +/- 0.12, hpd: 1.74 -0.11 +0.13\n"
     ]
    }
   ],
   "source": [
    "p1 = ar2.get_variates(\"fake.spectrum.main.composite.b_1\")\n",
    "p2 = ar2.get_variates(\"fake.spectrum.main.composite.a_1\")\n",
    "\n",
    "print(p1)\n",
    "print(p2)\n",
    "\n",
    "res = p1 + p2\n",
    "\n",
    "print(res)"
   ]
  },
  {
   "cell_type": "markdown",
   "id": "ddc3d728",
   "metadata": {},
   "source": [
    "To demonstrate how the two objects (MLE and Bayes) are the same, we see that our plotting function written for the MLE result works on our Bayesian results seamlessly."
   ]
  },
  {
   "cell_type": "code",
   "execution_count": 38,
   "id": "907c873d",
   "metadata": {
    "execution": {
     "iopub.execute_input": "2021-08-23T08:44:13.222804Z",
     "iopub.status.busy": "2021-08-23T08:44:13.222205Z",
     "iopub.status.idle": "2021-08-23T08:44:19.775370Z",
     "shell.execute_reply": "2021-08-23T08:44:19.774839Z"
    }
   },
   "outputs": [
    {
     "name": "stdout",
     "output_type": "stream",
     "text": [
      "equal-tail: 1.78 -0.13 +0.12, hpd: 1.78 -0.13 +0.12\n"
     ]
    },
    {
     "data": {
      "application/vnd.jupyter.widget-view+json": {
       "model_id": "86e04de7683e4bc99d9f20403251a00e",
       "version_major": 2,
       "version_minor": 0
      },
      "text/plain": [
       "Propagating errors:   0%|          | 0/100 [00:00<?, ?it/s]"
      ]
     },
     "metadata": {},
     "output_type": "display_data"
    },
    {
     "data": {
      "image/png": "[encoded data removed]",
      "text/plain": [
       "<Figure size 748.8x655.2 with 1 Axes>"
      ]
     },
     "metadata": {},
     "output_type": "display_data"
    }
   ],
   "source": [
    "go(fitfun, ar2, model)"
   ]
  },
  {
   "cell_type": "code",
   "execution_count": null,
   "id": "f3f0afd2",
   "metadata": {},
   "outputs": [],
   "source": []
  }
 ],
 "metadata": {
  "jupytext": {
   "formats": "ipynb,md"
  },
  "kernelspec": {
   "display_name": "Python 3",
   "language": "python",
   "name": "python3"
  },
  "language_info": {
   "codemirror_mode": {
    "name": "ipython",
    "version": 3
   },
   "file_extension": ".py",
   "mimetype": "text/x-python",
   "name": "python",
   "nbconvert_exporter": "python",
   "pygments_lexer": "ipython3",
   "version": "3.7.11"
  },
  "widgets": {
   "application/vnd.jupyter.widget-state+json": {
    "state": {
     "015a420fedc74a01bab03e63eb683be2": {
      "model_module": "@jupyter-widgets/controls",
      "model_module_version": "1.5.0",
      "model_name": "ProgressStyleModel",
      "state": {
       "_model_module": "@jupyter-widgets/controls",
       "_model_module_version": "1.5.0",
       "_model_name": "ProgressStyleModel",
       "_view_count": null,
       "_view_module": "@jupyter-widgets/base",
       "_view_module_version": "1.2.0",
       "_view_name": "StyleView",
       "bar_color": null,
       "description_width": ""
      }
     },
     "04490b51a8534cbd9d7abadfbf930304": {
      "model_module": "@jupyter-widgets/base",
      "model_module_version": "1.2.0",
      "model_name": "LayoutModel",
      "state": {
       "_model_module": "@jupyter-widgets/base",
       "_model_module_version": "1.2.0",
       "_model_name": "LayoutModel",
       "_view_count": null,
       "_view_module": "@jupyter-widgets/base",
       "_view_module_version": "1.2.0",
       "_view_name": "LayoutView",
       "align_content": null,
       "align_items": null,
       "align_self": null,
       "border": null,
       "bottom": null,
       "display": null,
       "flex": null,
       "flex_flow": null,
       "grid_area": null,
       "grid_auto_columns": null,
       "grid_auto_flow": null,
       "grid_auto_rows": null,
       "grid_column": null,
       "grid_gap": null,
       "grid_row": null,
       "grid_template_areas": null,
       "grid_template_columns": null,
       "grid_template_rows": null,
       "height": null,
       "justify_content": null,
       "justify_items": null,
       "left": null,
       "margin": null,
       "max_height": null,
       "max_width": null,
       "min_height": null,
       "min_width": null,
       "object_fit": null,
       "object_position": null,
       "order": null,
       "overflow": null,
       "overflow_x": null,
       "overflow_y": null,
       "padding": null,
       "right": null,
       "top": null,
       "visibility": null,
       "width": null
      }
     },
     "0bd5fb9f692e43a0810893e4bf5900d9": {
      "model_module": "@jupyter-widgets/controls",
      "model_module_version": "1.5.0",
      "model_name": "HTMLModel",
      "state": {
       "_dom_classes": [],
       "_model_module": "@jupyter-widgets/controls",
       "_model_module_version": "1.5.0",
       "_model_name": "HTMLModel",
       "_view_count": null,
       "_view_module": "@jupyter-widgets/controls",
       "_view_module_version": "1.5.0",
       "_view_name": "HTMLView",
       "description": "",
       "description_tooltip": null,
       "layout": "IPY_MODEL_3a981bf0e0654d15a6eaf3d292ef12c0",
       "placeholder": "​",
       "style": "IPY_MODEL_d134f077691c4f298eeee4e3ed144810",
       "value": "Propagating errors: 100%"
      }
     },
     "0cafe9175cfa4f348c71540b8677f95a": {
      "model_module": "@jupyter-widgets/controls",
      "model_module_version": "1.5.0",
      "model_name": "DescriptionStyleModel",
      "state": {
       "_model_module": "@jupyter-widgets/controls",
       "_model_module_version": "1.5.0",
       "_model_name": "DescriptionStyleModel",
       "_view_count": null,
       "_view_module": "@jupyter-widgets/base",
       "_view_module_version": "1.2.0",
       "_view_name": "StyleView",
       "description_width": ""
      }
     },
     "0ee1214082134963b7f6834d09d80dc2": {
      "model_module": "@jupyter-widgets/base",
      "model_module_version": "1.2.0",
      "model_name": "LayoutModel",
      "state": {
       "_model_module": "@jupyter-widgets/base",
       "_model_module_version": "1.2.0",
       "_model_name": "LayoutModel",
       "_view_count": null,
       "_view_module": "@jupyter-widgets/base",
       "_view_module_version": "1.2.0",
       "_view_name": "LayoutView",
       "align_content": null,
       "align_items": null,
       "align_self": null,
       "border": null,
       "bottom": null,
       "display": null,
       "flex": null,
       "flex_flow": null,
       "grid_area": null,
       "grid_auto_columns": null,
       "grid_auto_flow": null,
       "grid_auto_rows": null,
       "grid_column": null,
       "grid_gap": null,
       "grid_row": null,
       "grid_template_areas": null,
       "grid_template_columns": null,
       "grid_template_rows": null,
       "height": null,
       "justify_content": null,
       "justify_items": null,
       "left": null,
       "margin": null,
       "max_height": null,
       "max_width": null,
       "min_height": null,
       "min_width": null,
       "object_fit": null,
       "object_position": null,
       "order": null,
       "overflow": null,
       "overflow_x": null,
       "overflow_y": null,
       "padding": null,
       "right": null,
       "top": null,
       "visibility": null,
       "width": null
      }
     },
     "105f22c1afaf4237b17c7014d099e155": {
      "model_module": "@jupyter-widgets/controls",
      "model_module_version": "1.5.0",
      "model_name": "DescriptionStyleModel",
      "state": {
       "_model_module": "@jupyter-widgets/controls",
       "_model_module_version": "1.5.0",
       "_model_name": "DescriptionStyleModel",
       "_view_count": null,
       "_view_module": "@jupyter-widgets/base",
       "_view_module_version": "1.2.0",
       "_view_name": "StyleView",
       "description_width": ""
      }
     },
     "173e6524ac8f403f86b18cb216ef34af": {
      "model_module": "@jupyter-widgets/controls",
      "model_module_version": "1.5.0",
      "model_name": "ProgressStyleModel",
      "state": {
       "_model_module": "@jupyter-widgets/controls",
       "_model_module_version": "1.5.0",
       "_model_name": "ProgressStyleModel",
       "_view_count": null,
       "_view_module": "@jupyter-widgets/base",
       "_view_module_version": "1.2.0",
       "_view_name": "StyleView",
       "bar_color": null,
       "description_width": ""
      }
     },
     "191fd5119ebe48369a325ab64674fd51": {
      "model_module": "@jupyter-widgets/controls",
      "model_module_version": "1.5.0",
      "model_name": "ProgressStyleModel",
      "state": {
       "_model_module": "@jupyter-widgets/controls",
       "_model_module_version": "1.5.0",
       "_model_name": "ProgressStyleModel",
       "_view_count": null,
       "_view_module": "@jupyter-widgets/base",
       "_view_module_version": "1.2.0",
       "_view_name": "StyleView",
       "bar_color": "#440154",
       "description_width": ""
      }
     },
     "1dbad117b1d64079b5f603335938a58e": {
      "model_module": "@jupyter-widgets/controls",
      "model_module_version": "1.5.0",
      "model_name": "HBoxModel",
      "state": {
       "_dom_classes": [],
       "_model_module": "@jupyter-widgets/controls",
       "_model_module_version": "1.5.0",
       "_model_name": "HBoxModel",
       "_view_count": null,
       "_view_module": "@jupyter-widgets/controls",
       "_view_module_version": "1.5.0",
       "_view_name": "HBoxView",
       "box_style": "",
       "children": [
        "IPY_MODEL_f39944b64e274428a8351dbc70eb9222",
        "IPY_MODEL_854f273515e349bab22db4731453af7c",
        "IPY_MODEL_46c612df99ad46469ec72d4edfdfa779"
       ],
       "layout": "IPY_MODEL_b7a4ce6640874d378ec53d680bba843c"
      }
     },
     "20f15ab8e18e4db8ab72c73599add87b": {
      "model_module": "@jupyter-widgets/controls",
      "model_module_version": "1.5.0",
      "model_name": "DescriptionStyleModel",
      "state": {
       "_model_module": "@jupyter-widgets/controls",
       "_model_module_version": "1.5.0",
       "_model_name": "DescriptionStyleModel",
       "_view_count": null,
       "_view_module": "@jupyter-widgets/base",
       "_view_module_version": "1.2.0",
       "_view_name": "StyleView",
       "description_width": ""
      }
     },
     "235f104835224754ae1da2271aaa0b0d": {
      "model_module": "@jupyter-widgets/controls",
      "model_module_version": "1.5.0",
      "model_name": "DescriptionStyleModel",
      "state": {
       "_model_module": "@jupyter-widgets/controls",
       "_model_module_version": "1.5.0",
       "_model_name": "DescriptionStyleModel",
       "_view_count": null,
       "_view_module": "@jupyter-widgets/base",
       "_view_module_version": "1.2.0",
       "_view_name": "StyleView",
       "description_width": ""
      }
     },
     "24d86daaeeda4c4eaa26cd1f9859b15e": {
      "model_module": "@jupyter-widgets/controls",
      "model_module_version": "1.5.0",
      "model_name": "DescriptionStyleModel",
      "state": {
       "_model_module": "@jupyter-widgets/controls",
       "_model_module_version": "1.5.0",
       "_model_name": "DescriptionStyleModel",
       "_view_count": null,
       "_view_module": "@jupyter-widgets/base",
       "_view_module_version": "1.2.0",
       "_view_name": "StyleView",
       "description_width": ""
      }
     },
     "260f99c37d864162a6493386e789f384": {
      "model_module": "@jupyter-widgets/controls",
      "model_module_version": "1.5.0",
      "model_name": "HBoxModel",
      "state": {
       "_dom_classes": [],
       "_model_module": "@jupyter-widgets/controls",
       "_model_module_version": "1.5.0",
       "_model_name": "HBoxModel",
       "_view_count": null,
       "_view_module": "@jupyter-widgets/controls",
       "_view_module_version": "1.5.0",
       "_view_name": "HBoxView",
       "box_style": "",
       "children": [
        "IPY_MODEL_36ba792c536043f4be01af6a10c535bd",
        "IPY_MODEL_35323672e4784116a1e8994da3f61b2a",
        "IPY_MODEL_52948687943241b0af6edc6b9ef3dc9a"
       ],
       "layout": "IPY_MODEL_0ee1214082134963b7f6834d09d80dc2"
      }
     },
     "293787bfe6844eb8a79fda4fd7323449": {
      "model_module": "@jupyter-widgets/controls",
      "model_module_version": "1.5.0",
      "model_name": "FloatProgressModel",
      "state": {
       "_dom_classes": [],
       "_model_module": "@jupyter-widgets/controls",
       "_model_module_version": "1.5.0",
       "_model_name": "FloatProgressModel",
       "_view_count": null,
       "_view_module": "@jupyter-widgets/controls",
       "_view_module_version": "1.5.0",
       "_view_name": "ProgressView",
       "bar_style": "",
       "description": "",
       "description_tooltip": null,
       "layout": "IPY_MODEL_f2cd4f5a6a054e8ab719d50f3a3fa1dd",
       "max": 100.0,
       "min": 0.0,
       "orientation": "horizontal",
       "style": "IPY_MODEL_697cd5ba1ebd436f93877ecb595927fd",
       "value": 100.0
      }
     },
     "35323672e4784116a1e8994da3f61b2a": {
      "model_module": "@jupyter-widgets/controls",
      "model_module_version": "1.5.0",
      "model_name": "FloatProgressModel",
      "state": {
       "_dom_classes": [],
       "_model_module": "@jupyter-widgets/controls",
       "_model_module_version": "1.5.0",
       "_model_name": "FloatProgressModel",
       "_view_count": null,
       "_view_module": "@jupyter-widgets/controls",
       "_view_module_version": "1.5.0",
       "_view_name": "ProgressView",
       "bar_style": "success",
       "description": "",
       "description_tooltip": null,
       "layout": "IPY_MODEL_d3ae5631076748f88108f76985d2884b",
       "max": 100.0,
       "min": 0.0,
       "orientation": "horizontal",
       "style": "IPY_MODEL_173e6524ac8f403f86b18cb216ef34af",
       "value": 100.0
      }
     },
     "36ba792c536043f4be01af6a10c535bd": {
      "model_module": "@jupyter-widgets/controls",
      "model_module_version": "1.5.0",
      "model_name": "HTMLModel",
      "state": {
       "_dom_classes": [],
       "_model_module": "@jupyter-widgets/controls",
       "_model_module_version": "1.5.0",
       "_model_name": "HTMLModel",
       "_view_count": null,
       "_view_module": "@jupyter-widgets/controls",
       "_view_module_version": "1.5.0",
       "_view_name": "HTMLView",
       "description": "",
       "description_tooltip": null,
       "layout": "IPY_MODEL_3eb70c392ebc487a867b1f1bf30bac00",
       "placeholder": "​",
       "style": "IPY_MODEL_235f104835224754ae1da2271aaa0b0d",
       "value": "100%"
      }
     },
     "38c75a837af3465f86559d4c032f61d8": {
      "model_module": "@jupyter-widgets/base",
      "model_module_version": "1.2.0",
      "model_name": "LayoutModel",
      "state": {
       "_model_module": "@jupyter-widgets/base",
       "_model_module_version": "1.2.0",
       "_model_name": "LayoutModel",
       "_view_count": null,
       "_view_module": "@jupyter-widgets/base",
       "_view_module_version": "1.2.0",
       "_view_name": "LayoutView",
       "align_content": null,
       "align_items": null,
       "align_self": null,
       "border": null,
       "bottom": null,
       "display": null,
       "flex": "2",
       "flex_flow": null,
       "grid_area": null,
       "grid_auto_columns": null,
       "grid_auto_flow": null,
       "grid_auto_rows": null,
       "grid_column": null,
       "grid_gap": null,
       "grid_row": null,
       "grid_template_areas": null,
       "grid_template_columns": null,
       "grid_template_rows": null,
       "height": null,
       "justify_content": null,
       "justify_items": null,
       "left": null,
       "margin": null,
       "max_height": null,
       "max_width": null,
       "min_height": null,
       "min_width": null,
       "object_fit": null,
       "object_position": null,
       "order": null,
       "overflow": null,
       "overflow_x": null,
       "overflow_y": null,
       "padding": null,
       "right": null,
       "top": null,
       "visibility": null,
       "width": null
      }
     },
     "3a981bf0e0654d15a6eaf3d292ef12c0": {
      "model_module": "@jupyter-widgets/base",
      "model_module_version": "1.2.0",
      "model_name": "LayoutModel",
      "state": {
       "_model_module": "@jupyter-widgets/base",
       "_model_module_version": "1.2.0",
       "_model_name": "LayoutModel",
       "_view_count": null,
       "_view_module": "@jupyter-widgets/base",
       "_view_module_version": "1.2.0",
       "_view_name": "LayoutView",
       "align_content": null,
       "align_items": null,
       "align_self": null,
       "border": null,
       "bottom": null,
       "display": null,
       "flex": null,
       "flex_flow": null,
       "grid_area": null,
       "grid_auto_columns": null,
       "grid_auto_flow": null,
       "grid_auto_rows": null,
       "grid_column": null,
       "grid_gap": null,
       "grid_row": null,
       "grid_template_areas": null,
       "grid_template_columns": null,
       "grid_template_rows": null,
       "height": null,
       "justify_content": null,
       "justify_items": null,
       "left": null,
       "margin": null,
       "max_height": null,
       "max_width": null,
       "min_height": null,
       "min_width": null,
       "object_fit": null,
       "object_position": null,
       "order": null,
       "overflow": null,
       "overflow_x": null,
       "overflow_y": null,
       "padding": null,
       "right": null,
       "top": null,
       "visibility": null,
       "width": null
      }
     },
     "3eb70c392ebc487a867b1f1bf30bac00": {
      "model_module": "@jupyter-widgets/base",
      "model_module_version": "1.2.0",
      "model_name": "LayoutModel",
      "state": {
       "_model_module": "@jupyter-widgets/base",
       "_model_module_version": "1.2.0",
       "_model_name": "LayoutModel",
       "_view_count": null,
       "_view_module": "@jupyter-widgets/base",
       "_view_module_version": "1.2.0",
       "_view_name": "LayoutView",
       "align_content": null,
       "align_items": null,
       "align_self": null,
       "border": null,
       "bottom": null,
       "display": null,
       "flex": null,
       "flex_flow": null,
       "grid_area": null,
       "grid_auto_columns": null,
       "grid_auto_flow": null,
       "grid_auto_rows": null,
       "grid_column": null,
       "grid_gap": null,
       "grid_row": null,
       "grid_template_areas": null,
       "grid_template_columns": null,
       "grid_template_rows": null,
       "height": null,
       "justify_content": null,
       "justify_items": null,
       "left": null,
       "margin": null,
       "max_height": null,
       "max_width": null,
       "min_height": null,
       "min_width": null,
       "object_fit": null,
       "object_position": null,
       "order": null,
       "overflow": null,
       "overflow_x": null,
       "overflow_y": null,
       "padding": null,
       "right": null,
       "top": null,
       "visibility": null,
       "width": null
      }
     },
     "46c612df99ad46469ec72d4edfdfa779": {
      "model_module": "@jupyter-widgets/controls",
      "model_module_version": "1.5.0",
      "model_name": "HTMLModel",
      "state": {
       "_dom_classes": [],
       "_model_module": "@jupyter-widgets/controls",
       "_model_module_version": "1.5.0",
       "_model_name": "HTMLModel",
       "_view_count": null,
       "_view_module": "@jupyter-widgets/controls",
       "_view_module_version": "1.5.0",
       "_view_name": "HTMLView",
       "description": "",
       "description_tooltip": null,
       "layout": "IPY_MODEL_5549c03ab2de47ed98da6035dec17949",
       "placeholder": "​",
       "style": "IPY_MODEL_ffb225a2aa0a48539fd9d37223810ef9",
       "value": " 1/1 [00:03&lt;00:00,  3.84s/it]"
      }
     },
     "4bb9b0611e75441181702957a5a5c35a": {
      "model_module": "@jupyter-widgets/controls",
      "model_module_version": "1.5.0",
      "model_name": "HTMLModel",
      "state": {
       "_dom_classes": [],
       "_model_module": "@jupyter-widgets/controls",
       "_model_module_version": "1.5.0",
       "_model_name": "HTMLModel",
       "_view_count": null,
       "_view_module": "@jupyter-widgets/controls",
       "_view_module_version": "1.5.0",
       "_view_name": "HTMLView",
       "description": "",
       "description_tooltip": null,
       "layout": "IPY_MODEL_cc7a31493cc94d7c8b76c8b9e3cedd15",
       "placeholder": "​",
       "style": "IPY_MODEL_953114844b404c018ead926893e66928",
       "value": "100%"
      }
     },
     "4e63c79304574bdb82aedfdd53f4d9e3": {
      "model_module": "@jupyter-widgets/base",
      "model_module_version": "1.2.0",
      "model_name": "LayoutModel",
      "state": {
       "_model_module": "@jupyter-widgets/base",
       "_model_module_version": "1.2.0",
       "_model_name": "LayoutModel",
       "_view_count": null,
       "_view_module": "@jupyter-widgets/base",
       "_view_module_version": "1.2.0",
       "_view_name": "LayoutView",
       "align_content": null,
       "align_items": null,
       "align_self": null,
       "border": null,
       "bottom": null,
       "display": null,
       "flex": null,
       "flex_flow": null,
       "grid_area": null,
       "grid_auto_columns": null,
       "grid_auto_flow": null,
       "grid_auto_rows": null,
       "grid_column": null,
       "grid_gap": null,
       "grid_row": null,
       "grid_template_areas": null,
       "grid_template_columns": null,
       "grid_template_rows": null,
       "height": null,
       "justify_content": null,
       "justify_items": null,
       "left": null,
       "margin": null,
       "max_height": null,
       "max_width": null,
       "min_height": null,
       "min_width": null,
       "object_fit": null,
       "object_position": null,
       "order": null,
       "overflow": null,
       "overflow_x": null,
       "overflow_y": null,
       "padding": null,
       "right": null,
       "top": null,
       "visibility": null,
       "width": null
      }
     },
     "52948687943241b0af6edc6b9ef3dc9a": {
      "model_module": "@jupyter-widgets/controls",
      "model_module_version": "1.5.0",
      "model_name": "HTMLModel",
      "state": {
       "_dom_classes": [],
       "_model_module": "@jupyter-widgets/controls",
       "_model_module_version": "1.5.0",
       "_model_name": "HTMLModel",
       "_view_count": null,
       "_view_module": "@jupyter-widgets/controls",
       "_view_module_version": "1.5.0",
       "_view_name": "HTMLView",
       "description": "",
       "description_tooltip": null,
       "layout": "IPY_MODEL_f6a6e05a9caf483baad5ff64d9cc422e",
       "placeholder": "​",
       "style": "IPY_MODEL_b504c07cd84b4752beb5681ec5b31dd7",
       "value": " 100/100 [00:00&lt;00:00, 146.91it/s]"
      }
     },
     "5549c03ab2de47ed98da6035dec17949": {
      "model_module": "@jupyter-widgets/base",
      "model_module_version": "1.2.0",
      "model_name": "LayoutModel",
      "state": {
       "_model_module": "@jupyter-widgets/base",
       "_model_module_version": "1.2.0",
       "_model_name": "LayoutModel",
       "_view_count": null,
       "_view_module": "@jupyter-widgets/base",
       "_view_module_version": "1.2.0",
       "_view_name": "LayoutView",
       "align_content": null,
       "align_items": null,
       "align_self": null,
       "border": null,
       "bottom": null,
       "display": null,
       "flex": null,
       "flex_flow": null,
       "grid_area": null,
       "grid_auto_columns": null,
       "grid_auto_flow": null,
       "grid_auto_rows": null,
       "grid_column": null,
       "grid_gap": null,
       "grid_row": null,
       "grid_template_areas": null,
       "grid_template_columns": null,
       "grid_template_rows": null,
       "height": null,
       "justify_content": null,
       "justify_items": null,
       "left": null,
       "margin": null,
       "max_height": null,
       "max_width": null,
       "min_height": null,
       "min_width": null,
       "object_fit": null,
       "object_position": null,
       "order": null,
       "overflow": null,
       "overflow_x": null,
       "overflow_y": null,
       "padding": null,
       "right": null,
       "top": null,
       "visibility": null,
       "width": null
      }
     },
     "559335332a384d2aa05b6768a2b8d1a9": {
      "model_module": "@jupyter-widgets/base",
      "model_module_version": "1.2.0",
      "model_name": "LayoutModel",
      "state": {
       "_model_module": "@jupyter-widgets/base",
       "_model_module_version": "1.2.0",
       "_model_name": "LayoutModel",
       "_view_count": null,
       "_view_module": "@jupyter-widgets/base",
       "_view_module_version": "1.2.0",
       "_view_name": "LayoutView",
       "align_content": null,
       "align_items": null,
       "align_self": null,
       "border": null,
       "bottom": null,
       "display": null,
       "flex": null,
       "flex_flow": null,
       "grid_area": null,
       "grid_auto_columns": null,
       "grid_auto_flow": null,
       "grid_auto_rows": null,
       "grid_column": null,
       "grid_gap": null,
       "grid_row": null,
       "grid_template_areas": null,
       "grid_template_columns": null,
       "grid_template_rows": null,
       "height": null,
       "justify_content": null,
       "justify_items": null,
       "left": null,
       "margin": null,
       "max_height": null,
       "max_width": null,
       "min_height": null,
       "min_width": null,
       "object_fit": null,
       "object_position": null,
       "order": null,
       "overflow": null,
       "overflow_x": null,
       "overflow_y": null,
       "padding": null,
       "right": null,
       "top": null,
       "visibility": null,
       "width": null
      }
     },
     "57abed014556474681788f28ff317eb4": {
      "model_module": "@jupyter-widgets/controls",
      "model_module_version": "1.5.0",
      "model_name": "ProgressStyleModel",
      "state": {
       "_model_module": "@jupyter-widgets/controls",
       "_model_module_version": "1.5.0",
       "_model_name": "ProgressStyleModel",
       "_view_count": null,
       "_view_module": "@jupyter-widgets/base",
       "_view_module_version": "1.2.0",
       "_view_name": "StyleView",
       "bar_color": null,
       "description_width": ""
      }
     },
     "5e171bb659a84733bc3579902bc0475f": {
      "model_module": "@jupyter-widgets/base",
      "model_module_version": "1.2.0",
      "model_name": "LayoutModel",
      "state": {
       "_model_module": "@jupyter-widgets/base",
       "_model_module_version": "1.2.0",
       "_model_name": "LayoutModel",
       "_view_count": null,
       "_view_module": "@jupyter-widgets/base",
       "_view_module_version": "1.2.0",
       "_view_name": "LayoutView",
       "align_content": null,
       "align_items": null,
       "align_self": null,
       "border": null,
       "bottom": null,
       "display": null,
       "flex": null,
       "flex_flow": null,
       "grid_area": null,
       "grid_auto_columns": null,
       "grid_auto_flow": null,
       "grid_auto_rows": null,
       "grid_column": null,
       "grid_gap": null,
       "grid_row": null,
       "grid_template_areas": null,
       "grid_template_columns": null,
       "grid_template_rows": null,
       "height": null,
       "justify_content": null,
       "justify_items": null,
       "left": null,
       "margin": null,
       "max_height": null,
       "max_width": null,
       "min_height": null,
       "min_width": null,
       "object_fit": null,
       "object_position": null,
       "order": null,
       "overflow": null,
       "overflow_x": null,
       "overflow_y": null,
       "padding": null,
       "right": null,
       "top": null,
       "visibility": null,
       "width": null
      }
     },
     "697cd5ba1ebd436f93877ecb595927fd": {
      "model_module": "@jupyter-widgets/controls",
      "model_module_version": "1.5.0",
      "model_name": "ProgressStyleModel",
      "state": {
       "_model_module": "@jupyter-widgets/controls",
       "_model_module_version": "1.5.0",
       "_model_name": "ProgressStyleModel",
       "_view_count": null,
       "_view_module": "@jupyter-widgets/base",
       "_view_module_version": "1.2.0",
       "_view_name": "StyleView",
       "bar_color": null,
       "description_width": ""
      }
     },
     "700f01e9816c4fe699f8d1f40fc64aae": {
      "model_module": "@jupyter-widgets/base",
      "model_module_version": "1.2.0",
      "model_name": "LayoutModel",
      "state": {
       "_model_module": "@jupyter-widgets/base",
       "_model_module_version": "1.2.0",
       "_model_name": "LayoutModel",
       "_view_count": null,
       "_view_module": "@jupyter-widgets/base",
       "_view_module_version": "1.2.0",
       "_view_name": "LayoutView",
       "align_content": null,
       "align_items": null,
       "align_self": null,
       "border": null,
       "bottom": null,
       "display": null,
       "flex": null,
       "flex_flow": null,
       "grid_area": null,
       "grid_auto_columns": null,
       "grid_auto_flow": null,
       "grid_auto_rows": null,
       "grid_column": null,
       "grid_gap": null,
       "grid_row": null,
       "grid_template_areas": null,
       "grid_template_columns": null,
       "grid_template_rows": null,
       "height": null,
       "justify_content": null,
       "justify_items": null,
       "left": null,
       "margin": null,
       "max_height": null,
       "max_width": null,
       "min_height": null,
       "min_width": null,
       "object_fit": null,
       "object_position": null,
       "order": null,
       "overflow": null,
       "overflow_x": null,
       "overflow_y": null,
       "padding": null,
       "right": null,
       "top": null,
       "visibility": null,
       "width": null
      }
     },
     "70cd4c1a44984fe89e18a78883d42603": {
      "model_module": "@jupyter-widgets/base",
      "model_module_version": "1.2.0",
      "model_name": "LayoutModel",
      "state": {
       "_model_module": "@jupyter-widgets/base",
       "_model_module_version": "1.2.0",
       "_model_name": "LayoutModel",
       "_view_count": null,
       "_view_module": "@jupyter-widgets/base",
       "_view_module_version": "1.2.0",
       "_view_name": "LayoutView",
       "align_content": null,
       "align_items": null,
       "align_self": null,
       "border": null,
       "bottom": null,
       "display": null,
       "flex": null,
       "flex_flow": null,
       "grid_area": null,
       "grid_auto_columns": null,
       "grid_auto_flow": null,
       "grid_auto_rows": null,
       "grid_column": null,
       "grid_gap": null,
       "grid_row": null,
       "grid_template_areas": null,
       "grid_template_columns": null,
       "grid_template_rows": null,
       "height": null,
       "justify_content": null,
       "justify_items": null,
       "left": null,
       "margin": null,
       "max_height": null,
       "max_width": null,
       "min_height": null,
       "min_width": null,
       "object_fit": null,
       "object_position": null,
       "order": null,
       "overflow": null,
       "overflow_x": null,
       "overflow_y": null,
       "padding": null,
       "right": null,
       "top": null,
       "visibility": null,
       "width": null
      }
     },
     "7499484bb17747ac8f6a4e9b10fd52c6": {
      "model_module": "@jupyter-widgets/controls",
      "model_module_version": "1.5.0",
      "model_name": "DescriptionStyleModel",
      "state": {
       "_model_module": "@jupyter-widgets/controls",
       "_model_module_version": "1.5.0",
       "_model_name": "DescriptionStyleModel",
       "_view_count": null,
       "_view_module": "@jupyter-widgets/base",
       "_view_module_version": "1.2.0",
       "_view_name": "StyleView",
       "description_width": ""
      }
     },
     "7e91b0c3680a48e79903cd78970636d1": {
      "model_module": "@jupyter-widgets/controls",
      "model_module_version": "1.5.0",
      "model_name": "HTMLModel",
      "state": {
       "_dom_classes": [],
       "_model_module": "@jupyter-widgets/controls",
       "_model_module_version": "1.5.0",
       "_model_name": "HTMLModel",
       "_view_count": null,
       "_view_module": "@jupyter-widgets/controls",
       "_view_module_version": "1.5.0",
       "_view_name": "HTMLView",
       "description": "",
       "description_tooltip": null,
       "layout": "IPY_MODEL_700f01e9816c4fe699f8d1f40fc64aae",
       "placeholder": "​",
       "style": "IPY_MODEL_0cafe9175cfa4f348c71540b8677f95a",
       "value": " 100/100 [00:06&lt;00:00, 14.28it/s]"
      }
     },
     "854f273515e349bab22db4731453af7c": {
      "model_module": "@jupyter-widgets/controls",
      "model_module_version": "1.5.0",
      "model_name": "FloatProgressModel",
      "state": {
       "_dom_classes": [],
       "_model_module": "@jupyter-widgets/controls",
       "_model_module_version": "1.5.0",
       "_model_name": "FloatProgressModel",
       "_view_count": null,
       "_view_module": "@jupyter-widgets/controls",
       "_view_module_version": "1.5.0",
       "_view_name": "ProgressView",
       "bar_style": "success",
       "description": "",
       "description_tooltip": null,
       "layout": "IPY_MODEL_38c75a837af3465f86559d4c032f61d8",
       "max": 1.0,
       "min": 0.0,
       "orientation": "horizontal",
       "style": "IPY_MODEL_191fd5119ebe48369a325ab64674fd51",
       "value": 1.0
      }
     },
     "86e04de7683e4bc99d9f20403251a00e": {
      "model_module": "@jupyter-widgets/controls",
      "model_module_version": "1.5.0",
      "model_name": "HBoxModel",
      "state": {
       "_dom_classes": [],
       "_model_module": "@jupyter-widgets/controls",
       "_model_module_version": "1.5.0",
       "_model_name": "HBoxModel",
       "_view_count": null,
       "_view_module": "@jupyter-widgets/controls",
       "_view_module_version": "1.5.0",
       "_view_name": "HBoxView",
       "box_style": "",
       "children": [
        "IPY_MODEL_d51e349874b14c458f452a2f7c8cc10e",
        "IPY_MODEL_293787bfe6844eb8a79fda4fd7323449",
        "IPY_MODEL_7e91b0c3680a48e79903cd78970636d1"
       ],
       "layout": "IPY_MODEL_5e171bb659a84733bc3579902bc0475f"
      }
     },
     "87a0def498da41a0b3a8fce33c6eba8c": {
      "model_module": "@jupyter-widgets/controls",
      "model_module_version": "1.5.0",
      "model_name": "FloatProgressModel",
      "state": {
       "_dom_classes": [],
       "_model_module": "@jupyter-widgets/controls",
       "_model_module_version": "1.5.0",
       "_model_name": "FloatProgressModel",
       "_view_count": null,
       "_view_module": "@jupyter-widgets/controls",
       "_view_module_version": "1.5.0",
       "_view_name": "ProgressView",
       "bar_style": "success",
       "description": "",
       "description_tooltip": null,
       "layout": "IPY_MODEL_fd7ea90db46c482d80e16dd2c76db2d9",
       "max": 1000.0,
       "min": 0.0,
       "orientation": "horizontal",
       "style": "IPY_MODEL_015a420fedc74a01bab03e63eb683be2",
       "value": 1000.0
      }
     },
     "8ffd64a4685a49a8b2b5841f07f8a169": {
      "model_module": "@jupyter-widgets/controls",
      "model_module_version": "1.5.0",
      "model_name": "HBoxModel",
      "state": {
       "_dom_classes": [],
       "_model_module": "@jupyter-widgets/controls",
       "_model_module_version": "1.5.0",
       "_model_name": "HBoxModel",
       "_view_count": null,
       "_view_module": "@jupyter-widgets/controls",
       "_view_module_version": "1.5.0",
       "_view_name": "HBoxView",
       "box_style": "",
       "children": [
        "IPY_MODEL_4bb9b0611e75441181702957a5a5c35a",
        "IPY_MODEL_87a0def498da41a0b3a8fce33c6eba8c",
        "IPY_MODEL_b55b71c1faa2482b9543f925446ff572"
       ],
       "layout": "IPY_MODEL_559335332a384d2aa05b6768a2b8d1a9"
      }
     },
     "953114844b404c018ead926893e66928": {
      "model_module": "@jupyter-widgets/controls",
      "model_module_version": "1.5.0",
      "model_name": "DescriptionStyleModel",
      "state": {
       "_model_module": "@jupyter-widgets/controls",
       "_model_module_version": "1.5.0",
       "_model_name": "DescriptionStyleModel",
       "_view_count": null,
       "_view_module": "@jupyter-widgets/base",
       "_view_module_version": "1.2.0",
       "_view_name": "StyleView",
       "description_width": ""
      }
     },
     "b3c435f4f94f45fab37490f93c96622f": {
      "model_module": "@jupyter-widgets/base",
      "model_module_version": "1.2.0",
      "model_name": "LayoutModel",
      "state": {
       "_model_module": "@jupyter-widgets/base",
       "_model_module_version": "1.2.0",
       "_model_name": "LayoutModel",
       "_view_count": null,
       "_view_module": "@jupyter-widgets/base",
       "_view_module_version": "1.2.0",
       "_view_name": "LayoutView",
       "align_content": null,
       "align_items": null,
       "align_self": null,
       "border": null,
       "bottom": null,
       "display": null,
       "flex": null,
       "flex_flow": null,
       "grid_area": null,
       "grid_auto_columns": null,
       "grid_auto_flow": null,
       "grid_auto_rows": null,
       "grid_column": null,
       "grid_gap": null,
       "grid_row": null,
       "grid_template_areas": null,
       "grid_template_columns": null,
       "grid_template_rows": null,
       "height": null,
       "justify_content": null,
       "justify_items": null,
       "left": null,
       "margin": null,
       "max_height": null,
       "max_width": null,
       "min_height": null,
       "min_width": null,
       "object_fit": null,
       "object_position": null,
       "order": null,
       "overflow": null,
       "overflow_x": null,
       "overflow_y": null,
       "padding": null,
       "right": null,
       "top": null,
       "visibility": null,
       "width": null
      }
     },
     "b504c07cd84b4752beb5681ec5b31dd7": {
      "model_module": "@jupyter-widgets/controls",
      "model_module_version": "1.5.0",
      "model_name": "DescriptionStyleModel",
      "state": {
       "_model_module": "@jupyter-widgets/controls",
       "_model_module_version": "1.5.0",
       "_model_name": "DescriptionStyleModel",
       "_view_count": null,
       "_view_module": "@jupyter-widgets/base",
       "_view_module_version": "1.2.0",
       "_view_name": "StyleView",
       "description_width": ""
      }
     },
     "b55b71c1faa2482b9543f925446ff572": {
      "model_module": "@jupyter-widgets/controls",
      "model_module_version": "1.5.0",
      "model_name": "HTMLModel",
      "state": {
       "_dom_classes": [],
       "_model_module": "@jupyter-widgets/controls",
       "_model_module_version": "1.5.0",
       "_model_name": "HTMLModel",
       "_view_count": null,
       "_view_module": "@jupyter-widgets/controls",
       "_view_module_version": "1.5.0",
       "_view_name": "HTMLView",
       "description": "",
       "description_tooltip": null,
       "layout": "IPY_MODEL_04490b51a8534cbd9d7abadfbf930304",
       "placeholder": "​",
       "style": "IPY_MODEL_24d86daaeeda4c4eaa26cd1f9859b15e",
       "value": " 1000/1000 [00:06&lt;00:00, 151.80it/s]"
      }
     },
     "b7a4ce6640874d378ec53d680bba843c": {
      "model_module": "@jupyter-widgets/base",
      "model_module_version": "1.2.0",
      "model_name": "LayoutModel",
      "state": {
       "_model_module": "@jupyter-widgets/base",
       "_model_module_version": "1.2.0",
       "_model_name": "LayoutModel",
       "_view_count": null,
       "_view_module": "@jupyter-widgets/base",
       "_view_module_version": "1.2.0",
       "_view_name": "LayoutView",
       "align_content": null,
       "align_items": null,
       "align_self": null,
       "border": null,
       "bottom": null,
       "display": "inline-flex",
       "flex": null,
       "flex_flow": "row wrap",
       "grid_area": null,
       "grid_auto_columns": null,
       "grid_auto_flow": null,
       "grid_auto_rows": null,
       "grid_column": null,
       "grid_gap": null,
       "grid_row": null,
       "grid_template_areas": null,
       "grid_template_columns": null,
       "grid_template_rows": null,
       "height": null,
       "justify_content": null,
       "justify_items": null,
       "left": null,
       "margin": null,
       "max_height": null,
       "max_width": null,
       "min_height": null,
       "min_width": null,
       "object_fit": null,
       "object_position": null,
       "order": null,
       "overflow": null,
       "overflow_x": null,
       "overflow_y": null,
       "padding": null,
       "right": null,
       "top": null,
       "visibility": null,
       "width": "100%"
      }
     },
     "c5c98129a62f42339d8ce344cbb5e616": {
      "model_module": "@jupyter-widgets/controls",
      "model_module_version": "1.5.0",
      "model_name": "HBoxModel",
      "state": {
       "_dom_classes": [],
       "_model_module": "@jupyter-widgets/controls",
       "_model_module_version": "1.5.0",
       "_model_name": "HBoxModel",
       "_view_count": null,
       "_view_module": "@jupyter-widgets/controls",
       "_view_module_version": "1.5.0",
       "_view_name": "HBoxView",
       "box_style": "",
       "children": [
        "IPY_MODEL_0bd5fb9f692e43a0810893e4bf5900d9",
        "IPY_MODEL_de852be98289469e9471d58688b3118d",
        "IPY_MODEL_cd920be12d4a472a8be1d6d7d7616656"
       ],
       "layout": "IPY_MODEL_def4b18ad3bc4fbe9e811577610d168f"
      }
     },
     "c8c7da8f73274b51bb4c56f1e64aac3a": {
      "model_module": "@jupyter-widgets/base",
      "model_module_version": "1.2.0",
      "model_name": "LayoutModel",
      "state": {
       "_model_module": "@jupyter-widgets/base",
       "_model_module_version": "1.2.0",
       "_model_name": "LayoutModel",
       "_view_count": null,
       "_view_module": "@jupyter-widgets/base",
       "_view_module_version": "1.2.0",
       "_view_name": "LayoutView",
       "align_content": null,
       "align_items": null,
       "align_self": null,
       "border": null,
       "bottom": null,
       "display": null,
       "flex": null,
       "flex_flow": null,
       "grid_area": null,
       "grid_auto_columns": null,
       "grid_auto_flow": null,
       "grid_auto_rows": null,
       "grid_column": null,
       "grid_gap": null,
       "grid_row": null,
       "grid_template_areas": null,
       "grid_template_columns": null,
       "grid_template_rows": null,
       "height": null,
       "justify_content": null,
       "justify_items": null,
       "left": null,
       "margin": null,
       "max_height": null,
       "max_width": null,
       "min_height": null,
       "min_width": null,
       "object_fit": null,
       "object_position": null,
       "order": null,
       "overflow": null,
       "overflow_x": null,
       "overflow_y": null,
       "padding": null,
       "right": null,
       "top": null,
       "visibility": null,
       "width": null
      }
     },
     "cc7a31493cc94d7c8b76c8b9e3cedd15": {
      "model_module": "@jupyter-widgets/base",
      "model_module_version": "1.2.0",
      "model_name": "LayoutModel",
      "state": {
       "_model_module": "@jupyter-widgets/base",
       "_model_module_version": "1.2.0",
       "_model_name": "LayoutModel",
       "_view_count": null,
       "_view_module": "@jupyter-widgets/base",
       "_view_module_version": "1.2.0",
       "_view_name": "LayoutView",
       "align_content": null,
       "align_items": null,
       "align_self": null,
       "border": null,
       "bottom": null,
       "display": null,
       "flex": null,
       "flex_flow": null,
       "grid_area": null,
       "grid_auto_columns": null,
       "grid_auto_flow": null,
       "grid_auto_rows": null,
       "grid_column": null,
       "grid_gap": null,
       "grid_row": null,
       "grid_template_areas": null,
       "grid_template_columns": null,
       "grid_template_rows": null,
       "height": null,
       "justify_content": null,
       "justify_items": null,
       "left": null,
       "margin": null,
       "max_height": null,
       "max_width": null,
       "min_height": null,
       "min_width": null,
       "object_fit": null,
       "object_position": null,
       "order": null,
       "overflow": null,
       "overflow_x": null,
       "overflow_y": null,
       "padding": null,
       "right": null,
       "top": null,
       "visibility": null,
       "width": null
      }
     },
     "cd920be12d4a472a8be1d6d7d7616656": {
      "model_module": "@jupyter-widgets/controls",
      "model_module_version": "1.5.0",
      "model_name": "HTMLModel",
      "state": {
       "_dom_classes": [],
       "_model_module": "@jupyter-widgets/controls",
       "_model_module_version": "1.5.0",
       "_model_name": "HTMLModel",
       "_view_count": null,
       "_view_module": "@jupyter-widgets/controls",
       "_view_module_version": "1.5.0",
       "_view_name": "HTMLView",
       "description": "",
       "description_tooltip": null,
       "layout": "IPY_MODEL_b3c435f4f94f45fab37490f93c96622f",
       "placeholder": "​",
       "style": "IPY_MODEL_20f15ab8e18e4db8ab72c73599add87b",
       "value": " 100/100 [00:16&lt;00:00, 15.38it/s]"
      }
     },
     "d134f077691c4f298eeee4e3ed144810": {
      "model_module": "@jupyter-widgets/controls",
      "model_module_version": "1.5.0",
      "model_name": "DescriptionStyleModel",
      "state": {
       "_model_module": "@jupyter-widgets/controls",
       "_model_module_version": "1.5.0",
       "_model_name": "DescriptionStyleModel",
       "_view_count": null,
       "_view_module": "@jupyter-widgets/base",
       "_view_module_version": "1.2.0",
       "_view_name": "StyleView",
       "description_width": ""
      }
     },
     "d3ae5631076748f88108f76985d2884b": {
      "model_module": "@jupyter-widgets/base",
      "model_module_version": "1.2.0",
      "model_name": "LayoutModel",
      "state": {
       "_model_module": "@jupyter-widgets/base",
       "_model_module_version": "1.2.0",
       "_model_name": "LayoutModel",
       "_view_count": null,
       "_view_module": "@jupyter-widgets/base",
       "_view_module_version": "1.2.0",
       "_view_name": "LayoutView",
       "align_content": null,
       "align_items": null,
       "align_self": null,
       "border": null,
       "bottom": null,
       "display": null,
       "flex": null,
       "flex_flow": null,
       "grid_area": null,
       "grid_auto_columns": null,
       "grid_auto_flow": null,
       "grid_auto_rows": null,
       "grid_column": null,
       "grid_gap": null,
       "grid_row": null,
       "grid_template_areas": null,
       "grid_template_columns": null,
       "grid_template_rows": null,
       "height": null,
       "justify_content": null,
       "justify_items": null,
       "left": null,
       "margin": null,
       "max_height": null,
       "max_width": null,
       "min_height": null,
       "min_width": null,
       "object_fit": null,
       "object_position": null,
       "order": null,
       "overflow": null,
       "overflow_x": null,
       "overflow_y": null,
       "padding": null,
       "right": null,
       "top": null,
       "visibility": null,
       "width": null
      }
     },
     "d51e349874b14c458f452a2f7c8cc10e": {
      "model_module": "@jupyter-widgets/controls",
      "model_module_version": "1.5.0",
      "model_name": "HTMLModel",
      "state": {
       "_dom_classes": [],
       "_model_module": "@jupyter-widgets/controls",
       "_model_module_version": "1.5.0",
       "_model_name": "HTMLModel",
       "_view_count": null,
       "_view_module": "@jupyter-widgets/controls",
       "_view_module_version": "1.5.0",
       "_view_name": "HTMLView",
       "description": "",
       "description_tooltip": null,
       "layout": "IPY_MODEL_70cd4c1a44984fe89e18a78883d42603",
       "placeholder": "​",
       "style": "IPY_MODEL_105f22c1afaf4237b17c7014d099e155",
       "value": "Propagating errors: 100%"
      }
     },
     "de852be98289469e9471d58688b3118d": {
      "model_module": "@jupyter-widgets/controls",
      "model_module_version": "1.5.0",
      "model_name": "FloatProgressModel",
      "state": {
       "_dom_classes": [],
       "_model_module": "@jupyter-widgets/controls",
       "_model_module_version": "1.5.0",
       "_model_name": "FloatProgressModel",
       "_view_count": null,
       "_view_module": "@jupyter-widgets/controls",
       "_view_module_version": "1.5.0",
       "_view_name": "ProgressView",
       "bar_style": "",
       "description": "",
       "description_tooltip": null,
       "layout": "IPY_MODEL_c8c7da8f73274b51bb4c56f1e64aac3a",
       "max": 100.0,
       "min": 0.0,
       "orientation": "horizontal",
       "style": "IPY_MODEL_57abed014556474681788f28ff317eb4",
       "value": 100.0
      }
     },
     "def4b18ad3bc4fbe9e811577610d168f": {
      "model_module": "@jupyter-widgets/base",
      "model_module_version": "1.2.0",
      "model_name": "LayoutModel",
      "state": {
       "_model_module": "@jupyter-widgets/base",
       "_model_module_version": "1.2.0",
       "_model_name": "LayoutModel",
       "_view_count": null,
       "_view_module": "@jupyter-widgets/base",
       "_view_module_version": "1.2.0",
       "_view_name": "LayoutView",
       "align_content": null,
       "align_items": null,
       "align_self": null,
       "border": null,
       "bottom": null,
       "display": null,
       "flex": null,
       "flex_flow": null,
       "grid_area": null,
       "grid_auto_columns": null,
       "grid_auto_flow": null,
       "grid_auto_rows": null,
       "grid_column": null,
       "grid_gap": null,
       "grid_row": null,
       "grid_template_areas": null,
       "grid_template_columns": null,
       "grid_template_rows": null,
       "height": null,
       "justify_content": null,
       "justify_items": null,
       "left": null,
       "margin": null,
       "max_height": null,
       "max_width": null,
       "min_height": null,
       "min_width": null,
       "object_fit": null,
       "object_position": null,
       "order": null,
       "overflow": null,
       "overflow_x": null,
       "overflow_y": null,
       "padding": null,
       "right": null,
       "top": null,
       "visibility": null,
       "width": null
      }
     },
     "f2cd4f5a6a054e8ab719d50f3a3fa1dd": {
      "model_module": "@jupyter-widgets/base",
      "model_module_version": "1.2.0",
      "model_name": "LayoutModel",
      "state": {
       "_model_module": "@jupyter-widgets/base",
       "_model_module_version": "1.2.0",
       "_model_name": "LayoutModel",
       "_view_count": null,
       "_view_module": "@jupyter-widgets/base",
       "_view_module_version": "1.2.0",
       "_view_name": "LayoutView",
       "align_content": null,
       "align_items": null,
       "align_self": null,
       "border": null,
       "bottom": null,
       "display": null,
       "flex": null,
       "flex_flow": null,
       "grid_area": null,
       "grid_auto_columns": null,
       "grid_auto_flow": null,
       "grid_auto_rows": null,
       "grid_column": null,
       "grid_gap": null,
       "grid_row": null,
       "grid_template_areas": null,
       "grid_template_columns": null,
       "grid_template_rows": null,
       "height": null,
       "justify_content": null,
       "justify_items": null,
       "left": null,
       "margin": null,
       "max_height": null,
       "max_width": null,
       "min_height": null,
       "min_width": null,
       "object_fit": null,
       "object_position": null,
       "order": null,
       "overflow": null,
       "overflow_x": null,
       "overflow_y": null,
       "padding": null,
       "right": null,
       "top": null,
       "visibility": null,
       "width": null
      }
     },
     "f39944b64e274428a8351dbc70eb9222": {
      "model_module": "@jupyter-widgets/controls",
      "model_module_version": "1.5.0",
      "model_name": "HTMLModel",
      "state": {
       "_dom_classes": [],
       "_model_module": "@jupyter-widgets/controls",
       "_model_module_version": "1.5.0",
       "_model_name": "HTMLModel",
       "_view_count": null,
       "_view_module": "@jupyter-widgets/controls",
       "_view_module_version": "1.5.0",
       "_view_name": "HTMLView",
       "description": "",
       "description_tooltip": null,
       "layout": "IPY_MODEL_4e63c79304574bdb82aedfdd53f4d9e3",
       "placeholder": "​",
       "style": "IPY_MODEL_7499484bb17747ac8f6a4e9b10fd52c6",
       "value": "processing MLE analyses: 100%"
      }
     },
     "f6a6e05a9caf483baad5ff64d9cc422e": {
      "model_module": "@jupyter-widgets/base",
      "model_module_version": "1.2.0",
      "model_name": "LayoutModel",
      "state": {
       "_model_module": "@jupyter-widgets/base",
       "_model_module_version": "1.2.0",
       "_model_name": "LayoutModel",
       "_view_count": null,
       "_view_module": "@jupyter-widgets/base",
       "_view_module_version": "1.2.0",
       "_view_name": "LayoutView",
       "align_content": null,
       "align_items": null,
       "align_self": null,
       "border": null,
       "bottom": null,
       "display": null,
       "flex": null,
       "flex_flow": null,
       "grid_area": null,
       "grid_auto_columns": null,
       "grid_auto_flow": null,
       "grid_auto_rows": null,
       "grid_column": null,
       "grid_gap": null,
       "grid_row": null,
       "grid_template_areas": null,
       "grid_template_columns": null,
       "grid_template_rows": null,
       "height": null,
       "justify_content": null,
       "justify_items": null,
       "left": null,
       "margin": null,
       "max_height": null,
       "max_width": null,
       "min_height": null,
       "min_width": null,
       "object_fit": null,
       "object_position": null,
       "order": null,
       "overflow": null,
       "overflow_x": null,
       "overflow_y": null,
       "padding": null,
       "right": null,
       "top": null,
       "visibility": null,
       "width": null
      }
     },
     "fd7ea90db46c482d80e16dd2c76db2d9": {
      "model_module": "@jupyter-widgets/base",
      "model_module_version": "1.2.0",
      "model_name": "LayoutModel",
      "state": {
       "_model_module": "@jupyter-widgets/base",
       "_model_module_version": "1.2.0",
       "_model_name": "LayoutModel",
       "_view_count": null,
       "_view_module": "@jupyter-widgets/base",
       "_view_module_version": "1.2.0",
       "_view_name": "LayoutView",
       "align_content": null,
       "align_items": null,
       "align_self": null,
       "border": null,
       "bottom": null,
       "display": null,
       "flex": null,
       "flex_flow": null,
       "grid_area": null,
       "grid_auto_columns": null,
       "grid_auto_flow": null,
       "grid_auto_rows": null,
       "grid_column": null,
       "grid_gap": null,
       "grid_row": null,
       "grid_template_areas": null,
       "grid_template_columns": null,
       "grid_template_rows": null,
       "height": null,
       "justify_content": null,
       "justify_items": null,
       "left": null,
       "margin": null,
       "max_height": null,
       "max_width": null,
       "min_height": null,
       "min_width": null,
       "object_fit": null,
       "object_position": null,
       "order": null,
       "overflow": null,
       "overflow_x": null,
       "overflow_y": null,
       "padding": null,
       "right": null,
       "top": null,
       "visibility": null,
       "width": null
      }
     },
     "ffb225a2aa0a48539fd9d37223810ef9": {
      "model_module": "@jupyter-widgets/controls",
      "model_module_version": "1.5.0",
      "model_name": "DescriptionStyleModel",
      "state": {
       "_model_module": "@jupyter-widgets/controls",
       "_model_module_version": "1.5.0",
       "_model_name": "DescriptionStyleModel",
       "_view_count": null,
       "_view_module": "@jupyter-widgets/base",
       "_view_module_version": "1.2.0",
       "_view_name": "StyleView",
       "description_width": ""
      }
     }
    },
    "version_major": 2,
    "version_minor": 0
   }
  }
 },
 "nbformat": 4,
 "nbformat_minor": 5
}
