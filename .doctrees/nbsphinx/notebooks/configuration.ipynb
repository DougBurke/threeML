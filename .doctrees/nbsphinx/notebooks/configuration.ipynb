{
 "cells": [
  {
   "cell_type": "markdown",
   "id": "5398a574",
   "metadata": {},
   "source": [
    "# Configuration\n",
    "\n",
    "The 3ML configuration sets up defaults that are read in at runtime and is a session wide state that the user can modify at any point during an analysis to alter behavior throughout 3ML.\n",
    "\n",
    "The configuration is a hierarchical you can import and modify.\n"
   ]
  },
  {
   "cell_type": "code",
   "execution_count": 1,
   "id": "54b7d724",
   "metadata": {
    "execution": {
     "iopub.execute_input": "2021-08-23T09:21:10.714234Z",
     "iopub.status.busy": "2021-08-23T09:21:10.713562Z",
     "iopub.status.idle": "2021-08-23T09:21:10.799394Z",
     "shell.execute_reply": "2021-08-23T09:21:10.799857Z"
    },
    "lines_to_next_cell": 2
   },
   "outputs": [
    {
     "data": {
      "text/plain": [
       "{'divide': 'warn', 'over': 'warn', 'under': 'ignore', 'invalid': 'warn'}"
      ]
     },
     "execution_count": 1,
     "metadata": {},
     "output_type": "execute_result"
    }
   ],
   "source": [
    "import warnings\n",
    "\n",
    "warnings.simplefilter(\"ignore\")\n",
    "import numpy as np\n",
    "\n",
    "np.seterr(all=\"ignore\")"
   ]
  },
  {
   "cell_type": "code",
   "execution_count": 2,
   "id": "c7eaf7a8",
   "metadata": {
    "execution": {
     "iopub.execute_input": "2021-08-23T09:21:10.806407Z",
     "iopub.status.busy": "2021-08-23T09:21:10.805587Z",
     "iopub.status.idle": "2021-08-23T09:21:13.742403Z",
     "shell.execute_reply": "2021-08-23T09:21:13.741836Z"
    }
   },
   "outputs": [],
   "source": [
    "%%capture\n",
    "from threeML import threeML_config, show_configuration\n",
    "\n",
    "show_configuration()"
   ]
  },
  {
   "cell_type": "markdown",
   "id": "da6d7f91",
   "metadata": {},
   "source": [
    "## Local configuration"
   ]
  },
  {
   "cell_type": "markdown",
   "id": "06029e19",
   "metadata": {},
   "source": [
    "You can store a local configuration read in at the beginning of every session. By default, 3ML looking in ``` ~/.config/threeml/*.yml``` for configuration files.\n",
    "\n",
    "* You can set your own location with the environment variable ```THREEML_CONFIG```\n",
    "* All YAML files in this directiory are considered to be configuration files.\n",
    "\n",
    "Multiple configuration files can be added allowing you to have readable seperation between different topics.\n",
    "\n",
    "E.g, here are two configuration files that modify some plotting defaults and logging defaults in separate files.\n",
    "\n",
    "```~/.config/threeml/plotting.yml```\n",
    "```yaml\n",
    "plugins:\n",
    "  ogip:\n",
    "    fit_plot:\n",
    "      model_cmap: Spectral\n",
    "      data_color: grey\n",
    "      background_color: k\n",
    "      background_mpl_kwargs:\n",
    "        lw: .8\n",
    "        ls: \"-\"\n",
    "\n",
    "\n",
    "```\n",
    "\n",
    "```~/.config/threeml/logging.yml```\n",
    "```yaml\n",
    "logging:\n",
    "  developer: on\n",
    "  startup_warnings: off\n",
    "```"
   ]
  },
  {
   "cell_type": "code",
   "execution_count": 3,
   "id": "fa2cd7e8",
   "metadata": {
    "execution": {
     "iopub.execute_input": "2021-08-23T09:21:13.749402Z",
     "iopub.status.busy": "2021-08-23T09:21:13.748767Z",
     "iopub.status.idle": "2021-08-23T09:21:13.753046Z",
     "shell.execute_reply": "2021-08-23T09:21:13.753666Z"
    }
   },
   "outputs": [
    {
     "name": "stdout",
     "output_type": "stream",
     "text": [
      "plugins\n",
      " ╠═ \u001b[32;1mogip\u001b[0m\n",
      " ║  ╠═ \u001b[32;1mfit_plot\u001b[0m\n",
      " ║  ║  ╠═ \u001b[34;1mdata_cmap\u001b[0m\n",
      " ║  ║  ║  ╚═ \u001b[31;1mMPLCmap.Set1\u001b[0m\n",
      " ║  ║  ╠═ \u001b[34;1mmodel_cmap\u001b[0m\n",
      " ║  ║  ║  ╚═ \u001b[31;1mMPLCmap.Set1\u001b[0m\n",
      " ║  ║  ╠═ \u001b[34;1mbackground_cmap\u001b[0m\n",
      " ║  ║  ║  ╚═ \u001b[31;1mMPLCmap.Set1\u001b[0m\n",
      " ║  ║  ╠═ \u001b[34;1mn_colors\u001b[0m\n",
      " ║  ║  ║  ╚═ \u001b[31;1m5\u001b[0m\n",
      " ║  ║  ╠═ \u001b[34;1mstep\u001b[0m\n",
      " ║  ║  ║  ╚═ \u001b[31;1mFalse\u001b[0m\n",
      " ║  ║  ╠═ \u001b[34;1mshow_legend\u001b[0m\n",
      " ║  ║  ║  ╚═ \u001b[31;1mTrue\u001b[0m\n",
      " ║  ║  ╠═ \u001b[34;1mshow_residuals\u001b[0m\n",
      " ║  ║  ║  ╚═ \u001b[31;1mTrue\u001b[0m\n",
      " ║  ║  ╠═ \u001b[34;1mdata_color\u001b[0m\n",
      " ║  ║  ║  ╚═ \u001b[31;1mNone\u001b[0m\n",
      " ║  ║  ╠═ \u001b[34;1mmodel_color\u001b[0m\n",
      " ║  ║  ║  ╚═ \u001b[31;1mNone\u001b[0m\n",
      " ║  ║  ╠═ \u001b[34;1mbackground_color\u001b[0m\n",
      " ║  ║  ║  ╚═ \u001b[31;1mNone\u001b[0m\n",
      " ║  ║  ╠═ \u001b[34;1mshow_background\u001b[0m\n",
      " ║  ║  ║  ╚═ \u001b[31;1mFalse\u001b[0m\n",
      " ║  ║  ╠═ \u001b[34;1mdata_mpl_kwargs\u001b[0m\n",
      " ║  ║  ║  ╚═ \u001b[31;1mNone\u001b[0m\n",
      " ║  ║  ╠═ \u001b[34;1mmodel_mpl_kwargs\u001b[0m\n",
      " ║  ║  ║  ╚═ \u001b[31;1mNone\u001b[0m\n",
      " ║  ║  ╚═ \u001b[34;1mbackground_mpl_kwargs\u001b[0m\n",
      " ║  ║     ╚═ \u001b[31;1mNone\u001b[0m\n",
      " ║  ╠═ \u001b[32;1mdata_plot\u001b[0m\n",
      " ║  ║  ╠═ \u001b[34;1mcounts_color\u001b[0m\n",
      " ║  ║  ║  ╚═ \u001b[31;1m#500472\u001b[0m\n",
      " ║  ║  ╠═ \u001b[34;1mbackground_color\u001b[0m\n",
      " ║  ║  ║  ╚═ \u001b[31;1m#79cbb8\u001b[0m\n",
      " ║  ║  ╠═ \u001b[34;1mwarn_channels_color\u001b[0m\n",
      " ║  ║  ║  ╚═ \u001b[31;1m#C79BFE\u001b[0m\n",
      " ║  ║  ╠═ \u001b[34;1mbad_channels_color\u001b[0m\n",
      " ║  ║  ║  ╚═ \u001b[31;1m#FE3131\u001b[0m\n",
      " ║  ║  ╚═ \u001b[34;1mmasked_channels_color\u001b[0m\n",
      " ║  ║     ╚═ \u001b[31;1m#566573\u001b[0m\n",
      " ║  ╠═ \u001b[34;1mresponse_cmap\u001b[0m\n",
      " ║  ║  ╚═ \u001b[31;1mMPLCmap.viridis\u001b[0m\n",
      " ║  ╚═ \u001b[34;1mresponse_zero_color\u001b[0m\n",
      " ║     ╚═ \u001b[31;1mk\u001b[0m\n",
      " ╚═ \u001b[32;1mphoto\u001b[0m\n",
      "    ╚═ \u001b[32;1mfit_plot\u001b[0m\n",
      "       ╠═ \u001b[34;1mdata_cmap\u001b[0m\n",
      "       ║  ╚═ \u001b[31;1mMPLCmap.Set1\u001b[0m\n",
      "       ╠═ \u001b[34;1mmodel_cmap\u001b[0m\n",
      "       ║  ╚═ \u001b[31;1mMPLCmap.Set1\u001b[0m\n",
      "       ╠═ \u001b[34;1mbackground_cmap\u001b[0m\n",
      "       ║  ╚═ \u001b[31;1mMPLCmap.Set1\u001b[0m\n",
      "       ╠═ \u001b[34;1mn_colors\u001b[0m\n",
      "       ║  ╚═ \u001b[31;1m5\u001b[0m\n",
      "       ╠═ \u001b[34;1mstep\u001b[0m\n",
      "       ║  ╚═ \u001b[31;1mFalse\u001b[0m\n",
      "       ╠═ \u001b[34;1mshow_legend\u001b[0m\n",
      "       ║  ╚═ \u001b[31;1mTrue\u001b[0m\n",
      "       ╠═ \u001b[34;1mshow_residuals\u001b[0m\n",
      "       ║  ╚═ \u001b[31;1mTrue\u001b[0m\n",
      "       ╠═ \u001b[34;1mdata_color\u001b[0m\n",
      "       ║  ╚═ \u001b[31;1mNone\u001b[0m\n",
      "       ╠═ \u001b[34;1mmodel_color\u001b[0m\n",
      "       ║  ╚═ \u001b[31;1mNone\u001b[0m\n",
      "       ╠═ \u001b[34;1mbackground_color\u001b[0m\n",
      "       ║  ╚═ \u001b[31;1mNone\u001b[0m\n",
      "       ╠═ \u001b[34;1mshow_background\u001b[0m\n",
      "       ║  ╚═ \u001b[31;1mFalse\u001b[0m\n",
      "       ╠═ \u001b[34;1mdata_mpl_kwargs\u001b[0m\n",
      "       ║  ╚═ \u001b[31;1mNone\u001b[0m\n",
      "       ╠═ \u001b[34;1mmodel_mpl_kwargs\u001b[0m\n",
      "       ║  ╚═ \u001b[31;1mNone\u001b[0m\n",
      "       ╚═ \u001b[34;1mbackground_mpl_kwargs\u001b[0m\n",
      "          ╚═ \u001b[31;1mNone\u001b[0m\n"
     ]
    }
   ],
   "source": [
    "show_configuration(\"plugins\")"
   ]
  },
  {
   "cell_type": "markdown",
   "id": "464d0a76",
   "metadata": {},
   "source": [
    "The configuration now includes the values from the files.\n",
    "\n",
    "### Environment variables\n",
    "\n",
    "It is possible to set configuration values from environment variables. For example, if you are working in a HPC cluster environment and need to log to w write-safe directory:\n",
    "```~/.config/threeml/cluster_logging.yml```\n",
    "```yaml\n",
    "logging:\n",
    "  path: ${env:USER_LOG_DIR}\n",
    "  developer: off\n",
    "  console: off\n",
    "  startup_warnings: off\n",
    "```\n",
    "\n",
    "where ```USER_LOG_DIR``` could be a directory where you are allowed to write to disk. At run time, we convert this variable to a path. However, any value can be set. Thus, you can make an adaptable configuration that mutates based on your local workstation.\n"
   ]
  },
  {
   "cell_type": "markdown",
   "id": "dff6bb7c",
   "metadata": {},
   "source": [
    "## Run-time configuration changes"
   ]
  },
  {
   "cell_type": "markdown",
   "id": "b3361ed1",
   "metadata": {},
   "source": [
    "But perhaps you want to change a parameter in the middle of a session? The configuration behaves like a nested dictionary but it has both *dot* and key access. Let's take a look at what we can configure:"
   ]
  },
  {
   "cell_type": "markdown",
   "id": "414bee6a",
   "metadata": {},
   "source": [
    "Perhaps we want the default colors for light curves to be altered for this session:"
   ]
  },
  {
   "cell_type": "code",
   "execution_count": 4,
   "id": "0c546dce",
   "metadata": {
    "execution": {
     "iopub.execute_input": "2021-08-23T09:21:13.757069Z",
     "iopub.status.busy": "2021-08-23T09:21:13.756523Z",
     "iopub.status.idle": "2021-08-23T09:21:13.761958Z",
     "shell.execute_reply": "2021-08-23T09:21:13.762547Z"
    }
   },
   "outputs": [
    {
     "data": {
      "text/plain": [
       "'#C0392B'"
      ]
     },
     "execution_count": 4,
     "metadata": {},
     "output_type": "execute_result"
    }
   ],
   "source": [
    "threeML_config.time_series.background_color"
   ]
  },
  {
   "cell_type": "code",
   "execution_count": 5,
   "id": "3341a62b",
   "metadata": {
    "execution": {
     "iopub.execute_input": "2021-08-23T09:21:13.767389Z",
     "iopub.status.busy": "2021-08-23T09:21:13.766701Z",
     "iopub.status.idle": "2021-08-23T09:21:13.769451Z",
     "shell.execute_reply": "2021-08-23T09:21:13.769914Z"
    }
   },
   "outputs": [
    {
     "data": {
      "text/plain": [
       "'#C0392B'"
      ]
     },
     "execution_count": 5,
     "metadata": {},
     "output_type": "execute_result"
    }
   ],
   "source": [
    "threeML_config[\"time_series\"][\"background_color\"]"
   ]
  },
  {
   "cell_type": "code",
   "execution_count": 6,
   "id": "e7405021",
   "metadata": {
    "execution": {
     "iopub.execute_input": "2021-08-23T09:21:13.775455Z",
     "iopub.status.busy": "2021-08-23T09:21:13.774869Z",
     "iopub.status.idle": "2021-08-23T09:21:13.779378Z",
     "shell.execute_reply": "2021-08-23T09:21:13.779904Z"
    }
   },
   "outputs": [
    {
     "name": "stdout",
     "output_type": "stream",
     "text": [
      "time_series\n",
      " ╠═ \u001b[34;1mlight_curve_color\u001b[0m\n",
      " ║  ╚═ \u001b[31;1m#05716c\u001b[0m\n",
      " ╠═ \u001b[34;1mselection_color\u001b[0m\n",
      " ║  ╚═ \u001b[31;1m#1fbfb8\u001b[0m\n",
      " ╠═ \u001b[34;1mbackground_color\u001b[0m\n",
      " ║  ╚═ \u001b[31;1mgreen\u001b[0m\n",
      " ╠═ \u001b[34;1mbackground_selection_color\u001b[0m\n",
      " ║  ╚═ \u001b[31;1m#E74C3C\u001b[0m\n",
      " ╚═ \u001b[34;1mdefault_fit_method\u001b[0m\n",
      "    ╚═ \u001b[31;1mNone\u001b[0m\n"
     ]
    }
   ],
   "source": [
    "threeML_config.time_series.background_color = \"green\"\n",
    "show_configuration(\"time_series\")"
   ]
  },
  {
   "cell_type": "markdown",
   "id": "1ecb533f",
   "metadata": {},
   "source": [
    "From this point on in this session, fitting LLE backgrounds will be unbinned. When we close python, the next time we start 3ML, the values set in the configuration file be loaded.\n",
    "\n",
    "Do not worry about entering incorrect values in the file as 3ML checks both the structure and types of the parameters.\n",
    "\n",
    "\n",
    "If you modify your configuration at run time and want to save it to a file (**in your configration directory**) try this:"
   ]
  },
  {
   "cell_type": "code",
   "execution_count": 7,
   "id": "c03497a0",
   "metadata": {
    "execution": {
     "iopub.execute_input": "2021-08-23T09:21:13.801282Z",
     "iopub.status.busy": "2021-08-23T09:21:13.793743Z",
     "iopub.status.idle": "2021-08-23T09:21:13.813725Z",
     "shell.execute_reply": "2021-08-23T09:21:13.813109Z"
    }
   },
   "outputs": [],
   "source": [
    "from threeML import get_current_configuration_copy\n",
    "\n",
    "get_current_configuration_copy(\"my_config.yml\", overwrite=True)"
   ]
  },
  {
   "cell_type": "markdown",
   "id": "890cd835",
   "metadata": {},
   "source": [
    "If you have a default configuration you would like to add, consider opening a pull request. We would love to hear your ideas."
   ]
  }
 ],
 "metadata": {
  "jupytext": {
   "formats": "ipynb,md"
  },
  "kernelspec": {
   "display_name": "Python 3",
   "language": "python",
   "name": "python3"
  },
  "language_info": {
   "codemirror_mode": {
    "name": "ipython",
    "version": 3
   },
   "file_extension": ".py",
   "mimetype": "text/x-python",
   "name": "python",
   "nbconvert_exporter": "python",
   "pygments_lexer": "ipython3",
   "version": "3.7.11"
  }
 },
 "nbformat": 4,
 "nbformat_minor": 5
}
