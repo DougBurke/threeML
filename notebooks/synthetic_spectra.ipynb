{
 "cells": [
  {
   "cell_type": "markdown",
   "id": "b4888cf4",
   "metadata": {},
   "source": [
    "# Generating Synthetic Data\n",
    "In data analysis, it is important that we have the ability to test our assumptions. One powerful tool to enable these tests is simulation. In 3ML, we have several ways to generate synthetic data sets both from models and from fits."
   ]
  },
  {
   "cell_type": "markdown",
   "id": "1ca0d5a3",
   "metadata": {},
   "source": [
    "## Synthetic data from spectra"
   ]
  },
  {
   "cell_type": "markdown",
   "id": "8468dd4a",
   "metadata": {},
   "source": [
    "### Genertating data from models\n",
    "\n",
    "Most of the current plugins support the ability to generate synthetic data directly from a model. This can be very useful to assertain the detectability of a source/component/line or simply to see how models look once they are transformed into data. Below we will demonstrate how different plugins transform a model into synthetic data."
   ]
  },
  {
   "cell_type": "markdown",
   "id": "431475f5",
   "metadata": {},
   "source": [
    "#### XYLike\n",
    "\n",
    "In many of the examples, the basic XYLike plugin has been used to generate synthetic data. Here, we will revisit the plugin for completeness.\n"
   ]
  },
  {
   "cell_type": "code",
   "execution_count": 1,
   "id": "542cecd8",
   "metadata": {
    "execution": {
     "iopub.execute_input": "2021-08-23T11:49:59.496769Z",
     "iopub.status.busy": "2021-08-23T11:49:59.496224Z",
     "iopub.status.idle": "2021-08-23T11:49:59.503665Z",
     "shell.execute_reply": "2021-08-23T11:49:59.504089Z"
    },
    "lines_to_next_cell": 2
   },
   "outputs": [],
   "source": [
    "import warnings\n",
    "\n",
    "warnings.simplefilter(\"ignore\")"
   ]
  },
  {
   "cell_type": "code",
   "execution_count": 2,
   "id": "9bfa3fd5",
   "metadata": {
    "execution": {
     "iopub.execute_input": "2021-08-23T11:49:59.508754Z",
     "iopub.status.busy": "2021-08-23T11:49:59.508139Z",
     "iopub.status.idle": "2021-08-23T11:50:02.560898Z",
     "shell.execute_reply": "2021-08-23T11:50:02.561319Z"
    }
   },
   "outputs": [
    {
     "name": "stdout",
     "output_type": "stream",
     "text": [
      "[\u001b[35mWARNING \u001b[0m]\u001b[35m The naima package is not available. Models that depend on it will not be available\u001b[0m\n"
     ]
    },
    {
     "name": "stdout",
     "output_type": "stream",
     "text": [
      "[\u001b[35mWARNING \u001b[0m]\u001b[35m The GSL library or the pygsl wrapper cannot be loaded. Models that depend on it will not be available.\u001b[0m\n"
     ]
    },
    {
     "name": "stdout",
     "output_type": "stream",
     "text": [
      "[\u001b[35mWARNING \u001b[0m]\u001b[35m The ebltable package is not available. Models that depend on it will not be available\u001b[0m\n"
     ]
    }
   ],
   "source": [
    "import matplotlib.pyplot as plt\n",
    "import numpy as np\n",
    "\n",
    "np.seterr(all=\"ignore\")\n",
    "from threeML import *\n",
    "from threeML.io.package_data import get_path_of_data_file"
   ]
  },
  {
   "cell_type": "code",
   "execution_count": 3,
   "id": "5aace405",
   "metadata": {
    "execution": {
     "iopub.execute_input": "2021-08-23T11:50:02.567087Z",
     "iopub.status.busy": "2021-08-23T11:50:02.566535Z",
     "iopub.status.idle": "2021-08-23T11:50:02.602055Z",
     "shell.execute_reply": "2021-08-23T11:50:02.601633Z"
    },
    "lines_to_next_cell": 2
   },
   "outputs": [],
   "source": [
    "from jupyterthemes import jtplot\n",
    "\n",
    "%matplotlib inline\n",
    "jtplot.style(context=\"talk\", fscale=1, ticks=True, grid=False)\n",
    "set_threeML_style()\n",
    "silence_warnings()"
   ]
  },
  {
   "cell_type": "code",
   "execution_count": 4,
   "id": "682f141e",
   "metadata": {
    "execution": {
     "iopub.execute_input": "2021-08-23T11:50:02.609262Z",
     "iopub.status.busy": "2021-08-23T11:50:02.608708Z",
     "iopub.status.idle": "2021-08-23T11:50:04.744646Z",
     "shell.execute_reply": "2021-08-23T11:50:04.745284Z"
    }
   },
   "outputs": [
    {
     "name": "stdout",
     "output_type": "stream",
     "text": [
      "[\u001b[32mINFO    \u001b[0m]\u001b[32m Using Gaussian statistic (equivalent to chi^2) with the provided errors.\u001b[0m\n"
     ]
    },
    {
     "name": "stdout",
     "output_type": "stream",
     "text": [
      "[\u001b[32mINFO    \u001b[0m]\u001b[32m Using Gaussian statistic (equivalent to chi^2) with the provided errors.\u001b[0m\n"
     ]
    },
    {
     "name": "stderr",
     "output_type": "stream",
     "text": [
      "findfont: Font family ['sans-serif'] not found. Falling back to DejaVu Sans.\n"
     ]
    },
    {
     "name": "stderr",
     "output_type": "stream",
     "text": [
      "findfont: Generic family 'sans-serif' not found because none of the following families were found: Helvetica\n"
     ]
    },
    {
     "name": "stderr",
     "output_type": "stream",
     "text": [
      "findfont: Font family ['sans-serif'] not found. Falling back to DejaVu Sans.\n"
     ]
    },
    {
     "name": "stderr",
     "output_type": "stream",
     "text": [
      "findfont: Generic family 'sans-serif' not found because none of the following families were found: Helvetica\n"
     ]
    },
    {
     "data": {
      "image/png": "[encoded data removed]",
      "text/plain": [
       "<Figure size 748.8x655.2 with 1 Axes>"
      ]
     },
     "metadata": {},
     "output_type": "display_data"
    }
   ],
   "source": [
    "# Select an astromodels function to from which to simualte\n",
    "generating_function = Powerlaw(K=1.0, index=-2, piv=10.0)\n",
    "\n",
    "# set up the x grig points\n",
    "x_points = np.logspace(0, 2, 50)\n",
    "\n",
    "# call the from_function classmethod\n",
    "xyl_generator = XYLike.from_function(\n",
    "    \"sim_data\",\n",
    "    function=generating_function,\n",
    "    x=x_points,\n",
    "    yerr=0.3 * generating_function(x_points),\n",
    ")\n",
    "\n",
    "\n",
    "fig = xyl_generator.plot(x_scale=\"log\", y_scale=\"log\")"
   ]
  },
  {
   "cell_type": "markdown",
   "id": "4aa3a787",
   "metadata": {},
   "source": [
    "#### SpectrumLike\n",
    "\n",
    "Generating synthetic spectra from SpectrumLike (non-energy dispersed count spectra) can take many forms with different inputs.\n",
    "\n",
    "First, let's set the energy bins we will use for all generated spectra"
   ]
  },
  {
   "cell_type": "code",
   "execution_count": 5,
   "id": "eccb4bc3",
   "metadata": {
    "execution": {
     "iopub.execute_input": "2021-08-23T11:50:04.749853Z",
     "iopub.status.busy": "2021-08-23T11:50:04.749355Z",
     "iopub.status.idle": "2021-08-23T11:50:04.752984Z",
     "shell.execute_reply": "2021-08-23T11:50:04.752548Z"
    }
   },
   "outputs": [],
   "source": [
    "\n",
    "energies = np.logspace(0, 2, 51)\n",
    "\n",
    "# create the low and high energy bin edges\n",
    "low_edge = energies[:-1]\n",
    "high_edge = energies[1:]"
   ]
  },
  {
   "cell_type": "markdown",
   "id": "cca6156d",
   "metadata": {},
   "source": [
    "Now, let's use a blackbody for the source spectrum."
   ]
  },
  {
   "cell_type": "code",
   "execution_count": 6,
   "id": "3f390f2b",
   "metadata": {
    "execution": {
     "iopub.execute_input": "2021-08-23T11:50:04.757046Z",
     "iopub.status.busy": "2021-08-23T11:50:04.756554Z",
     "iopub.status.idle": "2021-08-23T11:50:04.760463Z",
     "shell.execute_reply": "2021-08-23T11:50:04.759698Z"
    }
   },
   "outputs": [],
   "source": [
    "# get a BPL source function\n",
    "source_function = Blackbody(K=1, kT=5.0)"
   ]
  },
  {
   "cell_type": "markdown",
   "id": "2a95942e",
   "metadata": {},
   "source": [
    "##### Poisson spectrum with no background"
   ]
  },
  {
   "cell_type": "code",
   "execution_count": 7,
   "id": "70b6a4b9",
   "metadata": {
    "execution": {
     "iopub.execute_input": "2021-08-23T11:50:04.765489Z",
     "iopub.status.busy": "2021-08-23T11:50:04.764994Z",
     "iopub.status.idle": "2021-08-23T11:50:05.382186Z",
     "shell.execute_reply": "2021-08-23T11:50:05.381442Z"
    }
   },
   "outputs": [
    {
     "name": "stdout",
     "output_type": "stream",
     "text": [
      "[\u001b[32mINFO    \u001b[0m]\u001b[32m Auto-probed noise models:\u001b[0m\n"
     ]
    },
    {
     "name": "stdout",
     "output_type": "stream",
     "text": [
      "[\u001b[32mINFO    \u001b[0m]\u001b[32m - observation: poisson\u001b[0m\n"
     ]
    },
    {
     "name": "stdout",
     "output_type": "stream",
     "text": [
      "[\u001b[32mINFO    \u001b[0m]\u001b[32m - background: None\u001b[0m\n"
     ]
    },
    {
     "name": "stdout",
     "output_type": "stream",
     "text": [
      "[\u001b[32mINFO    \u001b[0m]\u001b[32m Auto-probed noise models:\u001b[0m\n"
     ]
    },
    {
     "name": "stdout",
     "output_type": "stream",
     "text": [
      "[\u001b[32mINFO    \u001b[0m]\u001b[32m - observation: poisson\u001b[0m\n"
     ]
    },
    {
     "name": "stdout",
     "output_type": "stream",
     "text": [
      "[\u001b[32mINFO    \u001b[0m]\u001b[32m - background: None\u001b[0m\n"
     ]
    },
    {
     "name": "stderr",
     "output_type": "stream",
     "text": [
      "findfont: Font family ['sans-serif'] not found. Falling back to DejaVu Sans.\n"
     ]
    },
    {
     "name": "stderr",
     "output_type": "stream",
     "text": [
      "findfont: Generic family 'sans-serif' not found because none of the following families were found: Helvetica\n"
     ]
    },
    {
     "data": {
      "image/png": "[encoded data removed]",
      "text/plain": [
       "<Figure size 748.8x655.2 with 1 Axes>"
      ]
     },
     "metadata": {},
     "output_type": "display_data"
    }
   ],
   "source": [
    "spectrum_generator = SpectrumLike.from_function(\n",
    "    \"fake\", source_function=source_function, energy_min=low_edge, energy_max=high_edge\n",
    ")\n",
    "\n",
    "\n",
    "fig = spectrum_generator.view_count_spectrum()"
   ]
  },
  {
   "cell_type": "markdown",
   "id": "8f12f581",
   "metadata": {},
   "source": [
    "##### Gaussian spectrum with no background"
   ]
  },
  {
   "cell_type": "code",
   "execution_count": 8,
   "id": "ca8bf810",
   "metadata": {
    "execution": {
     "iopub.execute_input": "2021-08-23T11:50:05.388807Z",
     "iopub.status.busy": "2021-08-23T11:50:05.388195Z",
     "iopub.status.idle": "2021-08-23T11:50:06.606750Z",
     "shell.execute_reply": "2021-08-23T11:50:06.605988Z"
    }
   },
   "outputs": [
    {
     "name": "stdout",
     "output_type": "stream",
     "text": [
      "[\u001b[32mINFO    \u001b[0m]\u001b[32m Auto-probed noise models:\u001b[0m\n"
     ]
    },
    {
     "name": "stdout",
     "output_type": "stream",
     "text": [
      "[\u001b[32mINFO    \u001b[0m]\u001b[32m - observation: gaussian\u001b[0m\n"
     ]
    },
    {
     "name": "stdout",
     "output_type": "stream",
     "text": [
      "[\u001b[32mINFO    \u001b[0m]\u001b[32m - background: None\u001b[0m\n"
     ]
    },
    {
     "name": "stdout",
     "output_type": "stream",
     "text": [
      "[\u001b[32mINFO    \u001b[0m]\u001b[32m Auto-probed noise models:\u001b[0m\n"
     ]
    },
    {
     "name": "stdout",
     "output_type": "stream",
     "text": [
      "[\u001b[32mINFO    \u001b[0m]\u001b[32m - observation: gaussian\u001b[0m\n"
     ]
    },
    {
     "name": "stdout",
     "output_type": "stream",
     "text": [
      "[\u001b[32mINFO    \u001b[0m]\u001b[32m - background: None\u001b[0m\n"
     ]
    },
    {
     "data": {
      "image/png": "[encoded data removed]",
      "text/plain": [
       "<Figure size 748.8x655.2 with 1 Axes>"
      ]
     },
     "metadata": {},
     "output_type": "display_data"
    }
   ],
   "source": [
    "spectrum_generator = SpectrumLike.from_function(\n",
    "    \"fake\",\n",
    "    source_function=source_function,\n",
    "    source_errors=0.5 * source_function(low_edge),\n",
    "    energy_min=low_edge,\n",
    "    energy_max=high_edge,\n",
    ")\n",
    "\n",
    "\n",
    "fig = spectrum_generator.view_count_spectrum()"
   ]
  },
  {
   "cell_type": "markdown",
   "id": "703006bd",
   "metadata": {},
   "source": [
    "##### Poisson spectrum with Poisson Background"
   ]
  },
  {
   "cell_type": "code",
   "execution_count": 9,
   "id": "f8d90995",
   "metadata": {
    "execution": {
     "iopub.execute_input": "2021-08-23T11:50:06.613985Z",
     "iopub.status.busy": "2021-08-23T11:50:06.613477Z",
     "iopub.status.idle": "2021-08-23T11:50:07.976047Z",
     "shell.execute_reply": "2021-08-23T11:50:07.975522Z"
    }
   },
   "outputs": [
    {
     "name": "stdout",
     "output_type": "stream",
     "text": [
      "[\u001b[32mINFO    \u001b[0m]\u001b[32m Auto-probed noise models:\u001b[0m\n"
     ]
    },
    {
     "name": "stdout",
     "output_type": "stream",
     "text": [
      "[\u001b[32mINFO    \u001b[0m]\u001b[32m - observation: poisson\u001b[0m\n"
     ]
    },
    {
     "name": "stdout",
     "output_type": "stream",
     "text": [
      "[\u001b[32mINFO    \u001b[0m]\u001b[32m - background: None\u001b[0m\n"
     ]
    },
    {
     "name": "stdout",
     "output_type": "stream",
     "text": [
      "[\u001b[32mINFO    \u001b[0m]\u001b[32m Auto-probed noise models:\u001b[0m\n"
     ]
    },
    {
     "name": "stdout",
     "output_type": "stream",
     "text": [
      "[\u001b[32mINFO    \u001b[0m]\u001b[32m - observation: poisson\u001b[0m\n"
     ]
    },
    {
     "name": "stdout",
     "output_type": "stream",
     "text": [
      "[\u001b[32mINFO    \u001b[0m]\u001b[32m - background: None\u001b[0m\n"
     ]
    },
    {
     "name": "stdout",
     "output_type": "stream",
     "text": [
      "[\u001b[32mINFO    \u001b[0m]\u001b[32m Auto-probed noise models:\u001b[0m\n"
     ]
    },
    {
     "name": "stdout",
     "output_type": "stream",
     "text": [
      "[\u001b[32mINFO    \u001b[0m]\u001b[32m - observation: poisson\u001b[0m\n"
     ]
    },
    {
     "name": "stdout",
     "output_type": "stream",
     "text": [
      "[\u001b[32mINFO    \u001b[0m]\u001b[32m - background: poisson\u001b[0m\n"
     ]
    },
    {
     "name": "stdout",
     "output_type": "stream",
     "text": [
      "[\u001b[32mINFO    \u001b[0m]\u001b[32m Auto-probed noise models:\u001b[0m\n"
     ]
    },
    {
     "name": "stdout",
     "output_type": "stream",
     "text": [
      "[\u001b[32mINFO    \u001b[0m]\u001b[32m - observation: poisson\u001b[0m\n"
     ]
    },
    {
     "name": "stdout",
     "output_type": "stream",
     "text": [
      "[\u001b[32mINFO    \u001b[0m]\u001b[32m - background: poisson\u001b[0m\n"
     ]
    },
    {
     "data": {
      "image/png": "[encoded data removed]",
      "text/plain": [
       "<Figure size 748.8x655.2 with 1 Axes>"
      ]
     },
     "metadata": {},
     "output_type": "display_data"
    }
   ],
   "source": [
    "\n",
    "# power law background function\n",
    "background_function = Powerlaw(K=0.7, index=-1.5, piv=10.0)\n",
    "\n",
    "spectrum_generator = SpectrumLike.from_function(\n",
    "    \"fake\",\n",
    "    source_function=source_function,\n",
    "    background_function=background_function,\n",
    "    energy_min=low_edge,\n",
    "    energy_max=high_edge,\n",
    ")\n",
    "\n",
    "\n",
    "fig = spectrum_generator.view_count_spectrum()"
   ]
  },
  {
   "cell_type": "markdown",
   "id": "17c8c43d",
   "metadata": {},
   "source": [
    "##### Poisson spectrum with Gaussian background"
   ]
  },
  {
   "cell_type": "code",
   "execution_count": 10,
   "id": "0e457a49",
   "metadata": {
    "execution": {
     "iopub.execute_input": "2021-08-23T11:50:07.983068Z",
     "iopub.status.busy": "2021-08-23T11:50:07.982570Z",
     "iopub.status.idle": "2021-08-23T11:50:09.024227Z",
     "shell.execute_reply": "2021-08-23T11:50:09.023754Z"
    }
   },
   "outputs": [
    {
     "name": "stdout",
     "output_type": "stream",
     "text": [
      "[\u001b[32mINFO    \u001b[0m]\u001b[32m Auto-probed noise models:\u001b[0m\n"
     ]
    },
    {
     "name": "stdout",
     "output_type": "stream",
     "text": [
      "[\u001b[32mINFO    \u001b[0m]\u001b[32m - observation: gaussian\u001b[0m\n"
     ]
    },
    {
     "name": "stdout",
     "output_type": "stream",
     "text": [
      "[\u001b[32mINFO    \u001b[0m]\u001b[32m - background: None\u001b[0m\n"
     ]
    },
    {
     "name": "stdout",
     "output_type": "stream",
     "text": [
      "[\u001b[32mINFO    \u001b[0m]\u001b[32m Auto-probed noise models:\u001b[0m\n"
     ]
    },
    {
     "name": "stdout",
     "output_type": "stream",
     "text": [
      "[\u001b[32mINFO    \u001b[0m]\u001b[32m - observation: gaussian\u001b[0m\n"
     ]
    },
    {
     "name": "stdout",
     "output_type": "stream",
     "text": [
      "[\u001b[32mINFO    \u001b[0m]\u001b[32m - background: None\u001b[0m\n"
     ]
    },
    {
     "name": "stdout",
     "output_type": "stream",
     "text": [
      "[\u001b[32mINFO    \u001b[0m]\u001b[32m Auto-probed noise models:\u001b[0m\n"
     ]
    },
    {
     "name": "stdout",
     "output_type": "stream",
     "text": [
      "[\u001b[32mINFO    \u001b[0m]\u001b[32m - observation: poisson\u001b[0m\n"
     ]
    },
    {
     "name": "stdout",
     "output_type": "stream",
     "text": [
      "[\u001b[32mINFO    \u001b[0m]\u001b[32m - background: gaussian\u001b[0m\n"
     ]
    },
    {
     "name": "stdout",
     "output_type": "stream",
     "text": [
      "[\u001b[32mINFO    \u001b[0m]\u001b[32m Auto-probed noise models:\u001b[0m\n"
     ]
    },
    {
     "name": "stdout",
     "output_type": "stream",
     "text": [
      "[\u001b[32mINFO    \u001b[0m]\u001b[32m - observation: poisson\u001b[0m\n"
     ]
    },
    {
     "name": "stdout",
     "output_type": "stream",
     "text": [
      "[\u001b[32mINFO    \u001b[0m]\u001b[32m - background: gaussian\u001b[0m\n"
     ]
    },
    {
     "data": {
      "image/png": "[encoded data removed]",
      "text/plain": [
       "<Figure size 748.8x655.2 with 1 Axes>"
      ]
     },
     "metadata": {},
     "output_type": "display_data"
    }
   ],
   "source": [
    "\n",
    "spectrum_generator = SpectrumLike.from_function(\n",
    "    \"fake\",\n",
    "    source_function=source_function,\n",
    "    background_function=background_function,\n",
    "    background_errors=0.1 * background_function(low_edge),\n",
    "    energy_min=low_edge,\n",
    "    energy_max=high_edge,\n",
    ")\n",
    "\n",
    "\n",
    "fig = spectrum_generator.view_count_spectrum()"
   ]
  },
  {
   "cell_type": "markdown",
   "id": "f508a3ea",
   "metadata": {},
   "source": [
    "#### DispersionSpectrumLike\n",
    "\n",
    "DispersionSpectrumLike behaves in the same fashion as SpectrumLike except that a 3ML Instrument response must be set which means that the energy bins do not need to be specified as they are derived from the response\n",
    "\n",
    "Let's grab a response from an instrument."
   ]
  },
  {
   "cell_type": "code",
   "execution_count": 11,
   "id": "754dc40e",
   "metadata": {
    "execution": {
     "iopub.execute_input": "2021-08-23T11:50:09.032326Z",
     "iopub.status.busy": "2021-08-23T11:50:09.030182Z",
     "iopub.status.idle": "2021-08-23T11:50:09.047058Z",
     "shell.execute_reply": "2021-08-23T11:50:09.047715Z"
    }
   },
   "outputs": [],
   "source": [
    "from threeML.io.package_data import get_path_of_data_file\n",
    "from threeML.utils.OGIP.response import OGIPResponse\n",
    "\n",
    "# we will use a demo response\n",
    "response = OGIPResponse(get_path_of_data_file(\"datasets/ogip_powerlaw.rsp\"))"
   ]
  },
  {
   "cell_type": "code",
   "execution_count": 12,
   "id": "9ba6429b",
   "metadata": {
    "execution": {
     "iopub.execute_input": "2021-08-23T11:50:09.054363Z",
     "iopub.status.busy": "2021-08-23T11:50:09.051808Z",
     "iopub.status.idle": "2021-08-23T11:50:09.085037Z",
     "shell.execute_reply": "2021-08-23T11:50:09.084592Z"
    }
   },
   "outputs": [
    {
     "name": "stdout",
     "output_type": "stream",
     "text": [
      "[\u001b[32mINFO    \u001b[0m]\u001b[32m Auto-probed noise models:\u001b[0m\n"
     ]
    },
    {
     "name": "stdout",
     "output_type": "stream",
     "text": [
      "[\u001b[32mINFO    \u001b[0m]\u001b[32m - observation: poisson\u001b[0m\n"
     ]
    },
    {
     "name": "stdout",
     "output_type": "stream",
     "text": [
      "[\u001b[32mINFO    \u001b[0m]\u001b[32m - background: None\u001b[0m\n"
     ]
    },
    {
     "name": "stdout",
     "output_type": "stream",
     "text": [
      "[\u001b[32mINFO    \u001b[0m]\u001b[32m Auto-probed noise models:\u001b[0m\n"
     ]
    },
    {
     "name": "stdout",
     "output_type": "stream",
     "text": [
      "[\u001b[32mINFO    \u001b[0m]\u001b[32m - observation: poisson\u001b[0m\n"
     ]
    },
    {
     "name": "stdout",
     "output_type": "stream",
     "text": [
      "[\u001b[32mINFO    \u001b[0m]\u001b[32m - background: None\u001b[0m\n"
     ]
    },
    {
     "name": "stdout",
     "output_type": "stream",
     "text": [
      "[\u001b[32mINFO    \u001b[0m]\u001b[32m Auto-probed noise models:\u001b[0m\n"
     ]
    },
    {
     "name": "stdout",
     "output_type": "stream",
     "text": [
      "[\u001b[32mINFO    \u001b[0m]\u001b[32m - observation: poisson\u001b[0m\n"
     ]
    },
    {
     "name": "stdout",
     "output_type": "stream",
     "text": [
      "[\u001b[32mINFO    \u001b[0m]\u001b[32m - background: poisson\u001b[0m\n"
     ]
    },
    {
     "name": "stdout",
     "output_type": "stream",
     "text": [
      "[\u001b[32mINFO    \u001b[0m]\u001b[32m Auto-probed noise models:\u001b[0m\n"
     ]
    },
    {
     "name": "stdout",
     "output_type": "stream",
     "text": [
      "[\u001b[32mINFO    \u001b[0m]\u001b[32m - observation: poisson\u001b[0m\n"
     ]
    },
    {
     "name": "stdout",
     "output_type": "stream",
     "text": [
      "[\u001b[32mINFO    \u001b[0m]\u001b[32m - background: poisson\u001b[0m\n"
     ]
    }
   ],
   "source": [
    "# rescale the functions for the response\n",
    "source_function = Blackbody(K=1e-7, kT=500.0)\n",
    "background_function = Powerlaw(K=1, index=-1.5, piv=1.0e3)\n",
    "spectrum_generator = DispersionSpectrumLike.from_function(\n",
    "    \"fake\",\n",
    "    source_function=source_function,\n",
    "    background_function=background_function,\n",
    "    response=response,\n",
    ")"
   ]
  },
  {
   "cell_type": "code",
   "execution_count": 13,
   "id": "9abe910b",
   "metadata": {
    "execution": {
     "iopub.execute_input": "2021-08-23T11:50:09.138428Z",
     "iopub.status.busy": "2021-08-23T11:50:09.101981Z",
     "iopub.status.idle": "2021-08-23T11:50:10.191646Z",
     "shell.execute_reply": "2021-08-23T11:50:10.191198Z"
    },
    "tags": [
     "nbsphinx-thumbnail"
    ]
   },
   "outputs": [
    {
     "data": {
      "image/png": "[encoded data removed]",
      "text/plain": [
       "<Figure size 748.8x655.2 with 1 Axes>"
      ]
     },
     "metadata": {},
     "output_type": "display_data"
    }
   ],
   "source": [
    "fig = spectrum_generator.view_count_spectrum()"
   ]
  },
  {
   "cell_type": "markdown",
   "id": "a9bc80c7",
   "metadata": {},
   "source": [
    "### Generating spectra from fitted models\n",
    "\n",
    "When performing goodness of fit tests, likelihood ratio tests (both automatic in 3ML) or posterior predictive checks, we need to generate synthetic data from our fitted models. Therefore, we proved methods to do this for most current plugins."
   ]
  },
  {
   "cell_type": "markdown",
   "id": "858f9371",
   "metadata": {},
   "source": [
    "#### XYLike\n",
    "\n",
    "Let's load some example, generic XY data and fit it with a power law."
   ]
  },
  {
   "cell_type": "code",
   "execution_count": 14,
   "id": "a624223d",
   "metadata": {
    "execution": {
     "iopub.execute_input": "2021-08-23T11:50:10.197249Z",
     "iopub.status.busy": "2021-08-23T11:50:10.194547Z",
     "iopub.status.idle": "2021-08-23T11:50:11.514741Z",
     "shell.execute_reply": "2021-08-23T11:50:11.514150Z"
    }
   },
   "outputs": [
    {
     "name": "stdout",
     "output_type": "stream",
     "text": [
      "[\u001b[32mINFO    \u001b[0m]\u001b[32m Using Gaussian statistic (equivalent to chi^2) with the provided errors.\u001b[0m\n"
     ]
    },
    {
     "name": "stdout",
     "output_type": "stream",
     "text": [
      "[\u001b[32mINFO    \u001b[0m]\u001b[32m set the minimizer to minuit\u001b[0m\n"
     ]
    },
    {
     "name": "stdout",
     "output_type": "stream",
     "text": [
      "[\u001b[32mINFO    \u001b[0m]\u001b[32m set the minimizer to MINUIT\u001b[0m\n"
     ]
    },
    {
     "name": "stdout",
     "output_type": "stream",
     "text": [
      "Best fit values:\n",
      "\n"
     ]
    },
    {
     "data": {
      "text/html": [
       "<div>\n",
       "<style scoped>\n",
       "    .dataframe tbody tr th:only-of-type {\n",
       "        vertical-align: middle;\n",
       "    }\n",
       "\n",
       "    .dataframe tbody tr th {\n",
       "        vertical-align: top;\n",
       "    }\n",
       "\n",
       "    .dataframe thead th {\n",
       "        text-align: right;\n",
       "    }\n",
       "</style>\n",
       "<table border=\"1\" class=\"dataframe\">\n",
       "  <thead>\n",
       "    <tr style=\"text-align: right;\">\n",
       "      <th></th>\n",
       "      <th>result</th>\n",
       "      <th>unit</th>\n",
       "    </tr>\n",
       "    <tr>\n",
       "      <th>parameter</th>\n",
       "      <th></th>\n",
       "      <th></th>\n",
       "    </tr>\n",
       "  </thead>\n",
       "  <tbody>\n",
       "    <tr>\n",
       "      <th>source.spectrum.main.Powerlaw.K</th>\n",
       "      <td>(8.8 +/- 0.8) x 10^-1</td>\n",
       "      <td>1 / (cm2 keV s)</td>\n",
       "    </tr>\n",
       "    <tr>\n",
       "      <th>source.spectrum.main.Powerlaw.index</th>\n",
       "      <td>-1.974 +/- 0.033</td>\n",
       "      <td></td>\n",
       "    </tr>\n",
       "  </tbody>\n",
       "</table>\n",
       "</div>"
      ],
      "text/plain": [
       "                                                    result             unit\n",
       "parameter                                                                  \n",
       "source.spectrum.main.Powerlaw.K      (8.8 +/- 0.8) x 10^-1  1 / (cm2 keV s)\n",
       "source.spectrum.main.Powerlaw.index       -1.974 +/- 0.033                 "
      ]
     },
     "metadata": {},
     "output_type": "display_data"
    },
    {
     "name": "stdout",
     "output_type": "stream",
     "text": [
      "\n",
      "Correlation matrix:\n",
      "\n"
     ]
    },
    {
     "data": {
      "text/html": [
       "<div><table id=\"table139844265306704\">\n",
       "<tr><td>1.00</td><td>-0.87</td></tr>\n",
       "<tr><td>-0.87</td><td>1.00</td></tr>\n",
       "</table></div>"
      ],
      "text/plain": [
       " 1.00 -0.87\n",
       "-0.87  1.00"
      ]
     },
     "metadata": {},
     "output_type": "display_data"
    },
    {
     "name": "stdout",
     "output_type": "stream",
     "text": [
      "\n",
      "Values of -log(likelihood) at the minimum:\n",
      "\n"
     ]
    },
    {
     "data": {
      "text/html": [
       "<div>\n",
       "<style scoped>\n",
       "    .dataframe tbody tr th:only-of-type {\n",
       "        vertical-align: middle;\n",
       "    }\n",
       "\n",
       "    .dataframe tbody tr th {\n",
       "        vertical-align: top;\n",
       "    }\n",
       "\n",
       "    .dataframe thead th {\n",
       "        text-align: right;\n",
       "    }\n",
       "</style>\n",
       "<table border=\"1\" class=\"dataframe\">\n",
       "  <thead>\n",
       "    <tr style=\"text-align: right;\">\n",
       "      <th></th>\n",
       "      <th>-log(likelihood)</th>\n",
       "    </tr>\n",
       "  </thead>\n",
       "  <tbody>\n",
       "    <tr>\n",
       "      <th>total</th>\n",
       "      <td>22.762756</td>\n",
       "    </tr>\n",
       "    <tr>\n",
       "      <th>xyl</th>\n",
       "      <td>22.762756</td>\n",
       "    </tr>\n",
       "  </tbody>\n",
       "</table>\n",
       "</div>"
      ],
      "text/plain": [
       "       -log(likelihood)\n",
       "total         22.762756\n",
       "xyl           22.762756"
      ]
     },
     "metadata": {},
     "output_type": "display_data"
    },
    {
     "name": "stdout",
     "output_type": "stream",
     "text": [
      "\n",
      "Values of statistical measures:\n",
      "\n"
     ]
    },
    {
     "data": {
      "text/html": [
       "<div>\n",
       "<style scoped>\n",
       "    .dataframe tbody tr th:only-of-type {\n",
       "        vertical-align: middle;\n",
       "    }\n",
       "\n",
       "    .dataframe tbody tr th {\n",
       "        vertical-align: top;\n",
       "    }\n",
       "\n",
       "    .dataframe thead th {\n",
       "        text-align: right;\n",
       "    }\n",
       "</style>\n",
       "<table border=\"1\" class=\"dataframe\">\n",
       "  <thead>\n",
       "    <tr style=\"text-align: right;\">\n",
       "      <th></th>\n",
       "      <th>statistical measures</th>\n",
       "    </tr>\n",
       "  </thead>\n",
       "  <tbody>\n",
       "    <tr>\n",
       "      <th>AIC</th>\n",
       "      <td>49.780832</td>\n",
       "    </tr>\n",
       "    <tr>\n",
       "      <th>BIC</th>\n",
       "      <td>53.349559</td>\n",
       "    </tr>\n",
       "  </tbody>\n",
       "</table>\n",
       "</div>"
      ],
      "text/plain": [
       "     statistical measures\n",
       "AIC             49.780832\n",
       "BIC             53.349559"
      ]
     },
     "metadata": {},
     "output_type": "display_data"
    },
    {
     "data": {
      "image/png": "[encoded data removed]",
      "text/plain": [
       "<Figure size 748.8x655.2 with 1 Axes>"
      ]
     },
     "metadata": {},
     "output_type": "display_data"
    }
   ],
   "source": [
    "data_path = get_path_of_data_file(\"datasets/xy_powerlaw.txt\")\n",
    "\n",
    "\n",
    "xyl = XYLike.from_text_file(\"xyl\", data_path)\n",
    "\n",
    "fit_function = Powerlaw()\n",
    "\n",
    "xyl.fit(fit_function)\n",
    "\n",
    "fig = xyl.plot(x_scale=\"log\", y_scale=\"log\")"
   ]
  },
  {
   "cell_type": "markdown",
   "id": "84ed23b2",
   "metadata": {},
   "source": [
    "Once our fit has been finished, we can produce simulated data sets from those model parameters."
   ]
  },
  {
   "cell_type": "code",
   "execution_count": 15,
   "id": "a2dab408",
   "metadata": {
    "execution": {
     "iopub.execute_input": "2021-08-23T11:50:11.519609Z",
     "iopub.status.busy": "2021-08-23T11:50:11.518994Z",
     "iopub.status.idle": "2021-08-23T11:50:12.254073Z",
     "shell.execute_reply": "2021-08-23T11:50:12.253650Z"
    }
   },
   "outputs": [
    {
     "name": "stdout",
     "output_type": "stream",
     "text": [
      "[\u001b[32mINFO    \u001b[0m]\u001b[32m Using Gaussian statistic (equivalent to chi^2) with the provided errors.\u001b[0m\n"
     ]
    },
    {
     "data": {
      "image/png": "[encoded data removed]",
      "text/plain": [
       "<Figure size 748.8x655.2 with 1 Axes>"
      ]
     },
     "metadata": {},
     "output_type": "display_data"
    }
   ],
   "source": [
    "synthetic_xyl = xyl.get_simulated_dataset()\n",
    "\n",
    "fig = synthetic_xyl.plot(x_scale=\"log\", y_scale=\"log\")"
   ]
  },
  {
   "cell_type": "markdown",
   "id": "bc3fdfcd",
   "metadata": {},
   "source": [
    "#### SpectrumLike and DispersionSpectrumLike (OGIPLike)\n",
    "\n",
    "Both spectrum plugins work in the same way when generating data from a fit. They both keep track of the statistical properties of the likelihoods in the plugin so that the simulated datasets have the appropriate statistical properties. Additionally, background, responsses, etc. are simulated and/or kept track of as well.\n",
    "\n",
    "Let's fit an example energy dispersed spectrum."
   ]
  },
  {
   "cell_type": "code",
   "execution_count": 16,
   "id": "c4e9d3dd",
   "metadata": {
    "execution": {
     "iopub.execute_input": "2021-08-23T11:50:12.272385Z",
     "iopub.status.busy": "2021-08-23T11:50:12.258810Z",
     "iopub.status.idle": "2021-08-23T11:50:13.149698Z",
     "shell.execute_reply": "2021-08-23T11:50:13.148940Z"
    }
   },
   "outputs": [
    {
     "name": "stdout",
     "output_type": "stream",
     "text": [
      "[\u001b[32mINFO    \u001b[0m]\u001b[32m Auto-probed noise models:\u001b[0m\n"
     ]
    },
    {
     "name": "stdout",
     "output_type": "stream",
     "text": [
      "[\u001b[32mINFO    \u001b[0m]\u001b[32m - observation: poisson\u001b[0m\n"
     ]
    },
    {
     "name": "stdout",
     "output_type": "stream",
     "text": [
      "[\u001b[32mINFO    \u001b[0m]\u001b[32m - background: poisson\u001b[0m\n"
     ]
    },
    {
     "data": {
      "image/png": "[encoded data removed]",
      "text/plain": [
       "<Figure size 748.8x655.2 with 1 Axes>"
      ]
     },
     "metadata": {},
     "output_type": "display_data"
    }
   ],
   "source": [
    "ogip_data = OGIPLike(\n",
    "    \"ogip\",\n",
    "    observation=get_path_of_data_file(\"datasets/ogip_powerlaw.pha\"),\n",
    "    background=get_path_of_data_file(\"datasets/ogip_powerlaw.bak\"),\n",
    "    response=get_path_of_data_file(\"datasets/ogip_powerlaw.rsp\"),\n",
    ")\n",
    "\n",
    "ogip_data.view_count_spectrum()\n",
    "# define the function\n",
    "fit_function = Cutoff_powerlaw(K=1e-3, xc=1000, index=-0.66)\n",
    "\n",
    "# define the point source\n",
    "point_source = PointSource(\"ps\", 0, 0, spectral_shape=fit_function)\n",
    "\n",
    "# define the model\n",
    "model = Model(point_source)\n",
    "\n",
    "ogip_data.set_model(model)"
   ]
  },
  {
   "cell_type": "markdown",
   "id": "95b66ddb",
   "metadata": {},
   "source": [
    "Now we can now generate synthetic datasets from the fitted model. This will include the background sampled properly from the profile likelihood. The instrument response is automatically passed to the new plugin."
   ]
  },
  {
   "cell_type": "code",
   "execution_count": 17,
   "id": "47fafaf5",
   "metadata": {
    "execution": {
     "iopub.execute_input": "2021-08-23T11:50:13.153528Z",
     "iopub.status.busy": "2021-08-23T11:50:13.153023Z",
     "iopub.status.idle": "2021-08-23T11:50:14.213646Z",
     "shell.execute_reply": "2021-08-23T11:50:14.213152Z"
    }
   },
   "outputs": [
    {
     "name": "stdout",
     "output_type": "stream",
     "text": [
      "[\u001b[32mINFO    \u001b[0m]\u001b[32m Auto-probed noise models:\u001b[0m\n"
     ]
    },
    {
     "name": "stdout",
     "output_type": "stream",
     "text": [
      "[\u001b[32mINFO    \u001b[0m]\u001b[32m - observation: poisson\u001b[0m\n"
     ]
    },
    {
     "name": "stdout",
     "output_type": "stream",
     "text": [
      "[\u001b[32mINFO    \u001b[0m]\u001b[32m - background: poisson\u001b[0m\n"
     ]
    },
    {
     "data": {
      "image/png": "[encoded data removed]",
      "text/plain": [
       "<Figure size 748.8x655.2 with 1 Axes>"
      ]
     },
     "metadata": {},
     "output_type": "display_data"
    }
   ],
   "source": [
    "synthetic_ogip = ogip_data.get_simulated_dataset()\n",
    "\n",
    "fig = synthetic_ogip.view_count_spectrum()"
   ]
  }
 ],
 "metadata": {
  "jupytext": {
   "formats": "ipynb,md"
  },
  "kernelspec": {
   "display_name": "Python 3",
   "language": "python",
   "name": "python3"
  },
  "language_info": {
   "codemirror_mode": {
    "name": "ipython",
    "version": 3
   },
   "file_extension": ".py",
   "mimetype": "text/x-python",
   "name": "python",
   "nbconvert_exporter": "python",
   "pygments_lexer": "ipython3",
   "version": "3.7.11"
  }
 },
 "nbformat": 4,
 "nbformat_minor": 5
}
