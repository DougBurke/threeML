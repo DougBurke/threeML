{
 "cells": [
  {
   "cell_type": "markdown",
   "id": "bfbaf113",
   "metadata": {},
   "source": [
    "# Generating Synthetic Data\n",
    "In data analysis, it is important that we have the ability to test our assumptions. One powerful tool to enable these tests is simulation. In 3ML, we have several ways to generate synthetic data sets both from models and from fits."
   ]
  },
  {
   "cell_type": "markdown",
   "id": "4ec70154",
   "metadata": {},
   "source": [
    "## Synthetic data from spectra"
   ]
  },
  {
   "cell_type": "markdown",
   "id": "fce450f8",
   "metadata": {},
   "source": [
    "### Genertating data from models\n",
    "\n",
    "Most of the current plugins support the ability to generate synthetic data directly from a model. This can be very useful to assertain the detectability of a source/component/line or simply to see how models look once they are transformed into data. Below we will demonstrate how different plugins transform a model into synthetic data."
   ]
  },
  {
   "cell_type": "markdown",
   "id": "14ebf606",
   "metadata": {},
   "source": [
    "#### XYLike\n",
    "\n",
    "In many of the examples, the basic XYLike plugin has been used to generate synthetic data. Here, we will revisit the plugin for completeness.\n"
   ]
  },
  {
   "cell_type": "code",
   "execution_count": 1,
   "id": "73beabfc",
   "metadata": {
    "execution": {
     "iopub.execute_input": "2021-08-23T09:22:30.962131Z",
     "iopub.status.busy": "2021-08-23T09:22:30.961510Z",
     "iopub.status.idle": "2021-08-23T09:22:30.969924Z",
     "shell.execute_reply": "2021-08-23T09:22:30.970439Z"
    },
    "lines_to_next_cell": 2
   },
   "outputs": [],
   "source": [
    "import warnings\n",
    "\n",
    "warnings.simplefilter(\"ignore\")"
   ]
  },
  {
   "cell_type": "code",
   "execution_count": 2,
   "id": "886f0780",
   "metadata": {
    "execution": {
     "iopub.execute_input": "2021-08-23T09:22:30.975722Z",
     "iopub.status.busy": "2021-08-23T09:22:30.975124Z",
     "iopub.status.idle": "2021-08-23T09:22:33.993957Z",
     "shell.execute_reply": "2021-08-23T09:22:33.994582Z"
    }
   },
   "outputs": [
    {
     "name": "stdout",
     "output_type": "stream",
     "text": [
      "[\u001b[35mWARNING \u001b[0m]\u001b[35m The naima package is not available. Models that depend on it will not be available\u001b[0m\n"
     ]
    },
    {
     "name": "stdout",
     "output_type": "stream",
     "text": [
      "[\u001b[35mWARNING \u001b[0m]\u001b[35m The GSL library or the pygsl wrapper cannot be loaded. Models that depend on it will not be available.\u001b[0m\n"
     ]
    },
    {
     "name": "stdout",
     "output_type": "stream",
     "text": [
      "[\u001b[35mWARNING \u001b[0m]\u001b[35m The ebltable package is not available. Models that depend on it will not be available\u001b[0m\n"
     ]
    }
   ],
   "source": [
    "import matplotlib.pyplot as plt\n",
    "import numpy as np\n",
    "\n",
    "np.seterr(all=\"ignore\")\n",
    "from threeML import *\n",
    "from threeML.io.package_data import get_path_of_data_file"
   ]
  },
  {
   "cell_type": "code",
   "execution_count": 3,
   "id": "8ef52450",
   "metadata": {
    "execution": {
     "iopub.execute_input": "2021-08-23T09:22:33.997921Z",
     "iopub.status.busy": "2021-08-23T09:22:33.997293Z",
     "iopub.status.idle": "2021-08-23T09:22:34.033353Z",
     "shell.execute_reply": "2021-08-23T09:22:34.033829Z"
    },
    "lines_to_next_cell": 2
   },
   "outputs": [],
   "source": [
    "from jupyterthemes import jtplot\n",
    "\n",
    "%matplotlib inline\n",
    "jtplot.style(context=\"talk\", fscale=1, ticks=True, grid=False)\n",
    "set_threeML_style()\n",
    "silence_warnings()"
   ]
  },
  {
   "cell_type": "code",
   "execution_count": 4,
   "id": "686e5b6a",
   "metadata": {
    "execution": {
     "iopub.execute_input": "2021-08-23T09:22:34.049257Z",
     "iopub.status.busy": "2021-08-23T09:22:34.048563Z",
     "iopub.status.idle": "2021-08-23T09:22:36.394077Z",
     "shell.execute_reply": "2021-08-23T09:22:36.393191Z"
    }
   },
   "outputs": [
    {
     "name": "stdout",
     "output_type": "stream",
     "text": [
      "[\u001b[32mINFO    \u001b[0m]\u001b[32m Using Gaussian statistic (equivalent to chi^2) with the provided errors.\u001b[0m\n"
     ]
    },
    {
     "name": "stdout",
     "output_type": "stream",
     "text": [
      "[\u001b[32mINFO    \u001b[0m]\u001b[32m Using Gaussian statistic (equivalent to chi^2) with the provided errors.\u001b[0m\n"
     ]
    },
    {
     "name": "stderr",
     "output_type": "stream",
     "text": [
      "findfont: Font family ['sans-serif'] not found. Falling back to DejaVu Sans.\n"
     ]
    },
    {
     "name": "stderr",
     "output_type": "stream",
     "text": [
      "findfont: Generic family 'sans-serif' not found because none of the following families were found: Helvetica\n"
     ]
    },
    {
     "name": "stderr",
     "output_type": "stream",
     "text": [
      "findfont: Font family ['sans-serif'] not found. Falling back to DejaVu Sans.\n"
     ]
    },
    {
     "name": "stderr",
     "output_type": "stream",
     "text": [
      "findfont: Generic family 'sans-serif' not found because none of the following families were found: Helvetica\n"
     ]
    },
    {
     "data": {
      "image/png": "[encoded data removed]",
      "text/plain": [
       "<Figure size 748.8x655.2 with 1 Axes>"
      ]
     },
     "metadata": {},
     "output_type": "display_data"
    }
   ],
   "source": [
    "# Select an astromodels function to from which to simualte\n",
    "generating_function = Powerlaw(K=1.0, index=-2, piv=10.0)\n",
    "\n",
    "# set up the x grig points\n",
    "x_points = np.logspace(0, 2, 50)\n",
    "\n",
    "# call the from_function classmethod\n",
    "xyl_generator = XYLike.from_function(\n",
    "    \"sim_data\",\n",
    "    function=generating_function,\n",
    "    x=x_points,\n",
    "    yerr=0.3 * generating_function(x_points),\n",
    ")\n",
    "\n",
    "\n",
    "fig = xyl_generator.plot(x_scale=\"log\", y_scale=\"log\")"
   ]
  },
  {
   "cell_type": "markdown",
   "id": "be2a505a",
   "metadata": {},
   "source": [
    "#### SpectrumLike\n",
    "\n",
    "Generating synthetic spectra from SpectrumLike (non-energy dispersed count spectra) can take many forms with different inputs.\n",
    "\n",
    "First, let's set the energy bins we will use for all generated spectra"
   ]
  },
  {
   "cell_type": "code",
   "execution_count": 5,
   "id": "5ae71c22",
   "metadata": {
    "execution": {
     "iopub.execute_input": "2021-08-23T09:22:36.399160Z",
     "iopub.status.busy": "2021-08-23T09:22:36.398476Z",
     "iopub.status.idle": "2021-08-23T09:22:36.403519Z",
     "shell.execute_reply": "2021-08-23T09:22:36.402041Z"
    }
   },
   "outputs": [],
   "source": [
    "\n",
    "energies = np.logspace(0, 2, 51)\n",
    "\n",
    "# create the low and high energy bin edges\n",
    "low_edge = energies[:-1]\n",
    "high_edge = energies[1:]"
   ]
  },
  {
   "cell_type": "markdown",
   "id": "14079c24",
   "metadata": {},
   "source": [
    "Now, let's use a blackbody for the source spectrum."
   ]
  },
  {
   "cell_type": "code",
   "execution_count": 6,
   "id": "90667e30",
   "metadata": {
    "execution": {
     "iopub.execute_input": "2021-08-23T09:22:36.407978Z",
     "iopub.status.busy": "2021-08-23T09:22:36.407419Z",
     "iopub.status.idle": "2021-08-23T09:22:36.410710Z",
     "shell.execute_reply": "2021-08-23T09:22:36.411221Z"
    }
   },
   "outputs": [],
   "source": [
    "# get a BPL source function\n",
    "source_function = Blackbody(K=1, kT=5.0)"
   ]
  },
  {
   "cell_type": "markdown",
   "id": "bd3ea012",
   "metadata": {},
   "source": [
    "##### Poisson spectrum with no background"
   ]
  },
  {
   "cell_type": "code",
   "execution_count": 7,
   "id": "6c5d047a",
   "metadata": {
    "execution": {
     "iopub.execute_input": "2021-08-23T09:22:36.417615Z",
     "iopub.status.busy": "2021-08-23T09:22:36.416965Z",
     "iopub.status.idle": "2021-08-23T09:22:37.109780Z",
     "shell.execute_reply": "2021-08-23T09:22:37.109215Z"
    }
   },
   "outputs": [
    {
     "name": "stdout",
     "output_type": "stream",
     "text": [
      "[\u001b[32mINFO    \u001b[0m]\u001b[32m Auto-probed noise models:\u001b[0m\n"
     ]
    },
    {
     "name": "stdout",
     "output_type": "stream",
     "text": [
      "[\u001b[32mINFO    \u001b[0m]\u001b[32m - observation: poisson\u001b[0m\n"
     ]
    },
    {
     "name": "stdout",
     "output_type": "stream",
     "text": [
      "[\u001b[32mINFO    \u001b[0m]\u001b[32m - background: None\u001b[0m\n"
     ]
    },
    {
     "name": "stdout",
     "output_type": "stream",
     "text": [
      "[\u001b[32mINFO    \u001b[0m]\u001b[32m Auto-probed noise models:\u001b[0m\n"
     ]
    },
    {
     "name": "stdout",
     "output_type": "stream",
     "text": [
      "[\u001b[32mINFO    \u001b[0m]\u001b[32m - observation: poisson\u001b[0m\n"
     ]
    },
    {
     "name": "stdout",
     "output_type": "stream",
     "text": [
      "[\u001b[32mINFO    \u001b[0m]\u001b[32m - background: None\u001b[0m\n"
     ]
    },
    {
     "name": "stderr",
     "output_type": "stream",
     "text": [
      "findfont: Font family ['sans-serif'] not found. Falling back to DejaVu Sans.\n"
     ]
    },
    {
     "name": "stderr",
     "output_type": "stream",
     "text": [
      "findfont: Generic family 'sans-serif' not found because none of the following families were found: Helvetica\n"
     ]
    },
    {
     "data": {
      "image/png": "[encoded data removed]",
      "text/plain": [
       "<Figure size 748.8x655.2 with 1 Axes>"
      ]
     },
     "metadata": {},
     "output_type": "display_data"
    }
   ],
   "source": [
    "spectrum_generator = SpectrumLike.from_function(\n",
    "    \"fake\", source_function=source_function, energy_min=low_edge, energy_max=high_edge\n",
    ")\n",
    "\n",
    "\n",
    "fig = spectrum_generator.view_count_spectrum()"
   ]
  },
  {
   "cell_type": "markdown",
   "id": "fd5ea7a2",
   "metadata": {},
   "source": [
    "##### Gaussian spectrum with no background"
   ]
  },
  {
   "cell_type": "code",
   "execution_count": 8,
   "id": "2b33b635",
   "metadata": {
    "execution": {
     "iopub.execute_input": "2021-08-23T09:22:37.116088Z",
     "iopub.status.busy": "2021-08-23T09:22:37.115464Z",
     "iopub.status.idle": "2021-08-23T09:22:38.420162Z",
     "shell.execute_reply": "2021-08-23T09:22:38.421345Z"
    }
   },
   "outputs": [
    {
     "name": "stdout",
     "output_type": "stream",
     "text": [
      "[\u001b[32mINFO    \u001b[0m]\u001b[32m Auto-probed noise models:\u001b[0m\n"
     ]
    },
    {
     "name": "stdout",
     "output_type": "stream",
     "text": [
      "[\u001b[32mINFO    \u001b[0m]\u001b[32m - observation: gaussian\u001b[0m\n"
     ]
    },
    {
     "name": "stdout",
     "output_type": "stream",
     "text": [
      "[\u001b[32mINFO    \u001b[0m]\u001b[32m - background: None\u001b[0m\n"
     ]
    },
    {
     "name": "stdout",
     "output_type": "stream",
     "text": [
      "[\u001b[32mINFO    \u001b[0m]\u001b[32m Auto-probed noise models:\u001b[0m\n"
     ]
    },
    {
     "name": "stdout",
     "output_type": "stream",
     "text": [
      "[\u001b[32mINFO    \u001b[0m]\u001b[32m - observation: gaussian\u001b[0m\n"
     ]
    },
    {
     "name": "stdout",
     "output_type": "stream",
     "text": [
      "[\u001b[32mINFO    \u001b[0m]\u001b[32m - background: None\u001b[0m\n"
     ]
    },
    {
     "data": {
      "image/png": "[encoded data removed]",
      "text/plain": [
       "<Figure size 748.8x655.2 with 1 Axes>"
      ]
     },
     "metadata": {},
     "output_type": "display_data"
    }
   ],
   "source": [
    "spectrum_generator = SpectrumLike.from_function(\n",
    "    \"fake\",\n",
    "    source_function=source_function,\n",
    "    source_errors=0.5 * source_function(low_edge),\n",
    "    energy_min=low_edge,\n",
    "    energy_max=high_edge,\n",
    ")\n",
    "\n",
    "\n",
    "fig = spectrum_generator.view_count_spectrum()"
   ]
  },
  {
   "cell_type": "markdown",
   "id": "fc95af2e",
   "metadata": {},
   "source": [
    "##### Poisson spectrum with Poisson Background"
   ]
  },
  {
   "cell_type": "code",
   "execution_count": 9,
   "id": "af4ae41a",
   "metadata": {
    "execution": {
     "iopub.execute_input": "2021-08-23T09:22:38.429327Z",
     "iopub.status.busy": "2021-08-23T09:22:38.428749Z",
     "iopub.status.idle": "2021-08-23T09:22:40.061807Z",
     "shell.execute_reply": "2021-08-23T09:22:40.062655Z"
    }
   },
   "outputs": [
    {
     "name": "stdout",
     "output_type": "stream",
     "text": [
      "[\u001b[32mINFO    \u001b[0m]\u001b[32m Auto-probed noise models:\u001b[0m\n"
     ]
    },
    {
     "name": "stdout",
     "output_type": "stream",
     "text": [
      "[\u001b[32mINFO    \u001b[0m]\u001b[32m - observation: poisson\u001b[0m\n"
     ]
    },
    {
     "name": "stdout",
     "output_type": "stream",
     "text": [
      "[\u001b[32mINFO    \u001b[0m]\u001b[32m - background: None\u001b[0m\n"
     ]
    },
    {
     "name": "stdout",
     "output_type": "stream",
     "text": [
      "[\u001b[32mINFO    \u001b[0m]\u001b[32m Auto-probed noise models:\u001b[0m\n"
     ]
    },
    {
     "name": "stdout",
     "output_type": "stream",
     "text": [
      "[\u001b[32mINFO    \u001b[0m]\u001b[32m - observation: poisson\u001b[0m\n"
     ]
    },
    {
     "name": "stdout",
     "output_type": "stream",
     "text": [
      "[\u001b[32mINFO    \u001b[0m]\u001b[32m - background: None\u001b[0m\n"
     ]
    },
    {
     "name": "stdout",
     "output_type": "stream",
     "text": [
      "[\u001b[32mINFO    \u001b[0m]\u001b[32m Auto-probed noise models:\u001b[0m\n"
     ]
    },
    {
     "name": "stdout",
     "output_type": "stream",
     "text": [
      "[\u001b[32mINFO    \u001b[0m]\u001b[32m - observation: poisson\u001b[0m\n"
     ]
    },
    {
     "name": "stdout",
     "output_type": "stream",
     "text": [
      "[\u001b[32mINFO    \u001b[0m]\u001b[32m - background: poisson\u001b[0m\n"
     ]
    },
    {
     "name": "stdout",
     "output_type": "stream",
     "text": [
      "[\u001b[32mINFO    \u001b[0m]\u001b[32m Auto-probed noise models:\u001b[0m\n"
     ]
    },
    {
     "name": "stdout",
     "output_type": "stream",
     "text": [
      "[\u001b[32mINFO    \u001b[0m]\u001b[32m - observation: poisson\u001b[0m\n"
     ]
    },
    {
     "name": "stdout",
     "output_type": "stream",
     "text": [
      "[\u001b[32mINFO    \u001b[0m]\u001b[32m - background: poisson\u001b[0m\n"
     ]
    },
    {
     "data": {
      "image/png": "[encoded data removed]",
      "text/plain": [
       "<Figure size 748.8x655.2 with 1 Axes>"
      ]
     },
     "metadata": {},
     "output_type": "display_data"
    }
   ],
   "source": [
    "\n",
    "# power law background function\n",
    "background_function = Powerlaw(K=0.7, index=-1.5, piv=10.0)\n",
    "\n",
    "spectrum_generator = SpectrumLike.from_function(\n",
    "    \"fake\",\n",
    "    source_function=source_function,\n",
    "    background_function=background_function,\n",
    "    energy_min=low_edge,\n",
    "    energy_max=high_edge,\n",
    ")\n",
    "\n",
    "\n",
    "fig = spectrum_generator.view_count_spectrum()"
   ]
  },
  {
   "cell_type": "markdown",
   "id": "f38df97e",
   "metadata": {},
   "source": [
    "##### Poisson spectrum with Gaussian background"
   ]
  },
  {
   "cell_type": "code",
   "execution_count": 10,
   "id": "bc8ccefc",
   "metadata": {
    "execution": {
     "iopub.execute_input": "2021-08-23T09:22:40.073371Z",
     "iopub.status.busy": "2021-08-23T09:22:40.067988Z",
     "iopub.status.idle": "2021-08-23T09:22:41.256415Z",
     "shell.execute_reply": "2021-08-23T09:22:41.255939Z"
    }
   },
   "outputs": [
    {
     "name": "stdout",
     "output_type": "stream",
     "text": [
      "[\u001b[32mINFO    \u001b[0m]\u001b[32m Auto-probed noise models:\u001b[0m\n"
     ]
    },
    {
     "name": "stdout",
     "output_type": "stream",
     "text": [
      "[\u001b[32mINFO    \u001b[0m]\u001b[32m - observation: gaussian\u001b[0m\n"
     ]
    },
    {
     "name": "stdout",
     "output_type": "stream",
     "text": [
      "[\u001b[32mINFO    \u001b[0m]\u001b[32m - background: None\u001b[0m\n"
     ]
    },
    {
     "name": "stdout",
     "output_type": "stream",
     "text": [
      "[\u001b[32mINFO    \u001b[0m]\u001b[32m Auto-probed noise models:\u001b[0m\n"
     ]
    },
    {
     "name": "stdout",
     "output_type": "stream",
     "text": [
      "[\u001b[32mINFO    \u001b[0m]\u001b[32m - observation: gaussian\u001b[0m\n"
     ]
    },
    {
     "name": "stdout",
     "output_type": "stream",
     "text": [
      "[\u001b[32mINFO    \u001b[0m]\u001b[32m - background: None\u001b[0m\n"
     ]
    },
    {
     "name": "stdout",
     "output_type": "stream",
     "text": [
      "[\u001b[32mINFO    \u001b[0m]\u001b[32m Auto-probed noise models:\u001b[0m\n"
     ]
    },
    {
     "name": "stdout",
     "output_type": "stream",
     "text": [
      "[\u001b[32mINFO    \u001b[0m]\u001b[32m - observation: poisson\u001b[0m\n"
     ]
    },
    {
     "name": "stdout",
     "output_type": "stream",
     "text": [
      "[\u001b[32mINFO    \u001b[0m]\u001b[32m - background: gaussian\u001b[0m\n"
     ]
    },
    {
     "name": "stdout",
     "output_type": "stream",
     "text": [
      "[\u001b[32mINFO    \u001b[0m]\u001b[32m Auto-probed noise models:\u001b[0m\n"
     ]
    },
    {
     "name": "stdout",
     "output_type": "stream",
     "text": [
      "[\u001b[32mINFO    \u001b[0m]\u001b[32m - observation: poisson\u001b[0m\n"
     ]
    },
    {
     "name": "stdout",
     "output_type": "stream",
     "text": [
      "[\u001b[32mINFO    \u001b[0m]\u001b[32m - background: gaussian\u001b[0m\n"
     ]
    },
    {
     "data": {
      "image/png": "[encoded data removed]",
      "text/plain": [
       "<Figure size 748.8x655.2 with 1 Axes>"
      ]
     },
     "metadata": {},
     "output_type": "display_data"
    }
   ],
   "source": [
    "\n",
    "spectrum_generator = SpectrumLike.from_function(\n",
    "    \"fake\",\n",
    "    source_function=source_function,\n",
    "    background_function=background_function,\n",
    "    background_errors=0.1 * background_function(low_edge),\n",
    "    energy_min=low_edge,\n",
    "    energy_max=high_edge,\n",
    ")\n",
    "\n",
    "\n",
    "fig = spectrum_generator.view_count_spectrum()"
   ]
  },
  {
   "cell_type": "markdown",
   "id": "3c564825",
   "metadata": {},
   "source": [
    "#### DispersionSpectrumLike\n",
    "\n",
    "DispersionSpectrumLike behaves in the same fashion as SpectrumLike except that a 3ML Instrument response must be set which means that the energy bins do not need to be specified as they are derived from the response\n",
    "\n",
    "Let's grab a response from an instrument."
   ]
  },
  {
   "cell_type": "code",
   "execution_count": 11,
   "id": "3c8af4f1",
   "metadata": {
    "execution": {
     "iopub.execute_input": "2021-08-23T09:22:41.263935Z",
     "iopub.status.busy": "2021-08-23T09:22:41.261425Z",
     "iopub.status.idle": "2021-08-23T09:22:41.285092Z",
     "shell.execute_reply": "2021-08-23T09:22:41.285575Z"
    }
   },
   "outputs": [],
   "source": [
    "from threeML.io.package_data import get_path_of_data_file\n",
    "from threeML.utils.OGIP.response import OGIPResponse\n",
    "\n",
    "# we will use a demo response\n",
    "response = OGIPResponse(get_path_of_data_file(\"datasets/ogip_powerlaw.rsp\"))"
   ]
  },
  {
   "cell_type": "code",
   "execution_count": 12,
   "id": "702f38aa",
   "metadata": {
    "execution": {
     "iopub.execute_input": "2021-08-23T09:22:41.294691Z",
     "iopub.status.busy": "2021-08-23T09:22:41.290991Z",
     "iopub.status.idle": "2021-08-23T09:22:41.330068Z",
     "shell.execute_reply": "2021-08-23T09:22:41.329108Z"
    }
   },
   "outputs": [
    {
     "name": "stdout",
     "output_type": "stream",
     "text": [
      "[\u001b[32mINFO    \u001b[0m]\u001b[32m Auto-probed noise models:\u001b[0m\n"
     ]
    },
    {
     "name": "stdout",
     "output_type": "stream",
     "text": [
      "[\u001b[32mINFO    \u001b[0m]\u001b[32m - observation: poisson\u001b[0m\n"
     ]
    },
    {
     "name": "stdout",
     "output_type": "stream",
     "text": [
      "[\u001b[32mINFO    \u001b[0m]\u001b[32m - background: None\u001b[0m\n"
     ]
    },
    {
     "name": "stdout",
     "output_type": "stream",
     "text": [
      "[\u001b[32mINFO    \u001b[0m]\u001b[32m Auto-probed noise models:\u001b[0m\n"
     ]
    },
    {
     "name": "stdout",
     "output_type": "stream",
     "text": [
      "[\u001b[32mINFO    \u001b[0m]\u001b[32m - observation: poisson\u001b[0m\n"
     ]
    },
    {
     "name": "stdout",
     "output_type": "stream",
     "text": [
      "[\u001b[32mINFO    \u001b[0m]\u001b[32m - background: None\u001b[0m\n"
     ]
    },
    {
     "name": "stdout",
     "output_type": "stream",
     "text": [
      "[\u001b[32mINFO    \u001b[0m]\u001b[32m Auto-probed noise models:\u001b[0m\n"
     ]
    },
    {
     "name": "stdout",
     "output_type": "stream",
     "text": [
      "[\u001b[32mINFO    \u001b[0m]\u001b[32m - observation: poisson\u001b[0m\n"
     ]
    },
    {
     "name": "stdout",
     "output_type": "stream",
     "text": [
      "[\u001b[32mINFO    \u001b[0m]\u001b[32m - background: poisson\u001b[0m\n"
     ]
    },
    {
     "name": "stdout",
     "output_type": "stream",
     "text": [
      "[\u001b[32mINFO    \u001b[0m]\u001b[32m Auto-probed noise models:\u001b[0m\n"
     ]
    },
    {
     "name": "stdout",
     "output_type": "stream",
     "text": [
      "[\u001b[32mINFO    \u001b[0m]\u001b[32m - observation: poisson\u001b[0m\n"
     ]
    },
    {
     "name": "stdout",
     "output_type": "stream",
     "text": [
      "[\u001b[32mINFO    \u001b[0m]\u001b[32m - background: poisson\u001b[0m\n"
     ]
    }
   ],
   "source": [
    "# rescale the functions for the response\n",
    "source_function = Blackbody(K=1e-7, kT=500.0)\n",
    "background_function = Powerlaw(K=1, index=-1.5, piv=1.0e3)\n",
    "spectrum_generator = DispersionSpectrumLike.from_function(\n",
    "    \"fake\",\n",
    "    source_function=source_function,\n",
    "    background_function=background_function,\n",
    "    response=response,\n",
    ")"
   ]
  },
  {
   "cell_type": "code",
   "execution_count": 13,
   "id": "1b4dc5ea",
   "metadata": {
    "execution": {
     "iopub.execute_input": "2021-08-23T09:22:41.476251Z",
     "iopub.status.busy": "2021-08-23T09:22:41.387275Z",
     "iopub.status.idle": "2021-08-23T09:22:42.529156Z",
     "shell.execute_reply": "2021-08-23T09:22:42.528628Z"
    },
    "tags": [
     "nbsphinx-thumbnail"
    ]
   },
   "outputs": [
    {
     "data": {
      "image/png": "[encoded data removed]",
      "text/plain": [
       "<Figure size 748.8x655.2 with 1 Axes>"
      ]
     },
     "metadata": {},
     "output_type": "display_data"
    }
   ],
   "source": [
    "fig = spectrum_generator.view_count_spectrum()"
   ]
  },
  {
   "cell_type": "markdown",
   "id": "12e7d0e0",
   "metadata": {},
   "source": [
    "### Generating spectra from fitted models\n",
    "\n",
    "When performing goodness of fit tests, likelihood ratio tests (both automatic in 3ML) or posterior predictive checks, we need to generate synthetic data from our fitted models. Therefore, we proved methods to do this for most current plugins."
   ]
  },
  {
   "cell_type": "markdown",
   "id": "5943b41e",
   "metadata": {},
   "source": [
    "#### XYLike\n",
    "\n",
    "Let's load some example, generic XY data and fit it with a power law."
   ]
  },
  {
   "cell_type": "code",
   "execution_count": 14,
   "id": "06f75541",
   "metadata": {
    "execution": {
     "iopub.execute_input": "2021-08-23T09:22:42.537928Z",
     "iopub.status.busy": "2021-08-23T09:22:42.534765Z",
     "iopub.status.idle": "2021-08-23T09:22:44.089483Z",
     "shell.execute_reply": "2021-08-23T09:22:44.088893Z"
    }
   },
   "outputs": [
    {
     "name": "stdout",
     "output_type": "stream",
     "text": [
      "[\u001b[32mINFO    \u001b[0m]\u001b[32m Using Gaussian statistic (equivalent to chi^2) with the provided errors.\u001b[0m\n"
     ]
    },
    {
     "name": "stdout",
     "output_type": "stream",
     "text": [
      "[\u001b[32mINFO    \u001b[0m]\u001b[32m set the minimizer to minuit\u001b[0m\n"
     ]
    },
    {
     "name": "stdout",
     "output_type": "stream",
     "text": [
      "[\u001b[32mINFO    \u001b[0m]\u001b[32m set the minimizer to MINUIT\u001b[0m\n"
     ]
    },
    {
     "name": "stdout",
     "output_type": "stream",
     "text": [
      "Best fit values:\n",
      "\n"
     ]
    },
    {
     "data": {
      "text/html": [
       "<div>\n",
       "<style scoped>\n",
       "    .dataframe tbody tr th:only-of-type {\n",
       "        vertical-align: middle;\n",
       "    }\n",
       "\n",
       "    .dataframe tbody tr th {\n",
       "        vertical-align: top;\n",
       "    }\n",
       "\n",
       "    .dataframe thead th {\n",
       "        text-align: right;\n",
       "    }\n",
       "</style>\n",
       "<table border=\"1\" class=\"dataframe\">\n",
       "  <thead>\n",
       "    <tr style=\"text-align: right;\">\n",
       "      <th></th>\n",
       "      <th>result</th>\n",
       "      <th>unit</th>\n",
       "    </tr>\n",
       "    <tr>\n",
       "      <th>parameter</th>\n",
       "      <th></th>\n",
       "      <th></th>\n",
       "    </tr>\n",
       "  </thead>\n",
       "  <tbody>\n",
       "    <tr>\n",
       "      <th>source.spectrum.main.Powerlaw.K</th>\n",
       "      <td>(8.8 +/- 0.8) x 10^-1</td>\n",
       "      <td>1 / (cm2 keV s)</td>\n",
       "    </tr>\n",
       "    <tr>\n",
       "      <th>source.spectrum.main.Powerlaw.index</th>\n",
       "      <td>-1.974 +/- 0.033</td>\n",
       "      <td></td>\n",
       "    </tr>\n",
       "  </tbody>\n",
       "</table>\n",
       "</div>"
      ],
      "text/plain": [
       "                                                    result             unit\n",
       "parameter                                                                  \n",
       "source.spectrum.main.Powerlaw.K      (8.8 +/- 0.8) x 10^-1  1 / (cm2 keV s)\n",
       "source.spectrum.main.Powerlaw.index       -1.974 +/- 0.033                 "
      ]
     },
     "metadata": {},
     "output_type": "display_data"
    },
    {
     "name": "stdout",
     "output_type": "stream",
     "text": [
      "\n",
      "Correlation matrix:\n",
      "\n"
     ]
    },
    {
     "data": {
      "text/html": [
       "<div><table id=\"table140446706834640\">\n",
       "<tr><td>1.00</td><td>-0.87</td></tr>\n",
       "<tr><td>-0.87</td><td>1.00</td></tr>\n",
       "</table></div>"
      ],
      "text/plain": [
       " 1.00 -0.87\n",
       "-0.87  1.00"
      ]
     },
     "metadata": {},
     "output_type": "display_data"
    },
    {
     "name": "stdout",
     "output_type": "stream",
     "text": [
      "\n",
      "Values of -log(likelihood) at the minimum:\n",
      "\n"
     ]
    },
    {
     "data": {
      "text/html": [
       "<div>\n",
       "<style scoped>\n",
       "    .dataframe tbody tr th:only-of-type {\n",
       "        vertical-align: middle;\n",
       "    }\n",
       "\n",
       "    .dataframe tbody tr th {\n",
       "        vertical-align: top;\n",
       "    }\n",
       "\n",
       "    .dataframe thead th {\n",
       "        text-align: right;\n",
       "    }\n",
       "</style>\n",
       "<table border=\"1\" class=\"dataframe\">\n",
       "  <thead>\n",
       "    <tr style=\"text-align: right;\">\n",
       "      <th></th>\n",
       "      <th>-log(likelihood)</th>\n",
       "    </tr>\n",
       "  </thead>\n",
       "  <tbody>\n",
       "    <tr>\n",
       "      <th>total</th>\n",
       "      <td>22.762756</td>\n",
       "    </tr>\n",
       "    <tr>\n",
       "      <th>xyl</th>\n",
       "      <td>22.762756</td>\n",
       "    </tr>\n",
       "  </tbody>\n",
       "</table>\n",
       "</div>"
      ],
      "text/plain": [
       "       -log(likelihood)\n",
       "total         22.762756\n",
       "xyl           22.762756"
      ]
     },
     "metadata": {},
     "output_type": "display_data"
    },
    {
     "name": "stdout",
     "output_type": "stream",
     "text": [
      "\n",
      "Values of statistical measures:\n",
      "\n"
     ]
    },
    {
     "data": {
      "text/html": [
       "<div>\n",
       "<style scoped>\n",
       "    .dataframe tbody tr th:only-of-type {\n",
       "        vertical-align: middle;\n",
       "    }\n",
       "\n",
       "    .dataframe tbody tr th {\n",
       "        vertical-align: top;\n",
       "    }\n",
       "\n",
       "    .dataframe thead th {\n",
       "        text-align: right;\n",
       "    }\n",
       "</style>\n",
       "<table border=\"1\" class=\"dataframe\">\n",
       "  <thead>\n",
       "    <tr style=\"text-align: right;\">\n",
       "      <th></th>\n",
       "      <th>statistical measures</th>\n",
       "    </tr>\n",
       "  </thead>\n",
       "  <tbody>\n",
       "    <tr>\n",
       "      <th>AIC</th>\n",
       "      <td>49.780832</td>\n",
       "    </tr>\n",
       "    <tr>\n",
       "      <th>BIC</th>\n",
       "      <td>53.349559</td>\n",
       "    </tr>\n",
       "  </tbody>\n",
       "</table>\n",
       "</div>"
      ],
      "text/plain": [
       "     statistical measures\n",
       "AIC             49.780832\n",
       "BIC             53.349559"
      ]
     },
     "metadata": {},
     "output_type": "display_data"
    },
    {
     "data": {
      "image/png": "[encoded data removed]",
      "text/plain": [
       "<Figure size 748.8x655.2 with 1 Axes>"
      ]
     },
     "metadata": {},
     "output_type": "display_data"
    }
   ],
   "source": [
    "data_path = get_path_of_data_file(\"datasets/xy_powerlaw.txt\")\n",
    "\n",
    "\n",
    "xyl = XYLike.from_text_file(\"xyl\", data_path)\n",
    "\n",
    "fit_function = Powerlaw()\n",
    "\n",
    "xyl.fit(fit_function)\n",
    "\n",
    "fig = xyl.plot(x_scale=\"log\", y_scale=\"log\")"
   ]
  },
  {
   "cell_type": "markdown",
   "id": "502de4de",
   "metadata": {},
   "source": [
    "Once our fit has been finished, we can produce simulated data sets from those model parameters."
   ]
  },
  {
   "cell_type": "code",
   "execution_count": 15,
   "id": "e56f3db9",
   "metadata": {
    "execution": {
     "iopub.execute_input": "2021-08-23T09:22:44.095519Z",
     "iopub.status.busy": "2021-08-23T09:22:44.094868Z",
     "iopub.status.idle": "2021-08-23T09:22:44.943407Z",
     "shell.execute_reply": "2021-08-23T09:22:44.942893Z"
    }
   },
   "outputs": [
    {
     "name": "stdout",
     "output_type": "stream",
     "text": [
      "[\u001b[32mINFO    \u001b[0m]\u001b[32m Using Gaussian statistic (equivalent to chi^2) with the provided errors.\u001b[0m\n"
     ]
    },
    {
     "data": {
      "image/png": "[encoded data removed]",
      "text/plain": [
       "<Figure size 748.8x655.2 with 1 Axes>"
      ]
     },
     "metadata": {},
     "output_type": "display_data"
    }
   ],
   "source": [
    "synthetic_xyl = xyl.get_simulated_dataset()\n",
    "\n",
    "fig = synthetic_xyl.plot(x_scale=\"log\", y_scale=\"log\")"
   ]
  },
  {
   "cell_type": "markdown",
   "id": "c1ca2aa6",
   "metadata": {},
   "source": [
    "#### SpectrumLike and DispersionSpectrumLike (OGIPLike)\n",
    "\n",
    "Both spectrum plugins work in the same way when generating data from a fit. They both keep track of the statistical properties of the likelihoods in the plugin so that the simulated datasets have the appropriate statistical properties. Additionally, background, responsses, etc. are simulated and/or kept track of as well.\n",
    "\n",
    "Let's fit an example energy dispersed spectrum."
   ]
  },
  {
   "cell_type": "code",
   "execution_count": 16,
   "id": "b750d70b",
   "metadata": {
    "execution": {
     "iopub.execute_input": "2021-08-23T09:22:44.950932Z",
     "iopub.status.busy": "2021-08-23T09:22:44.949895Z",
     "iopub.status.idle": "2021-08-23T09:22:45.976694Z",
     "shell.execute_reply": "2021-08-23T09:22:45.977169Z"
    }
   },
   "outputs": [
    {
     "name": "stdout",
     "output_type": "stream",
     "text": [
      "[\u001b[32mINFO    \u001b[0m]\u001b[32m Auto-probed noise models:\u001b[0m\n"
     ]
    },
    {
     "name": "stdout",
     "output_type": "stream",
     "text": [
      "[\u001b[32mINFO    \u001b[0m]\u001b[32m - observation: poisson\u001b[0m\n"
     ]
    },
    {
     "name": "stdout",
     "output_type": "stream",
     "text": [
      "[\u001b[32mINFO    \u001b[0m]\u001b[32m - background: poisson\u001b[0m\n"
     ]
    },
    {
     "data": {
      "image/png": "[encoded data removed]",
      "text/plain": [
       "<Figure size 748.8x655.2 with 1 Axes>"
      ]
     },
     "metadata": {},
     "output_type": "display_data"
    }
   ],
   "source": [
    "ogip_data = OGIPLike(\n",
    "    \"ogip\",\n",
    "    observation=get_path_of_data_file(\"datasets/ogip_powerlaw.pha\"),\n",
    "    background=get_path_of_data_file(\"datasets/ogip_powerlaw.bak\"),\n",
    "    response=get_path_of_data_file(\"datasets/ogip_powerlaw.rsp\"),\n",
    ")\n",
    "\n",
    "ogip_data.view_count_spectrum()\n",
    "# define the function\n",
    "fit_function = Cutoff_powerlaw(K=1e-3, xc=1000, index=-0.66)\n",
    "\n",
    "# define the point source\n",
    "point_source = PointSource(\"ps\", 0, 0, spectral_shape=fit_function)\n",
    "\n",
    "# define the model\n",
    "model = Model(point_source)\n",
    "\n",
    "ogip_data.set_model(model)"
   ]
  },
  {
   "cell_type": "markdown",
   "id": "ca4d1ee1",
   "metadata": {},
   "source": [
    "Now we can now generate synthetic datasets from the fitted model. This will include the background sampled properly from the profile likelihood. The instrument response is automatically passed to the new plugin."
   ]
  },
  {
   "cell_type": "code",
   "execution_count": 17,
   "id": "b2e718ce",
   "metadata": {
    "execution": {
     "iopub.execute_input": "2021-08-23T09:22:45.984080Z",
     "iopub.status.busy": "2021-08-23T09:22:45.983205Z",
     "iopub.status.idle": "2021-08-23T09:22:47.214046Z",
     "shell.execute_reply": "2021-08-23T09:22:47.214617Z"
    }
   },
   "outputs": [
    {
     "name": "stdout",
     "output_type": "stream",
     "text": [
      "[\u001b[32mINFO    \u001b[0m]\u001b[32m Auto-probed noise models:\u001b[0m\n"
     ]
    },
    {
     "name": "stdout",
     "output_type": "stream",
     "text": [
      "[\u001b[32mINFO    \u001b[0m]\u001b[32m - observation: poisson\u001b[0m\n"
     ]
    },
    {
     "name": "stdout",
     "output_type": "stream",
     "text": [
      "[\u001b[32mINFO    \u001b[0m]\u001b[32m - background: poisson\u001b[0m\n"
     ]
    },
    {
     "data": {
      "image/png": "[encoded data removed]",
      "text/plain": [
       "<Figure size 748.8x655.2 with 1 Axes>"
      ]
     },
     "metadata": {},
     "output_type": "display_data"
    }
   ],
   "source": [
    "synthetic_ogip = ogip_data.get_simulated_dataset()\n",
    "\n",
    "fig = synthetic_ogip.view_count_spectrum()"
   ]
  }
 ],
 "metadata": {
  "jupytext": {
   "formats": "ipynb,md"
  },
  "kernelspec": {
   "display_name": "Python 3",
   "language": "python",
   "name": "python3"
  },
  "language_info": {
   "codemirror_mode": {
    "name": "ipython",
    "version": 3
   },
   "file_extension": ".py",
   "mimetype": "text/x-python",
   "name": "python",
   "nbconvert_exporter": "python",
   "pygments_lexer": "ipython3",
   "version": "3.7.11"
  }
 },
 "nbformat": 4,
 "nbformat_minor": 5
}
