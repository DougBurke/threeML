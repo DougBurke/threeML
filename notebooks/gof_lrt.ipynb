{
 "cells": [
  {
   "cell_type": "markdown",
   "id": "d2e47a2f",
   "metadata": {
    "lines_to_next_cell": 2
   },
   "source": [
    "# Goodness of Fit and Model Comparison\n",
    "\n",
    "\n",
    "## Goodness of fit\n",
    "It is often that we we need to know how well our model fits our data. While in  linear, Gaussian regimes and under certain regularity conditions, the reduced $\\chi^2$ provides a measure of fit quality, most of the time it is unreliable and incorrect to use. For more on this, read [The Do's and Don'ts of reduced chi2](https://arxiv.org/pdf/1012.3754.pdf).\n",
    "\n",
    "Instead, we can [almost](www.google.com) always use the bootstrap method to estimate the quality of an MLE analysis. In 3ML, we can do this with the quite simply after a fit."
   ]
  },
  {
   "cell_type": "code",
   "execution_count": 1,
   "id": "fda180bd",
   "metadata": {
    "execution": {
     "iopub.execute_input": "2021-08-23T11:15:28.238821Z",
     "iopub.status.busy": "2021-08-23T11:15:28.238158Z",
     "iopub.status.idle": "2021-08-23T11:15:28.319718Z",
     "shell.execute_reply": "2021-08-23T11:15:28.320549Z"
    },
    "lines_to_next_cell": 2
   },
   "outputs": [
    {
     "data": {
      "text/plain": [
       "{'divide': 'warn', 'over': 'warn', 'under': 'ignore', 'invalid': 'warn'}"
      ]
     },
     "execution_count": 1,
     "metadata": {},
     "output_type": "execute_result"
    }
   ],
   "source": [
    "import warnings\n",
    "\n",
    "warnings.simplefilter(\"ignore\")\n",
    "import numpy as np\n",
    "\n",
    "np.seterr(all=\"ignore\")"
   ]
  },
  {
   "cell_type": "code",
   "execution_count": 2,
   "id": "9e158801",
   "metadata": {
    "execution": {
     "iopub.execute_input": "2021-08-23T11:15:28.326985Z",
     "iopub.status.busy": "2021-08-23T11:15:28.326436Z",
     "iopub.status.idle": "2021-08-23T11:15:31.241896Z",
     "shell.execute_reply": "2021-08-23T11:15:31.241354Z"
    }
   },
   "outputs": [],
   "source": [
    "%%capture\n",
    "import matplotlib.pyplot as plt\n",
    "import scipy.stats as stats\n",
    "from threeML import *"
   ]
  },
  {
   "cell_type": "code",
   "execution_count": 3,
   "id": "c7669db9",
   "metadata": {
    "execution": {
     "iopub.execute_input": "2021-08-23T11:15:31.247969Z",
     "iopub.status.busy": "2021-08-23T11:15:31.247045Z",
     "iopub.status.idle": "2021-08-23T11:15:31.255986Z",
     "shell.execute_reply": "2021-08-23T11:15:31.255523Z"
    },
    "lines_to_next_cell": 2
   },
   "outputs": [],
   "source": [
    "from jupyterthemes import jtplot\n",
    "\n",
    "%matplotlib inline\n",
    "\n",
    "jtplot.style(context=\"talk\", fscale=1, ticks=True, grid=False)\n",
    "set_threeML_style()\n",
    "silence_warnings()"
   ]
  },
  {
   "cell_type": "markdown",
   "id": "dc938ebd",
   "metadata": {},
   "source": [
    "Let's go back to simulations. We will simulate a straight line."
   ]
  },
  {
   "cell_type": "code",
   "execution_count": 4,
   "id": "b1bc5f25",
   "metadata": {
    "execution": {
     "iopub.execute_input": "2021-08-23T11:15:31.271125Z",
     "iopub.status.busy": "2021-08-23T11:15:31.260865Z",
     "iopub.status.idle": "2021-08-23T11:15:32.719567Z",
     "shell.execute_reply": "2021-08-23T11:15:32.718457Z"
    },
    "lines_to_next_cell": 2
   },
   "outputs": [
    {
     "name": "stderr",
     "output_type": "stream",
     "text": [
      "findfont: Font family ['sans-serif'] not found. Falling back to DejaVu Sans.\n"
     ]
    },
    {
     "name": "stderr",
     "output_type": "stream",
     "text": [
      "findfont: Generic family 'sans-serif' not found because none of the following families were found: Helvetica\n"
     ]
    },
    {
     "name": "stderr",
     "output_type": "stream",
     "text": [
      "findfont: Font family ['sans-serif'] not found. Falling back to DejaVu Sans.\n"
     ]
    },
    {
     "name": "stderr",
     "output_type": "stream",
     "text": [
      "findfont: Generic family 'sans-serif' not found because none of the following families were found: Helvetica\n"
     ]
    },
    {
     "data": {
      "image/png": "[encoded data removed]",
      "text/plain": [
       "<Figure size 748.8x655.2 with 1 Axes>"
      ]
     },
     "metadata": {},
     "output_type": "display_data"
    }
   ],
   "source": [
    "gen_function = Line(a=1, b=0)\n",
    "\n",
    "x = np.linspace(0, 2, 50)\n",
    "\n",
    "xyl_generator = XYLike.from_function(\n",
    "    \"sim_data\", function=gen_function, x=x, yerr=0.3 * gen_function(x)\n",
    ")\n",
    "\n",
    "y = xyl_generator.y\n",
    "y_err = xyl_generator.yerr\n",
    "\n",
    "fig = xyl_generator.plot()"
   ]
  },
  {
   "cell_type": "markdown",
   "id": "760d9297",
   "metadata": {},
   "source": [
    "So, now we simply need to fit the data."
   ]
  },
  {
   "cell_type": "code",
   "execution_count": 5,
   "id": "c1964004",
   "metadata": {
    "execution": {
     "iopub.execute_input": "2021-08-23T11:15:32.727160Z",
     "iopub.status.busy": "2021-08-23T11:15:32.726634Z",
     "iopub.status.idle": "2021-08-23T11:15:33.863415Z",
     "shell.execute_reply": "2021-08-23T11:15:33.862908Z"
    },
    "lines_to_next_cell": 2
   },
   "outputs": [
    {
     "name": "stdout",
     "output_type": "stream",
     "text": [
      "Best fit values:\n",
      "\n"
     ]
    },
    {
     "data": {
      "text/html": [
       "<div>\n",
       "<style scoped>\n",
       "    .dataframe tbody tr th:only-of-type {\n",
       "        vertical-align: middle;\n",
       "    }\n",
       "\n",
       "    .dataframe tbody tr th {\n",
       "        vertical-align: top;\n",
       "    }\n",
       "\n",
       "    .dataframe thead th {\n",
       "        text-align: right;\n",
       "    }\n",
       "</style>\n",
       "<table border=\"1\" class=\"dataframe\">\n",
       "  <thead>\n",
       "    <tr style=\"text-align: right;\">\n",
       "      <th></th>\n",
       "      <th>result</th>\n",
       "      <th>unit</th>\n",
       "    </tr>\n",
       "    <tr>\n",
       "      <th>parameter</th>\n",
       "      <th></th>\n",
       "      <th></th>\n",
       "    </tr>\n",
       "  </thead>\n",
       "  <tbody>\n",
       "    <tr>\n",
       "      <th>xyl.spectrum.main.Line.a</th>\n",
       "      <td>(9.5 +/- 0.8) x 10^-1</td>\n",
       "      <td>1 / (cm2 keV s)</td>\n",
       "    </tr>\n",
       "    <tr>\n",
       "      <th>xyl.spectrum.main.Line.b</th>\n",
       "      <td>(4 +/- 7) x 10^-2</td>\n",
       "      <td>1 / (cm2 keV2 s)</td>\n",
       "    </tr>\n",
       "  </tbody>\n",
       "</table>\n",
       "</div>"
      ],
      "text/plain": [
       "                                         result              unit\n",
       "parameter                                                        \n",
       "xyl.spectrum.main.Line.a  (9.5 +/- 0.8) x 10^-1   1 / (cm2 keV s)\n",
       "xyl.spectrum.main.Line.b      (4 +/- 7) x 10^-2  1 / (cm2 keV2 s)"
      ]
     },
     "metadata": {},
     "output_type": "display_data"
    },
    {
     "name": "stdout",
     "output_type": "stream",
     "text": [
      "\n",
      "Correlation matrix:\n",
      "\n"
     ]
    },
    {
     "data": {
      "text/html": [
       "<div><table id=\"table140371800120720\">\n",
       "<tr><td>1.00</td><td>-0.86</td></tr>\n",
       "<tr><td>-0.86</td><td>1.00</td></tr>\n",
       "</table></div>"
      ],
      "text/plain": [
       " 1.00 -0.86\n",
       "-0.86  1.00"
      ]
     },
     "metadata": {},
     "output_type": "display_data"
    },
    {
     "name": "stdout",
     "output_type": "stream",
     "text": [
      "\n",
      "Values of -log(likelihood) at the minimum:\n",
      "\n"
     ]
    },
    {
     "data": {
      "text/html": [
       "<div>\n",
       "<style scoped>\n",
       "    .dataframe tbody tr th:only-of-type {\n",
       "        vertical-align: middle;\n",
       "    }\n",
       "\n",
       "    .dataframe tbody tr th {\n",
       "        vertical-align: top;\n",
       "    }\n",
       "\n",
       "    .dataframe thead th {\n",
       "        text-align: right;\n",
       "    }\n",
       "</style>\n",
       "<table border=\"1\" class=\"dataframe\">\n",
       "  <thead>\n",
       "    <tr style=\"text-align: right;\">\n",
       "      <th></th>\n",
       "      <th>-log(likelihood)</th>\n",
       "    </tr>\n",
       "  </thead>\n",
       "  <tbody>\n",
       "    <tr>\n",
       "      <th>data</th>\n",
       "      <td>18.016514</td>\n",
       "    </tr>\n",
       "    <tr>\n",
       "      <th>total</th>\n",
       "      <td>18.016514</td>\n",
       "    </tr>\n",
       "  </tbody>\n",
       "</table>\n",
       "</div>"
      ],
      "text/plain": [
       "       -log(likelihood)\n",
       "data          18.016514\n",
       "total         18.016514"
      ]
     },
     "metadata": {},
     "output_type": "display_data"
    },
    {
     "name": "stdout",
     "output_type": "stream",
     "text": [
      "\n",
      "Values of statistical measures:\n",
      "\n"
     ]
    },
    {
     "data": {
      "text/html": [
       "<div>\n",
       "<style scoped>\n",
       "    .dataframe tbody tr th:only-of-type {\n",
       "        vertical-align: middle;\n",
       "    }\n",
       "\n",
       "    .dataframe tbody tr th {\n",
       "        vertical-align: top;\n",
       "    }\n",
       "\n",
       "    .dataframe thead th {\n",
       "        text-align: right;\n",
       "    }\n",
       "</style>\n",
       "<table border=\"1\" class=\"dataframe\">\n",
       "  <thead>\n",
       "    <tr style=\"text-align: right;\">\n",
       "      <th></th>\n",
       "      <th>statistical measures</th>\n",
       "    </tr>\n",
       "  </thead>\n",
       "  <tbody>\n",
       "    <tr>\n",
       "      <th>AIC</th>\n",
       "      <td>40.288347</td>\n",
       "    </tr>\n",
       "    <tr>\n",
       "      <th>BIC</th>\n",
       "      <td>43.857074</td>\n",
       "    </tr>\n",
       "  </tbody>\n",
       "</table>\n",
       "</div>"
      ],
      "text/plain": [
       "     statistical measures\n",
       "AIC             40.288347\n",
       "BIC             43.857074"
      ]
     },
     "metadata": {},
     "output_type": "display_data"
    },
    {
     "name": "stderr",
     "output_type": "stream",
     "text": [
      "findfont: Font family ['sans-serif'] not found. Falling back to DejaVu Sans.\n"
     ]
    },
    {
     "name": "stderr",
     "output_type": "stream",
     "text": [
      "findfont: Generic family 'sans-serif' not found because none of the following families were found: Helvetica\n"
     ]
    },
    {
     "data": {
      "image/png": "[encoded data removed]",
      "text/plain": [
       "<Figure size 748.8x655.2 with 1 Axes>"
      ]
     },
     "metadata": {},
     "output_type": "display_data"
    }
   ],
   "source": [
    "fit_function = Line()\n",
    "\n",
    "xyl = XYLike(\"data\", x, y, y_err)\n",
    "\n",
    "datalist = DataList(xyl)\n",
    "\n",
    "model = Model(PointSource(\"xyl\", 0, 0, spectral_shape=fit_function))\n",
    "\n",
    "jl = JointLikelihood(model, datalist)\n",
    "\n",
    "jl.fit()\n",
    "\n",
    "fig = xyl.plot()"
   ]
  },
  {
   "cell_type": "markdown",
   "id": "87942410",
   "metadata": {},
   "source": [
    "Now that the data are fit, we can assess the goodness of fit via simulating synthetic data sets and seeing how often these datasets have a similar likelihood. To do this, pass the JointLikelihood object to the GoodnessOfFit class."
   ]
  },
  {
   "cell_type": "code",
   "execution_count": 6,
   "id": "86fe12c0",
   "metadata": {
    "execution": {
     "iopub.execute_input": "2021-08-23T11:15:33.870418Z",
     "iopub.status.busy": "2021-08-23T11:15:33.869839Z",
     "iopub.status.idle": "2021-08-23T11:15:33.873479Z",
     "shell.execute_reply": "2021-08-23T11:15:33.873001Z"
    }
   },
   "outputs": [],
   "source": [
    "gof_obj = GoodnessOfFit(jl)"
   ]
  },
  {
   "cell_type": "markdown",
   "id": "32c8eb6e",
   "metadata": {},
   "source": [
    "Now we will monte carlo some datasets. This can be computationally expensive, so we will use 3ML's built in context manager for accessing ipython clusters. If we have a profile that is connected to a super computer, then we can simulate and fit all the datasets very quickly. Just use ```with parallel_computation():```"
   ]
  },
  {
   "cell_type": "code",
   "execution_count": 7,
   "id": "793cc293",
   "metadata": {
    "execution": {
     "iopub.execute_input": "2021-08-23T11:15:33.879254Z",
     "iopub.status.busy": "2021-08-23T11:15:33.878698Z",
     "iopub.status.idle": "2021-08-23T11:16:47.247286Z",
     "shell.execute_reply": "2021-08-23T11:16:47.246405Z"
    }
   },
   "outputs": [
    {
     "data": {
      "application/vnd.jupyter.widget-view+json": {
       "model_id": "a5b5037e9dbf4dc599d6a1a6f162dfb1",
       "version_major": 2,
       "version_minor": 0
      },
      "text/plain": [
       "Goodness of fit computation:   0%|          | 0/1000 [00:00<?, ?it/s]"
      ]
     },
     "metadata": {},
     "output_type": "display_data"
    }
   ],
   "source": [
    "gof, data_frame, like_data_frame = gof_obj.by_mc(\n",
    "    n_iterations=1000, continue_on_failure=True\n",
    ")"
   ]
  },
  {
   "cell_type": "markdown",
   "id": "25a758ea",
   "metadata": {},
   "source": [
    "Three things are returned, the GOF for each plugin (in our case one) as well as the total GOF, a data frame with the fitted values for each synthetic dataset, and the likelihoods for all the fits. We can see that the data have a reasonable GOF:"
   ]
  },
  {
   "cell_type": "code",
   "execution_count": 8,
   "id": "c1b8463c",
   "metadata": {
    "execution": {
     "iopub.execute_input": "2021-08-23T11:16:47.252178Z",
     "iopub.status.busy": "2021-08-23T11:16:47.251394Z",
     "iopub.status.idle": "2021-08-23T11:16:47.257056Z",
     "shell.execute_reply": "2021-08-23T11:16:47.256578Z"
    }
   },
   "outputs": [
    {
     "data": {
      "text/plain": [
       "OrderedDict([('total', 0.895), ('data', 0.895)])"
      ]
     },
     "execution_count": 8,
     "metadata": {},
     "output_type": "execute_result"
    }
   ],
   "source": [
    "gof"
   ]
  },
  {
   "cell_type": "markdown",
   "id": "54f33ee2",
   "metadata": {},
   "source": [
    "## Likelihood Ratio Tests\n",
    "\n",
    "An essential part of MLE analysis is the likelihood ratio test (LRT) for comparing models. For **nested models** (those where one is a special case of the other), [Wilks' theorem](https://projecteuclid.org/euclid.aoms/1177732360) posits that the LRT is $\\chi^2$ distributed, and thus the null model can be rejected with a probability read from a $\\chi^2$ table.\n",
    "\n",
    "In a perfect world, this would always hold, but there are many regualrity conditions on Wilks' theorem that are often violated in astromonical data. For a review, see [Protassov et al](http://iopscience.iop.org/0004-637X/571/1/545/) and keep it close at heart whenever wanting to use the LRT.\n",
    "\n",
    "For these reasons, in 3ML we provide a method for computing the LRT via profiling the null model via bootstrap samples. This is valid for nested models and avoids the dangers of asymmptotics and parameters defined on the extreme boundries of their distributions (spectral line normalizations, extra spectral components, etc.). This method does not avoid other problems which may arise from systmatics present in the data. As with any analysis, it is important to doubt and try and prove the result wrong as well as understanding the data/instrument.\n",
    "\n",
    "Let's start by simulating some data from a power law with an exponential cutoff on top of a background.\n"
   ]
  },
  {
   "cell_type": "code",
   "execution_count": 9,
   "id": "7b1f1038",
   "metadata": {
    "execution": {
     "iopub.execute_input": "2021-08-23T11:16:47.265591Z",
     "iopub.status.busy": "2021-08-23T11:16:47.265016Z",
     "iopub.status.idle": "2021-08-23T11:16:48.300934Z",
     "shell.execute_reply": "2021-08-23T11:16:48.300411Z"
    },
    "lines_to_next_cell": 2
   },
   "outputs": [],
   "source": [
    "energies = np.logspace(1, 3, 51)\n",
    "\n",
    "low_edge = energies[:-1]\n",
    "high_edge = energies[1:]\n",
    "\n",
    "# get a blackbody source function\n",
    "source_function = Cutoff_powerlaw(K=1, index=-1, xc=300, piv=100)\n",
    "\n",
    "# power law background function\n",
    "background_function = Powerlaw(K=1, index=-2.0, piv=100.0)\n",
    "\n",
    "spectrum_generator = SpectrumLike.from_function(\n",
    "    \"fake\",\n",
    "    source_function=source_function,\n",
    "    background_function=background_function,\n",
    "    energy_min=low_edge,\n",
    "    energy_max=high_edge,\n",
    ")"
   ]
  },
  {
   "cell_type": "code",
   "execution_count": 10,
   "id": "8969bc58",
   "metadata": {
    "execution": {
     "iopub.execute_input": "2021-08-23T11:16:48.306642Z",
     "iopub.status.busy": "2021-08-23T11:16:48.306104Z",
     "iopub.status.idle": "2021-08-23T11:16:49.376150Z",
     "shell.execute_reply": "2021-08-23T11:16:49.375666Z"
    }
   },
   "outputs": [
    {
     "data": {
      "image/png": "[encoded data removed]",
      "text/plain": [
       "<Figure size 748.8x655.2 with 1 Axes>"
      ]
     },
     "metadata": {},
     "output_type": "display_data"
    }
   ],
   "source": [
    "fig = spectrum_generator.view_count_spectrum()"
   ]
  },
  {
   "cell_type": "markdown",
   "id": "2e5ecfaa",
   "metadata": {},
   "source": [
    "We simulated a weak cutoff powerlaw. But if this was real data, we wouldn't know that there was a cutoff. So we would fit both a power law (the null model) and a cutoff power law (the alternative model).\n",
    "\n",
    "Let's setup two models to fit the data via MLE in the standard 3ML way."
   ]
  },
  {
   "cell_type": "code",
   "execution_count": 11,
   "id": "862d9ea0",
   "metadata": {
    "execution": {
     "iopub.execute_input": "2021-08-23T11:16:49.383021Z",
     "iopub.status.busy": "2021-08-23T11:16:49.382487Z",
     "iopub.status.idle": "2021-08-23T11:16:49.386174Z",
     "shell.execute_reply": "2021-08-23T11:16:49.385600Z"
    }
   },
   "outputs": [],
   "source": [
    "powerlaw = Powerlaw(piv=100)\n",
    "cutoff_powerlaw = Cutoff_powerlaw(piv=100)\n",
    "\n",
    "ps_powerlaw = PointSource(\"test_pl\", 0, 0, spectral_shape=powerlaw)\n",
    "ps_cutoff_powerlaw = PointSource(\"test_cpl\", 0, 0, spectral_shape=cutoff_powerlaw)\n",
    "\n",
    "model_null = Model(ps_powerlaw)\n",
    "model_alternative = Model(ps_cutoff_powerlaw)"
   ]
  },
  {
   "cell_type": "code",
   "execution_count": 12,
   "id": "1b039b70",
   "metadata": {
    "execution": {
     "iopub.execute_input": "2021-08-23T11:16:49.389873Z",
     "iopub.status.busy": "2021-08-23T11:16:49.389354Z",
     "iopub.status.idle": "2021-08-23T11:16:49.392672Z",
     "shell.execute_reply": "2021-08-23T11:16:49.391905Z"
    }
   },
   "outputs": [],
   "source": [
    "datalist = DataList(spectrum_generator)"
   ]
  },
  {
   "cell_type": "code",
   "execution_count": 13,
   "id": "32fb6b96",
   "metadata": {
    "execution": {
     "iopub.execute_input": "2021-08-23T11:16:49.397514Z",
     "iopub.status.busy": "2021-08-23T11:16:49.396972Z",
     "iopub.status.idle": "2021-08-23T11:16:49.499798Z",
     "shell.execute_reply": "2021-08-23T11:16:49.499265Z"
    }
   },
   "outputs": [
    {
     "name": "stdout",
     "output_type": "stream",
     "text": [
      "Best fit values:\n",
      "\n"
     ]
    },
    {
     "data": {
      "text/html": [
       "<div>\n",
       "<style scoped>\n",
       "    .dataframe tbody tr th:only-of-type {\n",
       "        vertical-align: middle;\n",
       "    }\n",
       "\n",
       "    .dataframe tbody tr th {\n",
       "        vertical-align: top;\n",
       "    }\n",
       "\n",
       "    .dataframe thead th {\n",
       "        text-align: right;\n",
       "    }\n",
       "</style>\n",
       "<table border=\"1\" class=\"dataframe\">\n",
       "  <thead>\n",
       "    <tr style=\"text-align: right;\">\n",
       "      <th></th>\n",
       "      <th>result</th>\n",
       "      <th>unit</th>\n",
       "    </tr>\n",
       "    <tr>\n",
       "      <th>parameter</th>\n",
       "      <th></th>\n",
       "      <th></th>\n",
       "    </tr>\n",
       "  </thead>\n",
       "  <tbody>\n",
       "    <tr>\n",
       "      <th>test_pl.spectrum.main.Powerlaw.K</th>\n",
       "      <td>(4.5 -0.6 +0.7) x 10^-1</td>\n",
       "      <td>1 / (cm2 keV s)</td>\n",
       "    </tr>\n",
       "    <tr>\n",
       "      <th>test_pl.spectrum.main.Powerlaw.index</th>\n",
       "      <td>-1.57 +/- 0.10</td>\n",
       "      <td></td>\n",
       "    </tr>\n",
       "  </tbody>\n",
       "</table>\n",
       "</div>"
      ],
      "text/plain": [
       "                                                       result             unit\n",
       "parameter                                                                     \n",
       "test_pl.spectrum.main.Powerlaw.K      (4.5 -0.6 +0.7) x 10^-1  1 / (cm2 keV s)\n",
       "test_pl.spectrum.main.Powerlaw.index           -1.57 +/- 0.10                 "
      ]
     },
     "metadata": {},
     "output_type": "display_data"
    },
    {
     "name": "stdout",
     "output_type": "stream",
     "text": [
      "\n",
      "Correlation matrix:\n",
      "\n"
     ]
    },
    {
     "data": {
      "text/html": [
       "<div><table id=\"table140371669826256\">\n",
       "<tr><td>1.00</td><td>0.40</td></tr>\n",
       "<tr><td>0.40</td><td>1.00</td></tr>\n",
       "</table></div>"
      ],
      "text/plain": [
       "1.00 0.40\n",
       "0.40 1.00"
      ]
     },
     "metadata": {},
     "output_type": "display_data"
    },
    {
     "name": "stdout",
     "output_type": "stream",
     "text": [
      "\n",
      "Values of -log(likelihood) at the minimum:\n",
      "\n"
     ]
    },
    {
     "data": {
      "text/html": [
       "<div>\n",
       "<style scoped>\n",
       "    .dataframe tbody tr th:only-of-type {\n",
       "        vertical-align: middle;\n",
       "    }\n",
       "\n",
       "    .dataframe tbody tr th {\n",
       "        vertical-align: top;\n",
       "    }\n",
       "\n",
       "    .dataframe thead th {\n",
       "        text-align: right;\n",
       "    }\n",
       "</style>\n",
       "<table border=\"1\" class=\"dataframe\">\n",
       "  <thead>\n",
       "    <tr style=\"text-align: right;\">\n",
       "      <th></th>\n",
       "      <th>-log(likelihood)</th>\n",
       "    </tr>\n",
       "  </thead>\n",
       "  <tbody>\n",
       "    <tr>\n",
       "      <th>fake</th>\n",
       "      <td>218.994077</td>\n",
       "    </tr>\n",
       "    <tr>\n",
       "      <th>total</th>\n",
       "      <td>218.994077</td>\n",
       "    </tr>\n",
       "  </tbody>\n",
       "</table>\n",
       "</div>"
      ],
      "text/plain": [
       "       -log(likelihood)\n",
       "fake         218.994077\n",
       "total        218.994077"
      ]
     },
     "metadata": {},
     "output_type": "display_data"
    },
    {
     "name": "stdout",
     "output_type": "stream",
     "text": [
      "\n",
      "Values of statistical measures:\n",
      "\n"
     ]
    },
    {
     "data": {
      "text/html": [
       "<div>\n",
       "<style scoped>\n",
       "    .dataframe tbody tr th:only-of-type {\n",
       "        vertical-align: middle;\n",
       "    }\n",
       "\n",
       "    .dataframe tbody tr th {\n",
       "        vertical-align: top;\n",
       "    }\n",
       "\n",
       "    .dataframe thead th {\n",
       "        text-align: right;\n",
       "    }\n",
       "</style>\n",
       "<table border=\"1\" class=\"dataframe\">\n",
       "  <thead>\n",
       "    <tr style=\"text-align: right;\">\n",
       "      <th></th>\n",
       "      <th>statistical measures</th>\n",
       "    </tr>\n",
       "  </thead>\n",
       "  <tbody>\n",
       "    <tr>\n",
       "      <th>AIC</th>\n",
       "      <td>442.243474</td>\n",
       "    </tr>\n",
       "    <tr>\n",
       "      <th>BIC</th>\n",
       "      <td>445.812201</td>\n",
       "    </tr>\n",
       "  </tbody>\n",
       "</table>\n",
       "</div>"
      ],
      "text/plain": [
       "     statistical measures\n",
       "AIC            442.243474\n",
       "BIC            445.812201"
      ]
     },
     "metadata": {},
     "output_type": "display_data"
    }
   ],
   "source": [
    "jl_null = JointLikelihood(model_null, datalist)\n",
    "_ = jl_null.fit()"
   ]
  },
  {
   "cell_type": "code",
   "execution_count": 14,
   "id": "a6227e3a",
   "metadata": {
    "execution": {
     "iopub.execute_input": "2021-08-23T11:16:49.505119Z",
     "iopub.status.busy": "2021-08-23T11:16:49.504512Z",
     "iopub.status.idle": "2021-08-23T11:16:49.618588Z",
     "shell.execute_reply": "2021-08-23T11:16:49.618059Z"
    }
   },
   "outputs": [
    {
     "name": "stdout",
     "output_type": "stream",
     "text": [
      "Best fit values:\n",
      "\n"
     ]
    },
    {
     "data": {
      "text/html": [
       "<div>\n",
       "<style scoped>\n",
       "    .dataframe tbody tr th:only-of-type {\n",
       "        vertical-align: middle;\n",
       "    }\n",
       "\n",
       "    .dataframe tbody tr th {\n",
       "        vertical-align: top;\n",
       "    }\n",
       "\n",
       "    .dataframe thead th {\n",
       "        text-align: right;\n",
       "    }\n",
       "</style>\n",
       "<table border=\"1\" class=\"dataframe\">\n",
       "  <thead>\n",
       "    <tr style=\"text-align: right;\">\n",
       "      <th></th>\n",
       "      <th>result</th>\n",
       "      <th>unit</th>\n",
       "    </tr>\n",
       "    <tr>\n",
       "      <th>parameter</th>\n",
       "      <th></th>\n",
       "      <th></th>\n",
       "    </tr>\n",
       "  </thead>\n",
       "  <tbody>\n",
       "    <tr>\n",
       "      <th>test_cpl.spectrum.main.Cutoff_powerlaw.K</th>\n",
       "      <td>(6.1 -1.7 +2.3) x 10^-1</td>\n",
       "      <td>1 / (cm2 keV s)</td>\n",
       "    </tr>\n",
       "    <tr>\n",
       "      <th>test_cpl.spectrum.main.Cutoff_powerlaw.index</th>\n",
       "      <td>-1.36 +/- 0.23</td>\n",
       "      <td></td>\n",
       "    </tr>\n",
       "    <tr>\n",
       "      <th>test_cpl.spectrum.main.Cutoff_powerlaw.xc</th>\n",
       "      <td>(0.7 -0.5 +1.3) x 10^3</td>\n",
       "      <td>keV</td>\n",
       "    </tr>\n",
       "  </tbody>\n",
       "</table>\n",
       "</div>"
      ],
      "text/plain": [
       "                                                               result  \\\n",
       "parameter                                                               \n",
       "test_cpl.spectrum.main.Cutoff_powerlaw.K      (6.1 -1.7 +2.3) x 10^-1   \n",
       "test_cpl.spectrum.main.Cutoff_powerlaw.index           -1.36 +/- 0.23   \n",
       "test_cpl.spectrum.main.Cutoff_powerlaw.xc      (0.7 -0.5 +1.3) x 10^3   \n",
       "\n",
       "                                                         unit  \n",
       "parameter                                                      \n",
       "test_cpl.spectrum.main.Cutoff_powerlaw.K      1 / (cm2 keV s)  \n",
       "test_cpl.spectrum.main.Cutoff_powerlaw.index                   \n",
       "test_cpl.spectrum.main.Cutoff_powerlaw.xc                 keV  "
      ]
     },
     "metadata": {},
     "output_type": "display_data"
    },
    {
     "name": "stdout",
     "output_type": "stream",
     "text": [
      "\n",
      "Correlation matrix:\n",
      "\n"
     ]
    },
    {
     "data": {
      "text/html": [
       "<div><table id=\"table140371780830992\">\n",
       "<tr><td>1.00</td><td>0.86</td><td>-0.89</td></tr>\n",
       "<tr><td>0.86</td><td>1.00</td><td>-0.86</td></tr>\n",
       "<tr><td>-0.89</td><td>-0.86</td><td>1.00</td></tr>\n",
       "</table></div>"
      ],
      "text/plain": [
       " 1.00  0.86 -0.89\n",
       " 0.86  1.00 -0.86\n",
       "-0.89 -0.86  1.00"
      ]
     },
     "metadata": {},
     "output_type": "display_data"
    },
    {
     "name": "stdout",
     "output_type": "stream",
     "text": [
      "\n",
      "Values of -log(likelihood) at the minimum:\n",
      "\n"
     ]
    },
    {
     "data": {
      "text/html": [
       "<div>\n",
       "<style scoped>\n",
       "    .dataframe tbody tr th:only-of-type {\n",
       "        vertical-align: middle;\n",
       "    }\n",
       "\n",
       "    .dataframe tbody tr th {\n",
       "        vertical-align: top;\n",
       "    }\n",
       "\n",
       "    .dataframe thead th {\n",
       "        text-align: right;\n",
       "    }\n",
       "</style>\n",
       "<table border=\"1\" class=\"dataframe\">\n",
       "  <thead>\n",
       "    <tr style=\"text-align: right;\">\n",
       "      <th></th>\n",
       "      <th>-log(likelihood)</th>\n",
       "    </tr>\n",
       "  </thead>\n",
       "  <tbody>\n",
       "    <tr>\n",
       "      <th>fake</th>\n",
       "      <td>218.392327</td>\n",
       "    </tr>\n",
       "    <tr>\n",
       "      <th>total</th>\n",
       "      <td>218.392327</td>\n",
       "    </tr>\n",
       "  </tbody>\n",
       "</table>\n",
       "</div>"
      ],
      "text/plain": [
       "       -log(likelihood)\n",
       "fake         218.392327\n",
       "total        218.392327"
      ]
     },
     "metadata": {},
     "output_type": "display_data"
    },
    {
     "name": "stdout",
     "output_type": "stream",
     "text": [
      "\n",
      "Values of statistical measures:\n",
      "\n"
     ]
    },
    {
     "data": {
      "text/html": [
       "<div>\n",
       "<style scoped>\n",
       "    .dataframe tbody tr th:only-of-type {\n",
       "        vertical-align: middle;\n",
       "    }\n",
       "\n",
       "    .dataframe tbody tr th {\n",
       "        vertical-align: top;\n",
       "    }\n",
       "\n",
       "    .dataframe thead th {\n",
       "        text-align: right;\n",
       "    }\n",
       "</style>\n",
       "<table border=\"1\" class=\"dataframe\">\n",
       "  <thead>\n",
       "    <tr style=\"text-align: right;\">\n",
       "      <th></th>\n",
       "      <th>statistical measures</th>\n",
       "    </tr>\n",
       "  </thead>\n",
       "  <tbody>\n",
       "    <tr>\n",
       "      <th>AIC</th>\n",
       "      <td>443.306393</td>\n",
       "    </tr>\n",
       "    <tr>\n",
       "      <th>BIC</th>\n",
       "      <td>448.520723</td>\n",
       "    </tr>\n",
       "  </tbody>\n",
       "</table>\n",
       "</div>"
      ],
      "text/plain": [
       "     statistical measures\n",
       "AIC            443.306393\n",
       "BIC            448.520723"
      ]
     },
     "metadata": {},
     "output_type": "display_data"
    }
   ],
   "source": [
    "jl_alternative = JointLikelihood(model_alternative, datalist)\n",
    "_ = jl_alternative.fit()"
   ]
  },
  {
   "cell_type": "markdown",
   "id": "c5b89860",
   "metadata": {},
   "source": [
    "Ok, we now have our log(likelihoods) from each model. If we took Wilks' theorem to heart, then we would compute:\n",
    "\n",
    "$$\\Lambda(x)=\\frac{\\sup\\{\\,\\mathcal L(\\theta\\mid x):\\theta\\in\\Theta_0\\,\\}}{\\sup\\{\\,\\mathcal L(\\theta\\mid x) : \\theta\\in\\Theta\\,\\}}$$\n",
    "\n",
    "or $-2 \\log(\\Lambda)$ which would be $\\chi^2_{\\nu}$ distributed where $\\nu$ is the number of extra parameters in the alternative model. In our case:\n"
   ]
  },
  {
   "cell_type": "code",
   "execution_count": 15,
   "id": "06c7bc9c",
   "metadata": {
    "execution": {
     "iopub.execute_input": "2021-08-23T11:16:49.625252Z",
     "iopub.status.busy": "2021-08-23T11:16:49.624424Z",
     "iopub.status.idle": "2021-08-23T11:16:49.627041Z",
     "shell.execute_reply": "2021-08-23T11:16:49.627463Z"
    },
    "lines_to_next_cell": 2
   },
   "outputs": [
    {
     "name": "stdout",
     "output_type": "stream",
     "text": [
      "null hyp. prob.: 0.1992278047358995\n"
     ]
    }
   ],
   "source": [
    "# calculate the test statistic\n",
    "TS = 2 * (\n",
    "    jl_null.results.get_statistic_frame()[\"-log(likelihood)\"][\"total\"]\n",
    "    - jl_alternative.results.get_statistic_frame()[\"-log(likelihood)\"][\"total\"]\n",
    ")\n",
    "\n",
    "print(f\"null hyp. prob.: {stats.chi2.pdf(TS,1)}\")"
   ]
  },
  {
   "cell_type": "markdown",
   "id": "f57682f4",
   "metadata": {},
   "source": [
    "But lets check this by simulating the null distribution.\n",
    "\n",
    "We create a LRT object by passing the null model and the alternative model (in that order)."
   ]
  },
  {
   "cell_type": "code",
   "execution_count": 16,
   "id": "aa81afe2",
   "metadata": {
    "execution": {
     "iopub.execute_input": "2021-08-23T11:16:49.631478Z",
     "iopub.status.busy": "2021-08-23T11:16:49.629616Z",
     "iopub.status.idle": "2021-08-23T11:16:49.633233Z",
     "shell.execute_reply": "2021-08-23T11:16:49.633582Z"
    }
   },
   "outputs": [],
   "source": [
    "lrt = LikelihoodRatioTest(jl_null, jl_alternative)"
   ]
  },
  {
   "cell_type": "markdown",
   "id": "6d2d2ac9",
   "metadata": {},
   "source": [
    "Now we MC synthetic datasets again."
   ]
  },
  {
   "cell_type": "code",
   "execution_count": 17,
   "id": "d5d0c271",
   "metadata": {
    "execution": {
     "iopub.execute_input": "2021-08-23T11:16:49.664413Z",
     "iopub.status.busy": "2021-08-23T11:16:49.644081Z",
     "iopub.status.idle": "2021-08-23T11:19:36.005627Z",
     "shell.execute_reply": "2021-08-23T11:19:36.004325Z"
    }
   },
   "outputs": [
    {
     "data": {
      "application/vnd.jupyter.widget-view+json": {
       "model_id": "c972b233c1204c788aee284f6dd2f4e0",
       "version_major": 2,
       "version_minor": 0
      },
      "text/plain": [
       "Goodness of fit computation:   0%|          | 0/1000 [00:00<?, ?it/s]"
      ]
     },
     "metadata": {},
     "output_type": "display_data"
    }
   ],
   "source": [
    "lrt_results = lrt.by_mc(1000, continue_on_failure=True)"
   ]
  },
  {
   "cell_type": "markdown",
   "id": "bea6e05b",
   "metadata": {},
   "source": [
    "This returns three things, the null hypothesis probability, the test statistics for all the data sets, and the fitted values. We see that our null hyp. prob is:"
   ]
  },
  {
   "cell_type": "code",
   "execution_count": 18,
   "id": "68a6055c",
   "metadata": {
    "execution": {
     "iopub.execute_input": "2021-08-23T11:19:36.011071Z",
     "iopub.status.busy": "2021-08-23T11:19:36.010473Z",
     "iopub.status.idle": "2021-08-23T11:19:36.013781Z",
     "shell.execute_reply": "2021-08-23T11:19:36.013288Z"
    }
   },
   "outputs": [
    {
     "data": {
      "text/plain": [
       "0.188"
      ]
     },
     "execution_count": 18,
     "metadata": {},
     "output_type": "execute_result"
    }
   ],
   "source": [
    "lrt.null_hypothesis_probability"
   ]
  },
  {
   "cell_type": "markdown",
   "id": "321df5b9",
   "metadata": {},
   "source": [
    "which is slightly different from what we obtained analytically.\n",
    "\n",
    "We can visualize why by plotting the distributions of TS and seeing if it follows a $\\chi^2_{1}$ distribution/"
   ]
  },
  {
   "cell_type": "code",
   "execution_count": 19,
   "id": "33465cd9",
   "metadata": {
    "execution": {
     "iopub.execute_input": "2021-08-23T11:19:36.036725Z",
     "iopub.status.busy": "2021-08-23T11:19:36.018243Z",
     "iopub.status.idle": "2021-08-23T11:19:36.855355Z",
     "shell.execute_reply": "2021-08-23T11:19:36.854865Z"
    }
   },
   "outputs": [
    {
     "data": {
      "image/png": "[encoded data removed]",
      "text/plain": [
       "<Figure size 748.8x655.2 with 1 Axes>"
      ]
     },
     "metadata": {},
     "output_type": "display_data"
    }
   ],
   "source": [
    "lrt.plot_TS_distribution(bins=100, ec=\"k\", fc=\"white\", lw=1.2)\n",
    "_ = plt.legend()"
   ]
  },
  {
   "cell_type": "markdown",
   "id": "b2d9c6d9",
   "metadata": {},
   "source": [
    "The curve is slightly higher than we expect. Let's rescale the curve by 1/2:"
   ]
  },
  {
   "cell_type": "code",
   "execution_count": 20,
   "id": "ad5d59b3",
   "metadata": {
    "execution": {
     "iopub.execute_input": "2021-08-23T11:19:36.875236Z",
     "iopub.status.busy": "2021-08-23T11:19:36.871126Z",
     "iopub.status.idle": "2021-08-23T11:19:37.685421Z",
     "shell.execute_reply": "2021-08-23T11:19:37.685898Z"
    },
    "tags": [
     "nbsphinx-thumbnail"
    ]
   },
   "outputs": [
    {
     "data": {
      "image/png": "[encoded data removed]",
      "text/plain": [
       "<Figure size 748.8x655.2 with 1 Axes>"
      ]
     },
     "metadata": {},
     "output_type": "display_data"
    }
   ],
   "source": [
    "lrt.plot_TS_distribution(scale=0.5, bins=100, ec=\"k\", fc=\"white\", lw=1.2)\n",
    "_ = plt.legend()"
   ]
  },
  {
   "cell_type": "markdown",
   "id": "83a7285b",
   "metadata": {},
   "source": [
    "Thus, we see that 3ML provides an automatic, and possibly efficient way to avoid the nasty problems of the LRT.\n",
    "\n",
    "Both the GoodnessOfFit and LikelihoodRatioTest classes internally handle the generation of synthetic datasets. All current plugins have the ability to generate synthetic datasets based off their internal properties such as their background spectra and instrument responses."
   ]
  }
 ],
 "metadata": {
  "jupytext": {
   "formats": "ipynb,md"
  },
  "kernelspec": {
   "display_name": "Python 3",
   "language": "python",
   "name": "python3"
  },
  "language_info": {
   "codemirror_mode": {
    "name": "ipython",
    "version": 3
   },
   "file_extension": ".py",
   "mimetype": "text/x-python",
   "name": "python",
   "nbconvert_exporter": "python",
   "pygments_lexer": "ipython3",
   "version": "3.7.11"
  },
  "widgets": {
   "application/vnd.jupyter.widget-state+json": {
    "state": {
     "12205f21da504c489b1396ba2d00a467": {
      "model_module": "@jupyter-widgets/controls",
      "model_module_version": "1.5.0",
      "model_name": "HTMLModel",
      "state": {
       "_dom_classes": [],
       "_model_module": "@jupyter-widgets/controls",
       "_model_module_version": "1.5.0",
       "_model_name": "HTMLModel",
       "_view_count": null,
       "_view_module": "@jupyter-widgets/controls",
       "_view_module_version": "1.5.0",
       "_view_name": "HTMLView",
       "description": "",
       "description_tooltip": null,
       "layout": "IPY_MODEL_21ed5c1e43f04e52b370bbc501d6da3c",
       "placeholder": "​",
       "style": "IPY_MODEL_b2de384f4aa54798a8bfc5281da6b642",
       "value": " 1000/1000 [01:13&lt;00:00, 14.03it/s]"
      }
     },
     "21ed5c1e43f04e52b370bbc501d6da3c": {
      "model_module": "@jupyter-widgets/base",
      "model_module_version": "1.2.0",
      "model_name": "LayoutModel",
      "state": {
       "_model_module": "@jupyter-widgets/base",
       "_model_module_version": "1.2.0",
       "_model_name": "LayoutModel",
       "_view_count": null,
       "_view_module": "@jupyter-widgets/base",
       "_view_module_version": "1.2.0",
       "_view_name": "LayoutView",
       "align_content": null,
       "align_items": null,
       "align_self": null,
       "border": null,
       "bottom": null,
       "display": null,
       "flex": null,
       "flex_flow": null,
       "grid_area": null,
       "grid_auto_columns": null,
       "grid_auto_flow": null,
       "grid_auto_rows": null,
       "grid_column": null,
       "grid_gap": null,
       "grid_row": null,
       "grid_template_areas": null,
       "grid_template_columns": null,
       "grid_template_rows": null,
       "height": null,
       "justify_content": null,
       "justify_items": null,
       "left": null,
       "margin": null,
       "max_height": null,
       "max_width": null,
       "min_height": null,
       "min_width": null,
       "object_fit": null,
       "object_position": null,
       "order": null,
       "overflow": null,
       "overflow_x": null,
       "overflow_y": null,
       "padding": null,
       "right": null,
       "top": null,
       "visibility": null,
       "width": null
      }
     },
     "22681408b3324037b1cca3fb2dd75e81": {
      "model_module": "@jupyter-widgets/controls",
      "model_module_version": "1.5.0",
      "model_name": "ProgressStyleModel",
      "state": {
       "_model_module": "@jupyter-widgets/controls",
       "_model_module_version": "1.5.0",
       "_model_name": "ProgressStyleModel",
       "_view_count": null,
       "_view_module": "@jupyter-widgets/base",
       "_view_module_version": "1.2.0",
       "_view_name": "StyleView",
       "bar_color": "#46327e",
       "description_width": ""
      }
     },
     "3142d75396f842a89f29ce350b788310": {
      "model_module": "@jupyter-widgets/base",
      "model_module_version": "1.2.0",
      "model_name": "LayoutModel",
      "state": {
       "_model_module": "@jupyter-widgets/base",
       "_model_module_version": "1.2.0",
       "_model_name": "LayoutModel",
       "_view_count": null,
       "_view_module": "@jupyter-widgets/base",
       "_view_module_version": "1.2.0",
       "_view_name": "LayoutView",
       "align_content": null,
       "align_items": null,
       "align_self": null,
       "border": null,
       "bottom": null,
       "display": null,
       "flex": null,
       "flex_flow": null,
       "grid_area": null,
       "grid_auto_columns": null,
       "grid_auto_flow": null,
       "grid_auto_rows": null,
       "grid_column": null,
       "grid_gap": null,
       "grid_row": null,
       "grid_template_areas": null,
       "grid_template_columns": null,
       "grid_template_rows": null,
       "height": null,
       "justify_content": null,
       "justify_items": null,
       "left": null,
       "margin": null,
       "max_height": null,
       "max_width": null,
       "min_height": null,
       "min_width": null,
       "object_fit": null,
       "object_position": null,
       "order": null,
       "overflow": null,
       "overflow_x": null,
       "overflow_y": null,
       "padding": null,
       "right": null,
       "top": null,
       "visibility": null,
       "width": null
      }
     },
     "3dddfc8ede744d41b63ade0b0d337534": {
      "model_module": "@jupyter-widgets/base",
      "model_module_version": "1.2.0",
      "model_name": "LayoutModel",
      "state": {
       "_model_module": "@jupyter-widgets/base",
       "_model_module_version": "1.2.0",
       "_model_name": "LayoutModel",
       "_view_count": null,
       "_view_module": "@jupyter-widgets/base",
       "_view_module_version": "1.2.0",
       "_view_name": "LayoutView",
       "align_content": null,
       "align_items": null,
       "align_self": null,
       "border": null,
       "bottom": null,
       "display": "inline-flex",
       "flex": null,
       "flex_flow": "row wrap",
       "grid_area": null,
       "grid_auto_columns": null,
       "grid_auto_flow": null,
       "grid_auto_rows": null,
       "grid_column": null,
       "grid_gap": null,
       "grid_row": null,
       "grid_template_areas": null,
       "grid_template_columns": null,
       "grid_template_rows": null,
       "height": null,
       "justify_content": null,
       "justify_items": null,
       "left": null,
       "margin": null,
       "max_height": null,
       "max_width": null,
       "min_height": null,
       "min_width": null,
       "object_fit": null,
       "object_position": null,
       "order": null,
       "overflow": null,
       "overflow_x": null,
       "overflow_y": null,
       "padding": null,
       "right": null,
       "top": null,
       "visibility": null,
       "width": "100%"
      }
     },
     "3ee91b68968b441b869afc1ecbdbbb9b": {
      "model_module": "@jupyter-widgets/controls",
      "model_module_version": "1.5.0",
      "model_name": "FloatProgressModel",
      "state": {
       "_dom_classes": [],
       "_model_module": "@jupyter-widgets/controls",
       "_model_module_version": "1.5.0",
       "_model_name": "FloatProgressModel",
       "_view_count": null,
       "_view_module": "@jupyter-widgets/controls",
       "_view_module_version": "1.5.0",
       "_view_name": "ProgressView",
       "bar_style": "success",
       "description": "",
       "description_tooltip": null,
       "layout": "IPY_MODEL_bbe87c7687da4b519ddba1787ec0e1ff",
       "max": 1000.0,
       "min": 0.0,
       "orientation": "horizontal",
       "style": "IPY_MODEL_22681408b3324037b1cca3fb2dd75e81",
       "value": 1000.0
      }
     },
     "487d44c7d264493ebcebb6cfed6bc644": {
      "model_module": "@jupyter-widgets/controls",
      "model_module_version": "1.5.0",
      "model_name": "FloatProgressModel",
      "state": {
       "_dom_classes": [],
       "_model_module": "@jupyter-widgets/controls",
       "_model_module_version": "1.5.0",
       "_model_name": "FloatProgressModel",
       "_view_count": null,
       "_view_module": "@jupyter-widgets/controls",
       "_view_module_version": "1.5.0",
       "_view_name": "ProgressView",
       "bar_style": "success",
       "description": "",
       "description_tooltip": null,
       "layout": "IPY_MODEL_e37012d9f21e4cc1aca9125e07b555be",
       "max": 1000.0,
       "min": 0.0,
       "orientation": "horizontal",
       "style": "IPY_MODEL_f5a09830b6aa41fdae8f41ddccd37d9c",
       "value": 1000.0
      }
     },
     "4a6f5cca3ba24b0e8e70fdf88f6d8a8f": {
      "model_module": "@jupyter-widgets/controls",
      "model_module_version": "1.5.0",
      "model_name": "HTMLModel",
      "state": {
       "_dom_classes": [],
       "_model_module": "@jupyter-widgets/controls",
       "_model_module_version": "1.5.0",
       "_model_name": "HTMLModel",
       "_view_count": null,
       "_view_module": "@jupyter-widgets/controls",
       "_view_module_version": "1.5.0",
       "_view_name": "HTMLView",
       "description": "",
       "description_tooltip": null,
       "layout": "IPY_MODEL_e2ecff85253d4296ba1bacf892a4ae44",
       "placeholder": "​",
       "style": "IPY_MODEL_5e2177098e93420397430fb5a1b674b0",
       "value": "Goodness of fit computation: 100%"
      }
     },
     "5e2177098e93420397430fb5a1b674b0": {
      "model_module": "@jupyter-widgets/controls",
      "model_module_version": "1.5.0",
      "model_name": "DescriptionStyleModel",
      "state": {
       "_model_module": "@jupyter-widgets/controls",
       "_model_module_version": "1.5.0",
       "_model_name": "DescriptionStyleModel",
       "_view_count": null,
       "_view_module": "@jupyter-widgets/base",
       "_view_module_version": "1.2.0",
       "_view_name": "StyleView",
       "description_width": ""
      }
     },
     "712c6e32ebbf448bb9a57393b8621e54": {
      "model_module": "@jupyter-widgets/controls",
      "model_module_version": "1.5.0",
      "model_name": "DescriptionStyleModel",
      "state": {
       "_model_module": "@jupyter-widgets/controls",
       "_model_module_version": "1.5.0",
       "_model_name": "DescriptionStyleModel",
       "_view_count": null,
       "_view_module": "@jupyter-widgets/base",
       "_view_module_version": "1.2.0",
       "_view_name": "StyleView",
       "description_width": ""
      }
     },
     "a5b5037e9dbf4dc599d6a1a6f162dfb1": {
      "model_module": "@jupyter-widgets/controls",
      "model_module_version": "1.5.0",
      "model_name": "HBoxModel",
      "state": {
       "_dom_classes": [],
       "_model_module": "@jupyter-widgets/controls",
       "_model_module_version": "1.5.0",
       "_model_name": "HBoxModel",
       "_view_count": null,
       "_view_module": "@jupyter-widgets/controls",
       "_view_module_version": "1.5.0",
       "_view_name": "HBoxView",
       "box_style": "",
       "children": [
        "IPY_MODEL_4a6f5cca3ba24b0e8e70fdf88f6d8a8f",
        "IPY_MODEL_487d44c7d264493ebcebb6cfed6bc644",
        "IPY_MODEL_12205f21da504c489b1396ba2d00a467"
       ],
       "layout": "IPY_MODEL_c1e76e85df7c4d94b5cc7090b62850fb"
      }
     },
     "b2de384f4aa54798a8bfc5281da6b642": {
      "model_module": "@jupyter-widgets/controls",
      "model_module_version": "1.5.0",
      "model_name": "DescriptionStyleModel",
      "state": {
       "_model_module": "@jupyter-widgets/controls",
       "_model_module_version": "1.5.0",
       "_model_name": "DescriptionStyleModel",
       "_view_count": null,
       "_view_module": "@jupyter-widgets/base",
       "_view_module_version": "1.2.0",
       "_view_name": "StyleView",
       "description_width": ""
      }
     },
     "bbe87c7687da4b519ddba1787ec0e1ff": {
      "model_module": "@jupyter-widgets/base",
      "model_module_version": "1.2.0",
      "model_name": "LayoutModel",
      "state": {
       "_model_module": "@jupyter-widgets/base",
       "_model_module_version": "1.2.0",
       "_model_name": "LayoutModel",
       "_view_count": null,
       "_view_module": "@jupyter-widgets/base",
       "_view_module_version": "1.2.0",
       "_view_name": "LayoutView",
       "align_content": null,
       "align_items": null,
       "align_self": null,
       "border": null,
       "bottom": null,
       "display": null,
       "flex": "2",
       "flex_flow": null,
       "grid_area": null,
       "grid_auto_columns": null,
       "grid_auto_flow": null,
       "grid_auto_rows": null,
       "grid_column": null,
       "grid_gap": null,
       "grid_row": null,
       "grid_template_areas": null,
       "grid_template_columns": null,
       "grid_template_rows": null,
       "height": null,
       "justify_content": null,
       "justify_items": null,
       "left": null,
       "margin": null,
       "max_height": null,
       "max_width": null,
       "min_height": null,
       "min_width": null,
       "object_fit": null,
       "object_position": null,
       "order": null,
       "overflow": null,
       "overflow_x": null,
       "overflow_y": null,
       "padding": null,
       "right": null,
       "top": null,
       "visibility": null,
       "width": null
      }
     },
     "c1e76e85df7c4d94b5cc7090b62850fb": {
      "model_module": "@jupyter-widgets/base",
      "model_module_version": "1.2.0",
      "model_name": "LayoutModel",
      "state": {
       "_model_module": "@jupyter-widgets/base",
       "_model_module_version": "1.2.0",
       "_model_name": "LayoutModel",
       "_view_count": null,
       "_view_module": "@jupyter-widgets/base",
       "_view_module_version": "1.2.0",
       "_view_name": "LayoutView",
       "align_content": null,
       "align_items": null,
       "align_self": null,
       "border": null,
       "bottom": null,
       "display": "inline-flex",
       "flex": null,
       "flex_flow": "row wrap",
       "grid_area": null,
       "grid_auto_columns": null,
       "grid_auto_flow": null,
       "grid_auto_rows": null,
       "grid_column": null,
       "grid_gap": null,
       "grid_row": null,
       "grid_template_areas": null,
       "grid_template_columns": null,
       "grid_template_rows": null,
       "height": null,
       "justify_content": null,
       "justify_items": null,
       "left": null,
       "margin": null,
       "max_height": null,
       "max_width": null,
       "min_height": null,
       "min_width": null,
       "object_fit": null,
       "object_position": null,
       "order": null,
       "overflow": null,
       "overflow_x": null,
       "overflow_y": null,
       "padding": null,
       "right": null,
       "top": null,
       "visibility": null,
       "width": "100%"
      }
     },
     "c972b233c1204c788aee284f6dd2f4e0": {
      "model_module": "@jupyter-widgets/controls",
      "model_module_version": "1.5.0",
      "model_name": "HBoxModel",
      "state": {
       "_dom_classes": [],
       "_model_module": "@jupyter-widgets/controls",
       "_model_module_version": "1.5.0",
       "_model_name": "HBoxModel",
       "_view_count": null,
       "_view_module": "@jupyter-widgets/controls",
       "_view_module_version": "1.5.0",
       "_view_name": "HBoxView",
       "box_style": "",
       "children": [
        "IPY_MODEL_e098422cce4c40d190e355188a8f29e6",
        "IPY_MODEL_3ee91b68968b441b869afc1ecbdbbb9b",
        "IPY_MODEL_cfc3750a2880400288ab4dac3780264c"
       ],
       "layout": "IPY_MODEL_3dddfc8ede744d41b63ade0b0d337534"
      }
     },
     "cfc11375d7d14764b77315c7258eb5e5": {
      "model_module": "@jupyter-widgets/controls",
      "model_module_version": "1.5.0",
      "model_name": "DescriptionStyleModel",
      "state": {
       "_model_module": "@jupyter-widgets/controls",
       "_model_module_version": "1.5.0",
       "_model_name": "DescriptionStyleModel",
       "_view_count": null,
       "_view_module": "@jupyter-widgets/base",
       "_view_module_version": "1.2.0",
       "_view_name": "StyleView",
       "description_width": ""
      }
     },
     "cfc3750a2880400288ab4dac3780264c": {
      "model_module": "@jupyter-widgets/controls",
      "model_module_version": "1.5.0",
      "model_name": "HTMLModel",
      "state": {
       "_dom_classes": [],
       "_model_module": "@jupyter-widgets/controls",
       "_model_module_version": "1.5.0",
       "_model_name": "HTMLModel",
       "_view_count": null,
       "_view_module": "@jupyter-widgets/controls",
       "_view_module_version": "1.5.0",
       "_view_name": "HTMLView",
       "description": "",
       "description_tooltip": null,
       "layout": "IPY_MODEL_3142d75396f842a89f29ce350b788310",
       "placeholder": "​",
       "style": "IPY_MODEL_cfc11375d7d14764b77315c7258eb5e5",
       "value": " 1000/1000 [02:45&lt;00:00,  6.11it/s]"
      }
     },
     "e098422cce4c40d190e355188a8f29e6": {
      "model_module": "@jupyter-widgets/controls",
      "model_module_version": "1.5.0",
      "model_name": "HTMLModel",
      "state": {
       "_dom_classes": [],
       "_model_module": "@jupyter-widgets/controls",
       "_model_module_version": "1.5.0",
       "_model_name": "HTMLModel",
       "_view_count": null,
       "_view_module": "@jupyter-widgets/controls",
       "_view_module_version": "1.5.0",
       "_view_name": "HTMLView",
       "description": "",
       "description_tooltip": null,
       "layout": "IPY_MODEL_fe9de6eebc6c45b2b26f78de50755634",
       "placeholder": "​",
       "style": "IPY_MODEL_712c6e32ebbf448bb9a57393b8621e54",
       "value": "Goodness of fit computation: 100%"
      }
     },
     "e2ecff85253d4296ba1bacf892a4ae44": {
      "model_module": "@jupyter-widgets/base",
      "model_module_version": "1.2.0",
      "model_name": "LayoutModel",
      "state": {
       "_model_module": "@jupyter-widgets/base",
       "_model_module_version": "1.2.0",
       "_model_name": "LayoutModel",
       "_view_count": null,
       "_view_module": "@jupyter-widgets/base",
       "_view_module_version": "1.2.0",
       "_view_name": "LayoutView",
       "align_content": null,
       "align_items": null,
       "align_self": null,
       "border": null,
       "bottom": null,
       "display": null,
       "flex": null,
       "flex_flow": null,
       "grid_area": null,
       "grid_auto_columns": null,
       "grid_auto_flow": null,
       "grid_auto_rows": null,
       "grid_column": null,
       "grid_gap": null,
       "grid_row": null,
       "grid_template_areas": null,
       "grid_template_columns": null,
       "grid_template_rows": null,
       "height": null,
       "justify_content": null,
       "justify_items": null,
       "left": null,
       "margin": null,
       "max_height": null,
       "max_width": null,
       "min_height": null,
       "min_width": null,
       "object_fit": null,
       "object_position": null,
       "order": null,
       "overflow": null,
       "overflow_x": null,
       "overflow_y": null,
       "padding": null,
       "right": null,
       "top": null,
       "visibility": null,
       "width": null
      }
     },
     "e37012d9f21e4cc1aca9125e07b555be": {
      "model_module": "@jupyter-widgets/base",
      "model_module_version": "1.2.0",
      "model_name": "LayoutModel",
      "state": {
       "_model_module": "@jupyter-widgets/base",
       "_model_module_version": "1.2.0",
       "_model_name": "LayoutModel",
       "_view_count": null,
       "_view_module": "@jupyter-widgets/base",
       "_view_module_version": "1.2.0",
       "_view_name": "LayoutView",
       "align_content": null,
       "align_items": null,
       "align_self": null,
       "border": null,
       "bottom": null,
       "display": null,
       "flex": "2",
       "flex_flow": null,
       "grid_area": null,
       "grid_auto_columns": null,
       "grid_auto_flow": null,
       "grid_auto_rows": null,
       "grid_column": null,
       "grid_gap": null,
       "grid_row": null,
       "grid_template_areas": null,
       "grid_template_columns": null,
       "grid_template_rows": null,
       "height": null,
       "justify_content": null,
       "justify_items": null,
       "left": null,
       "margin": null,
       "max_height": null,
       "max_width": null,
       "min_height": null,
       "min_width": null,
       "object_fit": null,
       "object_position": null,
       "order": null,
       "overflow": null,
       "overflow_x": null,
       "overflow_y": null,
       "padding": null,
       "right": null,
       "top": null,
       "visibility": null,
       "width": null
      }
     },
     "f5a09830b6aa41fdae8f41ddccd37d9c": {
      "model_module": "@jupyter-widgets/controls",
      "model_module_version": "1.5.0",
      "model_name": "ProgressStyleModel",
      "state": {
       "_model_module": "@jupyter-widgets/controls",
       "_model_module_version": "1.5.0",
       "_model_name": "ProgressStyleModel",
       "_view_count": null,
       "_view_module": "@jupyter-widgets/base",
       "_view_module_version": "1.2.0",
       "_view_name": "StyleView",
       "bar_color": "#440154",
       "description_width": ""
      }
     },
     "fe9de6eebc6c45b2b26f78de50755634": {
      "model_module": "@jupyter-widgets/base",
      "model_module_version": "1.2.0",
      "model_name": "LayoutModel",
      "state": {
       "_model_module": "@jupyter-widgets/base",
       "_model_module_version": "1.2.0",
       "_model_name": "LayoutModel",
       "_view_count": null,
       "_view_module": "@jupyter-widgets/base",
       "_view_module_version": "1.2.0",
       "_view_name": "LayoutView",
       "align_content": null,
       "align_items": null,
       "align_self": null,
       "border": null,
       "bottom": null,
       "display": null,
       "flex": null,
       "flex_flow": null,
       "grid_area": null,
       "grid_auto_columns": null,
       "grid_auto_flow": null,
       "grid_auto_rows": null,
       "grid_column": null,
       "grid_gap": null,
       "grid_row": null,
       "grid_template_areas": null,
       "grid_template_columns": null,
       "grid_template_rows": null,
       "height": null,
       "justify_content": null,
       "justify_items": null,
       "left": null,
       "margin": null,
       "max_height": null,
       "max_width": null,
       "min_height": null,
       "min_width": null,
       "object_fit": null,
       "object_position": null,
       "order": null,
       "overflow": null,
       "overflow_x": null,
       "overflow_y": null,
       "padding": null,
       "right": null,
       "top": null,
       "visibility": null,
       "width": null
      }
     }
    },
    "version_major": 2,
    "version_minor": 0
   }
  }
 },
 "nbformat": 4,
 "nbformat_minor": 5
}
