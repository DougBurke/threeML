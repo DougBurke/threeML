{
 "cells": [
  {
   "cell_type": "markdown",
   "id": "0f420daa",
   "metadata": {},
   "source": [
    "# Random Variates\n",
    "\n",
    "When we perform a fit or load and analysis result, the parmeters of our model become distributions in the AnalysisResults object. These are actaully instantiactions of the RandomVaraiates class.\n",
    "\n",
    "While we have covered most of the functionality of RandomVariates in the AnalysisResults section, we want to highlight a few of the details here.\n"
   ]
  },
  {
   "cell_type": "code",
   "execution_count": 1,
   "id": "bb0a0825",
   "metadata": {
    "execution": {
     "iopub.execute_input": "2021-08-23T10:46:05.694615Z",
     "iopub.status.busy": "2021-08-23T10:46:05.693975Z",
     "iopub.status.idle": "2021-08-23T10:46:05.779965Z",
     "shell.execute_reply": "2021-08-23T10:46:05.780390Z"
    },
    "lines_to_next_cell": 0
   },
   "outputs": [
    {
     "data": {
      "text/plain": [
       "{'divide': 'warn', 'over': 'warn', 'under': 'ignore', 'invalid': 'warn'}"
      ]
     },
     "execution_count": 1,
     "metadata": {},
     "output_type": "execute_result"
    }
   ],
   "source": [
    "import warnings\n",
    "\n",
    "warnings.simplefilter(\"ignore\")\n",
    "import numpy as np\n",
    "\n",
    "np.seterr(all=\"ignore\")"
   ]
  },
  {
   "cell_type": "markdown",
   "id": "8b475006",
   "metadata": {},
   "source": [
    "\n"
   ]
  },
  {
   "cell_type": "code",
   "execution_count": 2,
   "id": "5b6ae680",
   "metadata": {
    "execution": {
     "iopub.execute_input": "2021-08-23T10:46:05.786180Z",
     "iopub.status.busy": "2021-08-23T10:46:05.785616Z",
     "iopub.status.idle": "2021-08-23T10:46:08.474019Z",
     "shell.execute_reply": "2021-08-23T10:46:08.473015Z"
    }
   },
   "outputs": [],
   "source": [
    "%%capture\n",
    "import matplotlib.pyplot as plt\n",
    "from threeML import *"
   ]
  },
  {
   "cell_type": "code",
   "execution_count": 3,
   "id": "83c45eb3",
   "metadata": {
    "execution": {
     "iopub.execute_input": "2021-08-23T10:46:08.479430Z",
     "iopub.status.busy": "2021-08-23T10:46:08.478847Z",
     "iopub.status.idle": "2021-08-23T10:46:08.507957Z",
     "shell.execute_reply": "2021-08-23T10:46:08.507113Z"
    },
    "lines_to_next_cell": 2
   },
   "outputs": [],
   "source": [
    "from jupyterthemes import jtplot\n",
    "\n",
    "%matplotlib inline\n",
    "jtplot.style(context=\"talk\", fscale=1, ticks=True, grid=False)\n",
    "set_threeML_style()\n",
    "silence_warnings()"
   ]
  },
  {
   "cell_type": "markdown",
   "id": "36d3e2b4",
   "metadata": {},
   "source": [
    "Let's load back our fit of the line + gaussian from the AnalysisResults section."
   ]
  },
  {
   "cell_type": "code",
   "execution_count": 4,
   "id": "3c8919c9",
   "metadata": {
    "execution": {
     "iopub.execute_input": "2021-08-23T10:46:08.534874Z",
     "iopub.status.busy": "2021-08-23T10:46:08.512976Z",
     "iopub.status.idle": "2021-08-23T10:46:08.594307Z",
     "shell.execute_reply": "2021-08-23T10:46:08.593760Z"
    }
   },
   "outputs": [],
   "source": [
    "ar = load_analysis_results(\"test_mle.fits\")"
   ]
  },
  {
   "cell_type": "markdown",
   "id": "07f6bb85",
   "metadata": {},
   "source": [
    "When we display our fit, we can see the **parameter paths** of the model. What if we want specific information on a parameter(s)?"
   ]
  },
  {
   "cell_type": "code",
   "execution_count": 5,
   "id": "824d8b35",
   "metadata": {
    "execution": {
     "iopub.execute_input": "2021-08-23T10:46:08.620628Z",
     "iopub.status.busy": "2021-08-23T10:46:08.618406Z",
     "iopub.status.idle": "2021-08-23T10:46:08.645351Z",
     "shell.execute_reply": "2021-08-23T10:46:08.644855Z"
    }
   },
   "outputs": [
    {
     "name": "stdout",
     "output_type": "stream",
     "text": [
      "Best fit values:\n",
      "\n"
     ]
    },
    {
     "data": {
      "text/html": [
       "<div>\n",
       "<style scoped>\n",
       "    .dataframe tbody tr th:only-of-type {\n",
       "        vertical-align: middle;\n",
       "    }\n",
       "\n",
       "    .dataframe tbody tr th {\n",
       "        vertical-align: top;\n",
       "    }\n",
       "\n",
       "    .dataframe thead th {\n",
       "        text-align: right;\n",
       "    }\n",
       "</style>\n",
       "<table border=\"1\" class=\"dataframe\">\n",
       "  <thead>\n",
       "    <tr style=\"text-align: right;\">\n",
       "      <th></th>\n",
       "      <th>result</th>\n",
       "      <th>unit</th>\n",
       "    </tr>\n",
       "    <tr>\n",
       "      <th>parameter</th>\n",
       "      <th></th>\n",
       "      <th></th>\n",
       "    </tr>\n",
       "  </thead>\n",
       "  <tbody>\n",
       "    <tr>\n",
       "      <th>fake.spectrum.main.composite.a_1</th>\n",
       "      <td>2.02 +/- 0.11</td>\n",
       "      <td>1 / (cm2 keV s)</td>\n",
       "    </tr>\n",
       "    <tr>\n",
       "      <th>fake.spectrum.main.composite.b_1</th>\n",
       "      <td>(0 +/- 4) x 10^-3</td>\n",
       "      <td>1 / (cm2 keV2 s)</td>\n",
       "    </tr>\n",
       "    <tr>\n",
       "      <th>fake.spectrum.main.composite.F_2</th>\n",
       "      <td>(3.4 +/- 0.4) x 10</td>\n",
       "      <td>1 / (cm2 s)</td>\n",
       "    </tr>\n",
       "    <tr>\n",
       "      <th>fake.spectrum.main.composite.mu_2</th>\n",
       "      <td>(2.504 +/- 0.011) x 10</td>\n",
       "      <td>keV</td>\n",
       "    </tr>\n",
       "    <tr>\n",
       "      <th>fake.spectrum.main.composite.sigma_2</th>\n",
       "      <td>(9.7 +/- 0.9) x 10^-1</td>\n",
       "      <td>keV</td>\n",
       "    </tr>\n",
       "  </tbody>\n",
       "</table>\n",
       "</div>"
      ],
      "text/plain": [
       "                                                      result              unit\n",
       "parameter                                                                     \n",
       "fake.spectrum.main.composite.a_1               2.02 +/- 0.11   1 / (cm2 keV s)\n",
       "fake.spectrum.main.composite.b_1           (0 +/- 4) x 10^-3  1 / (cm2 keV2 s)\n",
       "fake.spectrum.main.composite.F_2          (3.4 +/- 0.4) x 10       1 / (cm2 s)\n",
       "fake.spectrum.main.composite.mu_2     (2.504 +/- 0.011) x 10               keV\n",
       "fake.spectrum.main.composite.sigma_2   (9.7 +/- 0.9) x 10^-1               keV"
      ]
     },
     "metadata": {},
     "output_type": "display_data"
    },
    {
     "name": "stdout",
     "output_type": "stream",
     "text": [
      "\n",
      "Correlation matrix:\n",
      "\n"
     ]
    },
    {
     "data": {
      "text/html": [
       "<div><table id=\"table140462653057744\">\n",
       "<tr><td>1.00</td><td>-0.85</td><td>-0.04</td><td>0.04</td><td>-0.08</td></tr>\n",
       "<tr><td>-0.85</td><td>1.00</td><td>-0.00</td><td>-0.02</td><td>0.00</td></tr>\n",
       "<tr><td>-0.04</td><td>-0.00</td><td>1.00</td><td>-0.02</td><td>-0.10</td></tr>\n",
       "<tr><td>0.04</td><td>-0.02</td><td>-0.02</td><td>1.00</td><td>-0.30</td></tr>\n",
       "<tr><td>-0.08</td><td>0.00</td><td>-0.10</td><td>-0.30</td><td>1.00</td></tr>\n",
       "</table></div>"
      ],
      "text/plain": [
       " 1.00 -0.85 -0.04  0.04 -0.08\n",
       "-0.85  1.00 -0.00 -0.02  0.00\n",
       "-0.04 -0.00  1.00 -0.02 -0.10\n",
       " 0.04 -0.02 -0.02  1.00 -0.30\n",
       "-0.08  0.00 -0.10 -0.30  1.00"
      ]
     },
     "metadata": {},
     "output_type": "display_data"
    },
    {
     "name": "stdout",
     "output_type": "stream",
     "text": [
      "\n",
      "Values of -log(likelihood) at the minimum:\n",
      "\n"
     ]
    },
    {
     "data": {
      "text/html": [
       "<div>\n",
       "<style scoped>\n",
       "    .dataframe tbody tr th:only-of-type {\n",
       "        vertical-align: middle;\n",
       "    }\n",
       "\n",
       "    .dataframe tbody tr th {\n",
       "        vertical-align: top;\n",
       "    }\n",
       "\n",
       "    .dataframe thead th {\n",
       "        text-align: right;\n",
       "    }\n",
       "</style>\n",
       "<table border=\"1\" class=\"dataframe\">\n",
       "  <thead>\n",
       "    <tr style=\"text-align: right;\">\n",
       "      <th></th>\n",
       "      <th>-log(likelihood)</th>\n",
       "    </tr>\n",
       "  </thead>\n",
       "  <tbody>\n",
       "    <tr>\n",
       "      <th>sim_data</th>\n",
       "      <td>23.919865</td>\n",
       "    </tr>\n",
       "    <tr>\n",
       "      <th>total</th>\n",
       "      <td>23.919865</td>\n",
       "    </tr>\n",
       "  </tbody>\n",
       "</table>\n",
       "</div>"
      ],
      "text/plain": [
       "          -log(likelihood)\n",
       "sim_data         23.919865\n",
       "total            23.919865"
      ]
     },
     "metadata": {},
     "output_type": "display_data"
    },
    {
     "name": "stdout",
     "output_type": "stream",
     "text": [
      "\n",
      "Values of statistical measures:\n",
      "\n"
     ]
    },
    {
     "data": {
      "text/html": [
       "<div>\n",
       "<style scoped>\n",
       "    .dataframe tbody tr th:only-of-type {\n",
       "        vertical-align: middle;\n",
       "    }\n",
       "\n",
       "    .dataframe tbody tr th {\n",
       "        vertical-align: top;\n",
       "    }\n",
       "\n",
       "    .dataframe thead th {\n",
       "        text-align: right;\n",
       "    }\n",
       "</style>\n",
       "<table border=\"1\" class=\"dataframe\">\n",
       "  <thead>\n",
       "    <tr style=\"text-align: right;\">\n",
       "      <th></th>\n",
       "      <th>statistical measures</th>\n",
       "    </tr>\n",
       "  </thead>\n",
       "  <tbody>\n",
       "    <tr>\n",
       "      <th>AIC</th>\n",
       "      <td>59.203365</td>\n",
       "    </tr>\n",
       "    <tr>\n",
       "      <th>BIC</th>\n",
       "      <td>67.399844</td>\n",
       "    </tr>\n",
       "  </tbody>\n",
       "</table>\n",
       "</div>"
      ],
      "text/plain": [
       "     statistical measures\n",
       "AIC             59.203365\n",
       "BIC             67.399844"
      ]
     },
     "metadata": {},
     "output_type": "display_data"
    }
   ],
   "source": [
    "ar.display()"
   ]
  },
  {
   "cell_type": "markdown",
   "id": "86823dfa",
   "metadata": {},
   "source": [
    "Let's take a look at the normalization of the gaussian. To access the parameter, we take the parameter path, and we want to get the variates:"
   ]
  },
  {
   "cell_type": "code",
   "execution_count": 6,
   "id": "da4a7fd5",
   "metadata": {
    "execution": {
     "iopub.execute_input": "2021-08-23T10:46:08.649327Z",
     "iopub.status.busy": "2021-08-23T10:46:08.648750Z",
     "iopub.status.idle": "2021-08-23T10:46:08.652113Z",
     "shell.execute_reply": "2021-08-23T10:46:08.651771Z"
    }
   },
   "outputs": [],
   "source": [
    "norm = ar.get_variates(\"fake.spectrum.main.composite.F_2\")"
   ]
  },
  {
   "cell_type": "markdown",
   "id": "13a464e4",
   "metadata": {},
   "source": [
    "Now, norm is a RandomVariate."
   ]
  },
  {
   "cell_type": "code",
   "execution_count": 7,
   "id": "3ed8cae3",
   "metadata": {
    "execution": {
     "iopub.execute_input": "2021-08-23T10:46:08.656218Z",
     "iopub.status.busy": "2021-08-23T10:46:08.655701Z",
     "iopub.status.idle": "2021-08-23T10:46:08.661296Z",
     "shell.execute_reply": "2021-08-23T10:46:08.660803Z"
    }
   },
   "outputs": [
    {
     "data": {
      "text/plain": [
       "threeML.random_variates.RandomVariates"
      ]
     },
     "execution_count": 7,
     "metadata": {},
     "output_type": "execute_result"
    }
   ],
   "source": [
    "type(norm)"
   ]
  },
  {
   "cell_type": "markdown",
   "id": "099ad82b",
   "metadata": {},
   "source": [
    "This is essentially a wrapper around numpy NDArray with a few added properties. It is an array of samples. In the MLE case, they are samples from the covariance matrix (this is not at all a marginal distribution, but the parameter \"knows\" about the entire fit, i.e., it is *not* a profile) and in the Bayesian case, these are samples from the posterior (this is a marginal).\n",
    "\n",
    "The output representation for an RV are its 68% equal-tail and HPD uncertainties."
   ]
  },
  {
   "cell_type": "code",
   "execution_count": 8,
   "id": "39ea3540",
   "metadata": {
    "execution": {
     "iopub.execute_input": "2021-08-23T10:46:08.665111Z",
     "iopub.status.busy": "2021-08-23T10:46:08.664549Z",
     "iopub.status.idle": "2021-08-23T10:46:08.669732Z",
     "shell.execute_reply": "2021-08-23T10:46:08.670510Z"
    }
   },
   "outputs": [
    {
     "data": {
      "text/plain": [
       "equal-tail: (3.4 +/- 0.4) x 10, hpd: (3.4 +/- 0.4) x 10"
      ]
     },
     "execution_count": 8,
     "metadata": {},
     "output_type": "execute_result"
    }
   ],
   "source": [
    "norm"
   ]
  },
  {
   "cell_type": "markdown",
   "id": "a384184a",
   "metadata": {},
   "source": [
    "We can access these directly, and to any desired confidence level."
   ]
  },
  {
   "cell_type": "code",
   "execution_count": 9,
   "id": "d104c336",
   "metadata": {
    "execution": {
     "iopub.execute_input": "2021-08-23T10:46:08.674671Z",
     "iopub.status.busy": "2021-08-23T10:46:08.673648Z",
     "iopub.status.idle": "2021-08-23T10:46:08.677419Z",
     "shell.execute_reply": "2021-08-23T10:46:08.677842Z"
    }
   },
   "outputs": [
    {
     "data": {
      "text/plain": [
       "(25.77336960663499, 41.415693013809424)"
      ]
     },
     "execution_count": 9,
     "metadata": {},
     "output_type": "execute_result"
    }
   ],
   "source": [
    "norm.equal_tail_interval(cl=0.95)"
   ]
  },
  {
   "cell_type": "code",
   "execution_count": 10,
   "id": "036748e6",
   "metadata": {
    "execution": {
     "iopub.execute_input": "2021-08-23T10:46:08.681967Z",
     "iopub.status.busy": "2021-08-23T10:46:08.680970Z",
     "iopub.status.idle": "2021-08-23T10:46:08.685197Z",
     "shell.execute_reply": "2021-08-23T10:46:08.684682Z"
    }
   },
   "outputs": [
    {
     "data": {
      "text/plain": [
       "(31.174721541480242, 36.48416929562801)"
      ]
     },
     "execution_count": 10,
     "metadata": {},
     "output_type": "execute_result"
    }
   ],
   "source": [
    "norm.highest_posterior_density_interval(cl=0.5)"
   ]
  },
  {
   "cell_type": "markdown",
   "id": "0e566dc5",
   "metadata": {},
   "source": [
    "As stated above, the RV is made from samples. We can histogram them to show this explicitly."
   ]
  },
  {
   "cell_type": "code",
   "execution_count": 11,
   "id": "78d798ee",
   "metadata": {
    "execution": {
     "iopub.execute_input": "2021-08-23T10:46:08.710041Z",
     "iopub.status.busy": "2021-08-23T10:46:08.704492Z",
     "iopub.status.idle": "2021-08-23T10:46:08.967847Z",
     "shell.execute_reply": "2021-08-23T10:46:08.967266Z"
    },
    "tags": [
     "nbsphinx-thumbnail"
    ]
   },
   "outputs": [
    {
     "data": {
      "text/plain": [
       "Text(0.5, 0, 'norm')"
      ]
     },
     "execution_count": 11,
     "metadata": {},
     "output_type": "execute_result"
    },
    {
     "name": "stderr",
     "output_type": "stream",
     "text": [
      "findfont: Font family ['sans-serif'] not found. Falling back to DejaVu Sans.\n"
     ]
    },
    {
     "name": "stderr",
     "output_type": "stream",
     "text": [
      "findfont: Generic family 'sans-serif' not found because none of the following families were found: Helvetica\n"
     ]
    },
    {
     "name": "stderr",
     "output_type": "stream",
     "text": [
      "findfont: Font family ['sans-serif'] not found. Falling back to DejaVu Sans.\n"
     ]
    },
    {
     "name": "stderr",
     "output_type": "stream",
     "text": [
      "findfont: Generic family 'sans-serif' not found because none of the following families were found: Helvetica\n"
     ]
    },
    {
     "data": {
      "image/png": "[encoded data removed]",
      "text/plain": [
       "<Figure size 748.8x655.2 with 1 Axes>"
      ]
     },
     "metadata": {},
     "output_type": "display_data"
    }
   ],
   "source": [
    "fig, ax = plt.subplots()\n",
    "\n",
    "ax.hist(norm.samples, bins=50, ec=\"k\", fc=\"w\", lw=1.2)\n",
    "ax.set_xlabel(\"norm\")"
   ]
  },
  {
   "cell_type": "markdown",
   "id": "cf1b8469",
   "metadata": {},
   "source": [
    "We can easily transform the RV through propagation."
   ]
  },
  {
   "cell_type": "code",
   "execution_count": 12,
   "id": "e5e4f603",
   "metadata": {
    "execution": {
     "iopub.execute_input": "2021-08-23T10:46:08.971978Z",
     "iopub.status.busy": "2021-08-23T10:46:08.971452Z",
     "iopub.status.idle": "2021-08-23T10:46:08.977396Z",
     "shell.execute_reply": "2021-08-23T10:46:08.976915Z"
    }
   },
   "outputs": [
    {
     "data": {
      "text/plain": [
       "equal-tail: 1.53 +/- 0.05, hpd: 1.53 +/- 0.05"
      ]
     },
     "execution_count": 12,
     "metadata": {},
     "output_type": "execute_result"
    }
   ],
   "source": [
    "log_norm = np.log10(norm)\n",
    "log_norm"
   ]
  },
  {
   "cell_type": "code",
   "execution_count": 13,
   "id": "30611036",
   "metadata": {
    "execution": {
     "iopub.execute_input": "2021-08-23T10:46:09.104394Z",
     "iopub.status.busy": "2021-08-23T10:46:09.103831Z",
     "iopub.status.idle": "2021-08-23T10:46:09.369580Z",
     "shell.execute_reply": "2021-08-23T10:46:09.370076Z"
    }
   },
   "outputs": [
    {
     "data": {
      "text/plain": [
       "Text(0.5, 0, 'log norm')"
      ]
     },
     "execution_count": 13,
     "metadata": {},
     "output_type": "execute_result"
    },
    {
     "data": {
      "image/png": "[encoded data removed]",
      "text/plain": [
       "<Figure size 748.8x655.2 with 1 Axes>"
      ]
     },
     "metadata": {},
     "output_type": "display_data"
    }
   ],
   "source": [
    "fig, ax = plt.subplots()\n",
    "\n",
    "ax.hist(log_norm.samples, bins=50, ec=\"k\", fc=\"w\", lw=1.2)\n",
    "ax.set_xlabel(\"log norm\")"
   ]
  },
  {
   "cell_type": "raw",
   "id": "31fbd5e9",
   "metadata": {},
   "source": [
    ".. note::\n",
    "    Some operations will destroy the RV by accessing only its NDArray substructure. For example, using an RV with astropy units will return an array of samples with the given units."
   ]
  }
 ],
 "metadata": {
  "jupytext": {
   "formats": "ipynb,md"
  },
  "kernelspec": {
   "display_name": "Python 3",
   "language": "python",
   "name": "python3"
  },
  "language_info": {
   "codemirror_mode": {
    "name": "ipython",
    "version": 3
   },
   "file_extension": ".py",
   "mimetype": "text/x-python",
   "name": "python",
   "nbconvert_exporter": "python",
   "pygments_lexer": "ipython3",
   "version": "3.7.11"
  }
 },
 "nbformat": 4,
 "nbformat_minor": 5
}
