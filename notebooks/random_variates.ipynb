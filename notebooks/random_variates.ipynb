{
 "cells": [
  {
   "cell_type": "markdown",
   "id": "8b811b48",
   "metadata": {},
   "source": [
    "# Random Variates\n",
    "\n",
    "When we perform a fit or load and analysis result, the parmeters of our model become distributions in the AnalysisResults object. These are actaully instantiactions of the RandomVaraiates class.\n",
    "\n",
    "While we have covered most of the functionality of RandomVariates in the AnalysisResults section, we want to highlight a few of the details here.\n"
   ]
  },
  {
   "cell_type": "code",
   "execution_count": 1,
   "id": "c66e874f",
   "metadata": {
    "execution": {
     "iopub.execute_input": "2021-08-23T11:49:08.319630Z",
     "iopub.status.busy": "2021-08-23T11:49:08.319068Z",
     "iopub.status.idle": "2021-08-23T11:49:08.398780Z",
     "shell.execute_reply": "2021-08-23T11:49:08.399218Z"
    },
    "lines_to_next_cell": 0
   },
   "outputs": [
    {
     "data": {
      "text/plain": [
       "{'divide': 'warn', 'over': 'warn', 'under': 'ignore', 'invalid': 'warn'}"
      ]
     },
     "execution_count": 1,
     "metadata": {},
     "output_type": "execute_result"
    }
   ],
   "source": [
    "import warnings\n",
    "\n",
    "warnings.simplefilter(\"ignore\")\n",
    "import numpy as np\n",
    "\n",
    "np.seterr(all=\"ignore\")"
   ]
  },
  {
   "cell_type": "markdown",
   "id": "67d87c28",
   "metadata": {},
   "source": [
    "\n"
   ]
  },
  {
   "cell_type": "code",
   "execution_count": 2,
   "id": "19cc03f0",
   "metadata": {
    "execution": {
     "iopub.execute_input": "2021-08-23T11:49:08.404955Z",
     "iopub.status.busy": "2021-08-23T11:49:08.404416Z",
     "iopub.status.idle": "2021-08-23T11:49:11.119476Z",
     "shell.execute_reply": "2021-08-23T11:49:11.119929Z"
    }
   },
   "outputs": [],
   "source": [
    "%%capture\n",
    "import matplotlib.pyplot as plt\n",
    "from threeML import *"
   ]
  },
  {
   "cell_type": "code",
   "execution_count": 3,
   "id": "d8cf30cd",
   "metadata": {
    "execution": {
     "iopub.execute_input": "2021-08-23T11:49:11.125674Z",
     "iopub.status.busy": "2021-08-23T11:49:11.124908Z",
     "iopub.status.idle": "2021-08-23T11:49:11.153793Z",
     "shell.execute_reply": "2021-08-23T11:49:11.153014Z"
    },
    "lines_to_next_cell": 2
   },
   "outputs": [],
   "source": [
    "from jupyterthemes import jtplot\n",
    "\n",
    "%matplotlib inline\n",
    "jtplot.style(context=\"talk\", fscale=1, ticks=True, grid=False)\n",
    "set_threeML_style()\n",
    "silence_warnings()"
   ]
  },
  {
   "cell_type": "markdown",
   "id": "06cb6fc9",
   "metadata": {},
   "source": [
    "Let's load back our fit of the line + gaussian from the AnalysisResults section."
   ]
  },
  {
   "cell_type": "code",
   "execution_count": 4,
   "id": "bc13353c",
   "metadata": {
    "execution": {
     "iopub.execute_input": "2021-08-23T11:49:11.165298Z",
     "iopub.status.busy": "2021-08-23T11:49:11.157838Z",
     "iopub.status.idle": "2021-08-23T11:49:11.246957Z",
     "shell.execute_reply": "2021-08-23T11:49:11.247431Z"
    }
   },
   "outputs": [],
   "source": [
    "ar = load_analysis_results(\"test_mle.fits\")"
   ]
  },
  {
   "cell_type": "markdown",
   "id": "03a0ea02",
   "metadata": {},
   "source": [
    "When we display our fit, we can see the **parameter paths** of the model. What if we want specific information on a parameter(s)?"
   ]
  },
  {
   "cell_type": "code",
   "execution_count": 5,
   "id": "b449806d",
   "metadata": {
    "execution": {
     "iopub.execute_input": "2021-08-23T11:49:11.269133Z",
     "iopub.status.busy": "2021-08-23T11:49:11.268514Z",
     "iopub.status.idle": "2021-08-23T11:49:11.298675Z",
     "shell.execute_reply": "2021-08-23T11:49:11.298049Z"
    }
   },
   "outputs": [
    {
     "name": "stdout",
     "output_type": "stream",
     "text": [
      "Best fit values:\n",
      "\n"
     ]
    },
    {
     "data": {
      "text/html": [
       "<div>\n",
       "<style scoped>\n",
       "    .dataframe tbody tr th:only-of-type {\n",
       "        vertical-align: middle;\n",
       "    }\n",
       "\n",
       "    .dataframe tbody tr th {\n",
       "        vertical-align: top;\n",
       "    }\n",
       "\n",
       "    .dataframe thead th {\n",
       "        text-align: right;\n",
       "    }\n",
       "</style>\n",
       "<table border=\"1\" class=\"dataframe\">\n",
       "  <thead>\n",
       "    <tr style=\"text-align: right;\">\n",
       "      <th></th>\n",
       "      <th>result</th>\n",
       "      <th>unit</th>\n",
       "    </tr>\n",
       "    <tr>\n",
       "      <th>parameter</th>\n",
       "      <th></th>\n",
       "      <th></th>\n",
       "    </tr>\n",
       "  </thead>\n",
       "  <tbody>\n",
       "    <tr>\n",
       "      <th>fake.spectrum.main.composite.a_1</th>\n",
       "      <td>1.91 +/- 0.11</td>\n",
       "      <td>1 / (cm2 keV s)</td>\n",
       "    </tr>\n",
       "    <tr>\n",
       "      <th>fake.spectrum.main.composite.b_1</th>\n",
       "      <td>(2 +/- 4) x 10^-3</td>\n",
       "      <td>1 / (cm2 keV2 s)</td>\n",
       "    </tr>\n",
       "    <tr>\n",
       "      <th>fake.spectrum.main.composite.F_2</th>\n",
       "      <td>(3.2 +/- 0.4) x 10</td>\n",
       "      <td>1 / (cm2 s)</td>\n",
       "    </tr>\n",
       "    <tr>\n",
       "      <th>fake.spectrum.main.composite.mu_2</th>\n",
       "      <td>(2.498 +/- 0.011) x 10</td>\n",
       "      <td>keV</td>\n",
       "    </tr>\n",
       "    <tr>\n",
       "      <th>fake.spectrum.main.composite.sigma_2</th>\n",
       "      <td>(9.5 +/- 0.9) x 10^-1</td>\n",
       "      <td>keV</td>\n",
       "    </tr>\n",
       "  </tbody>\n",
       "</table>\n",
       "</div>"
      ],
      "text/plain": [
       "                                                      result              unit\n",
       "parameter                                                                     \n",
       "fake.spectrum.main.composite.a_1               1.91 +/- 0.11   1 / (cm2 keV s)\n",
       "fake.spectrum.main.composite.b_1           (2 +/- 4) x 10^-3  1 / (cm2 keV2 s)\n",
       "fake.spectrum.main.composite.F_2          (3.2 +/- 0.4) x 10       1 / (cm2 s)\n",
       "fake.spectrum.main.composite.mu_2     (2.498 +/- 0.011) x 10               keV\n",
       "fake.spectrum.main.composite.sigma_2   (9.5 +/- 0.9) x 10^-1               keV"
      ]
     },
     "metadata": {},
     "output_type": "display_data"
    },
    {
     "name": "stdout",
     "output_type": "stream",
     "text": [
      "\n",
      "Correlation matrix:\n",
      "\n"
     ]
    },
    {
     "data": {
      "text/html": [
       "<div><table id=\"table140432143543632\">\n",
       "<tr><td>1.00</td><td>-0.85</td><td>-0.04</td><td>0.01</td><td>-0.07</td></tr>\n",
       "<tr><td>-0.85</td><td>1.00</td><td>0.00</td><td>-0.02</td><td>-0.00</td></tr>\n",
       "<tr><td>-0.04</td><td>0.00</td><td>1.00</td><td>0.02</td><td>-0.09</td></tr>\n",
       "<tr><td>0.01</td><td>-0.02</td><td>0.02</td><td>1.00</td><td>0.11</td></tr>\n",
       "<tr><td>-0.07</td><td>-0.00</td><td>-0.09</td><td>0.11</td><td>1.00</td></tr>\n",
       "</table></div>"
      ],
      "text/plain": [
       " 1.00 -0.85 -0.04  0.01 -0.07\n",
       "-0.85  1.00  0.00 -0.02 -0.00\n",
       "-0.04  0.00  1.00  0.02 -0.09\n",
       " 0.01 -0.02  0.02  1.00  0.11\n",
       "-0.07 -0.00 -0.09  0.11  1.00"
      ]
     },
     "metadata": {},
     "output_type": "display_data"
    },
    {
     "name": "stdout",
     "output_type": "stream",
     "text": [
      "\n",
      "Values of -log(likelihood) at the minimum:\n",
      "\n"
     ]
    },
    {
     "data": {
      "text/html": [
       "<div>\n",
       "<style scoped>\n",
       "    .dataframe tbody tr th:only-of-type {\n",
       "        vertical-align: middle;\n",
       "    }\n",
       "\n",
       "    .dataframe tbody tr th {\n",
       "        vertical-align: top;\n",
       "    }\n",
       "\n",
       "    .dataframe thead th {\n",
       "        text-align: right;\n",
       "    }\n",
       "</style>\n",
       "<table border=\"1\" class=\"dataframe\">\n",
       "  <thead>\n",
       "    <tr style=\"text-align: right;\">\n",
       "      <th></th>\n",
       "      <th>-log(likelihood)</th>\n",
       "    </tr>\n",
       "  </thead>\n",
       "  <tbody>\n",
       "    <tr>\n",
       "      <th>sim_data</th>\n",
       "      <td>20.76312</td>\n",
       "    </tr>\n",
       "    <tr>\n",
       "      <th>total</th>\n",
       "      <td>20.76312</td>\n",
       "    </tr>\n",
       "  </tbody>\n",
       "</table>\n",
       "</div>"
      ],
      "text/plain": [
       "          -log(likelihood)\n",
       "sim_data          20.76312\n",
       "total             20.76312"
      ]
     },
     "metadata": {},
     "output_type": "display_data"
    },
    {
     "name": "stdout",
     "output_type": "stream",
     "text": [
      "\n",
      "Values of statistical measures:\n",
      "\n"
     ]
    },
    {
     "data": {
      "text/html": [
       "<div>\n",
       "<style scoped>\n",
       "    .dataframe tbody tr th:only-of-type {\n",
       "        vertical-align: middle;\n",
       "    }\n",
       "\n",
       "    .dataframe tbody tr th {\n",
       "        vertical-align: top;\n",
       "    }\n",
       "\n",
       "    .dataframe thead th {\n",
       "        text-align: right;\n",
       "    }\n",
       "</style>\n",
       "<table border=\"1\" class=\"dataframe\">\n",
       "  <thead>\n",
       "    <tr style=\"text-align: right;\">\n",
       "      <th></th>\n",
       "      <th>statistical measures</th>\n",
       "    </tr>\n",
       "  </thead>\n",
       "  <tbody>\n",
       "    <tr>\n",
       "      <th>AIC</th>\n",
       "      <td>52.889877</td>\n",
       "    </tr>\n",
       "    <tr>\n",
       "      <th>BIC</th>\n",
       "      <td>61.086355</td>\n",
       "    </tr>\n",
       "  </tbody>\n",
       "</table>\n",
       "</div>"
      ],
      "text/plain": [
       "     statistical measures\n",
       "AIC             52.889877\n",
       "BIC             61.086355"
      ]
     },
     "metadata": {},
     "output_type": "display_data"
    }
   ],
   "source": [
    "ar.display()"
   ]
  },
  {
   "cell_type": "markdown",
   "id": "8893952f",
   "metadata": {},
   "source": [
    "Let's take a look at the normalization of the gaussian. To access the parameter, we take the parameter path, and we want to get the variates:"
   ]
  },
  {
   "cell_type": "code",
   "execution_count": 6,
   "id": "cae68798",
   "metadata": {
    "execution": {
     "iopub.execute_input": "2021-08-23T11:49:11.303746Z",
     "iopub.status.busy": "2021-08-23T11:49:11.303125Z",
     "iopub.status.idle": "2021-08-23T11:49:11.305829Z",
     "shell.execute_reply": "2021-08-23T11:49:11.305357Z"
    }
   },
   "outputs": [],
   "source": [
    "norm = ar.get_variates(\"fake.spectrum.main.composite.F_2\")"
   ]
  },
  {
   "cell_type": "markdown",
   "id": "f6766bc2",
   "metadata": {},
   "source": [
    "Now, norm is a RandomVariate."
   ]
  },
  {
   "cell_type": "code",
   "execution_count": 7,
   "id": "bacac03b",
   "metadata": {
    "execution": {
     "iopub.execute_input": "2021-08-23T11:49:11.311495Z",
     "iopub.status.busy": "2021-08-23T11:49:11.310880Z",
     "iopub.status.idle": "2021-08-23T11:49:11.313586Z",
     "shell.execute_reply": "2021-08-23T11:49:11.314032Z"
    }
   },
   "outputs": [
    {
     "data": {
      "text/plain": [
       "threeML.random_variates.RandomVariates"
      ]
     },
     "execution_count": 7,
     "metadata": {},
     "output_type": "execute_result"
    }
   ],
   "source": [
    "type(norm)"
   ]
  },
  {
   "cell_type": "markdown",
   "id": "14782a1d",
   "metadata": {},
   "source": [
    "This is essentially a wrapper around numpy NDArray with a few added properties. It is an array of samples. In the MLE case, they are samples from the covariance matrix (this is not at all a marginal distribution, but the parameter \"knows\" about the entire fit, i.e., it is *not* a profile) and in the Bayesian case, these are samples from the posterior (this is a marginal).\n",
    "\n",
    "The output representation for an RV are its 68% equal-tail and HPD uncertainties."
   ]
  },
  {
   "cell_type": "code",
   "execution_count": 8,
   "id": "c2e444a8",
   "metadata": {
    "execution": {
     "iopub.execute_input": "2021-08-23T11:49:11.318152Z",
     "iopub.status.busy": "2021-08-23T11:49:11.317542Z",
     "iopub.status.idle": "2021-08-23T11:49:11.323003Z",
     "shell.execute_reply": "2021-08-23T11:49:11.322526Z"
    }
   },
   "outputs": [
    {
     "data": {
      "text/plain": [
       "equal-tail: (3.2 +/- 0.4) x 10, hpd: (3.2 +/- 0.4) x 10"
      ]
     },
     "execution_count": 8,
     "metadata": {},
     "output_type": "execute_result"
    }
   ],
   "source": [
    "norm"
   ]
  },
  {
   "cell_type": "markdown",
   "id": "d4e03226",
   "metadata": {},
   "source": [
    "We can access these directly, and to any desired confidence level."
   ]
  },
  {
   "cell_type": "code",
   "execution_count": 9,
   "id": "124348f3",
   "metadata": {
    "execution": {
     "iopub.execute_input": "2021-08-23T11:49:11.329197Z",
     "iopub.status.busy": "2021-08-23T11:49:11.328609Z",
     "iopub.status.idle": "2021-08-23T11:49:11.331287Z",
     "shell.execute_reply": "2021-08-23T11:49:11.331739Z"
    }
   },
   "outputs": [
    {
     "data": {
      "text/plain": [
       "(23.982501835259765, 39.774816978355545)"
      ]
     },
     "execution_count": 9,
     "metadata": {},
     "output_type": "execute_result"
    }
   ],
   "source": [
    "norm.equal_tail_interval(cl=0.95)"
   ]
  },
  {
   "cell_type": "code",
   "execution_count": 10,
   "id": "b6a18b78",
   "metadata": {
    "execution": {
     "iopub.execute_input": "2021-08-23T11:49:11.336547Z",
     "iopub.status.busy": "2021-08-23T11:49:11.334943Z",
     "iopub.status.idle": "2021-08-23T11:49:11.338864Z",
     "shell.execute_reply": "2021-08-23T11:49:11.339346Z"
    }
   },
   "outputs": [
    {
     "data": {
      "text/plain": [
       "(29.052114566428905, 34.382899093447875)"
      ]
     },
     "execution_count": 10,
     "metadata": {},
     "output_type": "execute_result"
    }
   ],
   "source": [
    "norm.highest_posterior_density_interval(cl=0.5)"
   ]
  },
  {
   "cell_type": "markdown",
   "id": "36462e65",
   "metadata": {},
   "source": [
    "As stated above, the RV is made from samples. We can histogram them to show this explicitly."
   ]
  },
  {
   "cell_type": "code",
   "execution_count": 11,
   "id": "d9d3df9c",
   "metadata": {
    "execution": {
     "iopub.execute_input": "2021-08-23T11:49:11.366786Z",
     "iopub.status.busy": "2021-08-23T11:49:11.366243Z",
     "iopub.status.idle": "2021-08-23T11:49:11.682118Z",
     "shell.execute_reply": "2021-08-23T11:49:11.681623Z"
    },
    "tags": [
     "nbsphinx-thumbnail"
    ]
   },
   "outputs": [
    {
     "data": {
      "text/plain": [
       "Text(0.5, 0, 'norm')"
      ]
     },
     "execution_count": 11,
     "metadata": {},
     "output_type": "execute_result"
    },
    {
     "name": "stderr",
     "output_type": "stream",
     "text": [
      "findfont: Font family ['sans-serif'] not found. Falling back to DejaVu Sans.\n"
     ]
    },
    {
     "name": "stderr",
     "output_type": "stream",
     "text": [
      "findfont: Generic family 'sans-serif' not found because none of the following families were found: Helvetica\n"
     ]
    },
    {
     "name": "stderr",
     "output_type": "stream",
     "text": [
      "findfont: Font family ['sans-serif'] not found. Falling back to DejaVu Sans.\n"
     ]
    },
    {
     "name": "stderr",
     "output_type": "stream",
     "text": [
      "findfont: Generic family 'sans-serif' not found because none of the following families were found: Helvetica\n"
     ]
    },
    {
     "data": {
      "image/png": "[encoded data removed]",
      "text/plain": [
       "<Figure size 748.8x655.2 with 1 Axes>"
      ]
     },
     "metadata": {},
     "output_type": "display_data"
    }
   ],
   "source": [
    "fig, ax = plt.subplots()\n",
    "\n",
    "ax.hist(norm.samples, bins=50, ec=\"k\", fc=\"w\", lw=1.2)\n",
    "ax.set_xlabel(\"norm\")"
   ]
  },
  {
   "cell_type": "markdown",
   "id": "0a9d07cc",
   "metadata": {},
   "source": [
    "We can easily transform the RV through propagation."
   ]
  },
  {
   "cell_type": "code",
   "execution_count": 12,
   "id": "099ce18a",
   "metadata": {
    "execution": {
     "iopub.execute_input": "2021-08-23T11:49:11.686379Z",
     "iopub.status.busy": "2021-08-23T11:49:11.685815Z",
     "iopub.status.idle": "2021-08-23T11:49:11.691784Z",
     "shell.execute_reply": "2021-08-23T11:49:11.692300Z"
    }
   },
   "outputs": [
    {
     "data": {
      "text/plain": [
       "equal-tail: 1.50 -0.06 +0.05, hpd: 1.50 +/- 0.05"
      ]
     },
     "execution_count": 12,
     "metadata": {},
     "output_type": "execute_result"
    }
   ],
   "source": [
    "log_norm = np.log10(norm)\n",
    "log_norm"
   ]
  },
  {
   "cell_type": "code",
   "execution_count": 13,
   "id": "1189c889",
   "metadata": {
    "execution": {
     "iopub.execute_input": "2021-08-23T11:49:11.846526Z",
     "iopub.status.busy": "2021-08-23T11:49:11.837954Z",
     "iopub.status.idle": "2021-08-23T11:49:12.147838Z",
     "shell.execute_reply": "2021-08-23T11:49:12.148251Z"
    }
   },
   "outputs": [
    {
     "data": {
      "text/plain": [
       "Text(0.5, 0, 'log norm')"
      ]
     },
     "execution_count": 13,
     "metadata": {},
     "output_type": "execute_result"
    },
    {
     "data": {
      "image/png": "[encoded data removed]",
      "text/plain": [
       "<Figure size 748.8x655.2 with 1 Axes>"
      ]
     },
     "metadata": {},
     "output_type": "display_data"
    }
   ],
   "source": [
    "fig, ax = plt.subplots()\n",
    "\n",
    "ax.hist(log_norm.samples, bins=50, ec=\"k\", fc=\"w\", lw=1.2)\n",
    "ax.set_xlabel(\"log norm\")"
   ]
  },
  {
   "cell_type": "raw",
   "id": "f36532e7",
   "metadata": {},
   "source": [
    ".. note::\n",
    "    Some operations will destroy the RV by accessing only its NDArray substructure. For example, using an RV with astropy units will return an array of samples with the given units."
   ]
  }
 ],
 "metadata": {
  "jupytext": {
   "formats": "ipynb,md"
  },
  "kernelspec": {
   "display_name": "Python 3",
   "language": "python",
   "name": "python3"
  },
  "language_info": {
   "codemirror_mode": {
    "name": "ipython",
    "version": 3
   },
   "file_extension": ".py",
   "mimetype": "text/x-python",
   "name": "python",
   "nbconvert_exporter": "python",
   "pygments_lexer": "ipython3",
   "version": "3.7.11"
  }
 },
 "nbformat": 4,
 "nbformat_minor": 5
}
