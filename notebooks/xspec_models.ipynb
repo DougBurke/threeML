{
 "cells": [
  {
   "cell_type": "markdown",
   "id": "d39795ad",
   "metadata": {},
   "source": [
    "\\---\n",
    "jupyter:\n",
    "  jupytext:\n",
    "    formats: ipynb,md\n",
    "    text_representation:\n",
    "      extension: .md\n",
    "      format_name: markdown\n",
    "      format_version: '1.2'\n",
    "      jupytext_version: 1.7.1\n",
    "  kernelspec:\n",
    "    display_name: Python 3\n",
    "    language: python\n",
    "    name: python3\n",
    "---"
   ]
  },
  {
   "cell_type": "markdown",
   "id": "b49c72aa",
   "metadata": {
    "lines_to_next_cell": 2
   },
   "source": [
    "## Working with XSPEC models\n",
    "\n",
    "One of the most powerful aspects of **XSPEC** is a huge modeling community. While in 3ML, we are focused on building a powerful and modular data analysis tool, we cannot neglect the need for many of the models thahat already exist in **XSPEC** and thus provide support for them via **astromodels** directly in 3ML.\n",
    "\n",
    "For details on installing **astromodels** with **XSPEC** support, visit the 3ML or **astromodels** installation page.\n",
    "\n",
    "\n",
    "Let's explore how we can use **XSPEC** spectral models in 3ML."
   ]
  },
  {
   "cell_type": "code",
   "execution_count": 1,
   "id": "640c67b5",
   "metadata": {
    "execution": {
     "iopub.execute_input": "2021-08-23T12:16:40.975056Z",
     "iopub.status.busy": "2021-08-23T12:16:40.974116Z",
     "iopub.status.idle": "2021-08-23T12:16:41.088147Z",
     "shell.execute_reply": "2021-08-23T12:16:41.088746Z"
    }
   },
   "outputs": [
    {
     "data": {
      "text/plain": [
       "{'divide': 'warn', 'over': 'warn', 'under': 'ignore', 'invalid': 'warn'}"
      ]
     },
     "execution_count": 1,
     "metadata": {},
     "output_type": "execute_result"
    }
   ],
   "source": [
    "import warnings\n",
    "\n",
    "warnings.simplefilter(\"ignore\")\n",
    "import numpy as np\n",
    "\n",
    "np.seterr(all=\"ignore\")"
   ]
  },
  {
   "cell_type": "code",
   "execution_count": 2,
   "id": "c0070d79",
   "metadata": {
    "execution": {
     "iopub.execute_input": "2021-08-23T12:16:41.093951Z",
     "iopub.status.busy": "2021-08-23T12:16:41.093042Z",
     "iopub.status.idle": "2021-08-23T12:16:41.357987Z",
     "shell.execute_reply": "2021-08-23T12:16:41.358612Z"
    }
   },
   "outputs": [],
   "source": [
    "import matplotlib.pyplot as plt"
   ]
  },
  {
   "cell_type": "code",
   "execution_count": 3,
   "id": "5b13d9ea",
   "metadata": {
    "execution": {
     "iopub.execute_input": "2021-08-23T12:16:41.366099Z",
     "iopub.status.busy": "2021-08-23T12:16:41.365132Z",
     "iopub.status.idle": "2021-08-23T12:16:58.547448Z",
     "shell.execute_reply": "2021-08-23T12:16:58.547971Z"
    },
    "lines_to_next_cell": 2
   },
   "outputs": [],
   "source": [
    "%%capture\n",
    "from threeML import set_threeML_style\n",
    "from jupyterthemes import jtplot\n",
    "\n",
    "%matplotlib inline\n",
    "jtplot.style(context=\"talk\", fscale=1, ticks=True, grid=False)\n",
    "\n",
    "\n",
    "set_threeML_style()"
   ]
  },
  {
   "cell_type": "markdown",
   "id": "1fb0d1e7",
   "metadata": {},
   "source": [
    "We do not load the models by default as this takes some time and 3ML should load quickly. However, if you need the **XSPEC** models, they are imported from astromodels like this:"
   ]
  },
  {
   "cell_type": "code",
   "execution_count": 4,
   "id": "b3dacebe",
   "metadata": {
    "execution": {
     "iopub.execute_input": "2021-08-23T12:16:58.553500Z",
     "iopub.status.busy": "2021-08-23T12:16:58.552644Z",
     "iopub.status.idle": "2021-08-23T12:20:23.861890Z",
     "shell.execute_reply": "2021-08-23T12:20:23.862500Z"
    }
   },
   "outputs": [
    {
     "name": "stdout",
     "output_type": "stream",
     "text": [
      "Loading xspec models..."
     ]
    },
    {
     "name": "stdout",
     "output_type": "stream",
     "text": [
      "Generating code for Xspec model agauss...\n"
     ]
    },
    {
     "name": "stdout",
     "output_type": "stream",
     "text": [
      "Generating code for Xspec model agnsed...\n"
     ]
    },
    {
     "name": "stdout",
     "output_type": "stream",
     "text": [
      "Generating code for Xspec model apec...\n"
     ]
    },
    {
     "name": "stdout",
     "output_type": "stream",
     "text": [
      "Generating code for Xspec model bapec...\n"
     ]
    },
    {
     "name": "stdout",
     "output_type": "stream",
     "text": [
      "Generating code for Xspec model btapec...\n"
     ]
    },
    {
     "name": "stdout",
     "output_type": "stream",
     "text": [
      "Generating code for Xspec model bbody...\n"
     ]
    },
    {
     "name": "stdout",
     "output_type": "stream",
     "text": [
      "Generating code for Xspec model bbodyrad...\n"
     ]
    },
    {
     "name": "stdout",
     "output_type": "stream",
     "text": [
      "Generating code for Xspec model bexrav...\n"
     ]
    },
    {
     "name": "stdout",
     "output_type": "stream",
     "text": [
      "Generating code for Xspec model bexriv...\n"
     ]
    },
    {
     "name": "stdout",
     "output_type": "stream",
     "text": [
      "Generating code for Xspec model bknpower...\n"
     ]
    },
    {
     "name": "stdout",
     "output_type": "stream",
     "text": [
      "Generating code for Xspec model bkn2pow...\n"
     ]
    },
    {
     "name": "stdout",
     "output_type": "stream",
     "text": [
      "Generating code for Xspec model bmc...\n"
     ]
    },
    {
     "name": "stdout",
     "output_type": "stream",
     "text": [
      "Generating code for Xspec model bremss...\n"
     ]
    },
    {
     "name": "stdout",
     "output_type": "stream",
     "text": [
      "Generating code for Xspec model brnei...\n"
     ]
    },
    {
     "name": "stdout",
     "output_type": "stream",
     "text": [
      "Generating code for Xspec model bvapec...\n"
     ]
    },
    {
     "name": "stdout",
     "output_type": "stream",
     "text": [
      "Generating code for Xspec model bvrnei...\n"
     ]
    },
    {
     "name": "stdout",
     "output_type": "stream",
     "text": [
      "Generating code for Xspec model bvtapec...\n"
     ]
    },
    {
     "name": "stdout",
     "output_type": "stream",
     "text": [
      "Generating code for Xspec model bvvapec...\n"
     ]
    },
    {
     "name": "stdout",
     "output_type": "stream",
     "text": [
      "Generating code for Xspec model bvvrnei...\n"
     ]
    },
    {
     "name": "stdout",
     "output_type": "stream",
     "text": [
      "Generating code for Xspec model bvvtapec...\n"
     ]
    },
    {
     "name": "stdout",
     "output_type": "stream",
     "text": [
      "Generating code for Xspec model c6mekl...\n"
     ]
    },
    {
     "name": "stdout",
     "output_type": "stream",
     "text": [
      "Generating code for Xspec model c6pmekl...\n"
     ]
    },
    {
     "name": "stdout",
     "output_type": "stream",
     "text": [
      "Generating code for Xspec model c6pvmkl...\n"
     ]
    },
    {
     "name": "stdout",
     "output_type": "stream",
     "text": [
      "Generating code for Xspec model c6vmekl...\n"
     ]
    },
    {
     "name": "stdout",
     "output_type": "stream",
     "text": [
      "Generating code for Xspec model carbatm...\n"
     ]
    },
    {
     "name": "stdout",
     "output_type": "stream",
     "text": [
      "Generating code for Xspec model cemekl...\n"
     ]
    },
    {
     "name": "stdout",
     "output_type": "stream",
     "text": [
      "Generating code for Xspec model cevmkl...\n"
     ]
    },
    {
     "name": "stdout",
     "output_type": "stream",
     "text": [
      "Generating code for Xspec model cflow...\n"
     ]
    },
    {
     "name": "stdout",
     "output_type": "stream",
     "text": [
      "Generating code for Xspec model compbb...\n"
     ]
    },
    {
     "name": "stdout",
     "output_type": "stream",
     "text": [
      "Generating code for Xspec model compLS...\n"
     ]
    },
    {
     "name": "stdout",
     "output_type": "stream",
     "text": [
      "Generating code for Xspec model compPS...\n"
     ]
    },
    {
     "name": "stdout",
     "output_type": "stream",
     "text": [
      "Generating code for Xspec model compST...\n"
     ]
    },
    {
     "name": "stdout",
     "output_type": "stream",
     "text": [
      "Generating code for Xspec model compth...\n"
     ]
    },
    {
     "name": "stdout",
     "output_type": "stream",
     "text": [
      "Generating code for Xspec model compTT...\n"
     ]
    },
    {
     "name": "stdout",
     "output_type": "stream",
     "text": [
      "Generating code for Xspec model cph...\n"
     ]
    },
    {
     "name": "stdout",
     "output_type": "stream",
     "text": [
      "Generating code for Xspec model cplinear...\n"
     ]
    },
    {
     "name": "stdout",
     "output_type": "stream",
     "text": [
      "Generating code for Xspec model cutoffpl...\n"
     ]
    },
    {
     "name": "stdout",
     "output_type": "stream",
     "text": [
      "Generating code for Xspec model disk...\n"
     ]
    },
    {
     "name": "stdout",
     "output_type": "stream",
     "text": [
      "Generating code for Xspec model diskir...\n"
     ]
    },
    {
     "name": "stdout",
     "output_type": "stream",
     "text": [
      "Generating code for Xspec model diskbb...\n"
     ]
    },
    {
     "name": "stdout",
     "output_type": "stream",
     "text": [
      "Generating code for Xspec model diskline...\n"
     ]
    },
    {
     "name": "stdout",
     "output_type": "stream",
     "text": [
      "Generating code for Xspec model diskm...\n"
     ]
    },
    {
     "name": "stdout",
     "output_type": "stream",
     "text": [
      "Generating code for Xspec model disko...\n"
     ]
    },
    {
     "name": "stdout",
     "output_type": "stream",
     "text": [
      "Generating code for Xspec model diskpbb...\n"
     ]
    },
    {
     "name": "stdout",
     "output_type": "stream",
     "text": [
      "Generating code for Xspec model diskpn...\n"
     ]
    },
    {
     "name": "stdout",
     "output_type": "stream",
     "text": [
      "Generating code for Xspec model eplogpar...\n"
     ]
    },
    {
     "name": "stdout",
     "output_type": "stream",
     "text": [
      "Generating code for Xspec model eqpair...\n"
     ]
    },
    {
     "name": "stdout",
     "output_type": "stream",
     "text": [
      "Generating code for Xspec model eqtherm...\n"
     ]
    },
    {
     "name": "stdout",
     "output_type": "stream",
     "text": [
      "Generating code for Xspec model equil...\n"
     ]
    },
    {
     "name": "stdout",
     "output_type": "stream",
     "text": [
      "Generating code for Xspec model expdec...\n"
     ]
    },
    {
     "name": "stdout",
     "output_type": "stream",
     "text": [
      "Generating code for Xspec model ezdiskbb...\n"
     ]
    },
    {
     "name": "stdout",
     "output_type": "stream",
     "text": [
      "Generating code for Xspec model gaussian...\n"
     ]
    },
    {
     "name": "stdout",
     "output_type": "stream",
     "text": [
      "Generating code for Xspec model gadem...\n"
     ]
    },
    {
     "name": "stdout",
     "output_type": "stream",
     "text": [
      "Generating code for Xspec model gnei...\n"
     ]
    },
    {
     "name": "stdout",
     "output_type": "stream",
     "text": [
      "Generating code for Xspec model grad...\n"
     ]
    },
    {
     "name": "stdout",
     "output_type": "stream",
     "text": [
      "Generating code for Xspec model grbm...\n"
     ]
    },
    {
     "name": "stdout",
     "output_type": "stream",
     "text": [
      "Generating code for Xspec model hatm...\n"
     ]
    },
    {
     "name": "stdout",
     "output_type": "stream",
     "text": [
      "Generating code for Xspec model jet...\n"
     ]
    },
    {
     "name": "stdout",
     "output_type": "stream",
     "text": [
      "Generating code for Xspec model kerrbb...\n"
     ]
    },
    {
     "name": "stdout",
     "output_type": "stream",
     "text": [
      "Generating code for Xspec model kerrdisk...\n"
     ]
    },
    {
     "name": "stdout",
     "output_type": "stream",
     "text": [
      "Generating code for Xspec model kyrline...\n"
     ]
    },
    {
     "name": "stdout",
     "output_type": "stream",
     "text": [
      "Generating code for Xspec model laor...\n"
     ]
    },
    {
     "name": "stdout",
     "output_type": "stream",
     "text": [
      "Generating code for Xspec model laor2...\n"
     ]
    },
    {
     "name": "stdout",
     "output_type": "stream",
     "text": [
      "Generating code for Xspec model logpar...\n"
     ]
    },
    {
     "name": "stdout",
     "output_type": "stream",
     "text": [
      "Generating code for Xspec model lorentz...\n"
     ]
    },
    {
     "name": "stdout",
     "output_type": "stream",
     "text": [
      "Generating code for Xspec model meka...\n"
     ]
    },
    {
     "name": "stdout",
     "output_type": "stream",
     "text": [
      "Generating code for Xspec model mekal...\n"
     ]
    },
    {
     "name": "stdout",
     "output_type": "stream",
     "text": [
      "Generating code for Xspec model mkcflow...\n"
     ]
    },
    {
     "name": "stdout",
     "output_type": "stream",
     "text": [
      "Generating code for Xspec model nei...\n"
     ]
    },
    {
     "name": "stdout",
     "output_type": "stream",
     "text": [
      "Generating code for Xspec model nlapec...\n"
     ]
    },
    {
     "name": "stdout",
     "output_type": "stream",
     "text": [
      "Generating code for Xspec model npshock...\n"
     ]
    },
    {
     "name": "stdout",
     "output_type": "stream",
     "text": [
      "Generating code for Xspec model nsa...\n"
     ]
    },
    {
     "name": "stdout",
     "output_type": "stream",
     "text": [
      "Generating code for Xspec model nsagrav...\n"
     ]
    },
    {
     "name": "stdout",
     "output_type": "stream",
     "text": [
      "Generating code for Xspec model nsatmos...\n"
     ]
    },
    {
     "name": "stdout",
     "output_type": "stream",
     "text": [
      "Generating code for Xspec model nsmax...\n"
     ]
    },
    {
     "name": "stdout",
     "output_type": "stream",
     "text": [
      "Generating code for Xspec model nsmaxg...\n"
     ]
    },
    {
     "name": "stdout",
     "output_type": "stream",
     "text": [
      "Generating code for Xspec model nsx...\n"
     ]
    },
    {
     "name": "stdout",
     "output_type": "stream",
     "text": [
      "Generating code for Xspec model nteea...\n"
     ]
    },
    {
     "name": "stdout",
     "output_type": "stream",
     "text": [
      "Generating code for Xspec model nthComp...\n"
     ]
    },
    {
     "name": "stdout",
     "output_type": "stream",
     "text": [
      "Generating code for Xspec model optxagn...\n"
     ]
    },
    {
     "name": "stdout",
     "output_type": "stream",
     "text": [
      "Generating code for Xspec model optxagnf...\n"
     ]
    },
    {
     "name": "stdout",
     "output_type": "stream",
     "text": [
      "Generating code for Xspec model pegpwrlw...\n"
     ]
    },
    {
     "name": "stdout",
     "output_type": "stream",
     "text": [
      "Generating code for Xspec model pexmon...\n"
     ]
    },
    {
     "name": "stdout",
     "output_type": "stream",
     "text": [
      "Generating code for Xspec model pexrav...\n"
     ]
    },
    {
     "name": "stdout",
     "output_type": "stream",
     "text": [
      "Generating code for Xspec model pexriv...\n"
     ]
    },
    {
     "name": "stdout",
     "output_type": "stream",
     "text": [
      "Generating code for Xspec model plcabs...\n"
     ]
    },
    {
     "name": "stdout",
     "output_type": "stream",
     "text": [
      "Generating code for Xspec model powerlaw...\n"
     ]
    },
    {
     "name": "stdout",
     "output_type": "stream",
     "text": [
      "Generating code for Xspec model posm...\n"
     ]
    },
    {
     "name": "stdout",
     "output_type": "stream",
     "text": [
      "Generating code for Xspec model pshock...\n"
     ]
    },
    {
     "name": "stdout",
     "output_type": "stream",
     "text": [
      "Generating code for Xspec model qsosed...\n"
     ]
    },
    {
     "name": "stdout",
     "output_type": "stream",
     "text": [
      "Generating code for Xspec model raymond...\n"
     ]
    },
    {
     "name": "stdout",
     "output_type": "stream",
     "text": [
      "Generating code for Xspec model redge...\n"
     ]
    },
    {
     "name": "stdout",
     "output_type": "stream",
     "text": [
      "Generating code for Xspec model refsch...\n"
     ]
    },
    {
     "name": "stdout",
     "output_type": "stream",
     "text": [
      "Generating code for Xspec model rnei...\n"
     ]
    },
    {
     "name": "stdout",
     "output_type": "stream",
     "text": [
      "Generating code for Xspec model sedov...\n"
     ]
    },
    {
     "name": "stdout",
     "output_type": "stream",
     "text": [
      "Generating code for Xspec model sirf...\n"
     ]
    },
    {
     "name": "stdout",
     "output_type": "stream",
     "text": [
      "Generating code for Xspec model snapec...\n"
     ]
    },
    {
     "name": "stdout",
     "output_type": "stream",
     "text": [
      "Generating code for Xspec model srcut...\n"
     ]
    },
    {
     "name": "stdout",
     "output_type": "stream",
     "text": [
      "Generating code for Xspec model sresc...\n"
     ]
    },
    {
     "name": "stdout",
     "output_type": "stream",
     "text": [
      "Generating code for Xspec model ssa...\n"
     ]
    },
    {
     "name": "stdout",
     "output_type": "stream",
     "text": [
      "Generating code for Xspec model step...\n"
     ]
    },
    {
     "name": "stdout",
     "output_type": "stream",
     "text": [
      "Generating code for Xspec model tapec...\n"
     ]
    },
    {
     "name": "stdout",
     "output_type": "stream",
     "text": [
      "Generating code for Xspec model vapec...\n"
     ]
    },
    {
     "name": "stdout",
     "output_type": "stream",
     "text": [
      "Generating code for Xspec model vbremss...\n"
     ]
    },
    {
     "name": "stdout",
     "output_type": "stream",
     "text": [
      "Generating code for Xspec model vcph...\n"
     ]
    },
    {
     "name": "stdout",
     "output_type": "stream",
     "text": [
      "Generating code for Xspec model vequil...\n"
     ]
    },
    {
     "name": "stdout",
     "output_type": "stream",
     "text": [
      "Generating code for Xspec model vgadem...\n"
     ]
    },
    {
     "name": "stdout",
     "output_type": "stream",
     "text": [
      "Generating code for Xspec model vgnei...\n"
     ]
    },
    {
     "name": "stdout",
     "output_type": "stream",
     "text": [
      "Generating code for Xspec model vmeka...\n"
     ]
    },
    {
     "name": "stdout",
     "output_type": "stream",
     "text": [
      "Generating code for Xspec model vmekal...\n"
     ]
    },
    {
     "name": "stdout",
     "output_type": "stream",
     "text": [
      "Generating code for Xspec model vmcflow...\n"
     ]
    },
    {
     "name": "stdout",
     "output_type": "stream",
     "text": [
      "Generating code for Xspec model vnei...\n"
     ]
    },
    {
     "name": "stdout",
     "output_type": "stream",
     "text": [
      "Generating code for Xspec model vnpshock...\n"
     ]
    },
    {
     "name": "stdout",
     "output_type": "stream",
     "text": [
      "Generating code for Xspec model voigt...\n"
     ]
    },
    {
     "name": "stdout",
     "output_type": "stream",
     "text": [
      "Generating code for Xspec model vpshock...\n"
     ]
    },
    {
     "name": "stdout",
     "output_type": "stream",
     "text": [
      "Generating code for Xspec model vraymond...\n"
     ]
    },
    {
     "name": "stdout",
     "output_type": "stream",
     "text": [
      "Generating code for Xspec model vrnei...\n"
     ]
    },
    {
     "name": "stdout",
     "output_type": "stream",
     "text": [
      "Generating code for Xspec model vsedov...\n"
     ]
    },
    {
     "name": "stdout",
     "output_type": "stream",
     "text": [
      "Generating code for Xspec model vtapec...\n"
     ]
    },
    {
     "name": "stdout",
     "output_type": "stream",
     "text": [
      "Generating code for Xspec model vvapec...\n"
     ]
    },
    {
     "name": "stdout",
     "output_type": "stream",
     "text": [
      "Generating code for Xspec model vvgnei...\n"
     ]
    },
    {
     "name": "stdout",
     "output_type": "stream",
     "text": [
      "Generating code for Xspec model vvnei...\n"
     ]
    },
    {
     "name": "stdout",
     "output_type": "stream",
     "text": [
      "Generating code for Xspec model vvnpshock...\n"
     ]
    },
    {
     "name": "stdout",
     "output_type": "stream",
     "text": [
      "Generating code for Xspec model vvpshock...\n"
     ]
    },
    {
     "name": "stdout",
     "output_type": "stream",
     "text": [
      "Generating code for Xspec model vvrnei...\n"
     ]
    },
    {
     "name": "stdout",
     "output_type": "stream",
     "text": [
      "Generating code for Xspec model vvsedov...\n"
     ]
    },
    {
     "name": "stdout",
     "output_type": "stream",
     "text": [
      "Generating code for Xspec model vvtapec...\n"
     ]
    },
    {
     "name": "stdout",
     "output_type": "stream",
     "text": [
      "Generating code for Xspec model zagauss...\n"
     ]
    },
    {
     "name": "stdout",
     "output_type": "stream",
     "text": [
      "Generating code for Xspec model zbbody...\n"
     ]
    },
    {
     "name": "stdout",
     "output_type": "stream",
     "text": [
      "Generating code for Xspec model zbknpower...\n"
     ]
    },
    {
     "name": "stdout",
     "output_type": "stream",
     "text": [
      "Generating code for Xspec model zbremss...\n"
     ]
    },
    {
     "name": "stdout",
     "output_type": "stream",
     "text": [
      "Generating code for Xspec model zcutoffpl...\n"
     ]
    },
    {
     "name": "stdout",
     "output_type": "stream",
     "text": [
      "Generating code for Xspec model zgauss...\n"
     ]
    },
    {
     "name": "stdout",
     "output_type": "stream",
     "text": [
      "Generating code for Xspec model zlogpar...\n"
     ]
    },
    {
     "name": "stdout",
     "output_type": "stream",
     "text": [
      "Generating code for Xspec model zpowerlw...\n"
     ]
    },
    {
     "name": "stdout",
     "output_type": "stream",
     "text": [
      "Generating code for Xspec model absori...\n"
     ]
    },
    {
     "name": "stdout",
     "output_type": "stream",
     "text": [
      "Generating code for Xspec model acisabs...\n"
     ]
    },
    {
     "name": "stdout",
     "output_type": "stream",
     "text": [
      "Generating code for Xspec model constant...\n"
     ]
    },
    {
     "name": "stdout",
     "output_type": "stream",
     "text": [
      "Generating code for Xspec model cabs...\n"
     ]
    },
    {
     "name": "stdout",
     "output_type": "stream",
     "text": [
      "Generating code for Xspec model cyclabs...\n"
     ]
    },
    {
     "name": "stdout",
     "output_type": "stream",
     "text": [
      "Generating code for Xspec model dust...\n"
     ]
    },
    {
     "name": "stdout",
     "output_type": "stream",
     "text": [
      "Generating code for Xspec model edge...\n"
     ]
    },
    {
     "name": "stdout",
     "output_type": "stream",
     "text": [
      "Generating code for Xspec model expabs...\n"
     ]
    },
    {
     "name": "stdout",
     "output_type": "stream",
     "text": [
      "Generating code for Xspec model expfac...\n"
     ]
    },
    {
     "name": "stdout",
     "output_type": "stream",
     "text": [
      "Generating code for Xspec model gabs...\n"
     ]
    },
    {
     "name": "stdout",
     "output_type": "stream",
     "text": [
      "Generating code for Xspec model heilin...\n"
     ]
    },
    {
     "name": "stdout",
     "output_type": "stream",
     "text": [
      "Generating code for Xspec model highecut...\n"
     ]
    },
    {
     "name": "stdout",
     "output_type": "stream",
     "text": [
      "Generating code for Xspec model hrefl...\n"
     ]
    },
    {
     "name": "stdout",
     "output_type": "stream",
     "text": [
      "Generating code for Xspec model ismabs...\n"
     ]
    },
    {
     "name": "stdout",
     "output_type": "stream",
     "text": [
      "Generating code for Xspec model lyman...\n"
     ]
    },
    {
     "name": "stdout",
     "output_type": "stream",
     "text": [
      "Generating code for Xspec model notch...\n"
     ]
    },
    {
     "name": "stdout",
     "output_type": "stream",
     "text": [
      "Generating code for Xspec model pcfabs...\n"
     ]
    },
    {
     "name": "stdout",
     "output_type": "stream",
     "text": [
      "Generating code for Xspec model phabs...\n"
     ]
    },
    {
     "name": "stdout",
     "output_type": "stream",
     "text": [
      "Generating code for Xspec model plabs...\n"
     ]
    },
    {
     "name": "stdout",
     "output_type": "stream",
     "text": [
      "Generating code for Xspec model pwab...\n"
     ]
    },
    {
     "name": "stdout",
     "output_type": "stream",
     "text": [
      "Generating code for Xspec model redden...\n"
     ]
    },
    {
     "name": "stdout",
     "output_type": "stream",
     "text": [
      "Generating code for Xspec model smedge...\n"
     ]
    },
    {
     "name": "stdout",
     "output_type": "stream",
     "text": [
      "Generating code for Xspec model spexpcut...\n"
     ]
    },
    {
     "name": "stdout",
     "output_type": "stream",
     "text": [
      "Generating code for Xspec model spline...\n"
     ]
    },
    {
     "name": "stdout",
     "output_type": "stream",
     "text": [
      "Generating code for Xspec model SSS_ice...\n"
     ]
    },
    {
     "name": "stdout",
     "output_type": "stream",
     "text": [
      "Generating code for Xspec model swind1...\n"
     ]
    },
    {
     "name": "stdout",
     "output_type": "stream",
     "text": [
      "Generating code for Xspec model TBabs...\n"
     ]
    },
    {
     "name": "stdout",
     "output_type": "stream",
     "text": [
      "Generating code for Xspec model TBfeo...\n"
     ]
    },
    {
     "name": "stdout",
     "output_type": "stream",
     "text": [
      "Generating code for Xspec model TBgas...\n"
     ]
    },
    {
     "name": "stdout",
     "output_type": "stream",
     "text": [
      "Generating code for Xspec model TBgrain...\n"
     ]
    },
    {
     "name": "stdout",
     "output_type": "stream",
     "text": [
      "Generating code for Xspec model TBvarabs...\n"
     ]
    },
    {
     "name": "stdout",
     "output_type": "stream",
     "text": [
      "Generating code for Xspec model TBpcf...\n"
     ]
    },
    {
     "name": "stdout",
     "output_type": "stream",
     "text": [
      "Generating code for Xspec model TBrel...\n"
     ]
    },
    {
     "name": "stdout",
     "output_type": "stream",
     "text": [
      "Generating code for Xspec model uvred...\n"
     ]
    },
    {
     "name": "stdout",
     "output_type": "stream",
     "text": [
      "Generating code for Xspec model varabs...\n"
     ]
    },
    {
     "name": "stdout",
     "output_type": "stream",
     "text": [
      "Generating code for Xspec model vphabs...\n"
     ]
    },
    {
     "name": "stdout",
     "output_type": "stream",
     "text": [
      "Generating code for Xspec model wabs...\n"
     ]
    },
    {
     "name": "stdout",
     "output_type": "stream",
     "text": [
      "Generating code for Xspec model wndabs...\n"
     ]
    },
    {
     "name": "stdout",
     "output_type": "stream",
     "text": [
      "Generating code for Xspec model xion...\n"
     ]
    },
    {
     "name": "stdout",
     "output_type": "stream",
     "text": [
      "Generating code for Xspec model xscat...\n"
     ]
    },
    {
     "name": "stdout",
     "output_type": "stream",
     "text": [
      "Generating code for Xspec model zdust...\n"
     ]
    },
    {
     "name": "stdout",
     "output_type": "stream",
     "text": [
      "Generating code for Xspec model zedge...\n"
     ]
    },
    {
     "name": "stdout",
     "output_type": "stream",
     "text": [
      "Generating code for Xspec model zhighect...\n"
     ]
    },
    {
     "name": "stdout",
     "output_type": "stream",
     "text": [
      "Generating code for Xspec model zigm...\n"
     ]
    },
    {
     "name": "stdout",
     "output_type": "stream",
     "text": [
      "Generating code for Xspec model zpcfabs...\n"
     ]
    },
    {
     "name": "stdout",
     "output_type": "stream",
     "text": [
      "Generating code for Xspec model zphabs...\n"
     ]
    },
    {
     "name": "stdout",
     "output_type": "stream",
     "text": [
      "Generating code for Xspec model zxipcf...\n"
     ]
    },
    {
     "name": "stdout",
     "output_type": "stream",
     "text": [
      "Generating code for Xspec model zredden...\n"
     ]
    },
    {
     "name": "stdout",
     "output_type": "stream",
     "text": [
      "Generating code for Xspec model zsmdust...\n"
     ]
    },
    {
     "name": "stdout",
     "output_type": "stream",
     "text": [
      "Generating code for Xspec model zTBabs...\n"
     ]
    },
    {
     "name": "stdout",
     "output_type": "stream",
     "text": [
      "Generating code for Xspec model zvarabs...\n"
     ]
    },
    {
     "name": "stdout",
     "output_type": "stream",
     "text": [
      "Generating code for Xspec model zvfeabs...\n"
     ]
    },
    {
     "name": "stdout",
     "output_type": "stream",
     "text": [
      "Generating code for Xspec model zvphabs...\n"
     ]
    },
    {
     "name": "stdout",
     "output_type": "stream",
     "text": [
      "Generating code for Xspec model zwabs...\n"
     ]
    },
    {
     "name": "stdout",
     "output_type": "stream",
     "text": [
      "Generating code for Xspec model zwndabs...\n"
     ]
    },
    {
     "name": "stdout",
     "output_type": "stream",
     "text": [
      "done\n"
     ]
    }
   ],
   "source": [
    "from astromodels.xspec.factory import *"
   ]
  },
  {
   "cell_type": "markdown",
   "id": "ff774e53",
   "metadata": {},
   "source": [
    "The models are indexed with *XS_* before the typical **XSPEC** model names."
   ]
  },
  {
   "cell_type": "code",
   "execution_count": 5,
   "id": "0a4d3b0d",
   "metadata": {
    "execution": {
     "iopub.execute_input": "2021-08-23T12:20:23.872132Z",
     "iopub.status.busy": "2021-08-23T12:20:23.871057Z",
     "iopub.status.idle": "2021-08-23T12:20:23.995136Z",
     "shell.execute_reply": "2021-08-23T12:20:23.995675Z"
    },
    "lines_to_next_cell": 2
   },
   "outputs": [
    {
     "data": {
      "text/html": [
       "<ul>\n",
       "\n",
       "<li>description: The phabs model from XSpec (https://heasarc.gsfc.nasa.gov/xanadu/xspec/manual/XspecModels.html)</li>\n",
       "\n",
       "<li>formula: $n.a.$</li>\n",
       "\n",
       "<li>parameters: \n",
       "<ul>\n",
       "\n",
       "<li>nh: \n",
       "<ul>\n",
       "\n",
       "<li>value: 1.0</li>\n",
       "\n",
       "<li>desc: (see https://heasarc.gsfc.nasa.gov/xanadu/xspec/manual/XspecModels.html)</li>\n",
       "\n",
       "<li>min_value: 0.0</li>\n",
       "\n",
       "<li>max_value: 1000000.0</li>\n",
       "\n",
       "<li>unit: </li>\n",
       "\n",
       "<li>is_normalization: False</li>\n",
       "\n",
       "<li>delta: 0.001</li>\n",
       "\n",
       "<li>free: True</li>\n",
       "\n",
       "</ul>\n",
       "\n",
       "</li>\n",
       "\n",
       "</ul>\n",
       "\n",
       "</li>\n",
       "\n",
       "</ul>\n"
      ],
      "text/plain": [
       "  * description: The phabs model from XSpec (https://heasarc.gsfc.nasa.gov/xanadu/xspec/manual/XspecModels.html)\n",
       "  * formula: $n.a.$\n",
       "  * parameters:\n",
       "    * nh:\n",
       "      * value: 1.0\n",
       "      * desc: (see https://heasarc.gsfc.nasa.gov/xanadu/xspec/manual/XspecModels.html)\n",
       "      * min_value: 0.0\n",
       "      * max_value: 1000000.0\n",
       "      * unit: ''\n",
       "      * is_normalization: false\n",
       "      * delta: 0.001\n",
       "      * free: true"
      ]
     },
     "execution_count": 5,
     "metadata": {},
     "output_type": "execute_result"
    }
   ],
   "source": [
    "plaw = XS_powerlaw()\n",
    "phabs = XS_phabs()\n",
    "phabs"
   ]
  },
  {
   "cell_type": "markdown",
   "id": "3543cc6f",
   "metadata": {},
   "source": [
    "The spectral models behave just as any other **astromodels** spectral model and can be used in combination with other **astromodels** spectral models."
   ]
  },
  {
   "cell_type": "code",
   "execution_count": 6,
   "id": "68b9c213",
   "metadata": {
    "execution": {
     "iopub.execute_input": "2021-08-23T12:20:24.035406Z",
     "iopub.status.busy": "2021-08-23T12:20:24.034426Z",
     "iopub.status.idle": "2021-08-23T12:20:25.465747Z",
     "shell.execute_reply": "2021-08-23T12:20:25.466333Z"
    },
    "lines_to_next_cell": 2
   },
   "outputs": [
    {
     "data": {
      "text/plain": [
       "Text(0, 0.5, 'flux')"
      ]
     },
     "execution_count": 6,
     "metadata": {},
     "output_type": "execute_result"
    },
    {
     "data": {
      "image/png": "[encoded data removed]",
      "text/plain": [
       "<Figure size 748.8x655.2 with 1 Axes>"
      ]
     },
     "metadata": {},
     "output_type": "display_data"
    }
   ],
   "source": [
    "from astromodels import Powerlaw\n",
    "\n",
    "am_plaw = Powerlaw()\n",
    "\n",
    "plaw_with_abs = am_plaw * phabs\n",
    "\n",
    "\n",
    "fig, ax = plt.subplots()\n",
    "\n",
    "energy_grid = np.linspace(0.1, 10.0, 1000)\n",
    "\n",
    "ax.loglog(energy_grid, plaw_with_abs(energy_grid))\n",
    "ax.set_xlabel(\"energy\")\n",
    "ax.set_ylabel(\"flux\")"
   ]
  },
  {
   "cell_type": "markdown",
   "id": "b6b40aa8",
   "metadata": {},
   "source": [
    "## XSPEC Settings\n",
    "\n",
    "Many **XSPEC** models depend on external abundances, cross-sections, and cosmological parameters. We provide an interface to control these directly.\n",
    "\n",
    "Simply import the **XSPEC** settings like so:"
   ]
  },
  {
   "cell_type": "code",
   "execution_count": 7,
   "id": "aef2c71a",
   "metadata": {
    "execution": {
     "iopub.execute_input": "2021-08-23T12:20:25.471561Z",
     "iopub.status.busy": "2021-08-23T12:20:25.470698Z",
     "iopub.status.idle": "2021-08-23T12:20:25.584557Z",
     "shell.execute_reply": "2021-08-23T12:20:25.585141Z"
    }
   },
   "outputs": [],
   "source": [
    "from astromodels.xspec.xspec_settings import *"
   ]
  },
  {
   "cell_type": "markdown",
   "id": "fcc3f02b",
   "metadata": {},
   "source": [
    "Calling the functions without arguments simply returns their current settings"
   ]
  },
  {
   "cell_type": "code",
   "execution_count": 8,
   "id": "4649f59c",
   "metadata": {
    "execution": {
     "iopub.execute_input": "2021-08-23T12:20:25.590807Z",
     "iopub.status.busy": "2021-08-23T12:20:25.589930Z",
     "iopub.status.idle": "2021-08-23T12:20:25.695078Z",
     "shell.execute_reply": "2021-08-23T12:20:25.695746Z"
    }
   },
   "outputs": [
    {
     "data": {
      "text/plain": [
       "'angr'"
      ]
     },
     "execution_count": 8,
     "metadata": {},
     "output_type": "execute_result"
    }
   ],
   "source": [
    "xspec_abund()"
   ]
  },
  {
   "cell_type": "code",
   "execution_count": 9,
   "id": "ab90f1ff",
   "metadata": {
    "execution": {
     "iopub.execute_input": "2021-08-23T12:20:25.701280Z",
     "iopub.status.busy": "2021-08-23T12:20:25.700382Z",
     "iopub.status.idle": "2021-08-23T12:20:25.901141Z",
     "shell.execute_reply": "2021-08-23T12:20:25.901896Z"
    }
   },
   "outputs": [
    {
     "data": {
      "text/plain": [
       "'vern'"
      ]
     },
     "execution_count": 9,
     "metadata": {},
     "output_type": "execute_result"
    }
   ],
   "source": [
    "xspec_xsect()"
   ]
  },
  {
   "cell_type": "code",
   "execution_count": 10,
   "id": "28392aa9",
   "metadata": {
    "execution": {
     "iopub.execute_input": "2021-08-23T12:20:25.907828Z",
     "iopub.status.busy": "2021-08-23T12:20:25.906953Z",
     "iopub.status.idle": "2021-08-23T12:20:26.081617Z",
     "shell.execute_reply": "2021-08-23T12:20:26.082242Z"
    }
   },
   "outputs": [
    {
     "data": {
      "text/plain": [
       "(70.0, 0.0, 0.7300000190734863)"
      ]
     },
     "execution_count": 10,
     "metadata": {},
     "output_type": "execute_result"
    }
   ],
   "source": [
    "xspec_cosmo()"
   ]
  },
  {
   "cell_type": "markdown",
   "id": "15896a59",
   "metadata": {},
   "source": [
    "To change the settings for abundance and cross-section, provide strings with the normal **XSPEC** naming conventions."
   ]
  },
  {
   "cell_type": "code",
   "execution_count": 11,
   "id": "b14c8335",
   "metadata": {
    "execution": {
     "iopub.execute_input": "2021-08-23T12:20:26.088415Z",
     "iopub.status.busy": "2021-08-23T12:20:26.087497Z",
     "iopub.status.idle": "2021-08-23T12:20:26.324634Z",
     "shell.execute_reply": "2021-08-23T12:20:26.325538Z"
    }
   },
   "outputs": [
    {
     "data": {
      "text/plain": [
       "'wilm'"
      ]
     },
     "execution_count": 11,
     "metadata": {},
     "output_type": "execute_result"
    },
    {
     "name": "stdout",
     "output_type": "stream",
     "text": [
      " Solar Abundance Vector set to wilm:  Wilms, J., Allen, A. & McCray, R. ApJ 542 914 (2000) (abundances are set to zero for those elements not included in the paper).\n"
     ]
    }
   ],
   "source": [
    "xspec_abund(\"wilm\")\n",
    "xspec_abund()"
   ]
  },
  {
   "cell_type": "code",
   "execution_count": 12,
   "id": "d8ab751a",
   "metadata": {
    "execution": {
     "iopub.execute_input": "2021-08-23T12:20:26.331811Z",
     "iopub.status.busy": "2021-08-23T12:20:26.330827Z",
     "iopub.status.idle": "2021-08-23T12:20:26.582537Z",
     "shell.execute_reply": "2021-08-23T12:20:26.583146Z"
    }
   },
   "outputs": [
    {
     "data": {
      "text/plain": [
       "'bcmc'"
      ]
     },
     "execution_count": 12,
     "metadata": {},
     "output_type": "execute_result"
    },
    {
     "name": "stdout",
     "output_type": "stream",
     "text": [
      " Cross Section Table set to bcmc:  Balucinska-Church and McCammon, 1998\n"
     ]
    }
   ],
   "source": [
    "xspec_xsect(\"bcmc\")\n",
    "xspec_xsect()"
   ]
  },
  {
   "cell_type": "markdown",
   "id": "b19be687",
   "metadata": {},
   "source": [
    "To alter the cosmological parameters, one passes either the parameters that should be changed, or all three:"
   ]
  },
  {
   "cell_type": "code",
   "execution_count": 13,
   "id": "0896501c",
   "metadata": {
    "execution": {
     "iopub.execute_input": "2021-08-23T12:20:26.590036Z",
     "iopub.status.busy": "2021-08-23T12:20:26.589098Z",
     "iopub.status.idle": "2021-08-23T12:20:26.694014Z",
     "shell.execute_reply": "2021-08-23T12:20:26.695187Z"
    }
   },
   "outputs": [
    {
     "data": {
      "text/plain": [
       "(68.0, 0.0, 0.7300000190734863)"
      ]
     },
     "execution_count": 13,
     "metadata": {},
     "output_type": "execute_result"
    }
   ],
   "source": [
    "xspec_cosmo(H0=68.0)\n",
    "xspec_cosmo()"
   ]
  },
  {
   "cell_type": "code",
   "execution_count": 14,
   "id": "a945dfa0",
   "metadata": {
    "execution": {
     "iopub.execute_input": "2021-08-23T12:20:26.702649Z",
     "iopub.status.busy": "2021-08-23T12:20:26.701428Z",
     "iopub.status.idle": "2021-08-23T12:20:26.808686Z",
     "shell.execute_reply": "2021-08-23T12:20:26.809440Z"
    }
   },
   "outputs": [
    {
     "data": {
      "text/plain": [
       "(68.0, 0.10000000149011612, 70.0)"
      ]
     },
     "execution_count": 14,
     "metadata": {},
     "output_type": "execute_result"
    }
   ],
   "source": [
    "xspec_cosmo(H0=68.0, q0=0.1, lambda_0=70.0)\n",
    "xspec_cosmo()"
   ]
  }
 ],
 "metadata": {
  "jupytext": {
   "cell_metadata_filter": "-all"
  },
  "kernelspec": {
   "display_name": "Python 3 (ipykernel)",
   "language": "python",
   "name": "python3"
  },
  "language_info": {
   "codemirror_mode": {
    "name": "ipython",
    "version": 3
   },
   "file_extension": ".py",
   "mimetype": "text/x-python",
   "name": "python",
   "nbconvert_exporter": "python",
   "pygments_lexer": "ipython3",
   "version": "3.7.10"
  }
 },
 "nbformat": 4,
 "nbformat_minor": 5
}
