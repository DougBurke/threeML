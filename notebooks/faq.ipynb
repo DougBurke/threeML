{
 "cells": [
  {
   "cell_type": "markdown",
   "id": "b34dfef9",
   "metadata": {},
   "source": [
    "## What happens to the model/function during a fit?\n",
    "\n",
    "The spectral/spatial shapes that are input into the models and subsequently used during the fit are objects. There parameters are members of those objects and when they are changed by the user or the fitting engine, the parameter values in those objects are modified."
   ]
  },
  {
   "cell_type": "code",
   "execution_count": 1,
   "id": "56dc99c4",
   "metadata": {
    "execution": {
     "iopub.execute_input": "2021-08-23T10:45:52.896945Z",
     "iopub.status.busy": "2021-08-23T10:45:52.896346Z",
     "iopub.status.idle": "2021-08-23T10:45:55.819384Z",
     "shell.execute_reply": "2021-08-23T10:45:55.818665Z"
    },
    "lines_to_next_cell": 2
   },
   "outputs": [],
   "source": [
    "%%capture\n",
    "from threeML import *\n",
    "\n",
    "power_law = Powerlaw()\n",
    "\n",
    "print(\"power law index before change:\")\n",
    "print(power_law.index)\n",
    "\n",
    "power_law.index = 0\n",
    "\n",
    "print(\"power law index after change:\")\n",
    "print(power_law.index)\n",
    "\n",
    "\n",
    "# or create a power law with a different default index\n",
    "power_law = Powerlaw(index=-1.5)\n",
    "\n",
    "print(\"power law index after creation:\")\n",
    "print(power_law.index)"
   ]
  },
  {
   "cell_type": "code",
   "execution_count": 2,
   "id": "a8a00ee0",
   "metadata": {
    "execution": {
     "iopub.execute_input": "2021-08-23T10:45:55.827303Z",
     "iopub.status.busy": "2021-08-23T10:45:55.826772Z",
     "iopub.status.idle": "2021-08-23T10:45:57.971351Z",
     "shell.execute_reply": "2021-08-23T10:45:57.970573Z"
    }
   },
   "outputs": [
    {
     "name": "stdout",
     "output_type": "stream",
     "text": [
      "power law index before fit:\n",
      "Parameter index = -2.01 []\n",
      "(min_value = -10.0, max_value = 10.0, delta = 0.20099999999999998, free = True)\n"
     ]
    },
    {
     "name": "stdout",
     "output_type": "stream",
     "text": [
      "Best fit values:\n",
      "\n"
     ]
    },
    {
     "data": {
      "text/html": [
       "<div>\n",
       "<style scoped>\n",
       "    .dataframe tbody tr th:only-of-type {\n",
       "        vertical-align: middle;\n",
       "    }\n",
       "\n",
       "    .dataframe tbody tr th {\n",
       "        vertical-align: top;\n",
       "    }\n",
       "\n",
       "    .dataframe thead th {\n",
       "        text-align: right;\n",
       "    }\n",
       "</style>\n",
       "<table border=\"1\" class=\"dataframe\">\n",
       "  <thead>\n",
       "    <tr style=\"text-align: right;\">\n",
       "      <th></th>\n",
       "      <th>result</th>\n",
       "      <th>unit</th>\n",
       "    </tr>\n",
       "    <tr>\n",
       "      <th>parameter</th>\n",
       "      <th></th>\n",
       "      <th></th>\n",
       "    </tr>\n",
       "  </thead>\n",
       "  <tbody>\n",
       "    <tr>\n",
       "      <th>source.spectrum.main.Powerlaw.K</th>\n",
       "      <td>1.011 -0.027 +0.028</td>\n",
       "      <td>1 / (cm2 keV s)</td>\n",
       "    </tr>\n",
       "    <tr>\n",
       "      <th>source.spectrum.main.Powerlaw.index</th>\n",
       "      <td>-1.493 +/- 0.010</td>\n",
       "      <td></td>\n",
       "    </tr>\n",
       "  </tbody>\n",
       "</table>\n",
       "</div>"
      ],
      "text/plain": [
       "                                                  result             unit\n",
       "parameter                                                                \n",
       "source.spectrum.main.Powerlaw.K      1.011 -0.027 +0.028  1 / (cm2 keV s)\n",
       "source.spectrum.main.Powerlaw.index     -1.493 +/- 0.010                 "
      ]
     },
     "metadata": {},
     "output_type": "display_data"
    },
    {
     "name": "stdout",
     "output_type": "stream",
     "text": [
      "\n",
      "Correlation matrix:\n",
      "\n"
     ]
    },
    {
     "data": {
      "text/html": [
       "<div><table id=\"table140375015860240\">\n",
       "<tr><td>1.00</td><td>-0.86</td></tr>\n",
       "<tr><td>-0.86</td><td>1.00</td></tr>\n",
       "</table></div>"
      ],
      "text/plain": [
       " 1.00 -0.86\n",
       "-0.86  1.00"
      ]
     },
     "metadata": {},
     "output_type": "display_data"
    },
    {
     "name": "stdout",
     "output_type": "stream",
     "text": [
      "\n",
      "Values of -log(likelihood) at the minimum:\n",
      "\n"
     ]
    },
    {
     "data": {
      "text/html": [
       "<div>\n",
       "<style scoped>\n",
       "    .dataframe tbody tr th:only-of-type {\n",
       "        vertical-align: middle;\n",
       "    }\n",
       "\n",
       "    .dataframe tbody tr th {\n",
       "        vertical-align: top;\n",
       "    }\n",
       "\n",
       "    .dataframe thead th {\n",
       "        text-align: right;\n",
       "    }\n",
       "</style>\n",
       "<table border=\"1\" class=\"dataframe\">\n",
       "  <thead>\n",
       "    <tr style=\"text-align: right;\">\n",
       "      <th></th>\n",
       "      <th>-log(likelihood)</th>\n",
       "    </tr>\n",
       "  </thead>\n",
       "  <tbody>\n",
       "    <tr>\n",
       "      <th>data</th>\n",
       "      <td>21.250345</td>\n",
       "    </tr>\n",
       "    <tr>\n",
       "      <th>total</th>\n",
       "      <td>21.250345</td>\n",
       "    </tr>\n",
       "  </tbody>\n",
       "</table>\n",
       "</div>"
      ],
      "text/plain": [
       "       -log(likelihood)\n",
       "data          21.250345\n",
       "total         21.250345"
      ]
     },
     "metadata": {},
     "output_type": "display_data"
    },
    {
     "name": "stdout",
     "output_type": "stream",
     "text": [
      "\n",
      "Values of statistical measures:\n",
      "\n"
     ]
    },
    {
     "data": {
      "text/html": [
       "<div>\n",
       "<style scoped>\n",
       "    .dataframe tbody tr th:only-of-type {\n",
       "        vertical-align: middle;\n",
       "    }\n",
       "\n",
       "    .dataframe tbody tr th {\n",
       "        vertical-align: top;\n",
       "    }\n",
       "\n",
       "    .dataframe thead th {\n",
       "        text-align: right;\n",
       "    }\n",
       "</style>\n",
       "<table border=\"1\" class=\"dataframe\">\n",
       "  <thead>\n",
       "    <tr style=\"text-align: right;\">\n",
       "      <th></th>\n",
       "      <th>statistical measures</th>\n",
       "    </tr>\n",
       "  </thead>\n",
       "  <tbody>\n",
       "    <tr>\n",
       "      <th>AIC</th>\n",
       "      <td>46.756010</td>\n",
       "    </tr>\n",
       "    <tr>\n",
       "      <th>BIC</th>\n",
       "      <td>50.324737</td>\n",
       "    </tr>\n",
       "  </tbody>\n",
       "</table>\n",
       "</div>"
      ],
      "text/plain": [
       "     statistical measures\n",
       "AIC             46.756010\n",
       "BIC             50.324737"
      ]
     },
     "metadata": {},
     "output_type": "display_data"
    },
    {
     "name": "stdout",
     "output_type": "stream",
     "text": [
      "power law index after fit:\n",
      "Parameter index = -1.4933904787862695 []\n",
      "(min_value = -10.0, max_value = 10.0, delta = 0.20099999999999998, free = True)\n"
     ]
    }
   ],
   "source": [
    "import numpy as np\n",
    "\n",
    "x = np.logspace(0, 2, 50)\n",
    "\n",
    "xyl_generator = XYLike.from_function(\n",
    "    \"sim_data\", function=power_law, x=x, yerr=0.1 * power_law(x)\n",
    ")\n",
    "\n",
    "y = xyl_generator.y\n",
    "y_err = xyl_generator.yerr\n",
    "\n",
    "fit_function = Powerlaw()\n",
    "\n",
    "print(\"power law index before fit:\")\n",
    "print(fit_function.index)\n",
    "\n",
    "xyl = XYLike(\"data\", x, y, y_err)\n",
    "\n",
    "parameters, like_values = xyl.fit(fit_function)\n",
    "\n",
    "\n",
    "print(\"power law index after fit:\")\n",
    "print(fit_function.index)"
   ]
  },
  {
   "cell_type": "markdown",
   "id": "7756d68d",
   "metadata": {},
   "source": [
    "After a fit, the fitted result are stored in an AnalysisResults object so that if the fit function's values are further modified, the best fit parameters can still be recovered."
   ]
  },
  {
   "cell_type": "markdown",
   "id": "309ca818",
   "metadata": {},
   "source": [
    "## Why does my plugin not return a get_log_like()?\n",
    "\n",
    "When a plugin is created, it does not have a likelihood model set initially. This is typically done when a DataList containing the plugin is passed to a JointLikelihood or BayesianAnalysis constructor along with a model. One can manually pass a model object to the plugin using the set_model() member of the plugin."
   ]
  },
  {
   "cell_type": "markdown",
   "id": "1e8e2545",
   "metadata": {},
   "source": [
    "## Why did my plugin lose its model?\n",
    "\n",
    "If you use the same plugin with different models bvy passing it to successive JointLikelihood or BayesianAnalysis constructors, the plugin will have the last model with which it was used set as its model."
   ]
  },
  {
   "cell_type": "code",
   "execution_count": null,
   "id": "1cd4a408",
   "metadata": {},
   "outputs": [],
   "source": []
  }
 ],
 "metadata": {
  "jupytext": {
   "formats": "ipynb,md"
  },
  "kernelspec": {
   "display_name": "Python 3",
   "language": "python",
   "name": "python3"
  },
  "language_info": {
   "codemirror_mode": {
    "name": "ipython",
    "version": 3
   },
   "file_extension": ".py",
   "mimetype": "text/x-python",
   "name": "python",
   "nbconvert_exporter": "python",
   "pygments_lexer": "ipython3",
   "version": "3.7.11"
  }
 },
 "nbformat": 4,
 "nbformat_minor": 5
}
